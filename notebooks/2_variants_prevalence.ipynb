{
 "cells": [
  {
   "cell_type": "markdown",
   "metadata": {
    "id": "5UvN6mNV-VJ7"
   },
   "source": [
    "> We would like to thank all **MalariaGEN Plasmodium falciparum Community Project partners** for their contribution. This resource builds from enormous team efforts around the globe, encompasing 61 studies in 30 countries. With over 16,500 samples available, we can only hope to continue disseminating these unique resources to increase their accesibility to allow them to translate into improvements for public health.\n",
    "If you use this resource please remember to also site the following studies:\n",
    "[Pf6 partner studies](http://ngs.sanger.ac.uk/production/malaria/pfcommunityproject/Pf6/Pf_6_partner_studies.pdf) and [GenRe partner studies](http://ngs.sanger.ac.uk/production/malaria/Resource/29/20200705-GenRe-07-PartnerStudyInformation-0.39.pdf). "
   ]
  },
  {
   "cell_type": "markdown",
   "metadata": {
    "id": "9Ewe-0PvBOmM"
   },
   "source": [
    "# Visualizing drug resistant variants"
   ]
  },
  {
   "cell_type": "markdown",
   "metadata": {
    "id": "duyIduLUBP3p"
   },
   "source": [
    "This notebook allows you to explore the genotypes present in a dataset. You can use it to:\n",
    "\n",
    "- Visualise the frequency of individual genetic mutations over time (e.g. showing which alleles are dominant in different countries at specific time points).\n",
    "\n",
    "- Explore haplotype frequencies at different geographical levels (population, country and administrative level 1) over time, displaying regional diversity and haplotype compositions.\n",
    "\n",
    "\n",
    "- Visualise the prevalence of drug resistance over time for key drugs. \n"
   ]
  },
  {
   "cell_type": "markdown",
   "metadata": {
    "id": "reAK1YsQLcsc"
   },
   "source": [
    "## Setup"
   ]
  },
  {
   "cell_type": "markdown",
   "metadata": {
    "id": "-QzDW7nD75Qy"
   },
   "source": [
    "### Running on Colab"
   ]
  },
  {
   "cell_type": "code",
   "execution_count": null,
   "metadata": {
    "id": "sf861hRN_X2L"
   },
   "outputs": [],
   "source": [
    "!git clone https://github.com/malariagen/Pf6plus.git \n",
    "!cp -r /content/Pf6plus/pf6plus_documentation/notebooks/data_analysis ."
   ]
  },
  {
   "cell_type": "markdown",
   "metadata": {
    "id": "609WYBOZGaGc"
   },
   "source": [
    "### Running Locally"
   ]
  },
  {
   "cell_type": "markdown",
   "metadata": {
    "id": "i7jkBEiRGaGc"
   },
   "source": [
    "There are some steps you need to follow to run the notebooks locally. If you haven't already, please follow these [instructions](https://gitlab.com/malariagen/gsp/pf6plus/-/tree/add_jupyter_notebooks/notebooks#running-locally)."
   ]
  },
  {
   "cell_type": "markdown",
   "metadata": {
    "id": "8dZS9zQd8LH2"
   },
   "source": [
    "### Python Setup"
   ]
  },
  {
   "cell_type": "markdown",
   "metadata": {
    "id": "XV2oRiYZAvq7"
   },
   "source": [
    "Import the functions from the `data_analysis` directory. This contains all of the code you will need to generate the plots in this notebook. "
   ]
  },
  {
   "cell_type": "code",
   "execution_count": 22,
   "metadata": {
    "id": "lw_UrIlFbRKS"
   },
   "outputs": [],
   "source": [
    "from data_analysis.plot_dr_prevalence import *\n",
    "from data_analysis.plot_haplotype_frequency import *\n",
    "from data_analysis.tabulate_drug_resistance import *"
   ]
  },
  {
   "cell_type": "markdown",
   "metadata": {
    "id": "_iyHlWJ1A2Tb"
   },
   "source": [
    "Running the following will make sure the interactive plots are output to the notebook."
   ]
  },
  {
   "cell_type": "code",
   "execution_count": 23,
   "metadata": {
    "id": "yggaXHqzGaGe"
   },
   "outputs": [
    {
     "data": {
      "text/html": [
       "\n",
       "    <div class=\"bk-root\">\n",
       "        <a href=\"https://bokeh.org\" target=\"_blank\" class=\"bk-logo bk-logo-small bk-logo-notebook\"></a>\n",
       "        <span id=\"1002\">Loading BokehJS ...</span>\n",
       "    </div>"
      ]
     },
     "metadata": {},
     "output_type": "display_data"
    },
    {
     "data": {
      "application/javascript": [
       "\n",
       "(function(root) {\n",
       "  function now() {\n",
       "    return new Date();\n",
       "  }\n",
       "\n",
       "  var force = true;\n",
       "\n",
       "  if (typeof root._bokeh_onload_callbacks === \"undefined\" || force === true) {\n",
       "    root._bokeh_onload_callbacks = [];\n",
       "    root._bokeh_is_loading = undefined;\n",
       "  }\n",
       "\n",
       "  var JS_MIME_TYPE = 'application/javascript';\n",
       "  var HTML_MIME_TYPE = 'text/html';\n",
       "  var EXEC_MIME_TYPE = 'application/vnd.bokehjs_exec.v0+json';\n",
       "  var CLASS_NAME = 'output_bokeh rendered_html';\n",
       "\n",
       "  /**\n",
       "   * Render data to the DOM node\n",
       "   */\n",
       "  function render(props, node) {\n",
       "    var script = document.createElement(\"script\");\n",
       "    node.appendChild(script);\n",
       "  }\n",
       "\n",
       "  /**\n",
       "   * Handle when an output is cleared or removed\n",
       "   */\n",
       "  function handleClearOutput(event, handle) {\n",
       "    var cell = handle.cell;\n",
       "\n",
       "    var id = cell.output_area._bokeh_element_id;\n",
       "    var server_id = cell.output_area._bokeh_server_id;\n",
       "    // Clean up Bokeh references\n",
       "    if (id != null && id in Bokeh.index) {\n",
       "      Bokeh.index[id].model.document.clear();\n",
       "      delete Bokeh.index[id];\n",
       "    }\n",
       "\n",
       "    if (server_id !== undefined) {\n",
       "      // Clean up Bokeh references\n",
       "      var cmd = \"from bokeh.io.state import curstate; print(curstate().uuid_to_server['\" + server_id + \"'].get_sessions()[0].document.roots[0]._id)\";\n",
       "      cell.notebook.kernel.execute(cmd, {\n",
       "        iopub: {\n",
       "          output: function(msg) {\n",
       "            var id = msg.content.text.trim();\n",
       "            if (id in Bokeh.index) {\n",
       "              Bokeh.index[id].model.document.clear();\n",
       "              delete Bokeh.index[id];\n",
       "            }\n",
       "          }\n",
       "        }\n",
       "      });\n",
       "      // Destroy server and session\n",
       "      var cmd = \"import bokeh.io.notebook as ion; ion.destroy_server('\" + server_id + \"')\";\n",
       "      cell.notebook.kernel.execute(cmd);\n",
       "    }\n",
       "  }\n",
       "\n",
       "  /**\n",
       "   * Handle when a new output is added\n",
       "   */\n",
       "  function handleAddOutput(event, handle) {\n",
       "    var output_area = handle.output_area;\n",
       "    var output = handle.output;\n",
       "\n",
       "    // limit handleAddOutput to display_data with EXEC_MIME_TYPE content only\n",
       "    if ((output.output_type != \"display_data\") || (!Object.prototype.hasOwnProperty.call(output.data, EXEC_MIME_TYPE))) {\n",
       "      return\n",
       "    }\n",
       "\n",
       "    var toinsert = output_area.element.find(\".\" + CLASS_NAME.split(' ')[0]);\n",
       "\n",
       "    if (output.metadata[EXEC_MIME_TYPE][\"id\"] !== undefined) {\n",
       "      toinsert[toinsert.length - 1].firstChild.textContent = output.data[JS_MIME_TYPE];\n",
       "      // store reference to embed id on output_area\n",
       "      output_area._bokeh_element_id = output.metadata[EXEC_MIME_TYPE][\"id\"];\n",
       "    }\n",
       "    if (output.metadata[EXEC_MIME_TYPE][\"server_id\"] !== undefined) {\n",
       "      var bk_div = document.createElement(\"div\");\n",
       "      bk_div.innerHTML = output.data[HTML_MIME_TYPE];\n",
       "      var script_attrs = bk_div.children[0].attributes;\n",
       "      for (var i = 0; i < script_attrs.length; i++) {\n",
       "        toinsert[toinsert.length - 1].firstChild.setAttribute(script_attrs[i].name, script_attrs[i].value);\n",
       "        toinsert[toinsert.length - 1].firstChild.textContent = bk_div.children[0].textContent\n",
       "      }\n",
       "      // store reference to server id on output_area\n",
       "      output_area._bokeh_server_id = output.metadata[EXEC_MIME_TYPE][\"server_id\"];\n",
       "    }\n",
       "  }\n",
       "\n",
       "  function register_renderer(events, OutputArea) {\n",
       "\n",
       "    function append_mime(data, metadata, element) {\n",
       "      // create a DOM node to render to\n",
       "      var toinsert = this.create_output_subarea(\n",
       "        metadata,\n",
       "        CLASS_NAME,\n",
       "        EXEC_MIME_TYPE\n",
       "      );\n",
       "      this.keyboard_manager.register_events(toinsert);\n",
       "      // Render to node\n",
       "      var props = {data: data, metadata: metadata[EXEC_MIME_TYPE]};\n",
       "      render(props, toinsert[toinsert.length - 1]);\n",
       "      element.append(toinsert);\n",
       "      return toinsert\n",
       "    }\n",
       "\n",
       "    /* Handle when an output is cleared or removed */\n",
       "    events.on('clear_output.CodeCell', handleClearOutput);\n",
       "    events.on('delete.Cell', handleClearOutput);\n",
       "\n",
       "    /* Handle when a new output is added */\n",
       "    events.on('output_added.OutputArea', handleAddOutput);\n",
       "\n",
       "    /**\n",
       "     * Register the mime type and append_mime function with output_area\n",
       "     */\n",
       "    OutputArea.prototype.register_mime_type(EXEC_MIME_TYPE, append_mime, {\n",
       "      /* Is output safe? */\n",
       "      safe: true,\n",
       "      /* Index of renderer in `output_area.display_order` */\n",
       "      index: 0\n",
       "    });\n",
       "  }\n",
       "\n",
       "  // register the mime type if in Jupyter Notebook environment and previously unregistered\n",
       "  if (root.Jupyter !== undefined) {\n",
       "    var events = require('base/js/events');\n",
       "    var OutputArea = require('notebook/js/outputarea').OutputArea;\n",
       "\n",
       "    if (OutputArea.prototype.mime_types().indexOf(EXEC_MIME_TYPE) == -1) {\n",
       "      register_renderer(events, OutputArea);\n",
       "    }\n",
       "  }\n",
       "\n",
       "  \n",
       "  if (typeof (root._bokeh_timeout) === \"undefined\" || force === true) {\n",
       "    root._bokeh_timeout = Date.now() + 5000;\n",
       "    root._bokeh_failed_load = false;\n",
       "  }\n",
       "\n",
       "  var NB_LOAD_WARNING = {'data': {'text/html':\n",
       "     \"<div style='background-color: #fdd'>\\n\"+\n",
       "     \"<p>\\n\"+\n",
       "     \"BokehJS does not appear to have successfully loaded. If loading BokehJS from CDN, this \\n\"+\n",
       "     \"may be due to a slow or bad network connection. Possible fixes:\\n\"+\n",
       "     \"</p>\\n\"+\n",
       "     \"<ul>\\n\"+\n",
       "     \"<li>re-rerun `output_notebook()` to attempt to load from CDN again, or</li>\\n\"+\n",
       "     \"<li>use INLINE resources instead, as so:</li>\\n\"+\n",
       "     \"</ul>\\n\"+\n",
       "     \"<code>\\n\"+\n",
       "     \"from bokeh.resources import INLINE\\n\"+\n",
       "     \"output_notebook(resources=INLINE)\\n\"+\n",
       "     \"</code>\\n\"+\n",
       "     \"</div>\"}};\n",
       "\n",
       "  function display_loaded() {\n",
       "    var el = document.getElementById(\"1002\");\n",
       "    if (el != null) {\n",
       "      el.textContent = \"BokehJS is loading...\";\n",
       "    }\n",
       "    if (root.Bokeh !== undefined) {\n",
       "      if (el != null) {\n",
       "        el.textContent = \"BokehJS \" + root.Bokeh.version + \" successfully loaded.\";\n",
       "      }\n",
       "    } else if (Date.now() < root._bokeh_timeout) {\n",
       "      setTimeout(display_loaded, 100)\n",
       "    }\n",
       "  }\n",
       "\n",
       "\n",
       "  function run_callbacks() {\n",
       "    try {\n",
       "      root._bokeh_onload_callbacks.forEach(function(callback) {\n",
       "        if (callback != null)\n",
       "          callback();\n",
       "      });\n",
       "    } finally {\n",
       "      delete root._bokeh_onload_callbacks\n",
       "    }\n",
       "    console.debug(\"Bokeh: all callbacks have finished\");\n",
       "  }\n",
       "\n",
       "  function load_libs(css_urls, js_urls, callback) {\n",
       "    if (css_urls == null) css_urls = [];\n",
       "    if (js_urls == null) js_urls = [];\n",
       "\n",
       "    root._bokeh_onload_callbacks.push(callback);\n",
       "    if (root._bokeh_is_loading > 0) {\n",
       "      console.debug(\"Bokeh: BokehJS is being loaded, scheduling callback at\", now());\n",
       "      return null;\n",
       "    }\n",
       "    if (js_urls == null || js_urls.length === 0) {\n",
       "      run_callbacks();\n",
       "      return null;\n",
       "    }\n",
       "    console.debug(\"Bokeh: BokehJS not loaded, scheduling load and callback at\", now());\n",
       "    root._bokeh_is_loading = css_urls.length + js_urls.length;\n",
       "\n",
       "    function on_load() {\n",
       "      root._bokeh_is_loading--;\n",
       "      if (root._bokeh_is_loading === 0) {\n",
       "        console.debug(\"Bokeh: all BokehJS libraries/stylesheets loaded\");\n",
       "        run_callbacks()\n",
       "      }\n",
       "    }\n",
       "\n",
       "    function on_error(url) {\n",
       "      console.error(\"failed to load \" + url);\n",
       "    }\n",
       "\n",
       "    for (let i = 0; i < css_urls.length; i++) {\n",
       "      const url = css_urls[i];\n",
       "      const element = document.createElement(\"link\");\n",
       "      element.onload = on_load;\n",
       "      element.onerror = on_error.bind(null, url);\n",
       "      element.rel = \"stylesheet\";\n",
       "      element.type = \"text/css\";\n",
       "      element.href = url;\n",
       "      console.debug(\"Bokeh: injecting link tag for BokehJS stylesheet: \", url);\n",
       "      document.body.appendChild(element);\n",
       "    }\n",
       "\n",
       "    const hashes = {\"https://cdn.bokeh.org/bokeh/release/bokeh-2.3.3.min.js\": \"dM3QQsP+wXdHg42wTqW85BjZQdLNNIXqlPw/BgKoExPmTG7ZLML4EGqLMfqHT6ON\", \"https://cdn.bokeh.org/bokeh/release/bokeh-tables-2.3.3.min.js\": \"8x57I4YuIfu8XyZfFo0XVr2WAT8EK4rh/uDe3wF7YuW2FNUSNEpJbsPaB1nJ2fz2\", \"https://cdn.bokeh.org/bokeh/release/bokeh-widgets-2.3.3.min.js\": \"3QTqdz9LyAm2i0sG5XTePsHec3UHWwVsrOL68SYRoAXsafvfAyqtQ+h440+qIBhS\"};\n",
       "\n",
       "    for (let i = 0; i < js_urls.length; i++) {\n",
       "      const url = js_urls[i];\n",
       "      const element = document.createElement('script');\n",
       "      element.onload = on_load;\n",
       "      element.onerror = on_error.bind(null, url);\n",
       "      element.async = false;\n",
       "      element.src = url;\n",
       "      if (url in hashes) {\n",
       "        element.crossOrigin = \"anonymous\";\n",
       "        element.integrity = \"sha384-\" + hashes[url];\n",
       "      }\n",
       "      console.debug(\"Bokeh: injecting script tag for BokehJS library: \", url);\n",
       "      document.head.appendChild(element);\n",
       "    }\n",
       "  };\n",
       "\n",
       "  function inject_raw_css(css) {\n",
       "    const element = document.createElement(\"style\");\n",
       "    element.appendChild(document.createTextNode(css));\n",
       "    document.body.appendChild(element);\n",
       "  }\n",
       "\n",
       "  \n",
       "  var js_urls = [\"https://cdn.bokeh.org/bokeh/release/bokeh-2.3.3.min.js\", \"https://cdn.bokeh.org/bokeh/release/bokeh-widgets-2.3.3.min.js\", \"https://cdn.bokeh.org/bokeh/release/bokeh-tables-2.3.3.min.js\"];\n",
       "  var css_urls = [];\n",
       "  \n",
       "\n",
       "  var inline_js = [\n",
       "    function(Bokeh) {\n",
       "      Bokeh.set_log_level(\"info\");\n",
       "    },\n",
       "    function(Bokeh) {\n",
       "    \n",
       "    \n",
       "    }\n",
       "  ];\n",
       "\n",
       "  function run_inline_js() {\n",
       "    \n",
       "    if (root.Bokeh !== undefined || force === true) {\n",
       "      \n",
       "    for (var i = 0; i < inline_js.length; i++) {\n",
       "      inline_js[i].call(root, root.Bokeh);\n",
       "    }\n",
       "    if (force === true) {\n",
       "        display_loaded();\n",
       "      }} else if (Date.now() < root._bokeh_timeout) {\n",
       "      setTimeout(run_inline_js, 100);\n",
       "    } else if (!root._bokeh_failed_load) {\n",
       "      console.log(\"Bokeh: BokehJS failed to load within specified timeout.\");\n",
       "      root._bokeh_failed_load = true;\n",
       "    } else if (force !== true) {\n",
       "      var cell = $(document.getElementById(\"1002\")).parents('.cell').data().cell;\n",
       "      cell.output_area.append_execute_result(NB_LOAD_WARNING)\n",
       "    }\n",
       "\n",
       "  }\n",
       "\n",
       "  if (root._bokeh_is_loading === 0) {\n",
       "    console.debug(\"Bokeh: BokehJS loaded, going straight to plotting\");\n",
       "    run_inline_js();\n",
       "  } else {\n",
       "    load_libs(css_urls, js_urls, function() {\n",
       "      console.debug(\"Bokeh: BokehJS plotting callback run at\", now());\n",
       "      run_inline_js();\n",
       "    });\n",
       "  }\n",
       "}(window));"
      ],
      "application/vnd.bokehjs_load.v0+json": "\n(function(root) {\n  function now() {\n    return new Date();\n  }\n\n  var force = true;\n\n  if (typeof root._bokeh_onload_callbacks === \"undefined\" || force === true) {\n    root._bokeh_onload_callbacks = [];\n    root._bokeh_is_loading = undefined;\n  }\n\n  \n\n  \n  if (typeof (root._bokeh_timeout) === \"undefined\" || force === true) {\n    root._bokeh_timeout = Date.now() + 5000;\n    root._bokeh_failed_load = false;\n  }\n\n  var NB_LOAD_WARNING = {'data': {'text/html':\n     \"<div style='background-color: #fdd'>\\n\"+\n     \"<p>\\n\"+\n     \"BokehJS does not appear to have successfully loaded. If loading BokehJS from CDN, this \\n\"+\n     \"may be due to a slow or bad network connection. Possible fixes:\\n\"+\n     \"</p>\\n\"+\n     \"<ul>\\n\"+\n     \"<li>re-rerun `output_notebook()` to attempt to load from CDN again, or</li>\\n\"+\n     \"<li>use INLINE resources instead, as so:</li>\\n\"+\n     \"</ul>\\n\"+\n     \"<code>\\n\"+\n     \"from bokeh.resources import INLINE\\n\"+\n     \"output_notebook(resources=INLINE)\\n\"+\n     \"</code>\\n\"+\n     \"</div>\"}};\n\n  function display_loaded() {\n    var el = document.getElementById(\"1002\");\n    if (el != null) {\n      el.textContent = \"BokehJS is loading...\";\n    }\n    if (root.Bokeh !== undefined) {\n      if (el != null) {\n        el.textContent = \"BokehJS \" + root.Bokeh.version + \" successfully loaded.\";\n      }\n    } else if (Date.now() < root._bokeh_timeout) {\n      setTimeout(display_loaded, 100)\n    }\n  }\n\n\n  function run_callbacks() {\n    try {\n      root._bokeh_onload_callbacks.forEach(function(callback) {\n        if (callback != null)\n          callback();\n      });\n    } finally {\n      delete root._bokeh_onload_callbacks\n    }\n    console.debug(\"Bokeh: all callbacks have finished\");\n  }\n\n  function load_libs(css_urls, js_urls, callback) {\n    if (css_urls == null) css_urls = [];\n    if (js_urls == null) js_urls = [];\n\n    root._bokeh_onload_callbacks.push(callback);\n    if (root._bokeh_is_loading > 0) {\n      console.debug(\"Bokeh: BokehJS is being loaded, scheduling callback at\", now());\n      return null;\n    }\n    if (js_urls == null || js_urls.length === 0) {\n      run_callbacks();\n      return null;\n    }\n    console.debug(\"Bokeh: BokehJS not loaded, scheduling load and callback at\", now());\n    root._bokeh_is_loading = css_urls.length + js_urls.length;\n\n    function on_load() {\n      root._bokeh_is_loading--;\n      if (root._bokeh_is_loading === 0) {\n        console.debug(\"Bokeh: all BokehJS libraries/stylesheets loaded\");\n        run_callbacks()\n      }\n    }\n\n    function on_error(url) {\n      console.error(\"failed to load \" + url);\n    }\n\n    for (let i = 0; i < css_urls.length; i++) {\n      const url = css_urls[i];\n      const element = document.createElement(\"link\");\n      element.onload = on_load;\n      element.onerror = on_error.bind(null, url);\n      element.rel = \"stylesheet\";\n      element.type = \"text/css\";\n      element.href = url;\n      console.debug(\"Bokeh: injecting link tag for BokehJS stylesheet: \", url);\n      document.body.appendChild(element);\n    }\n\n    const hashes = {\"https://cdn.bokeh.org/bokeh/release/bokeh-2.3.3.min.js\": \"dM3QQsP+wXdHg42wTqW85BjZQdLNNIXqlPw/BgKoExPmTG7ZLML4EGqLMfqHT6ON\", \"https://cdn.bokeh.org/bokeh/release/bokeh-tables-2.3.3.min.js\": \"8x57I4YuIfu8XyZfFo0XVr2WAT8EK4rh/uDe3wF7YuW2FNUSNEpJbsPaB1nJ2fz2\", \"https://cdn.bokeh.org/bokeh/release/bokeh-widgets-2.3.3.min.js\": \"3QTqdz9LyAm2i0sG5XTePsHec3UHWwVsrOL68SYRoAXsafvfAyqtQ+h440+qIBhS\"};\n\n    for (let i = 0; i < js_urls.length; i++) {\n      const url = js_urls[i];\n      const element = document.createElement('script');\n      element.onload = on_load;\n      element.onerror = on_error.bind(null, url);\n      element.async = false;\n      element.src = url;\n      if (url in hashes) {\n        element.crossOrigin = \"anonymous\";\n        element.integrity = \"sha384-\" + hashes[url];\n      }\n      console.debug(\"Bokeh: injecting script tag for BokehJS library: \", url);\n      document.head.appendChild(element);\n    }\n  };\n\n  function inject_raw_css(css) {\n    const element = document.createElement(\"style\");\n    element.appendChild(document.createTextNode(css));\n    document.body.appendChild(element);\n  }\n\n  \n  var js_urls = [\"https://cdn.bokeh.org/bokeh/release/bokeh-2.3.3.min.js\", \"https://cdn.bokeh.org/bokeh/release/bokeh-widgets-2.3.3.min.js\", \"https://cdn.bokeh.org/bokeh/release/bokeh-tables-2.3.3.min.js\"];\n  var css_urls = [];\n  \n\n  var inline_js = [\n    function(Bokeh) {\n      Bokeh.set_log_level(\"info\");\n    },\n    function(Bokeh) {\n    \n    \n    }\n  ];\n\n  function run_inline_js() {\n    \n    if (root.Bokeh !== undefined || force === true) {\n      \n    for (var i = 0; i < inline_js.length; i++) {\n      inline_js[i].call(root, root.Bokeh);\n    }\n    if (force === true) {\n        display_loaded();\n      }} else if (Date.now() < root._bokeh_timeout) {\n      setTimeout(run_inline_js, 100);\n    } else if (!root._bokeh_failed_load) {\n      console.log(\"Bokeh: BokehJS failed to load within specified timeout.\");\n      root._bokeh_failed_load = true;\n    } else if (force !== true) {\n      var cell = $(document.getElementById(\"1002\")).parents('.cell').data().cell;\n      cell.output_area.append_execute_result(NB_LOAD_WARNING)\n    }\n\n  }\n\n  if (root._bokeh_is_loading === 0) {\n    console.debug(\"Bokeh: BokehJS loaded, going straight to plotting\");\n    run_inline_js();\n  } else {\n    load_libs(css_urls, js_urls, function() {\n      console.debug(\"Bokeh: BokehJS plotting callback run at\", now());\n      run_inline_js();\n    });\n  }\n}(window));"
     },
     "metadata": {},
     "output_type": "display_data"
    }
   ],
   "source": [
    "import bokeh.io\n",
    "bokeh.io.output_notebook()"
   ]
  },
  {
   "cell_type": "markdown",
   "metadata": {
    "id": "hBzDZIgYLhww"
   },
   "source": [
    "### Import data"
   ]
  },
  {
   "cell_type": "code",
   "execution_count": 24,
   "metadata": {
    "id": "5YtEojf3h1aa"
   },
   "outputs": [],
   "source": [
    "#input Pf6+ data \n",
    "pf6plus_metadata = 'https://pf6plus.cog.sanger.ac.uk/pf6plus_metadata.tsv'\n",
    "pf6plus = pd.read_csv(pf6plus_metadata, sep='\\t', index_col=0, low_memory=False)"
   ]
  },
  {
   "cell_type": "markdown",
   "metadata": {
    "id": "19UZh0HwGaGf"
   },
   "source": [
    "Here we filter out the samples which have `IncludeInAnalysis` set to `True`. This will retain only high-quality samples (both WGS and AmpSeq). "
   ]
  },
  {
   "cell_type": "code",
   "execution_count": 25,
   "metadata": {
    "id": "8RZWxqI4GaGf"
   },
   "outputs": [],
   "source": [
    "pf6plus=pf6plus.loc[pf6plus.IncludeInAnalysis==True]"
   ]
  },
  {
   "cell_type": "markdown",
   "metadata": {
    "id": "bSIZ8c5Nm7zT"
   },
   "source": [
    "## Prevalence of Resistant Variants\n",
    "\n",
    "Note: If your GRC data doesn't have information on drug resistance, you can use `phenotyper` (`3_phenotyper.ipynb`), to generate it. \n",
    "\n"
   ]
  },
  {
   "cell_type": "markdown",
   "metadata": {
    "id": "HeFiSjigZJmp"
   },
   "source": [
    "### Tabulate drug resistant variants\n",
    "To start exploring the dataset we can tabulate different combinations of drugs in different countries & years."
   ]
  },
  {
   "cell_type": "code",
   "execution_count": 26,
   "metadata": {
    "colab": {
     "base_uri": "https://localhost:8080/"
    },
    "id": "EPLoyjBeGTjQ",
    "outputId": "4a8a11b6-10b8-499b-aa16-432993c2549d"
   },
   "outputs": [
    {
     "name": "stdout",
     "output_type": "stream",
     "text": [
      "Help on function tabulate_drug_resistant in module data_analysis.tabulate_drug_resistance:\n",
      "\n",
      "tabulate_drug_resistant(data, drug, country=None, population=None, year=None, bin=False)\n",
      "    Tabulate the frequency of drug resistant samples per country/year\n",
      "    \n",
      "    Parameters:\n",
      "      - drug: Any of the drugs in the Pf6+ dataframe ['Artemisinin', 'Chloroquine', 'DHA-PPQ', 'Piperaquine', 'Pyrimethamine', 'S-P', 'S-P-IPTp', 'Sulfadoxine']\n",
      "      - country: Any of the countries in the Pf6+ dataframe (if specified, population value is not used) ['Bangladesh', 'Benin', 'Burkina Faso', 'Cambodia', 'Cameroon',\n",
      "       'Colombia', \"Côte d'Ivoire\", 'Democratic Republic of the Congo',\n",
      "       'Ethiopia', 'Gambia', 'Ghana', 'Guinea', 'India', 'Indonesia',\n",
      "       'Kenya', 'Laos', 'Madagascar', 'Malawi', 'Mali', 'Mauritania',\n",
      "       'Mozambique', 'Myanmar', 'Nigeria', 'Papua New Guinea', 'Peru',\n",
      "       'Senegal', 'Tanzania', 'Thailand', 'Uganda', 'Vietnam']\n",
      "      - population: Any of the populations in the Pf6+ dataframe ['CAF', 'EAF', 'ESEA', 'OCE', 'SAM', 'SAS', 'WAF', 'WSEA']\n",
      "      - year: An array with the year(s) in the Pf6+ dataframe [2001, 2002, 2003, 2004, 2005, 2006, 2007, 2008, 2009, 2010, 2011, 2012, 2013, 2014, 2015, 2016, 2017, 2018, 2019]\n",
      "      - bin: If True, all the years between the specified values will be used. If False, individual years are used.\n",
      "    \n",
      "    Returns:\n",
      "      A dataframe showing the number of Resistant, Sensitive & Undetermined\n",
      "      samples using the drug/country/year (or) drug/country/year combination provided. . The total number\n",
      "      of samples and drug resistant frequency is also provided.\n",
      "\n"
     ]
    }
   ],
   "source": [
    "# use help(name_of_function) to access the documentation notes\n",
    "help(tabulate_drug_resistant)"
   ]
  },
  {
   "cell_type": "markdown",
   "metadata": {},
   "source": [
    "Imagine we are interested on S-P resistance around the globe..."
   ]
  },
  {
   "cell_type": "code",
   "execution_count": 27,
   "metadata": {
    "colab": {
     "base_uri": "https://localhost:8080/",
     "height": 810
    },
    "id": "xr8O3-Yq_N6s",
    "outputId": "81ec813f-2738-4d11-a746-626b68518008"
   },
   "outputs": [
    {
     "name": "stdout",
     "output_type": "stream",
     "text": [
      "S-P resistant samples on all years\n"
     ]
    },
    {
     "data": {
      "text/html": [
       "<div>\n",
       "<style scoped>\n",
       "    .dataframe tbody tr th:only-of-type {\n",
       "        vertical-align: middle;\n",
       "    }\n",
       "\n",
       "    .dataframe tbody tr th {\n",
       "        vertical-align: top;\n",
       "    }\n",
       "\n",
       "    .dataframe thead th {\n",
       "        text-align: right;\n",
       "    }\n",
       "</style>\n",
       "<table border=\"1\" class=\"dataframe\">\n",
       "  <thead>\n",
       "    <tr style=\"text-align: right;\">\n",
       "      <th>S-P</th>\n",
       "      <th>Resistant</th>\n",
       "      <th>Sensitive</th>\n",
       "      <th>Undetermined</th>\n",
       "      <th>Total</th>\n",
       "      <th>Resistant Frequency</th>\n",
       "    </tr>\n",
       "    <tr>\n",
       "      <th>Country</th>\n",
       "      <th></th>\n",
       "      <th></th>\n",
       "      <th></th>\n",
       "      <th></th>\n",
       "      <th></th>\n",
       "    </tr>\n",
       "  </thead>\n",
       "  <tbody>\n",
       "    <tr>\n",
       "      <th>Bangladesh</th>\n",
       "      <td>715</td>\n",
       "      <td>834</td>\n",
       "      <td>221</td>\n",
       "      <td>1770</td>\n",
       "      <td>0.46</td>\n",
       "    </tr>\n",
       "    <tr>\n",
       "      <th>Benin</th>\n",
       "      <td>34</td>\n",
       "      <td>1</td>\n",
       "      <td>1</td>\n",
       "      <td>36</td>\n",
       "      <td>0.97</td>\n",
       "    </tr>\n",
       "    <tr>\n",
       "      <th>Burkina Faso</th>\n",
       "      <td>10</td>\n",
       "      <td>27</td>\n",
       "      <td>19</td>\n",
       "      <td>56</td>\n",
       "      <td>0.27</td>\n",
       "    </tr>\n",
       "    <tr>\n",
       "      <th>Cambodia</th>\n",
       "      <td>1697</td>\n",
       "      <td>96</td>\n",
       "      <td>82</td>\n",
       "      <td>1875</td>\n",
       "      <td>0.95</td>\n",
       "    </tr>\n",
       "    <tr>\n",
       "      <th>Cameroon</th>\n",
       "      <td>230</td>\n",
       "      <td>2</td>\n",
       "      <td>3</td>\n",
       "      <td>235</td>\n",
       "      <td>0.99</td>\n",
       "    </tr>\n",
       "    <tr>\n",
       "      <th>Colombia</th>\n",
       "      <td>0</td>\n",
       "      <td>16</td>\n",
       "      <td>0</td>\n",
       "      <td>16</td>\n",
       "      <td>0.00</td>\n",
       "    </tr>\n",
       "    <tr>\n",
       "      <th>Côte d'Ivoire</th>\n",
       "      <td>34</td>\n",
       "      <td>28</td>\n",
       "      <td>8</td>\n",
       "      <td>70</td>\n",
       "      <td>0.55</td>\n",
       "    </tr>\n",
       "    <tr>\n",
       "      <th>Democratic Republic of the Congo</th>\n",
       "      <td>268</td>\n",
       "      <td>55</td>\n",
       "      <td>141</td>\n",
       "      <td>464</td>\n",
       "      <td>0.83</td>\n",
       "    </tr>\n",
       "    <tr>\n",
       "      <th>Ethiopia</th>\n",
       "      <td>18</td>\n",
       "      <td>2</td>\n",
       "      <td>1</td>\n",
       "      <td>21</td>\n",
       "      <td>0.90</td>\n",
       "    </tr>\n",
       "    <tr>\n",
       "      <th>Gambia</th>\n",
       "      <td>182</td>\n",
       "      <td>25</td>\n",
       "      <td>12</td>\n",
       "      <td>219</td>\n",
       "      <td>0.88</td>\n",
       "    </tr>\n",
       "    <tr>\n",
       "      <th>Ghana</th>\n",
       "      <td>440</td>\n",
       "      <td>199</td>\n",
       "      <td>212</td>\n",
       "      <td>851</td>\n",
       "      <td>0.69</td>\n",
       "    </tr>\n",
       "    <tr>\n",
       "      <th>Guinea</th>\n",
       "      <td>108</td>\n",
       "      <td>18</td>\n",
       "      <td>23</td>\n",
       "      <td>149</td>\n",
       "      <td>0.86</td>\n",
       "    </tr>\n",
       "    <tr>\n",
       "      <th>India</th>\n",
       "      <td>46</td>\n",
       "      <td>229</td>\n",
       "      <td>5</td>\n",
       "      <td>280</td>\n",
       "      <td>0.17</td>\n",
       "    </tr>\n",
       "    <tr>\n",
       "      <th>Indonesia</th>\n",
       "      <td>0</td>\n",
       "      <td>80</td>\n",
       "      <td>0</td>\n",
       "      <td>80</td>\n",
       "      <td>0.00</td>\n",
       "    </tr>\n",
       "    <tr>\n",
       "      <th>Kenya</th>\n",
       "      <td>86</td>\n",
       "      <td>17</td>\n",
       "      <td>7</td>\n",
       "      <td>110</td>\n",
       "      <td>0.83</td>\n",
       "    </tr>\n",
       "    <tr>\n",
       "      <th>Laos</th>\n",
       "      <td>730</td>\n",
       "      <td>493</td>\n",
       "      <td>295</td>\n",
       "      <td>1518</td>\n",
       "      <td>0.60</td>\n",
       "    </tr>\n",
       "    <tr>\n",
       "      <th>Madagascar</th>\n",
       "      <td>17</td>\n",
       "      <td>7</td>\n",
       "      <td>0</td>\n",
       "      <td>24</td>\n",
       "      <td>0.71</td>\n",
       "    </tr>\n",
       "    <tr>\n",
       "      <th>Malawi</th>\n",
       "      <td>243</td>\n",
       "      <td>3</td>\n",
       "      <td>8</td>\n",
       "      <td>254</td>\n",
       "      <td>0.99</td>\n",
       "    </tr>\n",
       "    <tr>\n",
       "      <th>Mali</th>\n",
       "      <td>193</td>\n",
       "      <td>142</td>\n",
       "      <td>91</td>\n",
       "      <td>426</td>\n",
       "      <td>0.58</td>\n",
       "    </tr>\n",
       "    <tr>\n",
       "      <th>Mauritania</th>\n",
       "      <td>47</td>\n",
       "      <td>20</td>\n",
       "      <td>9</td>\n",
       "      <td>76</td>\n",
       "      <td>0.70</td>\n",
       "    </tr>\n",
       "    <tr>\n",
       "      <th>Mozambique</th>\n",
       "      <td>1</td>\n",
       "      <td>0</td>\n",
       "      <td>0</td>\n",
       "      <td>1</td>\n",
       "      <td>1.00</td>\n",
       "    </tr>\n",
       "    <tr>\n",
       "      <th>Myanmar</th>\n",
       "      <td>581</td>\n",
       "      <td>224</td>\n",
       "      <td>355</td>\n",
       "      <td>1160</td>\n",
       "      <td>0.72</td>\n",
       "    </tr>\n",
       "    <tr>\n",
       "      <th>Nigeria</th>\n",
       "      <td>27</td>\n",
       "      <td>2</td>\n",
       "      <td>0</td>\n",
       "      <td>29</td>\n",
       "      <td>0.93</td>\n",
       "    </tr>\n",
       "    <tr>\n",
       "      <th>Papua New Guinea</th>\n",
       "      <td>0</td>\n",
       "      <td>121</td>\n",
       "      <td>0</td>\n",
       "      <td>121</td>\n",
       "      <td>0.00</td>\n",
       "    </tr>\n",
       "    <tr>\n",
       "      <th>Peru</th>\n",
       "      <td>0</td>\n",
       "      <td>21</td>\n",
       "      <td>0</td>\n",
       "      <td>21</td>\n",
       "      <td>0.00</td>\n",
       "    </tr>\n",
       "    <tr>\n",
       "      <th>Senegal</th>\n",
       "      <td>76</td>\n",
       "      <td>6</td>\n",
       "      <td>2</td>\n",
       "      <td>84</td>\n",
       "      <td>0.93</td>\n",
       "    </tr>\n",
       "    <tr>\n",
       "      <th>Tanzania</th>\n",
       "      <td>256</td>\n",
       "      <td>31</td>\n",
       "      <td>29</td>\n",
       "      <td>316</td>\n",
       "      <td>0.89</td>\n",
       "    </tr>\n",
       "    <tr>\n",
       "      <th>Thailand</th>\n",
       "      <td>905</td>\n",
       "      <td>69</td>\n",
       "      <td>45</td>\n",
       "      <td>1019</td>\n",
       "      <td>0.93</td>\n",
       "    </tr>\n",
       "    <tr>\n",
       "      <th>Uganda</th>\n",
       "      <td>11</td>\n",
       "      <td>1</td>\n",
       "      <td>1</td>\n",
       "      <td>13</td>\n",
       "      <td>0.92</td>\n",
       "    </tr>\n",
       "    <tr>\n",
       "      <th>Vietnam</th>\n",
       "      <td>1609</td>\n",
       "      <td>93</td>\n",
       "      <td>600</td>\n",
       "      <td>2302</td>\n",
       "      <td>0.95</td>\n",
       "    </tr>\n",
       "  </tbody>\n",
       "</table>\n",
       "</div>"
      ],
      "text/plain": [
       "S-P                               Resistant  Sensitive  Undetermined  Total  \\\n",
       "Country                                                                       \n",
       "Bangladesh                              715        834           221   1770   \n",
       "Benin                                    34          1             1     36   \n",
       "Burkina Faso                             10         27            19     56   \n",
       "Cambodia                               1697         96            82   1875   \n",
       "Cameroon                                230          2             3    235   \n",
       "Colombia                                  0         16             0     16   \n",
       "Côte d'Ivoire                            34         28             8     70   \n",
       "Democratic Republic of the Congo        268         55           141    464   \n",
       "Ethiopia                                 18          2             1     21   \n",
       "Gambia                                  182         25            12    219   \n",
       "Ghana                                   440        199           212    851   \n",
       "Guinea                                  108         18            23    149   \n",
       "India                                    46        229             5    280   \n",
       "Indonesia                                 0         80             0     80   \n",
       "Kenya                                    86         17             7    110   \n",
       "Laos                                    730        493           295   1518   \n",
       "Madagascar                               17          7             0     24   \n",
       "Malawi                                  243          3             8    254   \n",
       "Mali                                    193        142            91    426   \n",
       "Mauritania                               47         20             9     76   \n",
       "Mozambique                                1          0             0      1   \n",
       "Myanmar                                 581        224           355   1160   \n",
       "Nigeria                                  27          2             0     29   \n",
       "Papua New Guinea                          0        121             0    121   \n",
       "Peru                                      0         21             0     21   \n",
       "Senegal                                  76          6             2     84   \n",
       "Tanzania                                256         31            29    316   \n",
       "Thailand                                905         69            45   1019   \n",
       "Uganda                                   11          1             1     13   \n",
       "Vietnam                                1609         93           600   2302   \n",
       "\n",
       "S-P                               Resistant Frequency  \n",
       "Country                                                \n",
       "Bangladesh                                       0.46  \n",
       "Benin                                            0.97  \n",
       "Burkina Faso                                     0.27  \n",
       "Cambodia                                         0.95  \n",
       "Cameroon                                         0.99  \n",
       "Colombia                                         0.00  \n",
       "Côte d'Ivoire                                    0.55  \n",
       "Democratic Republic of the Congo                 0.83  \n",
       "Ethiopia                                         0.90  \n",
       "Gambia                                           0.88  \n",
       "Ghana                                            0.69  \n",
       "Guinea                                           0.86  \n",
       "India                                            0.17  \n",
       "Indonesia                                        0.00  \n",
       "Kenya                                            0.83  \n",
       "Laos                                             0.60  \n",
       "Madagascar                                       0.71  \n",
       "Malawi                                           0.99  \n",
       "Mali                                             0.58  \n",
       "Mauritania                                       0.70  \n",
       "Mozambique                                       1.00  \n",
       "Myanmar                                          0.72  \n",
       "Nigeria                                          0.93  \n",
       "Papua New Guinea                                 0.00  \n",
       "Peru                                             0.00  \n",
       "Senegal                                          0.93  \n",
       "Tanzania                                         0.89  \n",
       "Thailand                                         0.93  \n",
       "Uganda                                           0.92  \n",
       "Vietnam                                          0.95  "
      ]
     },
     "execution_count": 27,
     "metadata": {},
     "output_type": "execute_result"
    }
   ],
   "source": [
    "tabulate_drug_resistant(pf6plus, 'S-P')"
   ]
  },
  {
   "cell_type": "markdown",
   "metadata": {},
   "source": [
    "The proportion of resistant variants seems to be high in West Africa, let's aggregate the countries on this population and see the result.."
   ]
  },
  {
   "cell_type": "code",
   "execution_count": 28,
   "metadata": {
    "colab": {
     "base_uri": "https://localhost:8080/",
     "height": 128
    },
    "id": "0628dSRW_OEy",
    "outputId": "822450c8-6d97-46ba-82be-b445d031d4ee"
   },
   "outputs": [
    {
     "name": "stdout",
     "output_type": "stream",
     "text": [
      "S-P resistant samples on all years\n"
     ]
    },
    {
     "data": {
      "text/html": [
       "<div>\n",
       "<style scoped>\n",
       "    .dataframe tbody tr th:only-of-type {\n",
       "        vertical-align: middle;\n",
       "    }\n",
       "\n",
       "    .dataframe tbody tr th {\n",
       "        vertical-align: top;\n",
       "    }\n",
       "\n",
       "    .dataframe thead th {\n",
       "        text-align: right;\n",
       "    }\n",
       "</style>\n",
       "<table border=\"1\" class=\"dataframe\">\n",
       "  <thead>\n",
       "    <tr style=\"text-align: right;\">\n",
       "      <th>S-P</th>\n",
       "      <th>Resistant</th>\n",
       "      <th>Sensitive</th>\n",
       "      <th>Undetermined</th>\n",
       "      <th>Total</th>\n",
       "      <th>Resistant Frequency</th>\n",
       "    </tr>\n",
       "    <tr>\n",
       "      <th>Population</th>\n",
       "      <th></th>\n",
       "      <th></th>\n",
       "      <th></th>\n",
       "      <th></th>\n",
       "      <th></th>\n",
       "    </tr>\n",
       "  </thead>\n",
       "  <tbody>\n",
       "    <tr>\n",
       "      <th>WAF</th>\n",
       "      <td>1381</td>\n",
       "      <td>470</td>\n",
       "      <td>380</td>\n",
       "      <td>2231</td>\n",
       "      <td>0.75</td>\n",
       "    </tr>\n",
       "  </tbody>\n",
       "</table>\n",
       "</div>"
      ],
      "text/plain": [
       "S-P         Resistant  Sensitive  Undetermined  Total  Resistant Frequency\n",
       "Population                                                                \n",
       "WAF              1381        470           380   2231                 0.75"
      ]
     },
     "execution_count": 28,
     "metadata": {},
     "output_type": "execute_result"
    }
   ],
   "source": [
    "tabulate_drug_resistant(pf6plus, 'S-P', population='WAF')"
   ]
  },
  {
   "cell_type": "markdown",
   "metadata": {},
   "source": [
    "We can also see the temporal aspect, trying to spot temporal patterns.."
   ]
  },
  {
   "cell_type": "code",
   "execution_count": 29,
   "metadata": {
    "colab": {
     "base_uri": "https://localhost:8080/",
     "height": 810
    },
    "id": "eDews4D8q4Hr",
    "outputId": "89cbf318-87fb-4f44-e1c3-da6a5750b59f"
   },
   "outputs": [
    {
     "name": "stdout",
     "output_type": "stream",
     "text": [
      "S-P resistant samples on all years\n"
     ]
    },
    {
     "data": {
      "text/html": [
       "<div>\n",
       "<style scoped>\n",
       "    .dataframe tbody tr th:only-of-type {\n",
       "        vertical-align: middle;\n",
       "    }\n",
       "\n",
       "    .dataframe tbody tr th {\n",
       "        vertical-align: top;\n",
       "    }\n",
       "\n",
       "    .dataframe thead th {\n",
       "        text-align: right;\n",
       "    }\n",
       "</style>\n",
       "<table border=\"1\" class=\"dataframe\">\n",
       "  <thead>\n",
       "    <tr style=\"text-align: right;\">\n",
       "      <th>S-P</th>\n",
       "      <th>Resistant</th>\n",
       "      <th>Sensitive</th>\n",
       "      <th>Undetermined</th>\n",
       "      <th>Total</th>\n",
       "      <th>Resistant Frequency</th>\n",
       "    </tr>\n",
       "    <tr>\n",
       "      <th>Country</th>\n",
       "      <th></th>\n",
       "      <th></th>\n",
       "      <th></th>\n",
       "      <th></th>\n",
       "      <th></th>\n",
       "    </tr>\n",
       "  </thead>\n",
       "  <tbody>\n",
       "    <tr>\n",
       "      <th>Bangladesh</th>\n",
       "      <td>715</td>\n",
       "      <td>834</td>\n",
       "      <td>221</td>\n",
       "      <td>1770</td>\n",
       "      <td>0.46</td>\n",
       "    </tr>\n",
       "    <tr>\n",
       "      <th>Benin</th>\n",
       "      <td>34</td>\n",
       "      <td>1</td>\n",
       "      <td>1</td>\n",
       "      <td>36</td>\n",
       "      <td>0.97</td>\n",
       "    </tr>\n",
       "    <tr>\n",
       "      <th>Burkina Faso</th>\n",
       "      <td>10</td>\n",
       "      <td>27</td>\n",
       "      <td>19</td>\n",
       "      <td>56</td>\n",
       "      <td>0.27</td>\n",
       "    </tr>\n",
       "    <tr>\n",
       "      <th>Cambodia</th>\n",
       "      <td>1697</td>\n",
       "      <td>96</td>\n",
       "      <td>82</td>\n",
       "      <td>1875</td>\n",
       "      <td>0.95</td>\n",
       "    </tr>\n",
       "    <tr>\n",
       "      <th>Cameroon</th>\n",
       "      <td>230</td>\n",
       "      <td>2</td>\n",
       "      <td>3</td>\n",
       "      <td>235</td>\n",
       "      <td>0.99</td>\n",
       "    </tr>\n",
       "    <tr>\n",
       "      <th>Colombia</th>\n",
       "      <td>0</td>\n",
       "      <td>16</td>\n",
       "      <td>0</td>\n",
       "      <td>16</td>\n",
       "      <td>0.00</td>\n",
       "    </tr>\n",
       "    <tr>\n",
       "      <th>Côte d'Ivoire</th>\n",
       "      <td>34</td>\n",
       "      <td>28</td>\n",
       "      <td>8</td>\n",
       "      <td>70</td>\n",
       "      <td>0.55</td>\n",
       "    </tr>\n",
       "    <tr>\n",
       "      <th>Democratic Republic of the Congo</th>\n",
       "      <td>268</td>\n",
       "      <td>55</td>\n",
       "      <td>141</td>\n",
       "      <td>464</td>\n",
       "      <td>0.83</td>\n",
       "    </tr>\n",
       "    <tr>\n",
       "      <th>Ethiopia</th>\n",
       "      <td>18</td>\n",
       "      <td>2</td>\n",
       "      <td>1</td>\n",
       "      <td>21</td>\n",
       "      <td>0.90</td>\n",
       "    </tr>\n",
       "    <tr>\n",
       "      <th>Gambia</th>\n",
       "      <td>182</td>\n",
       "      <td>25</td>\n",
       "      <td>12</td>\n",
       "      <td>219</td>\n",
       "      <td>0.88</td>\n",
       "    </tr>\n",
       "    <tr>\n",
       "      <th>Ghana</th>\n",
       "      <td>440</td>\n",
       "      <td>199</td>\n",
       "      <td>212</td>\n",
       "      <td>851</td>\n",
       "      <td>0.69</td>\n",
       "    </tr>\n",
       "    <tr>\n",
       "      <th>Guinea</th>\n",
       "      <td>108</td>\n",
       "      <td>18</td>\n",
       "      <td>23</td>\n",
       "      <td>149</td>\n",
       "      <td>0.86</td>\n",
       "    </tr>\n",
       "    <tr>\n",
       "      <th>India</th>\n",
       "      <td>46</td>\n",
       "      <td>229</td>\n",
       "      <td>5</td>\n",
       "      <td>280</td>\n",
       "      <td>0.17</td>\n",
       "    </tr>\n",
       "    <tr>\n",
       "      <th>Indonesia</th>\n",
       "      <td>0</td>\n",
       "      <td>80</td>\n",
       "      <td>0</td>\n",
       "      <td>80</td>\n",
       "      <td>0.00</td>\n",
       "    </tr>\n",
       "    <tr>\n",
       "      <th>Kenya</th>\n",
       "      <td>86</td>\n",
       "      <td>17</td>\n",
       "      <td>7</td>\n",
       "      <td>110</td>\n",
       "      <td>0.83</td>\n",
       "    </tr>\n",
       "    <tr>\n",
       "      <th>Laos</th>\n",
       "      <td>730</td>\n",
       "      <td>493</td>\n",
       "      <td>295</td>\n",
       "      <td>1518</td>\n",
       "      <td>0.60</td>\n",
       "    </tr>\n",
       "    <tr>\n",
       "      <th>Madagascar</th>\n",
       "      <td>17</td>\n",
       "      <td>7</td>\n",
       "      <td>0</td>\n",
       "      <td>24</td>\n",
       "      <td>0.71</td>\n",
       "    </tr>\n",
       "    <tr>\n",
       "      <th>Malawi</th>\n",
       "      <td>243</td>\n",
       "      <td>3</td>\n",
       "      <td>8</td>\n",
       "      <td>254</td>\n",
       "      <td>0.99</td>\n",
       "    </tr>\n",
       "    <tr>\n",
       "      <th>Mali</th>\n",
       "      <td>193</td>\n",
       "      <td>142</td>\n",
       "      <td>91</td>\n",
       "      <td>426</td>\n",
       "      <td>0.58</td>\n",
       "    </tr>\n",
       "    <tr>\n",
       "      <th>Mauritania</th>\n",
       "      <td>47</td>\n",
       "      <td>20</td>\n",
       "      <td>9</td>\n",
       "      <td>76</td>\n",
       "      <td>0.70</td>\n",
       "    </tr>\n",
       "    <tr>\n",
       "      <th>Mozambique</th>\n",
       "      <td>1</td>\n",
       "      <td>0</td>\n",
       "      <td>0</td>\n",
       "      <td>1</td>\n",
       "      <td>1.00</td>\n",
       "    </tr>\n",
       "    <tr>\n",
       "      <th>Myanmar</th>\n",
       "      <td>581</td>\n",
       "      <td>224</td>\n",
       "      <td>355</td>\n",
       "      <td>1160</td>\n",
       "      <td>0.72</td>\n",
       "    </tr>\n",
       "    <tr>\n",
       "      <th>Nigeria</th>\n",
       "      <td>27</td>\n",
       "      <td>2</td>\n",
       "      <td>0</td>\n",
       "      <td>29</td>\n",
       "      <td>0.93</td>\n",
       "    </tr>\n",
       "    <tr>\n",
       "      <th>Papua New Guinea</th>\n",
       "      <td>0</td>\n",
       "      <td>121</td>\n",
       "      <td>0</td>\n",
       "      <td>121</td>\n",
       "      <td>0.00</td>\n",
       "    </tr>\n",
       "    <tr>\n",
       "      <th>Peru</th>\n",
       "      <td>0</td>\n",
       "      <td>21</td>\n",
       "      <td>0</td>\n",
       "      <td>21</td>\n",
       "      <td>0.00</td>\n",
       "    </tr>\n",
       "    <tr>\n",
       "      <th>Senegal</th>\n",
       "      <td>76</td>\n",
       "      <td>6</td>\n",
       "      <td>2</td>\n",
       "      <td>84</td>\n",
       "      <td>0.93</td>\n",
       "    </tr>\n",
       "    <tr>\n",
       "      <th>Tanzania</th>\n",
       "      <td>256</td>\n",
       "      <td>31</td>\n",
       "      <td>29</td>\n",
       "      <td>316</td>\n",
       "      <td>0.89</td>\n",
       "    </tr>\n",
       "    <tr>\n",
       "      <th>Thailand</th>\n",
       "      <td>905</td>\n",
       "      <td>69</td>\n",
       "      <td>45</td>\n",
       "      <td>1019</td>\n",
       "      <td>0.93</td>\n",
       "    </tr>\n",
       "    <tr>\n",
       "      <th>Uganda</th>\n",
       "      <td>11</td>\n",
       "      <td>1</td>\n",
       "      <td>1</td>\n",
       "      <td>13</td>\n",
       "      <td>0.92</td>\n",
       "    </tr>\n",
       "    <tr>\n",
       "      <th>Vietnam</th>\n",
       "      <td>1609</td>\n",
       "      <td>93</td>\n",
       "      <td>600</td>\n",
       "      <td>2302</td>\n",
       "      <td>0.95</td>\n",
       "    </tr>\n",
       "  </tbody>\n",
       "</table>\n",
       "</div>"
      ],
      "text/plain": [
       "S-P                               Resistant  Sensitive  Undetermined  Total  \\\n",
       "Country                                                                       \n",
       "Bangladesh                              715        834           221   1770   \n",
       "Benin                                    34          1             1     36   \n",
       "Burkina Faso                             10         27            19     56   \n",
       "Cambodia                               1697         96            82   1875   \n",
       "Cameroon                                230          2             3    235   \n",
       "Colombia                                  0         16             0     16   \n",
       "Côte d'Ivoire                            34         28             8     70   \n",
       "Democratic Republic of the Congo        268         55           141    464   \n",
       "Ethiopia                                 18          2             1     21   \n",
       "Gambia                                  182         25            12    219   \n",
       "Ghana                                   440        199           212    851   \n",
       "Guinea                                  108         18            23    149   \n",
       "India                                    46        229             5    280   \n",
       "Indonesia                                 0         80             0     80   \n",
       "Kenya                                    86         17             7    110   \n",
       "Laos                                    730        493           295   1518   \n",
       "Madagascar                               17          7             0     24   \n",
       "Malawi                                  243          3             8    254   \n",
       "Mali                                    193        142            91    426   \n",
       "Mauritania                               47         20             9     76   \n",
       "Mozambique                                1          0             0      1   \n",
       "Myanmar                                 581        224           355   1160   \n",
       "Nigeria                                  27          2             0     29   \n",
       "Papua New Guinea                          0        121             0    121   \n",
       "Peru                                      0         21             0     21   \n",
       "Senegal                                  76          6             2     84   \n",
       "Tanzania                                256         31            29    316   \n",
       "Thailand                                905         69            45   1019   \n",
       "Uganda                                   11          1             1     13   \n",
       "Vietnam                                1609         93           600   2302   \n",
       "\n",
       "S-P                               Resistant Frequency  \n",
       "Country                                                \n",
       "Bangladesh                                       0.46  \n",
       "Benin                                            0.97  \n",
       "Burkina Faso                                     0.27  \n",
       "Cambodia                                         0.95  \n",
       "Cameroon                                         0.99  \n",
       "Colombia                                         0.00  \n",
       "Côte d'Ivoire                                    0.55  \n",
       "Democratic Republic of the Congo                 0.83  \n",
       "Ethiopia                                         0.90  \n",
       "Gambia                                           0.88  \n",
       "Ghana                                            0.69  \n",
       "Guinea                                           0.86  \n",
       "India                                            0.17  \n",
       "Indonesia                                        0.00  \n",
       "Kenya                                            0.83  \n",
       "Laos                                             0.60  \n",
       "Madagascar                                       0.71  \n",
       "Malawi                                           0.99  \n",
       "Mali                                             0.58  \n",
       "Mauritania                                       0.70  \n",
       "Mozambique                                       1.00  \n",
       "Myanmar                                          0.72  \n",
       "Nigeria                                          0.93  \n",
       "Papua New Guinea                                 0.00  \n",
       "Peru                                             0.00  \n",
       "Senegal                                          0.93  \n",
       "Tanzania                                         0.89  \n",
       "Thailand                                         0.93  \n",
       "Uganda                                           0.92  \n",
       "Vietnam                                          0.95  "
      ]
     },
     "execution_count": 29,
     "metadata": {},
     "output_type": "execute_result"
    }
   ],
   "source": [
    "tabulate_drug_resistant(pf6plus,'S-P', years = [2007, 2010], bin=False)"
   ]
  },
  {
   "cell_type": "markdown",
   "metadata": {
    "id": "_-DEImCYNurR"
   },
   "source": [
    "**The number of samples collected across different locations in different years varies widely in the Pf6+ data resource. To increase confidence in the plots shown below, a threshold is set to only include country (or) population/year combinations with `n_samples > 25`. You can change this default value by using the `threshold` flag, but please be cautious.**"
   ]
  },
  {
   "cell_type": "markdown",
   "metadata": {
    "id": "ZEbWtLWXO6JS"
   },
   "source": [
    "### Plot drug resistance prevalence"
   ]
  },
  {
   "cell_type": "markdown",
   "metadata": {},
   "source": [
    "This function explores the frequencies of drug resistant variants within different spatial (country/population) and temporal (year) combinations. This is quite a useful way of visualising time series data in regions & years of interest.\n",
    "\n",
    "You can also hover over the data points to see the specific numbers and zoom in and out to change the scale."
   ]
  },
  {
   "cell_type": "code",
   "execution_count": 30,
   "metadata": {
    "colab": {
     "base_uri": "https://localhost:8080/"
    },
    "id": "YZhavFFM1Qwx",
    "outputId": "63f8b276-9672-43cb-ac99-02faa67adfaa"
   },
   "outputs": [
    {
     "name": "stdout",
     "output_type": "stream",
     "text": [
      "Help on function plot_dr_prevalence in module data_analysis.plot_dr_prevalence:\n",
      "\n",
      "plot_dr_prevalence(data, drugs, country=None, population=None, years=None, bin=False, threshold=25)\n",
      "    Plot the prevalence of resistant samples per country/year\n",
      "    \n",
      "    Parameters:\n",
      "      - drug: Any/list of the drugs in the Pf6+ dataframe ['Artemisinin', 'Chloroquine', 'DHA-PPQ', 'Piperaquine', 'Pyrimethamine', 'S-P', 'S-P-IPTp', 'Sulfadoxine']\n",
      "      - country: Any of the countries in the Pf6+ dataframe (if specified, population value is not used) ['Bangladesh', 'Benin', 'Burkina Faso', 'Cambodia', 'Cameroon',\n",
      "       'Colombia', \"Côte d'Ivoire\", 'Democratic Republic of the Congo',\n",
      "       'Ethiopia', 'Gambia', 'Ghana', 'Guinea', 'India', 'Indonesia',\n",
      "       'Kenya', 'Laos', 'Madagascar', 'Malawi', 'Mali', 'Mauritania',\n",
      "       'Mozambique', 'Myanmar', 'Nigeria', 'Papua New Guinea', 'Peru',\n",
      "       'Senegal', 'Tanzania', 'Thailand', 'Uganda', 'Vietnam']\n",
      "      - population: Any of the populations in the Pf6+ dataframe ['CAF', 'EAF', 'ESEA', 'OCE', 'SAM', 'SAS', 'WAF', 'WSEA']\n",
      "      - year: Any/list of the years in the Pf6+ dataframe [2001, 2002, 2003, 2004, 2005, 2006, 2007, 2008, 2009, 2010, 2011, 2012, 2013, 2014, 2015, 2016, 2017, 2018, 2019]\n",
      "      - bin: If True, all the years between the specified values will be used. If False, individual years are used.\n",
      "      - threshold: To increase confidence on disperse data, only use country (or) population/year combinations with n_samples>threshold (default=25)\n",
      "    \n",
      "    Returns:\n",
      "      A series of plots (one per drug) showing the prevalence of resistant variants the drug/country/year (or) drug/country/year combination provided.\n",
      "\n"
     ]
    }
   ],
   "source": [
    "help(plot_dr_prevalence)"
   ]
  },
  {
   "cell_type": "markdown",
   "metadata": {},
   "source": [
    "We can continue exploring patterns specific to West Africa, by looking at the infromation available for specific drugs in Gambia. By comparing this country versus the population average, we can make it easier to spot differences.."
   ]
  },
  {
   "cell_type": "code",
   "execution_count": 31,
   "metadata": {
    "colab": {
     "base_uri": "https://localhost:8080/",
     "height": 898
    },
    "id": "ItGBPFS0GSJu",
    "outputId": "816f82e4-8b7d-45da-ace6-b752a6c81449"
   },
   "outputs": [
    {
     "name": "stdout",
     "output_type": "stream",
     "text": [
      "WARNING: Not enough data on Artemisinin resistant variants in Gambia dataset. No plot will be produced.\n",
      "WARNING: Not enough data on DHA-PPQ resistant variants in Gambia dataset. No plot will be produced.\n",
      "WARNING: Not enough data on Piperaquine resistant variants in Gambia dataset. No plot will be produced.\n"
     ]
    },
    {
     "data": {
      "text/html": [
       "\n",
       "\n",
       "\n",
       "\n",
       "\n",
       "\n",
       "  <div class=\"bk-root\" id=\"3611562e-a5d4-4cac-b7f5-4dc128dcadb8\" data-root-id=\"1294\"></div>\n"
      ]
     },
     "metadata": {},
     "output_type": "display_data"
    },
    {
     "data": {
      "application/javascript": [
       "(function(root) {\n",
       "  function embed_document(root) {\n",
       "    \n",
       "  var docs_json = {\"d6f3ca3c-7bb2-4ce0-8f60-e9ef22213939\":{\"defs\":[],\"roots\":{\"references\":[{\"attributes\":{\"children\":[{\"id\":\"1293\"},{\"id\":\"1291\"}]},\"id\":\"1294\",\"type\":\"Column\"},{\"attributes\":{\"callback\":null,\"renderers\":[{\"id\":\"1138\"}],\"tooltips\":[[\"(x,y)\",\"(@Year,@Data)\"]]},\"id\":\"1140\",\"type\":\"HoverTool\"},{\"attributes\":{\"data\":{\"Data\":{\"__ndarray__\":\"KVyPwvUo5D9mZmZmZmbWP1K4HoXrUdg/CtejcD0Kxz+4HoXrUbjeP5qZmZmZmbk/rkfhehSu1z9cj8L1KFzfPwAAAAAAAAAA\",\"dtype\":\"float64\",\"order\":\"little\",\"shape\":[9]},\"Year\":[2007,2008,2009,2010,2011,2012,2013,2014,2015]},\"selected\":{\"id\":\"1241\"},\"selection_policy\":{\"id\":\"1240\"}},\"id\":\"1225\",\"type\":\"ColumnDataSource\"},{\"attributes\":{\"data_source\":{\"id\":\"1059\"},\"glyph\":{\"id\":\"1061\"},\"hover_glyph\":null,\"muted_glyph\":null,\"nonselection_glyph\":{\"id\":\"1062\"},\"view\":{\"id\":\"1064\"}},\"id\":\"1063\",\"type\":\"GlyphRenderer\"},{\"attributes\":{\"source\":{\"id\":\"1142\"}},\"id\":\"1147\",\"type\":\"CDSView\"},{\"attributes\":{},\"id\":\"1091\",\"type\":\"Range1d\"},{\"attributes\":{},\"id\":\"1240\",\"type\":\"UnionRenderers\"},{\"attributes\":{},\"id\":\"1241\",\"type\":\"Selection\"},{\"attributes\":{\"fill_alpha\":{\"value\":0.5},\"fill_color\":{\"value\":\"#1f77b4\"},\"line_alpha\":{\"value\":0.5},\"line_color\":{\"value\":\"#1f77b4\"},\"size\":{\"value\":10},\"x\":{\"field\":\"Year\"},\"y\":{\"field\":\"Data\"}},\"id\":\"1053\",\"type\":\"Circle\"},{\"attributes\":{\"line_color\":\"#ff7f0e\",\"line_width\":2,\"x\":{\"field\":\"Year\"},\"y\":{\"field\":\"Data\"}},\"id\":\"1061\",\"type\":\"Line\"},{\"attributes\":{},\"id\":\"1185\",\"type\":\"BasicTicker\"},{\"attributes\":{\"children\":[[{\"id\":\"1003\"},0,0],[{\"id\":\"1086\"},0,1],[{\"id\":\"1169\"},1,0]]},\"id\":\"1291\",\"type\":\"GridBox\"},{\"attributes\":{\"line_alpha\":0.1,\"line_color\":\"#ff7f0e\",\"line_width\":2,\"x\":{\"field\":\"Year\"},\"y\":{\"field\":\"Data\"}},\"id\":\"1062\",\"type\":\"Line\"},{\"attributes\":{},\"id\":\"1042\",\"type\":\"AllLabels\"},{\"attributes\":{\"fill_alpha\":{\"value\":0.1},\"fill_color\":{\"value\":\"#ff7f0e\"},\"line_alpha\":{\"value\":0.1},\"line_color\":{\"value\":\"#ff7f0e\"},\"size\":{\"value\":10},\"x\":{\"field\":\"Year\"},\"y\":{\"field\":\"Data\"}},\"id\":\"1080\",\"type\":\"Circle\"},{\"attributes\":{\"fill_alpha\":{\"value\":0.1},\"fill_color\":{\"value\":\"#1f77b4\"},\"line_alpha\":{\"value\":0.1},\"line_color\":{\"value\":\"#1f77b4\"},\"size\":{\"value\":10},\"x\":{\"field\":\"Year\"},\"y\":{\"field\":\"Data\"}},\"id\":\"1054\",\"type\":\"Circle\"},{\"attributes\":{\"source\":{\"id\":\"1034\"}},\"id\":\"1056\",\"type\":\"CDSView\"},{\"attributes\":{\"data_source\":{\"id\":\"1034\"},\"glyph\":{\"id\":\"1053\"},\"hover_glyph\":null,\"muted_glyph\":null,\"nonselection_glyph\":{\"id\":\"1054\"},\"view\":{\"id\":\"1056\"}},\"id\":\"1055\",\"type\":\"GlyphRenderer\"},{\"attributes\":{},\"id\":\"1043\",\"type\":\"BasicTickFormatter\"},{\"attributes\":{\"callback\":null,\"renderers\":[{\"id\":\"1055\"}],\"tooltips\":[[\"(x,y)\",\"(@Year,@Data)\"]]},\"id\":\"1057\",\"type\":\"HoverTool\"},{\"attributes\":{\"label\":{\"value\":\"Prevalence WAF excluding Gambia\"},\"renderers\":[{\"id\":\"1146\"}]},\"id\":\"1160\",\"type\":\"LegendItem\"},{\"attributes\":{},\"id\":\"1045\",\"type\":\"AllLabels\"},{\"attributes\":{\"source\":{\"id\":\"1059\"}},\"id\":\"1064\",\"type\":\"CDSView\"},{\"attributes\":{},\"id\":\"1046\",\"type\":\"BasicTickFormatter\"},{\"attributes\":{},\"id\":\"1157\",\"type\":\"UnionRenderers\"},{\"attributes\":{},\"id\":\"1158\",\"type\":\"Selection\"},{\"attributes\":{},\"id\":\"1176\",\"type\":\"LinearScale\"},{\"attributes\":{\"fill_alpha\":{\"value\":0.1},\"fill_color\":{\"value\":\"#ff7f0e\"},\"line_alpha\":{\"value\":0.1},\"line_color\":{\"value\":\"#ff7f0e\"},\"size\":{\"value\":10},\"x\":{\"field\":\"Year\"},\"y\":{\"field\":\"Data\"}},\"id\":\"1246\",\"type\":\"Circle\"},{\"attributes\":{\"label\":{\"value\":\"Prevalence WAF excluding Gambia\"},\"renderers\":[{\"id\":\"1063\"}]},\"id\":\"1077\",\"type\":\"LegendItem\"},{\"attributes\":{\"data\":{\"Data\":{\"__ndarray__\":\"MzMzMzMz6z/NzMzMzMzsPw==\",\"dtype\":\"float64\",\"order\":\"little\",\"shape\":[2]},\"Year\":[2008,2014]},\"selected\":{\"id\":\"1048\"},\"selection_policy\":{\"id\":\"1047\"}},\"id\":\"1034\",\"type\":\"ColumnDataSource\"},{\"attributes\":{},\"id\":\"1093\",\"type\":\"LinearScale\"},{\"attributes\":{},\"id\":\"1074\",\"type\":\"UnionRenderers\"},{\"attributes\":{\"fill_alpha\":{\"value\":0.5},\"fill_color\":{\"value\":\"#ff7f0e\"},\"line_alpha\":{\"value\":0.5},\"line_color\":{\"value\":\"#ff7f0e\"},\"size\":{\"value\":10},\"x\":{\"field\":\"Year\"},\"y\":{\"field\":\"Data\"}},\"id\":\"1162\",\"type\":\"Circle\"},{\"attributes\":{},\"id\":\"1075\",\"type\":\"Selection\"},{\"attributes\":{\"line_color\":\"#1f77b4\",\"line_width\":2,\"x\":{\"field\":\"Year\"},\"y\":{\"field\":\"Data\"}},\"id\":\"1202\",\"type\":\"Line\"},{\"attributes\":{\"fill_alpha\":{\"value\":0.1},\"fill_color\":{\"value\":\"#ff7f0e\"},\"line_alpha\":{\"value\":0.1},\"line_color\":{\"value\":\"#ff7f0e\"},\"size\":{\"value\":10},\"x\":{\"field\":\"Year\"},\"y\":{\"field\":\"Data\"}},\"id\":\"1163\",\"type\":\"Circle\"},{\"attributes\":{\"source\":{\"id\":\"1142\"}},\"id\":\"1165\",\"type\":\"CDSView\"},{\"attributes\":{\"data_source\":{\"id\":\"1142\"},\"glyph\":{\"id\":\"1162\"},\"hover_glyph\":null,\"muted_glyph\":null,\"nonselection_glyph\":{\"id\":\"1163\"},\"view\":{\"id\":\"1165\"}},\"id\":\"1164\",\"type\":\"GlyphRenderer\"},{\"attributes\":{\"data_source\":{\"id\":\"1117\"},\"glyph\":{\"id\":\"1136\"},\"hover_glyph\":null,\"muted_glyph\":null,\"nonselection_glyph\":{\"id\":\"1137\"},\"view\":{\"id\":\"1139\"}},\"id\":\"1138\",\"type\":\"GlyphRenderer\"},{\"attributes\":{\"callback\":null,\"renderers\":[{\"id\":\"1164\"}],\"tooltips\":[[\"(x,y)\",\"(@Year,@Data)\"]]},\"id\":\"1166\",\"type\":\"HoverTool\"},{\"attributes\":{\"axis\":{\"id\":\"1180\"},\"ticker\":null},\"id\":\"1183\",\"type\":\"Grid\"},{\"attributes\":{\"fill_alpha\":{\"value\":0.1},\"fill_color\":{\"value\":\"#1f77b4\"},\"line_alpha\":{\"value\":0.1},\"line_color\":{\"value\":\"#1f77b4\"},\"size\":{\"value\":10},\"x\":{\"field\":\"Year\"},\"y\":{\"field\":\"Data\"}},\"id\":\"1137\",\"type\":\"Circle\"},{\"attributes\":{\"axis\":{\"id\":\"1184\"},\"dimension\":1,\"ticker\":null},\"id\":\"1187\",\"type\":\"Grid\"},{\"attributes\":{\"data_source\":{\"id\":\"1225\"},\"glyph\":{\"id\":\"1245\"},\"hover_glyph\":null,\"muted_glyph\":null,\"nonselection_glyph\":{\"id\":\"1246\"},\"view\":{\"id\":\"1248\"}},\"id\":\"1247\",\"type\":\"GlyphRenderer\"},{\"attributes\":{},\"id\":\"1047\",\"type\":\"UnionRenderers\"},{\"attributes\":{\"toolbar\":{\"id\":\"1292\"},\"toolbar_location\":\"above\"},\"id\":\"1293\",\"type\":\"ToolbarBox\"},{\"attributes\":{},\"id\":\"1048\",\"type\":\"Selection\"},{\"attributes\":{\"axis_label\":\"Prevalence\",\"formatter\":{\"id\":\"1212\"},\"major_label_policy\":{\"id\":\"1211\"},\"ticker\":{\"id\":\"1185\"}},\"id\":\"1184\",\"type\":\"LinearAxis\"},{\"attributes\":{\"fill_alpha\":{\"value\":0.5},\"fill_color\":{\"value\":\"#ff7f0e\"},\"line_alpha\":{\"value\":0.5},\"line_color\":{\"value\":\"#ff7f0e\"},\"size\":{\"value\":10},\"x\":{\"field\":\"Year\"},\"y\":{\"field\":\"Data\"}},\"id\":\"1079\",\"type\":\"Circle\"},{\"attributes\":{},\"id\":\"1191\",\"type\":\"ResetTool\"},{\"attributes\":{\"data_source\":{\"id\":\"1059\"},\"glyph\":{\"id\":\"1079\"},\"hover_glyph\":null,\"muted_glyph\":null,\"nonselection_glyph\":{\"id\":\"1080\"},\"view\":{\"id\":\"1082\"}},\"id\":\"1081\",\"type\":\"GlyphRenderer\"},{\"attributes\":{},\"id\":\"1015\",\"type\":\"BasicTicker\"},{\"attributes\":{\"callback\":null,\"renderers\":[{\"id\":\"1081\"}],\"tooltips\":[[\"(x,y)\",\"(@Year,@Data)\"]]},\"id\":\"1083\",\"type\":\"HoverTool\"},{\"attributes\":{\"axis\":{\"id\":\"1014\"},\"ticker\":null},\"id\":\"1017\",\"type\":\"Grid\"},{\"attributes\":{\"line_color\":\"#ff7f0e\",\"line_width\":2,\"x\":{\"field\":\"Year\"},\"y\":{\"field\":\"Data\"}},\"id\":\"1227\",\"type\":\"Line\"},{\"attributes\":{},\"id\":\"1125\",\"type\":\"AllLabels\"},{\"attributes\":{\"label\":{\"value\":\"Prevalence Gambia\"},\"renderers\":[{\"id\":\"1038\"}]},\"id\":\"1051\",\"type\":\"LegendItem\"},{\"attributes\":{\"source\":{\"id\":\"1059\"}},\"id\":\"1082\",\"type\":\"CDSView\"},{\"attributes\":{},\"id\":\"1209\",\"type\":\"BasicTickFormatter\"},{\"attributes\":{\"source\":{\"id\":\"1117\"}},\"id\":\"1139\",\"type\":\"CDSView\"},{\"attributes\":{\"axis_label\":\"Prevalence\",\"formatter\":{\"id\":\"1046\"},\"major_label_policy\":{\"id\":\"1045\"},\"ticker\":{\"id\":\"1019\"}},\"id\":\"1018\",\"type\":\"LinearAxis\"},{\"attributes\":{\"axis\":{\"id\":\"1097\"},\"ticker\":null},\"id\":\"1100\",\"type\":\"Grid\"},{\"attributes\":{\"data\":{\"Data\":{\"__ndarray__\":\"MzMzMzMz0z/Xo3A9CtfjP2ZmZmZmZu4/cT0K16Nw7T9I4XoUrkfpPx+F61G4Hu0/AAAAAAAA6D+4HoXrUbjmP/YoXI/C9eg/\",\"dtype\":\"float64\",\"order\":\"little\",\"shape\":[9]},\"Year\":[2007,2008,2009,2010,2011,2012,2013,2014,2015]},\"selected\":{\"id\":\"1158\"},\"selection_policy\":{\"id\":\"1157\"}},\"id\":\"1142\",\"type\":\"ColumnDataSource\"},{\"attributes\":{\"above\":[{\"id\":\"1251\"}],\"below\":[{\"id\":\"1180\"}],\"center\":[{\"id\":\"1183\"},{\"id\":\"1187\"},{\"id\":\"1216\"}],\"height\":400,\"left\":[{\"id\":\"1184\"}],\"renderers\":[{\"id\":\"1204\"},{\"id\":\"1221\"},{\"id\":\"1229\"},{\"id\":\"1247\"}],\"title\":{\"id\":\"1170\"},\"toolbar\":{\"id\":\"1194\"},\"toolbar_location\":null,\"width\":400,\"x_range\":{\"id\":\"1172\"},\"x_scale\":{\"id\":\"1176\"},\"y_range\":{\"id\":\"1174\"},\"y_scale\":{\"id\":\"1178\"}},\"id\":\"1169\",\"subtype\":\"Figure\",\"type\":\"Plot\"},{\"attributes\":{\"axis\":{\"id\":\"1101\"},\"dimension\":1,\"ticker\":null},\"id\":\"1104\",\"type\":\"Grid\"},{\"attributes\":{\"data_source\":{\"id\":\"1034\"},\"glyph\":{\"id\":\"1036\"},\"hover_glyph\":null,\"muted_glyph\":null,\"nonselection_glyph\":{\"id\":\"1037\"},\"view\":{\"id\":\"1039\"}},\"id\":\"1038\",\"type\":\"GlyphRenderer\"},{\"attributes\":{},\"id\":\"1025\",\"type\":\"ResetTool\"},{\"attributes\":{\"callback\":null},\"id\":\"1192\",\"type\":\"TapTool\"},{\"attributes\":{},\"id\":\"1189\",\"type\":\"WheelZoomTool\"},{\"attributes\":{\"text\":\"(2007-2015)\"},\"id\":\"1085\",\"type\":\"Title\"},{\"attributes\":{\"background_fill_alpha\":0.7,\"items\":[{\"id\":\"1051\"},{\"id\":\"1077\"}]},\"id\":\"1050\",\"type\":\"Legend\"},{\"attributes\":{\"text\":\"Sulfadoxine resistance prevalence in Gambia\"},\"id\":\"1087\",\"type\":\"Title\"},{\"attributes\":{\"end\":2019,\"start\":2001},\"id\":\"1089\",\"type\":\"Range1d\"},{\"attributes\":{\"fill_alpha\":{\"value\":0.5},\"fill_color\":{\"value\":\"#1f77b4\"},\"line_alpha\":{\"value\":0.5},\"line_color\":{\"value\":\"#1f77b4\"},\"size\":{\"value\":10},\"x\":{\"field\":\"Year\"},\"y\":{\"field\":\"Data\"}},\"id\":\"1136\",\"type\":\"Circle\"},{\"attributes\":{\"source\":{\"id\":\"1200\"}},\"id\":\"1205\",\"type\":\"CDSView\"},{\"attributes\":{\"text\":\"Chloroquine resistance prevalence in Gambia\"},\"id\":\"1170\",\"type\":\"Title\"},{\"attributes\":{},\"id\":\"1126\",\"type\":\"BasicTickFormatter\"},{\"attributes\":{\"background_fill_alpha\":0.7,\"items\":[{\"id\":\"1134\"},{\"id\":\"1160\"}]},\"id\":\"1133\",\"type\":\"Legend\"},{\"attributes\":{},\"id\":\"1019\",\"type\":\"BasicTicker\"},{\"attributes\":{\"axis\":{\"id\":\"1018\"},\"dimension\":1,\"ticker\":null},\"id\":\"1021\",\"type\":\"Grid\"},{\"attributes\":{},\"id\":\"1108\",\"type\":\"ResetTool\"},{\"attributes\":{\"text\":\"S-P resistance prevalence in Gambia\"},\"id\":\"1004\",\"type\":\"Title\"},{\"attributes\":{\"line_alpha\":0.1,\"line_color\":\"#ff7f0e\",\"line_width\":2,\"x\":{\"field\":\"Year\"},\"y\":{\"field\":\"Data\"}},\"id\":\"1228\",\"type\":\"Line\"},{\"attributes\":{\"active_drag\":{\"id\":\"1022\"},\"active_multi\":null,\"active_scroll\":{\"id\":\"1023\"},\"tools\":[{\"id\":\"1022\"},{\"id\":\"1023\"},{\"id\":\"1024\"},{\"id\":\"1025\"},{\"id\":\"1026\"},{\"id\":\"1057\"},{\"id\":\"1083\"}]},\"id\":\"1028\",\"type\":\"Toolbar\"},{\"attributes\":{},\"id\":\"1008\",\"type\":\"Range1d\"},{\"attributes\":{\"active_drag\":{\"id\":\"1188\"},\"active_multi\":null,\"active_scroll\":{\"id\":\"1189\"},\"tools\":[{\"id\":\"1188\"},{\"id\":\"1189\"},{\"id\":\"1190\"},{\"id\":\"1191\"},{\"id\":\"1192\"},{\"id\":\"1223\"},{\"id\":\"1249\"}]},\"id\":\"1194\",\"type\":\"Toolbar\"},{\"attributes\":{\"end\":2019,\"start\":2001},\"id\":\"1006\",\"type\":\"Range1d\"},{\"attributes\":{},\"id\":\"1106\",\"type\":\"WheelZoomTool\"},{\"attributes\":{},\"id\":\"1128\",\"type\":\"AllLabels\"},{\"attributes\":{\"label\":{\"value\":\"Prevalence Gambia\"},\"renderers\":[{\"id\":\"1204\"}]},\"id\":\"1217\",\"type\":\"LegendItem\"},{\"attributes\":{},\"id\":\"1188\",\"type\":\"PanTool\"},{\"attributes\":{\"data_source\":{\"id\":\"1117\"},\"glyph\":{\"id\":\"1119\"},\"hover_glyph\":null,\"muted_glyph\":null,\"nonselection_glyph\":{\"id\":\"1120\"},\"view\":{\"id\":\"1122\"}},\"id\":\"1121\",\"type\":\"GlyphRenderer\"},{\"attributes\":{},\"id\":\"1129\",\"type\":\"BasicTickFormatter\"},{\"attributes\":{},\"id\":\"1012\",\"type\":\"LinearScale\"},{\"attributes\":{\"text\":\"(2007-2015)\"},\"id\":\"1168\",\"type\":\"Title\"},{\"attributes\":{\"above\":[{\"id\":\"1168\"}],\"below\":[{\"id\":\"1097\"}],\"center\":[{\"id\":\"1100\"},{\"id\":\"1104\"},{\"id\":\"1133\"}],\"height\":400,\"left\":[{\"id\":\"1101\"}],\"renderers\":[{\"id\":\"1121\"},{\"id\":\"1138\"},{\"id\":\"1146\"},{\"id\":\"1164\"}],\"title\":{\"id\":\"1087\"},\"toolbar\":{\"id\":\"1111\"},\"toolbar_location\":null,\"width\":400,\"x_range\":{\"id\":\"1089\"},\"x_scale\":{\"id\":\"1093\"},\"y_range\":{\"id\":\"1091\"},\"y_scale\":{\"id\":\"1095\"}},\"id\":\"1086\",\"subtype\":\"Figure\",\"type\":\"Plot\"},{\"attributes\":{\"axis_label\":\"Year\",\"formatter\":{\"id\":\"1043\"},\"major_label_policy\":{\"id\":\"1042\"},\"ticker\":{\"id\":\"1015\"}},\"id\":\"1014\",\"type\":\"LinearAxis\"},{\"attributes\":{\"line_alpha\":0.1,\"line_color\":\"#1f77b4\",\"line_width\":2,\"x\":{\"field\":\"Year\"},\"y\":{\"field\":\"Data\"}},\"id\":\"1203\",\"type\":\"Line\"},{\"attributes\":{},\"id\":\"1213\",\"type\":\"UnionRenderers\"},{\"attributes\":{},\"id\":\"1102\",\"type\":\"BasicTicker\"},{\"attributes\":{\"active_drag\":{\"id\":\"1105\"},\"active_multi\":null,\"active_scroll\":{\"id\":\"1106\"},\"tools\":[{\"id\":\"1105\"},{\"id\":\"1106\"},{\"id\":\"1107\"},{\"id\":\"1108\"},{\"id\":\"1109\"},{\"id\":\"1140\"},{\"id\":\"1166\"}]},\"id\":\"1111\",\"type\":\"Toolbar\"},{\"attributes\":{\"bottom_units\":\"screen\",\"fill_alpha\":0.5,\"fill_color\":\"lightgrey\",\"left_units\":\"screen\",\"level\":\"overlay\",\"line_alpha\":1.0,\"line_color\":\"black\",\"line_dash\":[4,4],\"line_width\":2,\"right_units\":\"screen\",\"syncable\":false,\"top_units\":\"screen\"},\"id\":\"1193\",\"type\":\"BoxAnnotation\"},{\"attributes\":{\"overlay\":{\"id\":\"1193\"}},\"id\":\"1190\",\"type\":\"BoxZoomTool\"},{\"attributes\":{},\"id\":\"1178\",\"type\":\"LinearScale\"},{\"attributes\":{},\"id\":\"1214\",\"type\":\"Selection\"},{\"attributes\":{\"line_alpha\":0.1,\"line_color\":\"#ff7f0e\",\"line_width\":2,\"x\":{\"field\":\"Year\"},\"y\":{\"field\":\"Data\"}},\"id\":\"1145\",\"type\":\"Line\"},{\"attributes\":{\"data_source\":{\"id\":\"1225\"},\"glyph\":{\"id\":\"1227\"},\"hover_glyph\":null,\"muted_glyph\":null,\"nonselection_glyph\":{\"id\":\"1228\"},\"view\":{\"id\":\"1230\"}},\"id\":\"1229\",\"type\":\"GlyphRenderer\"},{\"attributes\":{\"end\":2019,\"start\":2001},\"id\":\"1172\",\"type\":\"Range1d\"},{\"attributes\":{},\"id\":\"1105\",\"type\":\"PanTool\"},{\"attributes\":{\"data_source\":{\"id\":\"1200\"},\"glyph\":{\"id\":\"1202\"},\"hover_glyph\":null,\"muted_glyph\":null,\"nonselection_glyph\":{\"id\":\"1203\"},\"view\":{\"id\":\"1205\"}},\"id\":\"1204\",\"type\":\"GlyphRenderer\"},{\"attributes\":{\"overlay\":{\"id\":\"1110\"}},\"id\":\"1107\",\"type\":\"BoxZoomTool\"},{\"attributes\":{},\"id\":\"1208\",\"type\":\"AllLabels\"},{\"attributes\":{\"callback\":null},\"id\":\"1109\",\"type\":\"TapTool\"},{\"attributes\":{\"data\":{\"Data\":{\"__ndarray__\":\"hetRuB6F2z9I4XoUrkfRP4XrUbgeheM/4XoUrkfh4j9SuB6F61HoP+xRuB6F6+k/9ihcj8L16D9SuB6F61HoP1K4HoXrUeg/\",\"dtype\":\"float64\",\"order\":\"little\",\"shape\":[9]},\"Year\":[2007,2008,2009,2010,2011,2012,2013,2014,2015]},\"selected\":{\"id\":\"1075\"},\"selection_policy\":{\"id\":\"1074\"}},\"id\":\"1059\",\"type\":\"ColumnDataSource\"},{\"attributes\":{\"line_alpha\":0.1,\"line_color\":\"#1f77b4\",\"line_width\":2,\"x\":{\"field\":\"Year\"},\"y\":{\"field\":\"Data\"}},\"id\":\"1120\",\"type\":\"Line\"},{\"attributes\":{\"axis_label\":\"Prevalence\",\"formatter\":{\"id\":\"1129\"},\"major_label_policy\":{\"id\":\"1128\"},\"ticker\":{\"id\":\"1102\"}},\"id\":\"1101\",\"type\":\"LinearAxis\"},{\"attributes\":{},\"id\":\"1010\",\"type\":\"LinearScale\"},{\"attributes\":{\"line_alpha\":0.1,\"line_color\":\"#1f77b4\",\"line_width\":2,\"x\":{\"field\":\"Year\"},\"y\":{\"field\":\"Data\"}},\"id\":\"1037\",\"type\":\"Line\"},{\"attributes\":{\"data\":{\"Data\":{\"__ndarray__\":\"XI/C9Shc5z8UrkfhehTmPw==\",\"dtype\":\"float64\",\"order\":\"little\",\"shape\":[2]},\"Year\":[2008,2014]},\"selected\":{\"id\":\"1214\"},\"selection_policy\":{\"id\":\"1213\"}},\"id\":\"1200\",\"type\":\"ColumnDataSource\"},{\"attributes\":{\"axis_label\":\"Year\",\"formatter\":{\"id\":\"1209\"},\"major_label_policy\":{\"id\":\"1208\"},\"ticker\":{\"id\":\"1181\"}},\"id\":\"1180\",\"type\":\"LinearAxis\"},{\"attributes\":{},\"id\":\"1174\",\"type\":\"Range1d\"},{\"attributes\":{\"bottom_units\":\"screen\",\"fill_alpha\":0.5,\"fill_color\":\"lightgrey\",\"left_units\":\"screen\",\"level\":\"overlay\",\"line_alpha\":1.0,\"line_color\":\"black\",\"line_dash\":[4,4],\"line_width\":2,\"right_units\":\"screen\",\"syncable\":false,\"top_units\":\"screen\"},\"id\":\"1110\",\"type\":\"BoxAnnotation\"},{\"attributes\":{},\"id\":\"1181\",\"type\":\"BasicTicker\"},{\"attributes\":{},\"id\":\"1023\",\"type\":\"WheelZoomTool\"},{\"attributes\":{\"axis_label\":\"Year\",\"formatter\":{\"id\":\"1126\"},\"major_label_policy\":{\"id\":\"1125\"},\"ticker\":{\"id\":\"1098\"}},\"id\":\"1097\",\"type\":\"LinearAxis\"},{\"attributes\":{\"line_color\":\"#ff7f0e\",\"line_width\":2,\"x\":{\"field\":\"Year\"},\"y\":{\"field\":\"Data\"}},\"id\":\"1144\",\"type\":\"Line\"},{\"attributes\":{\"fill_alpha\":{\"value\":0.5},\"fill_color\":{\"value\":\"#1f77b4\"},\"line_alpha\":{\"value\":0.5},\"line_color\":{\"value\":\"#1f77b4\"},\"size\":{\"value\":10},\"x\":{\"field\":\"Year\"},\"y\":{\"field\":\"Data\"}},\"id\":\"1219\",\"type\":\"Circle\"},{\"attributes\":{\"overlay\":{\"id\":\"1027\"}},\"id\":\"1024\",\"type\":\"BoxZoomTool\"},{\"attributes\":{\"background_fill_alpha\":0.7,\"items\":[{\"id\":\"1217\"},{\"id\":\"1243\"}]},\"id\":\"1216\",\"type\":\"Legend\"},{\"attributes\":{\"source\":{\"id\":\"1117\"}},\"id\":\"1122\",\"type\":\"CDSView\"},{\"attributes\":{\"line_color\":\"#1f77b4\",\"line_width\":2,\"x\":{\"field\":\"Year\"},\"y\":{\"field\":\"Data\"}},\"id\":\"1119\",\"type\":\"Line\"},{\"attributes\":{\"source\":{\"id\":\"1225\"}},\"id\":\"1248\",\"type\":\"CDSView\"},{\"attributes\":{\"callback\":null,\"renderers\":[{\"id\":\"1247\"}],\"tooltips\":[[\"(x,y)\",\"(@Year,@Data)\"]]},\"id\":\"1249\",\"type\":\"HoverTool\"},{\"attributes\":{\"fill_alpha\":{\"value\":0.1},\"fill_color\":{\"value\":\"#1f77b4\"},\"line_alpha\":{\"value\":0.1},\"line_color\":{\"value\":\"#1f77b4\"},\"size\":{\"value\":10},\"x\":{\"field\":\"Year\"},\"y\":{\"field\":\"Data\"}},\"id\":\"1220\",\"type\":\"Circle\"},{\"attributes\":{\"source\":{\"id\":\"1200\"}},\"id\":\"1222\",\"type\":\"CDSView\"},{\"attributes\":{\"data_source\":{\"id\":\"1200\"},\"glyph\":{\"id\":\"1219\"},\"hover_glyph\":null,\"muted_glyph\":null,\"nonselection_glyph\":{\"id\":\"1220\"},\"view\":{\"id\":\"1222\"}},\"id\":\"1221\",\"type\":\"GlyphRenderer\"},{\"attributes\":{\"callback\":null,\"renderers\":[{\"id\":\"1221\"}],\"tooltips\":[[\"(x,y)\",\"(@Year,@Data)\"]]},\"id\":\"1223\",\"type\":\"HoverTool\"},{\"attributes\":{\"source\":{\"id\":\"1034\"}},\"id\":\"1039\",\"type\":\"CDSView\"},{\"attributes\":{\"data\":{\"Data\":{\"__ndarray__\":\"pHA9Ctej6D/NzMzMzMzkPw==\",\"dtype\":\"float64\",\"order\":\"little\",\"shape\":[2]},\"Year\":[2008,2014]},\"selected\":{\"id\":\"1131\"},\"selection_policy\":{\"id\":\"1130\"}},\"id\":\"1117\",\"type\":\"ColumnDataSource\"},{\"attributes\":{\"fill_alpha\":{\"value\":0.5},\"fill_color\":{\"value\":\"#ff7f0e\"},\"line_alpha\":{\"value\":0.5},\"line_color\":{\"value\":\"#ff7f0e\"},\"size\":{\"value\":10},\"x\":{\"field\":\"Year\"},\"y\":{\"field\":\"Data\"}},\"id\":\"1245\",\"type\":\"Circle\"},{\"attributes\":{},\"id\":\"1211\",\"type\":\"AllLabels\"},{\"attributes\":{},\"id\":\"1212\",\"type\":\"BasicTickFormatter\"},{\"attributes\":{\"source\":{\"id\":\"1225\"}},\"id\":\"1230\",\"type\":\"CDSView\"},{\"attributes\":{},\"id\":\"1130\",\"type\":\"UnionRenderers\"},{\"attributes\":{\"above\":[{\"id\":\"1085\"}],\"below\":[{\"id\":\"1014\"}],\"center\":[{\"id\":\"1017\"},{\"id\":\"1021\"},{\"id\":\"1050\"}],\"height\":400,\"left\":[{\"id\":\"1018\"}],\"renderers\":[{\"id\":\"1038\"},{\"id\":\"1055\"},{\"id\":\"1063\"},{\"id\":\"1081\"}],\"title\":{\"id\":\"1004\"},\"toolbar\":{\"id\":\"1028\"},\"toolbar_location\":null,\"width\":400,\"x_range\":{\"id\":\"1006\"},\"x_scale\":{\"id\":\"1010\"},\"y_range\":{\"id\":\"1008\"},\"y_scale\":{\"id\":\"1012\"}},\"id\":\"1003\",\"subtype\":\"Figure\",\"type\":\"Plot\"},{\"attributes\":{\"toolbars\":[{\"id\":\"1028\"},{\"id\":\"1111\"},{\"id\":\"1194\"}],\"tools\":[{\"id\":\"1022\"},{\"id\":\"1023\"},{\"id\":\"1024\"},{\"id\":\"1025\"},{\"id\":\"1026\"},{\"id\":\"1057\"},{\"id\":\"1083\"},{\"id\":\"1105\"},{\"id\":\"1106\"},{\"id\":\"1107\"},{\"id\":\"1108\"},{\"id\":\"1109\"},{\"id\":\"1140\"},{\"id\":\"1166\"},{\"id\":\"1188\"},{\"id\":\"1189\"},{\"id\":\"1190\"},{\"id\":\"1191\"},{\"id\":\"1192\"},{\"id\":\"1223\"},{\"id\":\"1249\"}]},\"id\":\"1292\",\"type\":\"ProxyToolbar\"},{\"attributes\":{},\"id\":\"1131\",\"type\":\"Selection\"},{\"attributes\":{\"label\":{\"value\":\"Prevalence WAF excluding Gambia\"},\"renderers\":[{\"id\":\"1229\"}]},\"id\":\"1243\",\"type\":\"LegendItem\"},{\"attributes\":{\"callback\":null},\"id\":\"1026\",\"type\":\"TapTool\"},{\"attributes\":{},\"id\":\"1022\",\"type\":\"PanTool\"},{\"attributes\":{},\"id\":\"1098\",\"type\":\"BasicTicker\"},{\"attributes\":{\"bottom_units\":\"screen\",\"fill_alpha\":0.5,\"fill_color\":\"lightgrey\",\"left_units\":\"screen\",\"level\":\"overlay\",\"line_alpha\":1.0,\"line_color\":\"black\",\"line_dash\":[4,4],\"line_width\":2,\"right_units\":\"screen\",\"syncable\":false,\"top_units\":\"screen\"},\"id\":\"1027\",\"type\":\"BoxAnnotation\"},{\"attributes\":{\"label\":{\"value\":\"Prevalence Gambia\"},\"renderers\":[{\"id\":\"1121\"}]},\"id\":\"1134\",\"type\":\"LegendItem\"},{\"attributes\":{},\"id\":\"1095\",\"type\":\"LinearScale\"},{\"attributes\":{\"line_color\":\"#1f77b4\",\"line_width\":2,\"x\":{\"field\":\"Year\"},\"y\":{\"field\":\"Data\"}},\"id\":\"1036\",\"type\":\"Line\"},{\"attributes\":{\"data_source\":{\"id\":\"1142\"},\"glyph\":{\"id\":\"1144\"},\"hover_glyph\":null,\"muted_glyph\":null,\"nonselection_glyph\":{\"id\":\"1145\"},\"view\":{\"id\":\"1147\"}},\"id\":\"1146\",\"type\":\"GlyphRenderer\"},{\"attributes\":{\"text\":\"(2007-2015)\"},\"id\":\"1251\",\"type\":\"Title\"}],\"root_ids\":[\"1294\"]},\"title\":\"Bokeh Application\",\"version\":\"2.3.3\"}};\n",
       "  var render_items = [{\"docid\":\"d6f3ca3c-7bb2-4ce0-8f60-e9ef22213939\",\"root_ids\":[\"1294\"],\"roots\":{\"1294\":\"3611562e-a5d4-4cac-b7f5-4dc128dcadb8\"}}];\n",
       "  root.Bokeh.embed.embed_items_notebook(docs_json, render_items);\n",
       "\n",
       "  }\n",
       "  if (root.Bokeh !== undefined) {\n",
       "    embed_document(root);\n",
       "  } else {\n",
       "    var attempts = 0;\n",
       "    var timer = setInterval(function(root) {\n",
       "      if (root.Bokeh !== undefined) {\n",
       "        clearInterval(timer);\n",
       "        embed_document(root);\n",
       "      } else {\n",
       "        attempts++;\n",
       "        if (attempts > 100) {\n",
       "          clearInterval(timer);\n",
       "          console.log(\"Bokeh: ERROR: Unable to run BokehJS code because BokehJS library is missing\");\n",
       "        }\n",
       "      }\n",
       "    }, 10, root)\n",
       "  }\n",
       "})(window);"
      ],
      "application/vnd.bokehjs_exec.v0+json": ""
     },
     "metadata": {
      "application/vnd.bokehjs_exec.v0+json": {
       "id": "1294"
      }
     },
     "output_type": "display_data"
    }
   ],
   "source": [
    "plot_dr_prevalence(pf6plus, drugs=['S-P','Sulfadoxine','Chloroquine','Artemisinin','DHA-PPQ','Piperaquine'], country = 'Gambia', population = 'WAF')"
   ]
  },
  {
   "cell_type": "markdown",
   "metadata": {},
   "source": [
    "The drug resistance pattern looks interesting for S-P, how would this look for another country within the same population?"
   ]
  },
  {
   "cell_type": "code",
   "execution_count": 32,
   "metadata": {
    "colab": {
     "base_uri": "https://localhost:8080/",
     "height": 447
    },
    "id": "NJFAstQoZaUY",
    "outputId": "666c951d-bdcc-4467-bea6-19d2e1a49792"
   },
   "outputs": [
    {
     "data": {
      "text/html": [
       "\n",
       "\n",
       "\n",
       "\n",
       "\n",
       "\n",
       "  <div class=\"bk-root\" id=\"1a0efc86-6d81-49fe-8c71-3834d0f0623b\" data-root-id=\"1610\"></div>\n"
      ]
     },
     "metadata": {},
     "output_type": "display_data"
    },
    {
     "data": {
      "application/javascript": [
       "(function(root) {\n",
       "  function embed_document(root) {\n",
       "    \n",
       "  var docs_json = {\"e03ff16d-95ce-49d9-addc-ab8de7b47a77\":{\"defs\":[],\"roots\":{\"references\":[{\"attributes\":{\"children\":[{\"id\":\"1609\"},{\"id\":\"1607\"}]},\"id\":\"1610\",\"type\":\"Column\"},{\"attributes\":{\"data\":{\"Data\":{\"__ndarray__\":\"hetRuB6F2z/Xo3A9CtfjP0jhehSuR+E/\",\"dtype\":\"float64\",\"order\":\"little\",\"shape\":[3]},\"Year\":[2007,2013,2014]},\"selected\":{\"id\":\"1556\"},\"selection_policy\":{\"id\":\"1555\"}},\"id\":\"1542\",\"type\":\"ColumnDataSource\"},{\"attributes\":{\"data\":{\"Data\":{\"__ndarray__\":\"zczMzMzM5D+F61G4HoXjP+F6FK5H4eI/UrgehetR6D+amZmZmZnpPzMzMzMzM+s/j8L1KFyP6j9SuB6F61HoPw==\",\"dtype\":\"float64\",\"order\":\"little\",\"shape\":[8]},\"Year\":[2008,2009,2010,2011,2012,2013,2014,2015]},\"selected\":{\"id\":\"1583\"},\"selection_policy\":{\"id\":\"1582\"}},\"id\":\"1567\",\"type\":\"ColumnDataSource\"},{\"attributes\":{\"source\":{\"id\":\"1567\"}},\"id\":\"1572\",\"type\":\"CDSView\"},{\"attributes\":{\"active_drag\":{\"id\":\"1530\"},\"active_multi\":null,\"active_scroll\":{\"id\":\"1531\"},\"tools\":[{\"id\":\"1530\"},{\"id\":\"1531\"},{\"id\":\"1532\"},{\"id\":\"1533\"},{\"id\":\"1534\"},{\"id\":\"1565\"},{\"id\":\"1591\"}]},\"id\":\"1536\",\"type\":\"Toolbar\"},{\"attributes\":{\"axis\":{\"id\":\"1526\"},\"dimension\":1,\"ticker\":null},\"id\":\"1529\",\"type\":\"Grid\"},{\"attributes\":{},\"id\":\"1551\",\"type\":\"BasicTickFormatter\"},{\"attributes\":{\"axis_label\":\"Year\",\"formatter\":{\"id\":\"1551\"},\"major_label_policy\":{\"id\":\"1550\"},\"ticker\":{\"id\":\"1523\"}},\"id\":\"1522\",\"type\":\"LinearAxis\"},{\"attributes\":{},\"id\":\"1556\",\"type\":\"Selection\"},{\"attributes\":{\"data_source\":{\"id\":\"1542\"},\"glyph\":{\"id\":\"1544\"},\"hover_glyph\":null,\"muted_glyph\":null,\"nonselection_glyph\":{\"id\":\"1545\"},\"view\":{\"id\":\"1547\"}},\"id\":\"1546\",\"type\":\"GlyphRenderer\"},{\"attributes\":{\"children\":[[{\"id\":\"1511\"},0,0]]},\"id\":\"1607\",\"type\":\"GridBox\"},{\"attributes\":{\"above\":[{\"id\":\"1593\"}],\"below\":[{\"id\":\"1522\"}],\"center\":[{\"id\":\"1525\"},{\"id\":\"1529\"},{\"id\":\"1558\"}],\"height\":400,\"left\":[{\"id\":\"1526\"}],\"renderers\":[{\"id\":\"1546\"},{\"id\":\"1563\"},{\"id\":\"1571\"},{\"id\":\"1589\"}],\"title\":{\"id\":\"1512\"},\"toolbar\":{\"id\":\"1536\"},\"toolbar_location\":null,\"width\":400,\"x_range\":{\"id\":\"1514\"},\"x_scale\":{\"id\":\"1518\"},\"y_range\":{\"id\":\"1516\"},\"y_scale\":{\"id\":\"1520\"}},\"id\":\"1511\",\"subtype\":\"Figure\",\"type\":\"Plot\"},{\"attributes\":{\"callback\":null,\"renderers\":[{\"id\":\"1563\"}],\"tooltips\":[[\"(x,y)\",\"(@Year,@Data)\"]]},\"id\":\"1565\",\"type\":\"HoverTool\"},{\"attributes\":{\"data_source\":{\"id\":\"1542\"},\"glyph\":{\"id\":\"1561\"},\"hover_glyph\":null,\"muted_glyph\":null,\"nonselection_glyph\":{\"id\":\"1562\"},\"view\":{\"id\":\"1564\"}},\"id\":\"1563\",\"type\":\"GlyphRenderer\"},{\"attributes\":{},\"id\":\"1550\",\"type\":\"AllLabels\"},{\"attributes\":{\"line_color\":\"#1f77b4\",\"line_width\":2,\"x\":{\"field\":\"Year\"},\"y\":{\"field\":\"Data\"}},\"id\":\"1544\",\"type\":\"Line\"},{\"attributes\":{\"source\":{\"id\":\"1542\"}},\"id\":\"1564\",\"type\":\"CDSView\"},{\"attributes\":{\"label\":{\"value\":\"Prevalence Mali\"},\"renderers\":[{\"id\":\"1546\"}]},\"id\":\"1559\",\"type\":\"LegendItem\"},{\"attributes\":{\"source\":{\"id\":\"1542\"}},\"id\":\"1547\",\"type\":\"CDSView\"},{\"attributes\":{\"fill_alpha\":{\"value\":0.1},\"fill_color\":{\"value\":\"#1f77b4\"},\"line_alpha\":{\"value\":0.1},\"line_color\":{\"value\":\"#1f77b4\"},\"size\":{\"value\":10},\"x\":{\"field\":\"Year\"},\"y\":{\"field\":\"Data\"}},\"id\":\"1562\",\"type\":\"Circle\"},{\"attributes\":{\"line_alpha\":0.1,\"line_color\":\"#ff7f0e\",\"line_width\":2,\"x\":{\"field\":\"Year\"},\"y\":{\"field\":\"Data\"}},\"id\":\"1570\",\"type\":\"Line\"},{\"attributes\":{\"line_color\":\"#ff7f0e\",\"line_width\":2,\"x\":{\"field\":\"Year\"},\"y\":{\"field\":\"Data\"}},\"id\":\"1569\",\"type\":\"Line\"},{\"attributes\":{\"overlay\":{\"id\":\"1535\"}},\"id\":\"1532\",\"type\":\"BoxZoomTool\"},{\"attributes\":{\"fill_alpha\":{\"value\":0.5},\"fill_color\":{\"value\":\"#ff7f0e\"},\"line_alpha\":{\"value\":0.5},\"line_color\":{\"value\":\"#ff7f0e\"},\"size\":{\"value\":10},\"x\":{\"field\":\"Year\"},\"y\":{\"field\":\"Data\"}},\"id\":\"1587\",\"type\":\"Circle\"},{\"attributes\":{\"toolbars\":[{\"id\":\"1536\"}],\"tools\":[{\"id\":\"1530\"},{\"id\":\"1531\"},{\"id\":\"1532\"},{\"id\":\"1533\"},{\"id\":\"1534\"},{\"id\":\"1565\"},{\"id\":\"1591\"}]},\"id\":\"1608\",\"type\":\"ProxyToolbar\"},{\"attributes\":{\"end\":2019,\"start\":2001},\"id\":\"1514\",\"type\":\"Range1d\"},{\"attributes\":{\"data_source\":{\"id\":\"1567\"},\"glyph\":{\"id\":\"1569\"},\"hover_glyph\":null,\"muted_glyph\":null,\"nonselection_glyph\":{\"id\":\"1570\"},\"view\":{\"id\":\"1572\"}},\"id\":\"1571\",\"type\":\"GlyphRenderer\"},{\"attributes\":{},\"id\":\"1520\",\"type\":\"LinearScale\"},{\"attributes\":{\"fill_alpha\":{\"value\":0.5},\"fill_color\":{\"value\":\"#1f77b4\"},\"line_alpha\":{\"value\":0.5},\"line_color\":{\"value\":\"#1f77b4\"},\"size\":{\"value\":10},\"x\":{\"field\":\"Year\"},\"y\":{\"field\":\"Data\"}},\"id\":\"1561\",\"type\":\"Circle\"},{\"attributes\":{},\"id\":\"1554\",\"type\":\"BasicTickFormatter\"},{\"attributes\":{\"text\":\"S-P resistance prevalence in Mali\"},\"id\":\"1512\",\"type\":\"Title\"},{\"attributes\":{\"label\":{\"value\":\"Prevalence WAF excluding Mali\"},\"renderers\":[{\"id\":\"1571\"}]},\"id\":\"1585\",\"type\":\"LegendItem\"},{\"attributes\":{\"line_alpha\":0.1,\"line_color\":\"#1f77b4\",\"line_width\":2,\"x\":{\"field\":\"Year\"},\"y\":{\"field\":\"Data\"}},\"id\":\"1545\",\"type\":\"Line\"},{\"attributes\":{\"axis_label\":\"Prevalence\",\"formatter\":{\"id\":\"1554\"},\"major_label_policy\":{\"id\":\"1553\"},\"ticker\":{\"id\":\"1527\"}},\"id\":\"1526\",\"type\":\"LinearAxis\"},{\"attributes\":{\"bottom_units\":\"screen\",\"fill_alpha\":0.5,\"fill_color\":\"lightgrey\",\"left_units\":\"screen\",\"level\":\"overlay\",\"line_alpha\":1.0,\"line_color\":\"black\",\"line_dash\":[4,4],\"line_width\":2,\"right_units\":\"screen\",\"syncable\":false,\"top_units\":\"screen\"},\"id\":\"1535\",\"type\":\"BoxAnnotation\"},{\"attributes\":{\"text\":\"(2007-2015)\"},\"id\":\"1593\",\"type\":\"Title\"},{\"attributes\":{},\"id\":\"1531\",\"type\":\"WheelZoomTool\"},{\"attributes\":{\"callback\":null,\"renderers\":[{\"id\":\"1589\"}],\"tooltips\":[[\"(x,y)\",\"(@Year,@Data)\"]]},\"id\":\"1591\",\"type\":\"HoverTool\"},{\"attributes\":{},\"id\":\"1555\",\"type\":\"UnionRenderers\"},{\"attributes\":{\"data_source\":{\"id\":\"1567\"},\"glyph\":{\"id\":\"1587\"},\"hover_glyph\":null,\"muted_glyph\":null,\"nonselection_glyph\":{\"id\":\"1588\"},\"view\":{\"id\":\"1590\"}},\"id\":\"1589\",\"type\":\"GlyphRenderer\"},{\"attributes\":{},\"id\":\"1530\",\"type\":\"PanTool\"},{\"attributes\":{\"toolbar\":{\"id\":\"1608\"},\"toolbar_location\":\"above\"},\"id\":\"1609\",\"type\":\"ToolbarBox\"},{\"attributes\":{},\"id\":\"1516\",\"type\":\"Range1d\"},{\"attributes\":{\"source\":{\"id\":\"1567\"}},\"id\":\"1590\",\"type\":\"CDSView\"},{\"attributes\":{\"fill_alpha\":{\"value\":0.1},\"fill_color\":{\"value\":\"#ff7f0e\"},\"line_alpha\":{\"value\":0.1},\"line_color\":{\"value\":\"#ff7f0e\"},\"size\":{\"value\":10},\"x\":{\"field\":\"Year\"},\"y\":{\"field\":\"Data\"}},\"id\":\"1588\",\"type\":\"Circle\"},{\"attributes\":{},\"id\":\"1582\",\"type\":\"UnionRenderers\"},{\"attributes\":{\"axis\":{\"id\":\"1522\"},\"ticker\":null},\"id\":\"1525\",\"type\":\"Grid\"},{\"attributes\":{},\"id\":\"1527\",\"type\":\"BasicTicker\"},{\"attributes\":{},\"id\":\"1523\",\"type\":\"BasicTicker\"},{\"attributes\":{\"callback\":null},\"id\":\"1534\",\"type\":\"TapTool\"},{\"attributes\":{\"background_fill_alpha\":0.7,\"items\":[{\"id\":\"1559\"},{\"id\":\"1585\"}]},\"id\":\"1558\",\"type\":\"Legend\"},{\"attributes\":{},\"id\":\"1553\",\"type\":\"AllLabels\"},{\"attributes\":{},\"id\":\"1533\",\"type\":\"ResetTool\"},{\"attributes\":{},\"id\":\"1518\",\"type\":\"LinearScale\"},{\"attributes\":{},\"id\":\"1583\",\"type\":\"Selection\"}],\"root_ids\":[\"1610\"]},\"title\":\"Bokeh Application\",\"version\":\"2.3.3\"}};\n",
       "  var render_items = [{\"docid\":\"e03ff16d-95ce-49d9-addc-ab8de7b47a77\",\"root_ids\":[\"1610\"],\"roots\":{\"1610\":\"1a0efc86-6d81-49fe-8c71-3834d0f0623b\"}}];\n",
       "  root.Bokeh.embed.embed_items_notebook(docs_json, render_items);\n",
       "\n",
       "  }\n",
       "  if (root.Bokeh !== undefined) {\n",
       "    embed_document(root);\n",
       "  } else {\n",
       "    var attempts = 0;\n",
       "    var timer = setInterval(function(root) {\n",
       "      if (root.Bokeh !== undefined) {\n",
       "        clearInterval(timer);\n",
       "        embed_document(root);\n",
       "      } else {\n",
       "        attempts++;\n",
       "        if (attempts > 100) {\n",
       "          clearInterval(timer);\n",
       "          console.log(\"Bokeh: ERROR: Unable to run BokehJS code because BokehJS library is missing\");\n",
       "        }\n",
       "      }\n",
       "    }, 10, root)\n",
       "  }\n",
       "})(window);"
      ],
      "application/vnd.bokehjs_exec.v0+json": ""
     },
     "metadata": {
      "application/vnd.bokehjs_exec.v0+json": {
       "id": "1610"
      }
     },
     "output_type": "display_data"
    }
   ],
   "source": [
    "plot_dr_prevalence(pf6plus, drugs=['S-P'], country = 'Mali')"
   ]
  },
  {
   "cell_type": "markdown",
   "metadata": {
    "id": "6QTu5VhHc7u8"
   },
   "source": [
    "### Plot most common haplotypes per population/country"
   ]
  },
  {
   "cell_type": "markdown",
   "metadata": {},
   "source": [
    "Drug resistant haplotypes allow us to visualise key positions in the genome together and look out for changes within these structures. By plotting the top haplotypes in a region, we can spot emerging trends."
   ]
  },
  {
   "cell_type": "code",
   "execution_count": 33,
   "metadata": {
    "colab": {
     "base_uri": "https://localhost:8080/"
    },
    "id": "u57FbKMBP5LQ",
    "outputId": "6a88e9ae-6c24-4b61-e7c1-d43201b64794"
   },
   "outputs": [
    {
     "name": "stdout",
     "output_type": "stream",
     "text": [
      "Help on function plot_haplotype_frequency in module data_analysis.plot_haplotype_frequency:\n",
      "\n",
      "plot_haplotype_frequency(data, gene, num_top_haplotypes=5, threshold=25, countries=None, populations=None, years=None, bin=False)\n",
      "    Plot the top n haplotypes on a specife gene per country (or) population per year\n",
      "    \n",
      "    Parameters:\n",
      "      - gene: Any of the genes in the Pf6+ dataframe ['PfCRT', 'Kelch', 'PfDHFR', 'PfEXO', 'PGB', 'Plasmepsin2/3', 'PfDHPS', 'PfMDR1']\n",
      "      - country: Any of the countries in the Pf6+ dataframe (if specified, population value is not used) ['Bangladesh', 'Benin', 'Burkina Faso', 'Cambodia', 'Cameroon',\n",
      "       'Colombia', \"Côte d'Ivoire\", 'Democratic Republic of the Congo',\n",
      "       'Ethiopia', 'Gambia', 'Ghana', 'Guinea', 'India', 'Indonesia',\n",
      "       'Kenya', 'Laos', 'Madagascar', 'Malawi', 'Mali', 'Mauritania',\n",
      "       'Mozambique', 'Myanmar', 'Nigeria', 'Papua New Guinea', 'Peru',\n",
      "       'Senegal', 'Tanzania', 'Thailand', 'Uganda', 'Vietnam']\n",
      "      - population: Any of the populations in the Pf6+ dataframe ['CAF', 'EAF', 'ESEA', 'OCE', 'SAM', 'SAS', 'WAF', 'WSEA']\n",
      "      - year: Any/list of the years in the Pf6+ dataframe [2001, 2002, 2003, 2004, 2005, 2006, 2007, 2008, 2009, 2010, 2011, 2012, 2013, 2014, 2015, 2016, 2017, 2018, 2019]\n",
      "      - bin: If True, all the years between the specified values will be used. If False, individual years are used.\n",
      "      - threshold: To increase confidence on disperse data, only use country (or) population/year combinations with n_samples>threshold (default=25)\n",
      "    \n",
      "    Returns:\n",
      "      A series of plots (one per gene) showing the frequency of the top n haplotypes the drug/country/year (or) drug/country/year combination provided. Haplotypes outside the top n, are showed as part of the `Other` category.\n",
      "\n"
     ]
    }
   ],
   "source": [
    "help(plot_haplotype_frequency)"
   ]
  },
  {
   "cell_type": "code",
   "execution_count": 34,
   "metadata": {
    "colab": {
     "base_uri": "https://localhost:8080/",
     "height": 1000
    },
    "id": "UoopMYI8QGje",
    "outputId": "cf3467e7-7c7b-430e-89fc-65d97314917f"
   },
   "outputs": [
    {
     "data": {
      "text/html": [
       "\n",
       "\n",
       "\n",
       "\n",
       "\n",
       "\n",
       "  <div class=\"bk-root\" id=\"e7eb98cd-c728-4989-8c2a-ca2a633a3218\" data-root-id=\"3311\"></div>\n"
      ]
     },
     "metadata": {},
     "output_type": "display_data"
    },
    {
     "data": {
      "application/javascript": [
       "(function(root) {\n",
       "  function embed_document(root) {\n",
       "    \n",
       "  var docs_json = {\"a87eb79e-8d35-425c-92c4-d2f577a9034c\":{\"defs\":[],\"roots\":{\"references\":[{\"attributes\":{\"children\":[{\"id\":\"3310\"},{\"id\":\"3308\"}]},\"id\":\"3311\",\"type\":\"Column\"},{\"attributes\":{},\"id\":\"2498\",\"type\":\"UnionRenderers\"},{\"attributes\":{\"axis_label\":\"Prevalence\",\"formatter\":{\"id\":\"2998\"},\"major_label_policy\":{\"id\":\"2997\"},\"ticker\":{\"id\":\"2971\"}},\"id\":\"2970\",\"type\":\"LinearAxis\"},{\"attributes\":{\"active_drag\":{\"id\":\"2768\"},\"active_multi\":null,\"active_scroll\":{\"id\":\"2769\"},\"tools\":[{\"id\":\"2768\"},{\"id\":\"2769\"},{\"id\":\"2770\"},{\"id\":\"2771\"},{\"id\":\"2772\"},{\"id\":\"2803\"},{\"id\":\"2829\"},{\"id\":\"2857\"},{\"id\":\"2887\"},{\"id\":\"2919\"},{\"id\":\"2953\"}]},\"id\":\"2774\",\"type\":\"Toolbar\"},{\"attributes\":{\"source\":{\"id\":\"2715\"}},\"id\":\"2720\",\"type\":\"CDSView\"},{\"attributes\":{\"source\":{\"id\":\"1956\"}},\"id\":\"1961\",\"type\":\"CDSView\"},{\"attributes\":{\"data\":{\"Data\":{\"__ndarray__\":\"iMb60Fgfyj9XEJMriMmVPwgEAoFAIHA/8asxkR6orD8RERERERGRPw==\",\"dtype\":\"float64\",\"order\":\"little\",\"shape\":[5]},\"Year\":[2007,2010,2011,2013,2014]},\"selected\":{\"id\":\"1997\"},\"selection_policy\":{\"id\":\"1996\"}},\"id\":\"1981\",\"type\":\"ColumnDataSource\"},{\"attributes\":{},\"id\":\"1964\",\"type\":\"AllLabels\"},{\"attributes\":{\"fill_alpha\":{\"value\":0.5},\"fill_color\":{\"value\":\"#8c564b\"},\"line_alpha\":{\"value\":0.5},\"line_color\":{\"value\":\"#8c564b\"},\"size\":{\"value\":10},\"x\":{\"field\":\"Year\"},\"y\":{\"field\":\"Data\"}},\"id\":\"2743\",\"type\":\"Circle\"},{\"attributes\":{},\"id\":\"2672\",\"type\":\"UnionRenderers\"},{\"attributes\":{\"source\":{\"id\":\"1829\"}},\"id\":\"1834\",\"type\":\"CDSView\"},{\"attributes\":{\"fill_alpha\":{\"value\":0.1},\"fill_color\":{\"value\":\"#f0027f\"},\"line_alpha\":{\"value\":0.1},\"line_color\":{\"value\":\"#f0027f\"},\"size\":{\"value\":10},\"x\":{\"field\":\"Year\"},\"y\":{\"field\":\"Data\"}},\"id\":\"2710\",\"type\":\"Circle\"},{\"attributes\":{},\"id\":\"1790\",\"type\":\"UnionRenderers\"},{\"attributes\":{\"label\":{\"value\":\"AI[R/C]NIS\"},\"renderers\":[{\"id\":\"1833\"}]},\"id\":\"1851\",\"type\":\"LegendItem\"},{\"attributes\":{\"label\":{\"value\":\"AIRNIS\"},\"renderers\":[{\"id\":\"1960\"}]},\"id\":\"1973\",\"type\":\"LegendItem\"},{\"attributes\":{\"source\":{\"id\":\"2683\"}},\"id\":\"2712\",\"type\":\"CDSView\"},{\"attributes\":{\"callback\":null,\"renderers\":[{\"id\":\"1825\"}],\"tooltips\":[[\"(x,y)\",\"(@Year,@Data)\"]]},\"id\":\"1827\",\"type\":\"HoverTool\"},{\"attributes\":{},\"id\":\"2768\",\"type\":\"PanTool\"},{\"attributes\":{\"data_source\":{\"id\":\"2683\"},\"glyph\":{\"id\":\"2709\"},\"hover_glyph\":null,\"muted_glyph\":null,\"nonselection_glyph\":{\"id\":\"2710\"},\"view\":{\"id\":\"2712\"}},\"id\":\"2711\",\"type\":\"GlyphRenderer\"},{\"attributes\":{\"callback\":null,\"renderers\":[{\"id\":\"2711\"}],\"tooltips\":[[\"(x,y)\",\"(@Year,@Data)\"]]},\"id\":\"2713\",\"type\":\"HoverTool\"},{\"attributes\":{},\"id\":\"2499\",\"type\":\"Selection\"},{\"attributes\":{},\"id\":\"2673\",\"type\":\"Selection\"},{\"attributes\":{\"axis\":{\"id\":\"2966\"},\"ticker\":null},\"id\":\"2969\",\"type\":\"Grid\"},{\"attributes\":{},\"id\":\"1965\",\"type\":\"BasicTickFormatter\"},{\"attributes\":{},\"id\":\"1791\",\"type\":\"Selection\"},{\"attributes\":{\"background_fill_alpha\":0.7,\"items\":[{\"id\":\"1973\"},{\"id\":\"1999\"},{\"id\":\"2027\"},{\"id\":\"2057\"},{\"id\":\"2089\"},{\"id\":\"2123\"}]},\"id\":\"1972\",\"type\":\"Legend\"},{\"attributes\":{\"fill_alpha\":{\"value\":0.1},\"fill_color\":{\"value\":\"#2ca02c\"},\"line_alpha\":{\"value\":0.1},\"line_color\":{\"value\":\"#2ca02c\"},\"size\":{\"value\":10},\"x\":{\"field\":\"Year\"},\"y\":{\"field\":\"Data\"}},\"id\":\"1824\",\"type\":\"Circle\"},{\"attributes\":{},\"id\":\"2971\",\"type\":\"BasicTicker\"},{\"attributes\":{\"source\":{\"id\":\"1801\"}},\"id\":\"1826\",\"type\":\"CDSView\"},{\"attributes\":{\"data_source\":{\"id\":\"1801\"},\"glyph\":{\"id\":\"1823\"},\"hover_glyph\":null,\"muted_glyph\":null,\"nonselection_glyph\":{\"id\":\"1824\"},\"view\":{\"id\":\"1826\"}},\"id\":\"1825\",\"type\":\"GlyphRenderer\"},{\"attributes\":{\"data\":{\"Data\":{\"__ndarray__\":\"GIZhGIZh2D9zxpwxZ8zJP+5phOWeRrg/8y3f8i3fwj++99577723P75jamDvmJo/kgC/8VhkwD+KVO+hSPW+PzvavE9xybA/\",\"dtype\":\"float64\",\"order\":\"little\",\"shape\":[9]},\"Year\":[2007,2008,2009,2010,2011,2012,2013,2014,2015]},\"selected\":{\"id\":\"2821\"},\"selection_policy\":{\"id\":\"2820\"}},\"id\":\"2805\",\"type\":\"ColumnDataSource\"},{\"attributes\":{\"data\":{\"Data\":{\"__ndarray__\":\"AAAAAAAAAAAn3Ty7S9vYP/01O2oR8tc/chUQDMkW4T8=\",\"dtype\":\"float64\",\"order\":\"little\",\"shape\":[4]},\"Year\":[2012,2015,2016,2017]},\"selected\":{\"id\":\"2588\"},\"selection_policy\":{\"id\":\"2587\"}},\"id\":\"2574\",\"type\":\"ColumnDataSource\"},{\"attributes\":{},\"id\":\"1967\",\"type\":\"AllLabels\"},{\"attributes\":{},\"id\":\"2788\",\"type\":\"AllLabels\"},{\"attributes\":{},\"id\":\"1968\",\"type\":\"BasicTickFormatter\"},{\"attributes\":{},\"id\":\"2120\",\"type\":\"UnionRenderers\"},{\"attributes\":{\"background_fill_alpha\":0.7,\"items\":[{\"id\":\"2797\"},{\"id\":\"2823\"},{\"id\":\"2851\"},{\"id\":\"2881\"},{\"id\":\"2913\"},{\"id\":\"2947\"}]},\"id\":\"2796\",\"type\":\"Legend\"},{\"attributes\":{\"label\":{\"value\":\"ANCSIS\"},\"renderers\":[{\"id\":\"2809\"}]},\"id\":\"2823\",\"type\":\"LegendItem\"},{\"attributes\":{\"bottom_units\":\"screen\",\"fill_alpha\":0.5,\"fill_color\":\"lightgrey\",\"left_units\":\"screen\",\"level\":\"overlay\",\"line_alpha\":1.0,\"line_color\":\"black\",\"line_dash\":[4,4],\"line_width\":2,\"right_units\":\"screen\",\"syncable\":false,\"top_units\":\"screen\"},\"id\":\"2773\",\"type\":\"BoxAnnotation\"},{\"attributes\":{\"data_source\":{\"id\":\"2780\"},\"glyph\":{\"id\":\"2799\"},\"hover_glyph\":null,\"muted_glyph\":null,\"nonselection_glyph\":{\"id\":\"2800\"},\"view\":{\"id\":\"2802\"}},\"id\":\"2801\",\"type\":\"GlyphRenderer\"},{\"attributes\":{\"source\":{\"id\":\"2780\"}},\"id\":\"2785\",\"type\":\"CDSView\"},{\"attributes\":{},\"id\":\"2967\",\"type\":\"BasicTicker\"},{\"attributes\":{\"source\":{\"id\":\"1859\"}},\"id\":\"1864\",\"type\":\"CDSView\"},{\"attributes\":{\"fill_alpha\":{\"value\":0.5},\"fill_color\":{\"value\":\"#9467bd\"},\"line_alpha\":{\"value\":0.5},\"line_color\":{\"value\":\"#9467bd\"},\"size\":{\"value\":10},\"x\":{\"field\":\"Year\"},\"y\":{\"field\":\"Data\"}},\"id\":\"1885\",\"type\":\"Circle\"},{\"attributes\":{\"line_color\":\"#666666\",\"line_width\":2,\"x\":{\"field\":\"Year\"},\"y\":{\"field\":\"Data\"}},\"id\":\"2833\",\"type\":\"Line\"},{\"attributes\":{\"line_color\":\"#1f77b4\",\"line_width\":2,\"x\":{\"field\":\"Year\"},\"y\":{\"field\":\"Data\"}},\"id\":\"2782\",\"type\":\"Line\"},{\"attributes\":{\"line_color\":\"#9467bd\",\"line_width\":2,\"x\":{\"field\":\"Year\"},\"y\":{\"field\":\"Data\"}},\"id\":\"1861\",\"type\":\"Line\"},{\"attributes\":{\"data\":{\"Data\":{\"__ndarray__\":\"GIZhGIZhiD/0BX1BX9CXP+5phOWeRrg/l2/5lm/5tj+MMcYYY4yxP87KT4iz8rM/VuqlHcwaoT/C61YhvG6lP1hHm/cpLqk/\",\"dtype\":\"float64\",\"order\":\"little\",\"shape\":[9]},\"Year\":[2007,2008,2009,2010,2011,2012,2013,2014,2015]},\"selected\":{\"id\":\"2879\"},\"selection_policy\":{\"id\":\"2878\"}},\"id\":\"2859\",\"type\":\"ColumnDataSource\"},{\"attributes\":{\"label\":{\"value\":\"IRNI\"},\"renderers\":[{\"id\":\"1863\"}]},\"id\":\"1883\",\"type\":\"LegendItem\"},{\"attributes\":{\"fill_alpha\":{\"value\":0.5},\"fill_color\":{\"value\":\"#2ca02c\"},\"line_alpha\":{\"value\":0.5},\"line_color\":{\"value\":\"#2ca02c\"},\"size\":{\"value\":10},\"x\":{\"field\":\"Year\"},\"y\":{\"field\":\"Data\"}},\"id\":\"1823\",\"type\":\"Circle\"},{\"attributes\":{\"label\":{\"value\":\"Other\"},\"renderers\":[{\"id\":\"2719\"}]},\"id\":\"2741\",\"type\":\"LegendItem\"},{\"attributes\":{\"fill_alpha\":{\"value\":0.5},\"fill_color\":{\"value\":\"#f0027f\"},\"line_alpha\":{\"value\":0.5},\"line_color\":{\"value\":\"#f0027f\"},\"size\":{\"value\":10},\"x\":{\"field\":\"Year\"},\"y\":{\"field\":\"Data\"}},\"id\":\"2709\",\"type\":\"Circle\"},{\"attributes\":{\"source\":{\"id\":\"2805\"}},\"id\":\"2810\",\"type\":\"CDSView\"},{\"attributes\":{\"line_alpha\":0.1,\"line_color\":\"#bf5b17\",\"line_width\":2,\"x\":{\"field\":\"Year\"},\"y\":{\"field\":\"Data\"}},\"id\":\"2808\",\"type\":\"Line\"},{\"attributes\":{\"line_color\":\"#bf5b17\",\"line_width\":2,\"x\":{\"field\":\"Year\"},\"y\":{\"field\":\"Data\"}},\"id\":\"2807\",\"type\":\"Line\"},{\"attributes\":{},\"id\":\"1934\",\"type\":\"LinearScale\"},{\"attributes\":{\"data_source\":{\"id\":\"2780\"},\"glyph\":{\"id\":\"2782\"},\"hover_glyph\":null,\"muted_glyph\":null,\"nonselection_glyph\":{\"id\":\"2783\"},\"view\":{\"id\":\"2785\"}},\"id\":\"2784\",\"type\":\"GlyphRenderer\"},{\"attributes\":{\"line_alpha\":0.1,\"line_color\":\"#1f77b4\",\"line_width\":2,\"x\":{\"field\":\"Year\"},\"y\":{\"field\":\"Data\"}},\"id\":\"2783\",\"type\":\"Line\"},{\"attributes\":{},\"id\":\"2738\",\"type\":\"UnionRenderers\"},{\"attributes\":{\"label\":{\"value\":\"AI[C/R]NIS\"},\"renderers\":[{\"id\":\"1805\"}]},\"id\":\"1821\",\"type\":\"LegendItem\"},{\"attributes\":{\"line_color\":\"#8c564b\",\"line_width\":2,\"x\":{\"field\":\"Year\"},\"y\":{\"field\":\"Data\"}},\"id\":\"2511\",\"type\":\"Line\"},{\"attributes\":{\"below\":[{\"id\":\"2142\"}],\"center\":[{\"id\":\"2145\"},{\"id\":\"2149\"},{\"id\":\"2178\"}],\"height\":400,\"left\":[{\"id\":\"2146\"}],\"renderers\":[{\"id\":\"2166\"},{\"id\":\"2183\"},{\"id\":\"2191\"},{\"id\":\"2209\"},{\"id\":\"2217\"},{\"id\":\"2237\"},{\"id\":\"2245\"},{\"id\":\"2267\"},{\"id\":\"2275\"},{\"id\":\"2299\"},{\"id\":\"2307\"},{\"id\":\"2333\"}],\"title\":{\"id\":\"2132\"},\"toolbar\":{\"id\":\"2156\"},\"toolbar_location\":null,\"width\":400,\"x_range\":{\"id\":\"2134\"},\"x_scale\":{\"id\":\"2138\"},\"y_range\":{\"id\":\"2136\"},\"y_scale\":{\"id\":\"2140\"}},\"id\":\"2131\",\"subtype\":\"Figure\",\"type\":\"Plot\"},{\"attributes\":{\"data_source\":{\"id\":\"2805\"},\"glyph\":{\"id\":\"2807\"},\"hover_glyph\":null,\"muted_glyph\":null,\"nonselection_glyph\":{\"id\":\"2808\"},\"view\":{\"id\":\"2810\"}},\"id\":\"2809\",\"type\":\"GlyphRenderer\"},{\"attributes\":{\"source\":{\"id\":\"2509\"}},\"id\":\"2514\",\"type\":\"CDSView\"},{\"attributes\":{\"line_alpha\":0.1,\"line_color\":\"#666666\",\"line_width\":2,\"x\":{\"field\":\"Year\"},\"y\":{\"field\":\"Data\"}},\"id\":\"2834\",\"type\":\"Line\"},{\"attributes\":{\"fill_alpha\":{\"value\":0.1},\"fill_color\":{\"value\":\"#8c564b\"},\"line_alpha\":{\"value\":0.1},\"line_color\":{\"value\":\"#8c564b\"},\"size\":{\"value\":10},\"x\":{\"field\":\"Year\"},\"y\":{\"field\":\"Data\"}},\"id\":\"2126\",\"type\":\"Circle\"},{\"attributes\":{},\"id\":\"2739\",\"type\":\"Selection\"},{\"attributes\":{\"data_source\":{\"id\":\"1859\"},\"glyph\":{\"id\":\"1861\"},\"hover_glyph\":null,\"muted_glyph\":null,\"nonselection_glyph\":{\"id\":\"1862\"},\"view\":{\"id\":\"1864\"}},\"id\":\"1863\",\"type\":\"GlyphRenderer\"},{\"attributes\":{},\"id\":\"2147\",\"type\":\"BasicTicker\"},{\"attributes\":{\"fill_alpha\":{\"value\":0.1},\"fill_color\":{\"value\":\"#ffff99\"},\"line_alpha\":{\"value\":0.1},\"line_color\":{\"value\":\"#ffff99\"},\"size\":{\"value\":10},\"x\":{\"field\":\"Year\"},\"y\":{\"field\":\"Data\"}},\"id\":\"2504\",\"type\":\"Circle\"},{\"attributes\":{\"source\":{\"id\":\"2477\"}},\"id\":\"2506\",\"type\":\"CDSView\"},{\"attributes\":{\"line_color\":\"#8c564b\",\"line_width\":2,\"x\":{\"field\":\"Year\"},\"y\":{\"field\":\"Data\"}},\"id\":\"2717\",\"type\":\"Line\"},{\"attributes\":{},\"id\":\"1848\",\"type\":\"UnionRenderers\"},{\"attributes\":{\"data_source\":{\"id\":\"2715\"},\"glyph\":{\"id\":\"2717\"},\"hover_glyph\":null,\"muted_glyph\":null,\"nonselection_glyph\":{\"id\":\"2718\"},\"view\":{\"id\":\"2720\"}},\"id\":\"2719\",\"type\":\"GlyphRenderer\"},{\"attributes\":{\"data_source\":{\"id\":\"1829\"},\"glyph\":{\"id\":\"1831\"},\"hover_glyph\":null,\"muted_glyph\":null,\"nonselection_glyph\":{\"id\":\"1832\"},\"view\":{\"id\":\"1834\"}},\"id\":\"1833\",\"type\":\"GlyphRenderer\"},{\"attributes\":{\"data_source\":{\"id\":\"2477\"},\"glyph\":{\"id\":\"2503\"},\"hover_glyph\":null,\"muted_glyph\":null,\"nonselection_glyph\":{\"id\":\"2504\"},\"view\":{\"id\":\"2506\"}},\"id\":\"2505\",\"type\":\"GlyphRenderer\"},{\"attributes\":{\"callback\":null,\"renderers\":[{\"id\":\"2505\"}],\"tooltips\":[[\"(x,y)\",\"(@Year,@Data)\"]]},\"id\":\"2507\",\"type\":\"HoverTool\"},{\"attributes\":{\"source\":{\"id\":\"2097\"}},\"id\":\"2128\",\"type\":\"CDSView\"},{\"attributes\":{\"line_alpha\":0.1,\"line_color\":\"#8c564b\",\"line_width\":2,\"x\":{\"field\":\"Year\"},\"y\":{\"field\":\"Data\"}},\"id\":\"2718\",\"type\":\"Line\"},{\"attributes\":{\"data_source\":{\"id\":\"2097\"},\"glyph\":{\"id\":\"2125\"},\"hover_glyph\":null,\"muted_glyph\":null,\"nonselection_glyph\":{\"id\":\"2126\"},\"view\":{\"id\":\"2128\"}},\"id\":\"2127\",\"type\":\"GlyphRenderer\"},{\"attributes\":{\"label\":{\"value\":\"AIRNIS\"},\"renderers\":[{\"id\":\"2784\"}]},\"id\":\"2797\",\"type\":\"LegendItem\"},{\"attributes\":{},\"id\":\"1849\",\"type\":\"Selection\"},{\"attributes\":{\"callback\":null,\"renderers\":[{\"id\":\"2127\"}],\"tooltips\":[[\"(x,y)\",\"(@Year,@Data)\"]]},\"id\":\"2129\",\"type\":\"HoverTool\"},{\"attributes\":{\"end\":2019,\"start\":2001},\"id\":\"2752\",\"type\":\"Range1d\"},{\"attributes\":{},\"id\":\"2791\",\"type\":\"AllLabels\"},{\"attributes\":{\"end\":2019,\"start\":2001},\"id\":\"2958\",\"type\":\"Range1d\"},{\"attributes\":{\"data\":{\"Data\":{\"__ndarray__\":\"AAAAAAAAAAAAAAAAAAAAAAAAAAAAAAAAPDw8PDw87D8=\",\"dtype\":\"float64\",\"order\":\"little\",\"shape\":[4]},\"Year\":[2012,2013,2014,2016]},\"selected\":{\"id\":\"1881\"},\"selection_policy\":{\"id\":\"1880\"}},\"id\":\"1859\",\"type\":\"ColumnDataSource\"},{\"attributes\":{\"below\":[{\"id\":\"2966\"}],\"center\":[{\"id\":\"2969\"},{\"id\":\"2973\"},{\"id\":\"3002\"}],\"height\":400,\"left\":[{\"id\":\"2970\"}],\"renderers\":[{\"id\":\"2990\"},{\"id\":\"3007\"},{\"id\":\"3015\"},{\"id\":\"3033\"},{\"id\":\"3041\"},{\"id\":\"3061\"},{\"id\":\"3069\"},{\"id\":\"3091\"},{\"id\":\"3099\"},{\"id\":\"3123\"},{\"id\":\"3131\"},{\"id\":\"3157\"}],\"title\":{\"id\":\"2956\"},\"toolbar\":{\"id\":\"2980\"},\"toolbar_location\":null,\"width\":400,\"x_range\":{\"id\":\"2958\"},\"x_scale\":{\"id\":\"2962\"},\"y_range\":{\"id\":\"2960\"},\"y_scale\":{\"id\":\"2964\"}},\"id\":\"2955\",\"subtype\":\"Figure\",\"type\":\"Plot\"},{\"attributes\":{},\"id\":\"2754\",\"type\":\"Range1d\"},{\"attributes\":{\"line_alpha\":0.1,\"line_color\":\"#9467bd\",\"line_width\":2,\"x\":{\"field\":\"Year\"},\"y\":{\"field\":\"Data\"}},\"id\":\"1862\",\"type\":\"Line\"},{\"attributes\":{\"line_color\":\"#d62728\",\"line_width\":2,\"x\":{\"field\":\"Year\"},\"y\":{\"field\":\"Data\"}},\"id\":\"1831\",\"type\":\"Line\"},{\"attributes\":{\"line_alpha\":0.1,\"line_color\":\"#bcbd22\",\"line_width\":2,\"x\":{\"field\":\"Year\"},\"y\":{\"field\":\"Data\"}},\"id\":\"2244\",\"type\":\"Line\"},{\"attributes\":{},\"id\":\"1932\",\"type\":\"LinearScale\"},{\"attributes\":{\"label\":{\"value\":\"NCSI\"},\"renderers\":[{\"id\":\"2687\"}]},\"id\":\"2707\",\"type\":\"LegendItem\"},{\"attributes\":{},\"id\":\"2789\",\"type\":\"BasicTickFormatter\"},{\"attributes\":{},\"id\":\"2150\",\"type\":\"PanTool\"},{\"attributes\":{\"line_alpha\":0.1,\"line_color\":\"#d62728\",\"line_width\":2,\"x\":{\"field\":\"Year\"},\"y\":{\"field\":\"Data\"}},\"id\":\"1832\",\"type\":\"Line\"},{\"attributes\":{},\"id\":\"1724\",\"type\":\"Range1d\"},{\"attributes\":{\"callback\":null},\"id\":\"2154\",\"type\":\"TapTool\"},{\"attributes\":{},\"id\":\"2349\",\"type\":\"BasicTicker\"},{\"attributes\":{\"data_source\":{\"id\":\"2831\"},\"glyph\":{\"id\":\"2833\"},\"hover_glyph\":null,\"muted_glyph\":null,\"nonselection_glyph\":{\"id\":\"2834\"},\"view\":{\"id\":\"2836\"}},\"id\":\"2835\",\"type\":\"GlyphRenderer\"},{\"attributes\":{\"fill_alpha\":{\"value\":0.5},\"fill_color\":{\"value\":\"#8c564b\"},\"line_alpha\":{\"value\":0.5},\"line_color\":{\"value\":\"#8c564b\"},\"size\":{\"value\":10},\"x\":{\"field\":\"Year\"},\"y\":{\"field\":\"Data\"}},\"id\":\"2537\",\"type\":\"Circle\"},{\"attributes\":{},\"id\":\"2704\",\"type\":\"UnionRenderers\"},{\"attributes\":{},\"id\":\"2548\",\"type\":\"Range1d\"},{\"attributes\":{\"fill_alpha\":{\"value\":0.5},\"fill_color\":{\"value\":\"#bf5b17\"},\"line_alpha\":{\"value\":0.5},\"line_color\":{\"value\":\"#bf5b17\"},\"size\":{\"value\":10},\"x\":{\"field\":\"Year\"},\"y\":{\"field\":\"Data\"}},\"id\":\"2825\",\"type\":\"Circle\"},{\"attributes\":{},\"id\":\"2769\",\"type\":\"WheelZoomTool\"},{\"attributes\":{\"axis_label\":\"Year\",\"formatter\":{\"id\":\"1965\"},\"major_label_policy\":{\"id\":\"1964\"},\"ticker\":{\"id\":\"1937\"}},\"id\":\"1936\",\"type\":\"LinearAxis\"},{\"attributes\":{\"axis_label\":\"Prevalence\",\"formatter\":{\"id\":\"2174\"},\"major_label_policy\":{\"id\":\"2173\"},\"ticker\":{\"id\":\"2147\"}},\"id\":\"2146\",\"type\":\"LinearAxis\"},{\"attributes\":{\"label\":{\"value\":\"Other\"},\"renderers\":[{\"id\":\"2513\"}]},\"id\":\"2535\",\"type\":\"LegendItem\"},{\"attributes\":{},\"id\":\"2705\",\"type\":\"Selection\"},{\"attributes\":{\"axis\":{\"id\":\"2764\"},\"dimension\":1,\"ticker\":null},\"id\":\"2767\",\"type\":\"Grid\"},{\"attributes\":{},\"id\":\"1818\",\"type\":\"UnionRenderers\"},{\"attributes\":{},\"id\":\"1969\",\"type\":\"UnionRenderers\"},{\"attributes\":{},\"id\":\"2964\",\"type\":\"LinearScale\"},{\"attributes\":{\"overlay\":{\"id\":\"2773\"}},\"id\":\"2770\",\"type\":\"BoxZoomTool\"},{\"attributes\":{\"axis\":{\"id\":\"2760\"},\"ticker\":null},\"id\":\"2763\",\"type\":\"Grid\"},{\"attributes\":{\"fill_alpha\":{\"value\":0.1},\"fill_color\":{\"value\":\"#8c564b\"},\"line_alpha\":{\"value\":0.1},\"line_color\":{\"value\":\"#8c564b\"},\"size\":{\"value\":10},\"x\":{\"field\":\"Year\"},\"y\":{\"field\":\"Data\"}},\"id\":\"2744\",\"type\":\"Circle\"},{\"attributes\":{\"data_source\":{\"id\":\"2509\"},\"glyph\":{\"id\":\"2511\"},\"hover_glyph\":null,\"muted_glyph\":null,\"nonselection_glyph\":{\"id\":\"2512\"},\"view\":{\"id\":\"2514\"}},\"id\":\"2513\",\"type\":\"GlyphRenderer\"},{\"attributes\":{},\"id\":\"2792\",\"type\":\"BasicTickFormatter\"},{\"attributes\":{},\"id\":\"2151\",\"type\":\"WheelZoomTool\"},{\"attributes\":{\"axis_label\":\"Year\",\"formatter\":{\"id\":\"2995\"},\"major_label_policy\":{\"id\":\"2994\"},\"ticker\":{\"id\":\"2967\"}},\"id\":\"2966\",\"type\":\"LinearAxis\"},{\"attributes\":{},\"id\":\"1819\",\"type\":\"Selection\"},{\"attributes\":{},\"id\":\"2153\",\"type\":\"ResetTool\"},{\"attributes\":{},\"id\":\"1970\",\"type\":\"Selection\"},{\"attributes\":{\"overlay\":{\"id\":\"2155\"}},\"id\":\"2152\",\"type\":\"BoxZoomTool\"},{\"attributes\":{\"fill_alpha\":{\"value\":0.5},\"fill_color\":{\"value\":\"#d62728\"},\"line_alpha\":{\"value\":0.5},\"line_color\":{\"value\":\"#d62728\"},\"size\":{\"value\":10},\"x\":{\"field\":\"Year\"},\"y\":{\"field\":\"Data\"}},\"id\":\"1853\",\"type\":\"Circle\"},{\"attributes\":{\"line_alpha\":0.1,\"line_color\":\"#8c564b\",\"line_width\":2,\"x\":{\"field\":\"Year\"},\"y\":{\"field\":\"Data\"}},\"id\":\"2512\",\"type\":\"Line\"},{\"attributes\":{\"data_source\":{\"id\":\"2715\"},\"glyph\":{\"id\":\"2743\"},\"hover_glyph\":null,\"muted_glyph\":null,\"nonselection_glyph\":{\"id\":\"2744\"},\"view\":{\"id\":\"2746\"}},\"id\":\"2745\",\"type\":\"GlyphRenderer\"},{\"attributes\":{\"source\":{\"id\":\"2715\"}},\"id\":\"2746\",\"type\":\"CDSView\"},{\"attributes\":{\"callback\":null,\"renderers\":[{\"id\":\"2745\"}],\"tooltips\":[[\"(x,y)\",\"(@Year,@Data)\"]]},\"id\":\"2747\",\"type\":\"HoverTool\"},{\"attributes\":{\"axis\":{\"id\":\"2348\"},\"ticker\":null},\"id\":\"2351\",\"type\":\"Grid\"},{\"attributes\":{\"line_alpha\":0.1,\"line_color\":\"#e377c2\",\"line_width\":2,\"x\":{\"field\":\"Year\"},\"y\":{\"field\":\"Data\"}},\"id\":\"2862\",\"type\":\"Line\"},{\"attributes\":{\"fill_alpha\":{\"value\":0.1},\"fill_color\":{\"value\":\"#d62728\"},\"line_alpha\":{\"value\":0.1},\"line_color\":{\"value\":\"#d62728\"},\"size\":{\"value\":10},\"x\":{\"field\":\"Year\"},\"y\":{\"field\":\"Data\"}},\"id\":\"1854\",\"type\":\"Circle\"},{\"attributes\":{\"source\":{\"id\":\"1829\"}},\"id\":\"1856\",\"type\":\"CDSView\"},{\"attributes\":{\"callback\":null,\"renderers\":[{\"id\":\"2801\"}],\"tooltips\":[[\"(x,y)\",\"(@Year,@Data)\"]]},\"id\":\"2803\",\"type\":\"HoverTool\"},{\"attributes\":{\"data_source\":{\"id\":\"1829\"},\"glyph\":{\"id\":\"1853\"},\"hover_glyph\":null,\"muted_glyph\":null,\"nonselection_glyph\":{\"id\":\"1854\"},\"view\":{\"id\":\"1856\"}},\"id\":\"1855\",\"type\":\"GlyphRenderer\"},{\"attributes\":{\"axis\":{\"id\":\"2146\"},\"dimension\":1,\"ticker\":null},\"id\":\"2149\",\"type\":\"Grid\"},{\"attributes\":{\"callback\":null,\"renderers\":[{\"id\":\"1855\"}],\"tooltips\":[[\"(x,y)\",\"(@Year,@Data)\"]]},\"id\":\"1857\",\"type\":\"HoverTool\"},{\"attributes\":{\"data\":{\"Data\":{\"__ndarray__\":\"AAAAAAAAAAAAAAAAAAAAAAAAAAAAAAAAAAAAAAAAAAAAAAAAAAAAAFQJATk/lbA/jBgxYsSIwT8fJ1qu333cP/msG0yRz+I/q6qqqqqq4j9CewntJbTXP6iesYvXP98/SuMjE+id6j8=\",\"dtype\":\"float64\",\"order\":\"little\",\"shape\":[13]},\"Year\":[2007,2008,2009,2010,2011,2012,2013,2014,2015,2016,2017,2018,2019]},\"selected\":{\"id\":\"2176\"},\"selection_policy\":{\"id\":\"2175\"}},\"id\":\"2162\",\"type\":\"ColumnDataSource\"},{\"attributes\":{\"data\":{\"Data\":{\"__ndarray__\":\"MH0E/vDzpz9g9Q8iGXKcP3CmCdtPxqg/iPZ4IR0evj8=\",\"dtype\":\"float64\",\"order\":\"little\",\"shape\":[4]},\"Year\":[2012,2013,2014,2016]},\"selected\":{\"id\":\"1915\"},\"selection_policy\":{\"id\":\"1914\"}},\"id\":\"1891\",\"type\":\"ColumnDataSource\"},{\"attributes\":{\"source\":{\"id\":\"2780\"}},\"id\":\"2802\",\"type\":\"CDSView\"},{\"attributes\":{},\"id\":\"1944\",\"type\":\"PanTool\"},{\"attributes\":{\"fill_alpha\":{\"value\":0.5},\"fill_color\":{\"value\":\"#8c564b\"},\"line_alpha\":{\"value\":0.5},\"line_color\":{\"value\":\"#8c564b\"},\"size\":{\"value\":10},\"x\":{\"field\":\"Year\"},\"y\":{\"field\":\"Data\"}},\"id\":\"3155\",\"type\":\"Circle\"},{\"attributes\":{\"source\":{\"id\":\"3065\"}},\"id\":\"3070\",\"type\":\"CDSView\"},{\"attributes\":{\"callback\":null,\"renderers\":[{\"id\":\"3061\"}],\"tooltips\":[[\"(x,y)\",\"(@Year,@Data)\"]]},\"id\":\"3063\",\"type\":\"HoverTool\"},{\"attributes\":{\"data_source\":{\"id\":\"3127\"},\"glyph\":{\"id\":\"3129\"},\"hover_glyph\":null,\"muted_glyph\":null,\"nonselection_glyph\":{\"id\":\"3130\"},\"view\":{\"id\":\"3132\"}},\"id\":\"3131\",\"type\":\"GlyphRenderer\"},{\"attributes\":{\"label\":{\"value\":\"ANRNLS\"},\"renderers\":[{\"id\":\"3069\"}]},\"id\":\"3087\",\"type\":\"LegendItem\"},{\"attributes\":{},\"id\":\"3026\",\"type\":\"UnionRenderers\"},{\"attributes\":{\"fill_alpha\":{\"value\":0.1},\"fill_color\":{\"value\":\"#1f77b4\"},\"line_alpha\":{\"value\":0.1},\"line_color\":{\"value\":\"#1f77b4\"},\"size\":{\"value\":10},\"x\":{\"field\":\"Year\"},\"y\":{\"field\":\"Data\"}},\"id\":\"3060\",\"type\":\"Circle\"},{\"attributes\":{\"source\":{\"id\":\"3037\"}},\"id\":\"3062\",\"type\":\"CDSView\"},{\"attributes\":{\"data_source\":{\"id\":\"3037\"},\"glyph\":{\"id\":\"3059\"},\"hover_glyph\":null,\"muted_glyph\":null,\"nonselection_glyph\":{\"id\":\"3060\"},\"view\":{\"id\":\"3062\"}},\"id\":\"3061\",\"type\":\"GlyphRenderer\"},{\"attributes\":{\"label\":{\"value\":\"Other\"},\"renderers\":[{\"id\":\"3131\"}]},\"id\":\"3153\",\"type\":\"LegendItem\"},{\"attributes\":{},\"id\":\"3027\",\"type\":\"Selection\"},{\"attributes\":{},\"id\":\"1731\",\"type\":\"BasicTicker\"},{\"attributes\":{\"source\":{\"id\":\"3127\"}},\"id\":\"3132\",\"type\":\"CDSView\"},{\"attributes\":{\"axis\":{\"id\":\"1734\"},\"dimension\":1,\"ticker\":null},\"id\":\"1737\",\"type\":\"Grid\"},{\"attributes\":{\"axis\":{\"id\":\"1730\"},\"ticker\":null},\"id\":\"1733\",\"type\":\"Grid\"},{\"attributes\":{\"end\":2019,\"start\":2001},\"id\":\"2134\",\"type\":\"Range1d\"},{\"attributes\":{},\"id\":\"1735\",\"type\":\"BasicTicker\"},{\"attributes\":{\"axis\":{\"id\":\"1940\"},\"dimension\":1,\"ticker\":null},\"id\":\"1943\",\"type\":\"Grid\"},{\"attributes\":{\"line_alpha\":0.1,\"line_color\":\"#8c564b\",\"line_width\":2,\"x\":{\"field\":\"Year\"},\"y\":{\"field\":\"Data\"}},\"id\":\"3130\",\"type\":\"Line\"},{\"attributes\":{\"axis\":{\"id\":\"1936\"},\"ticker\":null},\"id\":\"1939\",\"type\":\"Grid\"},{\"attributes\":{},\"id\":\"1941\",\"type\":\"BasicTicker\"},{\"attributes\":{},\"id\":\"3116\",\"type\":\"UnionRenderers\"},{\"attributes\":{\"axis_label\":\"Prevalence\",\"formatter\":{\"id\":\"1762\"},\"major_label_policy\":{\"id\":\"1761\"},\"ticker\":{\"id\":\"1735\"}},\"id\":\"1734\",\"type\":\"LinearAxis\"},{\"attributes\":{},\"id\":\"1738\",\"type\":\"PanTool\"},{\"attributes\":{\"axis_label\":\"Year\",\"formatter\":{\"id\":\"1759\"},\"major_label_policy\":{\"id\":\"1758\"},\"ticker\":{\"id\":\"1731\"}},\"id\":\"1730\",\"type\":\"LinearAxis\"},{\"attributes\":{},\"id\":\"3117\",\"type\":\"Selection\"},{\"attributes\":{},\"id\":\"1937\",\"type\":\"BasicTicker\"},{\"attributes\":{\"line_color\":\"#386cb0\",\"line_width\":2,\"x\":{\"field\":\"Year\"},\"y\":{\"field\":\"Data\"}},\"id\":\"3097\",\"type\":\"Line\"},{\"attributes\":{\"source\":{\"id\":\"3095\"}},\"id\":\"3100\",\"type\":\"CDSView\"},{\"attributes\":{},\"id\":\"1945\",\"type\":\"WheelZoomTool\"},{\"attributes\":{\"text\":\"PfDHFR Predominant Variants in ESEA\"},\"id\":\"2132\",\"type\":\"Title\"},{\"attributes\":{\"axis_label\":\"Prevalence\",\"formatter\":{\"id\":\"1968\"},\"major_label_policy\":{\"id\":\"1967\"},\"ticker\":{\"id\":\"1941\"}},\"id\":\"1940\",\"type\":\"LinearAxis\"},{\"attributes\":{\"label\":{\"value\":\"NRNL\"},\"renderers\":[{\"id\":\"3099\"}]},\"id\":\"3119\",\"type\":\"LegendItem\"},{\"attributes\":{\"line_color\":\"#8c564b\",\"line_width\":2,\"x\":{\"field\":\"Year\"},\"y\":{\"field\":\"Data\"}},\"id\":\"3129\",\"type\":\"Line\"},{\"attributes\":{\"line_alpha\":0.1,\"line_color\":\"#386cb0\",\"line_width\":2,\"x\":{\"field\":\"Year\"},\"y\":{\"field\":\"Data\"}},\"id\":\"3098\",\"type\":\"Line\"},{\"attributes\":{\"fill_alpha\":{\"value\":0.5},\"fill_color\":{\"value\":\"#1f77b4\"},\"line_alpha\":{\"value\":0.5},\"line_color\":{\"value\":\"#1f77b4\"},\"size\":{\"value\":10},\"x\":{\"field\":\"Year\"},\"y\":{\"field\":\"Data\"}},\"id\":\"3059\",\"type\":\"Circle\"},{\"attributes\":{\"data_source\":{\"id\":\"3095\"},\"glyph\":{\"id\":\"3097\"},\"hover_glyph\":null,\"muted_glyph\":null,\"nonselection_glyph\":{\"id\":\"3098\"},\"view\":{\"id\":\"3100\"}},\"id\":\"3099\",\"type\":\"GlyphRenderer\"},{\"attributes\":{\"fill_alpha\":{\"value\":0.1},\"fill_color\":{\"value\":\"#7f7f7f\"},\"line_alpha\":{\"value\":0.1},\"line_color\":{\"value\":\"#7f7f7f\"},\"size\":{\"value\":10},\"x\":{\"field\":\"Year\"},\"y\":{\"field\":\"Data\"}},\"id\":\"3032\",\"type\":\"Circle\"},{\"attributes\":{\"source\":{\"id\":\"3011\"}},\"id\":\"3034\",\"type\":\"CDSView\"},{\"attributes\":{\"data_source\":{\"id\":\"3011\"},\"glyph\":{\"id\":\"3031\"},\"hover_glyph\":null,\"muted_glyph\":null,\"nonselection_glyph\":{\"id\":\"3032\"},\"view\":{\"id\":\"3034\"}},\"id\":\"3033\",\"type\":\"GlyphRenderer\"},{\"attributes\":{\"callback\":null,\"renderers\":[{\"id\":\"3033\"}],\"tooltips\":[[\"(x,y)\",\"(@Year,@Data)\"]]},\"id\":\"3035\",\"type\":\"HoverTool\"},{\"attributes\":{},\"id\":\"3084\",\"type\":\"UnionRenderers\"},{\"attributes\":{\"data\":{\"Data\":{\"__ndarray__\":\"UltJbSW1xT9VVVVVVVW1P4QQQgghhMA/AAAAAAAAAAA=\",\"dtype\":\"float64\",\"order\":\"little\",\"shape\":[4]},\"Year\":[2012,2013,2014,2016]},\"selected\":{\"id\":\"1791\"},\"selection_policy\":{\"id\":\"1790\"}},\"id\":\"1775\",\"type\":\"ColumnDataSource\"},{\"attributes\":{\"source\":{\"id\":\"3037\"}},\"id\":\"3042\",\"type\":\"CDSView\"},{\"attributes\":{},\"id\":\"3085\",\"type\":\"Selection\"},{\"attributes\":{\"fill_alpha\":{\"value\":0.5},\"fill_color\":{\"value\":\"#386cb0\"},\"line_alpha\":{\"value\":0.5},\"line_color\":{\"value\":\"#386cb0\"},\"size\":{\"value\":10},\"x\":{\"field\":\"Year\"},\"y\":{\"field\":\"Data\"}},\"id\":\"3121\",\"type\":\"Circle\"},{\"attributes\":{\"fill_alpha\":{\"value\":0.1},\"fill_color\":{\"value\":\"#386cb0\"},\"line_alpha\":{\"value\":0.1},\"line_color\":{\"value\":\"#386cb0\"},\"size\":{\"value\":10},\"x\":{\"field\":\"Year\"},\"y\":{\"field\":\"Data\"}},\"id\":\"3122\",\"type\":\"Circle\"},{\"attributes\":{\"source\":{\"id\":\"3095\"}},\"id\":\"3124\",\"type\":\"CDSView\"},{\"attributes\":{\"data_source\":{\"id\":\"3095\"},\"glyph\":{\"id\":\"3121\"},\"hover_glyph\":null,\"muted_glyph\":null,\"nonselection_glyph\":{\"id\":\"3122\"},\"view\":{\"id\":\"3124\"}},\"id\":\"3123\",\"type\":\"GlyphRenderer\"},{\"attributes\":{\"callback\":null,\"renderers\":[{\"id\":\"3123\"}],\"tooltips\":[[\"(x,y)\",\"(@Year,@Data)\"]]},\"id\":\"3125\",\"type\":\"HoverTool\"},{\"attributes\":{\"line_color\":\"#d95f02\",\"line_width\":2,\"x\":{\"field\":\"Year\"},\"y\":{\"field\":\"Data\"}},\"id\":\"3067\",\"type\":\"Line\"},{\"attributes\":{\"data_source\":{\"id\":\"3065\"},\"glyph\":{\"id\":\"3067\"},\"hover_glyph\":null,\"muted_glyph\":null,\"nonselection_glyph\":{\"id\":\"3068\"},\"view\":{\"id\":\"3070\"}},\"id\":\"3069\",\"type\":\"GlyphRenderer\"},{\"attributes\":{\"line_alpha\":0.1,\"line_color\":\"#d95f02\",\"line_width\":2,\"x\":{\"field\":\"Year\"},\"y\":{\"field\":\"Data\"}},\"id\":\"3068\",\"type\":\"Line\"},{\"attributes\":{\"toolbars\":[{\"id\":\"1744\"},{\"id\":\"1950\"},{\"id\":\"2156\"},{\"id\":\"2362\"},{\"id\":\"2568\"},{\"id\":\"2774\"},{\"id\":\"2980\"}],\"tools\":[{\"id\":\"1738\"},{\"id\":\"1739\"},{\"id\":\"1740\"},{\"id\":\"1741\"},{\"id\":\"1742\"},{\"id\":\"1773\"},{\"id\":\"1799\"},{\"id\":\"1827\"},{\"id\":\"1857\"},{\"id\":\"1889\"},{\"id\":\"1923\"},{\"id\":\"1944\"},{\"id\":\"1945\"},{\"id\":\"1946\"},{\"id\":\"1947\"},{\"id\":\"1948\"},{\"id\":\"1979\"},{\"id\":\"2005\"},{\"id\":\"2033\"},{\"id\":\"2063\"},{\"id\":\"2095\"},{\"id\":\"2129\"},{\"id\":\"2150\"},{\"id\":\"2151\"},{\"id\":\"2152\"},{\"id\":\"2153\"},{\"id\":\"2154\"},{\"id\":\"2185\"},{\"id\":\"2211\"},{\"id\":\"2239\"},{\"id\":\"2269\"},{\"id\":\"2301\"},{\"id\":\"2335\"},{\"id\":\"2356\"},{\"id\":\"2357\"},{\"id\":\"2358\"},{\"id\":\"2359\"},{\"id\":\"2360\"},{\"id\":\"2391\"},{\"id\":\"2417\"},{\"id\":\"2445\"},{\"id\":\"2475\"},{\"id\":\"2507\"},{\"id\":\"2541\"},{\"id\":\"2562\"},{\"id\":\"2563\"},{\"id\":\"2564\"},{\"id\":\"2565\"},{\"id\":\"2566\"},{\"id\":\"2597\"},{\"id\":\"2623\"},{\"id\":\"2651\"},{\"id\":\"2681\"},{\"id\":\"2713\"},{\"id\":\"2747\"},{\"id\":\"2768\"},{\"id\":\"2769\"},{\"id\":\"2770\"},{\"id\":\"2771\"},{\"id\":\"2772\"},{\"id\":\"2803\"},{\"id\":\"2829\"},{\"id\":\"2857\"},{\"id\":\"2887\"},{\"id\":\"2919\"},{\"id\":\"2953\"},{\"id\":\"2974\"},{\"id\":\"2975\"},{\"id\":\"2976\"},{\"id\":\"2977\"},{\"id\":\"2978\"},{\"id\":\"3009\"},{\"id\":\"3035\"},{\"id\":\"3063\"},{\"id\":\"3093\"},{\"id\":\"3125\"},{\"id\":\"3159\"}]},\"id\":\"3309\",\"type\":\"ProxyToolbar\"},{\"attributes\":{\"data\":{\"Data\":{\"__ndarray__\":\"AAAAAAAAAAAAAAAAAAAAAAAAAAAAAAAAAAAAAAAAAAAAAAAAAAAAAAAAAAAAAAAAAAAAAAAAAAAAAAAAAAAAAAAAAAAAAAAAAAAAAAAAAAAAAAAAAAAAAEdY7mmE5d4/lN1vlN1vxD8cx3Ecx3HMPw==\",\"dtype\":\"float64\",\"order\":\"little\",\"shape\":[14]},\"Year\":[2001,2002,2003,2004,2005,2007,2008,2011,2012,2013,2014,2015,2016,2017]},\"selected\":{\"id\":\"3117\"},\"selection_policy\":{\"id\":\"3116\"}},\"id\":\"3095\",\"type\":\"ColumnDataSource\"},{\"attributes\":{\"data\":{\"Data\":{\"__ndarray__\":\"UM3lBkMd1D+4HoXrUbi+P1xnQ/6ZQco/KKkT0ETYvD9AV5QSglWVPyDhe3+D9rI/OD1hiQeUtT9wGqIKf4azP4CgFRiyuq0/UK7wLhfxrT8AAAAAAAC4P7h4eM+B5c4/6LZELjiDxT+amZmZmZnZPw==\",\"dtype\":\"float64\",\"order\":\"little\",\"shape\":[14]},\"Year\":[2001,2002,2003,2004,2005,2007,2008,2011,2012,2013,2014,2015,2016,2017]},\"selected\":{\"id\":\"3151\"},\"selection_policy\":{\"id\":\"3150\"}},\"id\":\"3127\",\"type\":\"ColumnDataSource\"},{\"attributes\":{\"toolbar\":{\"id\":\"3309\"},\"toolbar_location\":\"above\"},\"id\":\"3310\",\"type\":\"ToolbarBox\"},{\"attributes\":{\"label\":{\"value\":\"AIRNIS\"},\"renderers\":[{\"id\":\"3041\"}]},\"id\":\"3057\",\"type\":\"LegendItem\"},{\"attributes\":{\"fill_alpha\":{\"value\":0.5},\"fill_color\":{\"value\":\"#d95f02\"},\"line_alpha\":{\"value\":0.5},\"line_color\":{\"value\":\"#d95f02\"},\"size\":{\"value\":10},\"x\":{\"field\":\"Year\"},\"y\":{\"field\":\"Data\"}},\"id\":\"3089\",\"type\":\"Circle\"},{\"attributes\":{},\"id\":\"3054\",\"type\":\"UnionRenderers\"},{\"attributes\":{\"callback\":null,\"renderers\":[{\"id\":\"3091\"}],\"tooltips\":[[\"(x,y)\",\"(@Year,@Data)\"]]},\"id\":\"3093\",\"type\":\"HoverTool\"},{\"attributes\":{\"fill_alpha\":{\"value\":0.1},\"fill_color\":{\"value\":\"#d95f02\"},\"line_alpha\":{\"value\":0.1},\"line_color\":{\"value\":\"#d95f02\"},\"size\":{\"value\":10},\"x\":{\"field\":\"Year\"},\"y\":{\"field\":\"Data\"}},\"id\":\"3090\",\"type\":\"Circle\"},{\"attributes\":{\"source\":{\"id\":\"3065\"}},\"id\":\"3092\",\"type\":\"CDSView\"},{\"attributes\":{},\"id\":\"3055\",\"type\":\"Selection\"},{\"attributes\":{\"data_source\":{\"id\":\"3065\"},\"glyph\":{\"id\":\"3089\"},\"hover_glyph\":null,\"muted_glyph\":null,\"nonselection_glyph\":{\"id\":\"3090\"},\"view\":{\"id\":\"3092\"}},\"id\":\"3091\",\"type\":\"GlyphRenderer\"},{\"attributes\":{},\"id\":\"2292\",\"type\":\"UnionRenderers\"},{\"attributes\":{},\"id\":\"2820\",\"type\":\"UnionRenderers\"},{\"attributes\":{},\"id\":\"2293\",\"type\":\"Selection\"},{\"attributes\":{},\"id\":\"2821\",\"type\":\"Selection\"},{\"attributes\":{\"fill_alpha\":{\"value\":0.5},\"fill_color\":{\"value\":\"#1f77b4\"},\"line_alpha\":{\"value\":0.5},\"line_color\":{\"value\":\"#1f77b4\"},\"size\":{\"value\":10},\"x\":{\"field\":\"Year\"},\"y\":{\"field\":\"Data\"}},\"id\":\"1975\",\"type\":\"Circle\"},{\"attributes\":{\"fill_alpha\":{\"value\":0.1},\"fill_color\":{\"value\":\"#1f77b4\"},\"line_alpha\":{\"value\":0.1},\"line_color\":{\"value\":\"#1f77b4\"},\"size\":{\"value\":10},\"x\":{\"field\":\"Year\"},\"y\":{\"field\":\"Data\"}},\"id\":\"1976\",\"type\":\"Circle\"},{\"attributes\":{\"source\":{\"id\":\"2007\"}},\"id\":\"2012\",\"type\":\"CDSView\"},{\"attributes\":{\"fill_alpha\":{\"value\":0.5},\"fill_color\":{\"value\":\"#666666\"},\"line_alpha\":{\"value\":0.5},\"line_color\":{\"value\":\"#666666\"},\"size\":{\"value\":10},\"x\":{\"field\":\"Year\"},\"y\":{\"field\":\"Data\"}},\"id\":\"2853\",\"type\":\"Circle\"},{\"attributes\":{\"fill_alpha\":{\"value\":0.5},\"fill_color\":{\"value\":\"#e377c2\"},\"line_alpha\":{\"value\":0.5},\"line_color\":{\"value\":\"#e377c2\"},\"size\":{\"value\":10},\"x\":{\"field\":\"Year\"},\"y\":{\"field\":\"Data\"}},\"id\":\"2883\",\"type\":\"Circle\"},{\"attributes\":{\"fill_alpha\":{\"value\":0.1},\"fill_color\":{\"value\":\"#17becf\"},\"line_alpha\":{\"value\":0.1},\"line_color\":{\"value\":\"#17becf\"},\"size\":{\"value\":10},\"x\":{\"field\":\"Year\"},\"y\":{\"field\":\"Data\"}},\"id\":\"2298\",\"type\":\"Circle\"},{\"attributes\":{\"fill_alpha\":{\"value\":0.1},\"fill_color\":{\"value\":\"#bf5b17\"},\"line_alpha\":{\"value\":0.1},\"line_color\":{\"value\":\"#bf5b17\"},\"size\":{\"value\":10},\"x\":{\"field\":\"Year\"},\"y\":{\"field\":\"Data\"}},\"id\":\"2826\",\"type\":\"Circle\"},{\"attributes\":{\"source\":{\"id\":\"2271\"}},\"id\":\"2300\",\"type\":\"CDSView\"},{\"attributes\":{\"source\":{\"id\":\"2805\"}},\"id\":\"2828\",\"type\":\"CDSView\"},{\"attributes\":{\"data_source\":{\"id\":\"2271\"},\"glyph\":{\"id\":\"2297\"},\"hover_glyph\":null,\"muted_glyph\":null,\"nonselection_glyph\":{\"id\":\"2298\"},\"view\":{\"id\":\"2300\"}},\"id\":\"2299\",\"type\":\"GlyphRenderer\"},{\"attributes\":{\"data_source\":{\"id\":\"2805\"},\"glyph\":{\"id\":\"2825\"},\"hover_glyph\":null,\"muted_glyph\":null,\"nonselection_glyph\":{\"id\":\"2826\"},\"view\":{\"id\":\"2828\"}},\"id\":\"2827\",\"type\":\"GlyphRenderer\"},{\"attributes\":{\"callback\":null,\"renderers\":[{\"id\":\"2299\"}],\"tooltips\":[[\"(x,y)\",\"(@Year,@Data)\"]]},\"id\":\"2301\",\"type\":\"HoverTool\"},{\"attributes\":{\"callback\":null,\"renderers\":[{\"id\":\"2827\"}],\"tooltips\":[[\"(x,y)\",\"(@Year,@Data)\"]]},\"id\":\"2829\",\"type\":\"HoverTool\"},{\"attributes\":{},\"id\":\"2793\",\"type\":\"UnionRenderers\"},{\"attributes\":{\"source\":{\"id\":\"2831\"}},\"id\":\"2836\",\"type\":\"CDSView\"},{\"attributes\":{},\"id\":\"1996\",\"type\":\"UnionRenderers\"},{\"attributes\":{},\"id\":\"2794\",\"type\":\"Selection\"},{\"attributes\":{},\"id\":\"2756\",\"type\":\"LinearScale\"},{\"attributes\":{},\"id\":\"2758\",\"type\":\"LinearScale\"},{\"attributes\":{},\"id\":\"2346\",\"type\":\"LinearScale\"},{\"attributes\":{},\"id\":\"1997\",\"type\":\"Selection\"},{\"attributes\":{},\"id\":\"2344\",\"type\":\"LinearScale\"},{\"attributes\":{\"line_color\":\"#e377c2\",\"line_width\":2,\"x\":{\"field\":\"Year\"},\"y\":{\"field\":\"Data\"}},\"id\":\"2861\",\"type\":\"Line\"},{\"attributes\":{\"source\":{\"id\":\"2859\"}},\"id\":\"2864\",\"type\":\"CDSView\"},{\"attributes\":{\"data_source\":{\"id\":\"2859\"},\"glyph\":{\"id\":\"2861\"},\"hover_glyph\":null,\"muted_glyph\":null,\"nonselection_glyph\":{\"id\":\"2862\"},\"view\":{\"id\":\"2864\"}},\"id\":\"2863\",\"type\":\"GlyphRenderer\"},{\"attributes\":{\"label\":{\"value\":\"ANRNIS\"},\"renderers\":[{\"id\":\"2863\"}]},\"id\":\"2881\",\"type\":\"LegendItem\"},{\"attributes\":{\"data\":{\"Data\":{\"__ndarray__\":\"9DzP8zzPwz/0BX1BX9CXP2G5pxGWe6o/FDuxEzuxoz+VUkoppZSiP75jamDvmKo/W2AXl7c+oj+Q0TABGQ2DPzvavE9xybA/\",\"dtype\":\"float64\",\"order\":\"little\",\"shape\":[9]},\"Year\":[2007,2008,2009,2010,2011,2012,2013,2014,2015]},\"selected\":{\"id\":\"2911\"},\"selection_policy\":{\"id\":\"2910\"}},\"id\":\"2889\",\"type\":\"ColumnDataSource\"},{\"attributes\":{},\"id\":\"2326\",\"type\":\"UnionRenderers\"},{\"attributes\":{},\"id\":\"2327\",\"type\":\"Selection\"},{\"attributes\":{\"label\":{\"value\":\"A[I/N][R/C][N/S]IS\"},\"renderers\":[{\"id\":\"2835\"}]},\"id\":\"2851\",\"type\":\"LegendItem\"},{\"attributes\":{\"fill_alpha\":{\"value\":0.5},\"fill_color\":{\"value\":\"#1f77b4\"},\"line_alpha\":{\"value\":0.5},\"line_color\":{\"value\":\"#1f77b4\"},\"size\":{\"value\":10},\"x\":{\"field\":\"Year\"},\"y\":{\"field\":\"Data\"}},\"id\":\"2799\",\"type\":\"Circle\"},{\"attributes\":{},\"id\":\"2848\",\"type\":\"UnionRenderers\"},{\"attributes\":{\"label\":{\"value\":\"AI[R/C]NIS\"},\"renderers\":[{\"id\":\"2039\"}]},\"id\":\"2057\",\"type\":\"LegendItem\"},{\"attributes\":{\"fill_alpha\":{\"value\":0.1},\"fill_color\":{\"value\":\"#1f77b4\"},\"line_alpha\":{\"value\":0.1},\"line_color\":{\"value\":\"#1f77b4\"},\"size\":{\"value\":10},\"x\":{\"field\":\"Year\"},\"y\":{\"field\":\"Data\"}},\"id\":\"2800\",\"type\":\"Circle\"},{\"attributes\":{},\"id\":\"2849\",\"type\":\"Selection\"},{\"attributes\":{\"source\":{\"id\":\"2035\"}},\"id\":\"2040\",\"type\":\"CDSView\"},{\"attributes\":{\"fill_alpha\":{\"value\":0.1},\"fill_color\":{\"value\":\"#ff7f0e\"},\"line_alpha\":{\"value\":0.1},\"line_color\":{\"value\":\"#ff7f0e\"},\"size\":{\"value\":10},\"x\":{\"field\":\"Year\"},\"y\":{\"field\":\"Data\"}},\"id\":\"2002\",\"type\":\"Circle\"},{\"attributes\":{\"data\":{\"Data\":{\"__ndarray__\":\"VVVVVVVVtT/2hD1hT9izP0dY7mmE5a4/GqRBGqRBqj/XWmuttdaqP87KT4iz8rM/l7c+EuA3rj93xB1xR9yhP8kQrKPN+7Q/\",\"dtype\":\"float64\",\"order\":\"little\",\"shape\":[9]},\"Year\":[2007,2008,2009,2010,2011,2012,2013,2014,2015]},\"selected\":{\"id\":\"2849\"},\"selection_policy\":{\"id\":\"2848\"}},\"id\":\"2831\",\"type\":\"ColumnDataSource\"},{\"attributes\":{},\"id\":\"2342\",\"type\":\"Range1d\"},{\"attributes\":{\"source\":{\"id\":\"1981\"}},\"id\":\"2004\",\"type\":\"CDSView\"},{\"attributes\":{\"data_source\":{\"id\":\"1981\"},\"glyph\":{\"id\":\"2001\"},\"hover_glyph\":null,\"muted_glyph\":null,\"nonselection_glyph\":{\"id\":\"2002\"},\"view\":{\"id\":\"2004\"}},\"id\":\"2003\",\"type\":\"GlyphRenderer\"},{\"attributes\":{\"callback\":null,\"renderers\":[{\"id\":\"2003\"}],\"tooltips\":[[\"(x,y)\",\"(@Year,@Data)\"]]},\"id\":\"2005\",\"type\":\"HoverTool\"},{\"attributes\":{\"data\":{\"Data\":{\"__ndarray__\":\"AAAAAAAAAABXEJMriMmVPwgEAoFAIHA/eqBydgu/mj8RERERERGRPw==\",\"dtype\":\"float64\",\"order\":\"little\",\"shape\":[5]},\"Year\":[2007,2010,2011,2013,2014]},\"selected\":{\"id\":\"2087\"},\"selection_policy\":{\"id\":\"2086\"}},\"id\":\"2065\",\"type\":\"ColumnDataSource\"},{\"attributes\":{\"line_color\":\"#e377c2\",\"line_width\":2,\"x\":{\"field\":\"Year\"},\"y\":{\"field\":\"Data\"}},\"id\":\"2009\",\"type\":\"Line\"},{\"attributes\":{\"data_source\":{\"id\":\"2007\"},\"glyph\":{\"id\":\"2009\"},\"hover_glyph\":null,\"muted_glyph\":null,\"nonselection_glyph\":{\"id\":\"2010\"},\"view\":{\"id\":\"2012\"}},\"id\":\"2011\",\"type\":\"GlyphRenderer\"},{\"attributes\":{\"data_source\":{\"id\":\"2035\"},\"glyph\":{\"id\":\"2037\"},\"hover_glyph\":null,\"muted_glyph\":null,\"nonselection_glyph\":{\"id\":\"2038\"},\"view\":{\"id\":\"2040\"}},\"id\":\"2039\",\"type\":\"GlyphRenderer\"},{\"attributes\":{\"line_alpha\":0.1,\"line_color\":\"#e377c2\",\"line_width\":2,\"x\":{\"field\":\"Year\"},\"y\":{\"field\":\"Data\"}},\"id\":\"2010\",\"type\":\"Line\"},{\"attributes\":{\"axis_label\":\"Year\",\"formatter\":{\"id\":\"2377\"},\"major_label_policy\":{\"id\":\"2376\"},\"ticker\":{\"id\":\"2349\"}},\"id\":\"2348\",\"type\":\"LinearAxis\"},{\"attributes\":{\"callback\":null,\"renderers\":[{\"id\":\"2333\"}],\"tooltips\":[[\"(x,y)\",\"(@Year,@Data)\"]]},\"id\":\"2335\",\"type\":\"HoverTool\"},{\"attributes\":{\"line_alpha\":0.1,\"line_color\":\"#d62728\",\"line_width\":2,\"x\":{\"field\":\"Year\"},\"y\":{\"field\":\"Data\"}},\"id\":\"2038\",\"type\":\"Line\"},{\"attributes\":{\"fill_alpha\":{\"value\":0.1},\"fill_color\":{\"value\":\"#8c564b\"},\"line_alpha\":{\"value\":0.1},\"line_color\":{\"value\":\"#8c564b\"},\"size\":{\"value\":10},\"x\":{\"field\":\"Year\"},\"y\":{\"field\":\"Data\"}},\"id\":\"2332\",\"type\":\"Circle\"},{\"attributes\":{\"data_source\":{\"id\":\"2303\"},\"glyph\":{\"id\":\"2331\"},\"hover_glyph\":null,\"muted_glyph\":null,\"nonselection_glyph\":{\"id\":\"2332\"},\"view\":{\"id\":\"2334\"}},\"id\":\"2333\",\"type\":\"GlyphRenderer\"},{\"attributes\":{\"fill_alpha\":{\"value\":0.5},\"fill_color\":{\"value\":\"#e377c2\"},\"line_alpha\":{\"value\":0.5},\"line_color\":{\"value\":\"#e377c2\"},\"size\":{\"value\":10},\"x\":{\"field\":\"Year\"},\"y\":{\"field\":\"Data\"}},\"id\":\"2029\",\"type\":\"Circle\"},{\"attributes\":{\"line_color\":\"#d62728\",\"line_width\":2,\"x\":{\"field\":\"Year\"},\"y\":{\"field\":\"Data\"}},\"id\":\"2037\",\"type\":\"Line\"},{\"attributes\":{\"source\":{\"id\":\"2303\"}},\"id\":\"2334\",\"type\":\"CDSView\"},{\"attributes\":{\"label\":{\"value\":\"ANRNIS\"},\"renderers\":[{\"id\":\"2011\"}]},\"id\":\"2027\",\"type\":\"LegendItem\"},{\"attributes\":{},\"id\":\"3150\",\"type\":\"UnionRenderers\"},{\"attributes\":{},\"id\":\"3151\",\"type\":\"Selection\"},{\"attributes\":{\"callback\":null,\"renderers\":[{\"id\":\"2855\"}],\"tooltips\":[[\"(x,y)\",\"(@Year,@Data)\"]]},\"id\":\"2857\",\"type\":\"HoverTool\"},{\"attributes\":{\"below\":[{\"id\":\"2554\"}],\"center\":[{\"id\":\"2557\"},{\"id\":\"2561\"},{\"id\":\"2590\"}],\"height\":400,\"left\":[{\"id\":\"2558\"}],\"renderers\":[{\"id\":\"2578\"},{\"id\":\"2595\"},{\"id\":\"2603\"},{\"id\":\"2621\"},{\"id\":\"2629\"},{\"id\":\"2649\"},{\"id\":\"2657\"},{\"id\":\"2679\"},{\"id\":\"2687\"},{\"id\":\"2711\"},{\"id\":\"2719\"},{\"id\":\"2745\"}],\"title\":{\"id\":\"2544\"},\"toolbar\":{\"id\":\"2568\"},\"toolbar_location\":null,\"width\":400,\"x_range\":{\"id\":\"2546\"},\"x_scale\":{\"id\":\"2550\"},\"y_range\":{\"id\":\"2548\"},\"y_scale\":{\"id\":\"2552\"}},\"id\":\"2543\",\"subtype\":\"Figure\",\"type\":\"Plot\"},{\"attributes\":{\"fill_alpha\":{\"value\":0.1},\"fill_color\":{\"value\":\"#666666\"},\"line_alpha\":{\"value\":0.1},\"line_color\":{\"value\":\"#666666\"},\"size\":{\"value\":10},\"x\":{\"field\":\"Year\"},\"y\":{\"field\":\"Data\"}},\"id\":\"2854\",\"type\":\"Circle\"},{\"attributes\":{},\"id\":\"1881\",\"type\":\"Selection\"},{\"attributes\":{\"source\":{\"id\":\"2831\"}},\"id\":\"2856\",\"type\":\"CDSView\"},{\"attributes\":{},\"id\":\"1880\",\"type\":\"UnionRenderers\"},{\"attributes\":{\"data_source\":{\"id\":\"2831\"},\"glyph\":{\"id\":\"2853\"},\"hover_glyph\":null,\"muted_glyph\":null,\"nonselection_glyph\":{\"id\":\"2854\"},\"view\":{\"id\":\"2856\"}},\"id\":\"2855\",\"type\":\"GlyphRenderer\"},{\"attributes\":{\"source\":{\"id\":\"2065\"}},\"id\":\"2070\",\"type\":\"CDSView\"},{\"attributes\":{},\"id\":\"2879\",\"type\":\"Selection\"},{\"attributes\":{\"text\":\"PfDHFR Predominant Variants in CAF\"},\"id\":\"1720\",\"type\":\"Title\"},{\"attributes\":{},\"id\":\"2878\",\"type\":\"UnionRenderers\"},{\"attributes\":{\"fill_alpha\":{\"value\":0.1},\"fill_color\":{\"value\":\"#d62728\"},\"line_alpha\":{\"value\":0.1},\"line_color\":{\"value\":\"#d62728\"},\"size\":{\"value\":10},\"x\":{\"field\":\"Year\"},\"y\":{\"field\":\"Data\"}},\"id\":\"2060\",\"type\":\"Circle\"},{\"attributes\":{\"source\":{\"id\":\"2035\"}},\"id\":\"2062\",\"type\":\"CDSView\"},{\"attributes\":{\"data_source\":{\"id\":\"2035\"},\"glyph\":{\"id\":\"2059\"},\"hover_glyph\":null,\"muted_glyph\":null,\"nonselection_glyph\":{\"id\":\"2060\"},\"view\":{\"id\":\"2062\"}},\"id\":\"2061\",\"type\":\"GlyphRenderer\"},{\"attributes\":{\"callback\":null,\"renderers\":[{\"id\":\"2061\"}],\"tooltips\":[[\"(x,y)\",\"(@Year,@Data)\"]]},\"id\":\"2063\",\"type\":\"HoverTool\"},{\"attributes\":{\"source\":{\"id\":\"2097\"}},\"id\":\"2102\",\"type\":\"CDSView\"},{\"attributes\":{\"line_color\":\"#1b9e77\",\"line_width\":2,\"x\":{\"field\":\"Year\"},\"y\":{\"field\":\"Data\"}},\"id\":\"2891\",\"type\":\"Line\"},{\"attributes\":{\"fill_alpha\":{\"value\":0.1},\"fill_color\":{\"value\":\"#8c564b\"},\"line_alpha\":{\"value\":0.1},\"line_color\":{\"value\":\"#8c564b\"},\"size\":{\"value\":10},\"x\":{\"field\":\"Year\"},\"y\":{\"field\":\"Data\"}},\"id\":\"3156\",\"type\":\"Circle\"},{\"attributes\":{\"source\":{\"id\":\"3127\"}},\"id\":\"3158\",\"type\":\"CDSView\"},{\"attributes\":{},\"id\":\"2945\",\"type\":\"Selection\"},{\"attributes\":{\"data_source\":{\"id\":\"3127\"},\"glyph\":{\"id\":\"3155\"},\"hover_glyph\":null,\"muted_glyph\":null,\"nonselection_glyph\":{\"id\":\"3156\"},\"view\":{\"id\":\"3158\"}},\"id\":\"3157\",\"type\":\"GlyphRenderer\"},{\"attributes\":{\"callback\":null,\"renderers\":[{\"id\":\"3157\"}],\"tooltips\":[[\"(x,y)\",\"(@Year,@Data)\"]]},\"id\":\"3159\",\"type\":\"HoverTool\"},{\"attributes\":{\"end\":2019,\"start\":2001},\"id\":\"1722\",\"type\":\"Range1d\"},{\"attributes\":{\"line_color\":\"#8c564b\",\"line_width\":2,\"x\":{\"field\":\"Year\"},\"y\":{\"field\":\"Data\"}},\"id\":\"2099\",\"type\":\"Line\"},{\"attributes\":{\"fill_alpha\":{\"value\":0.5},\"fill_color\":{\"value\":\"#8c564b\"},\"line_alpha\":{\"value\":0.5},\"line_color\":{\"value\":\"#8c564b\"},\"size\":{\"value\":10},\"x\":{\"field\":\"Year\"},\"y\":{\"field\":\"Data\"}},\"id\":\"2125\",\"type\":\"Circle\"},{\"attributes\":{\"line_alpha\":0.1,\"line_color\":\"#8c564b\",\"line_width\":2,\"x\":{\"field\":\"Year\"},\"y\":{\"field\":\"Data\"}},\"id\":\"2100\",\"type\":\"Line\"},{\"attributes\":{\"data\":{\"Data\":{\"__ndarray__\":\"btu2bdu25T9JD1TObuHnPxxMkc+6weQ/\",\"dtype\":\"float64\",\"order\":\"little\",\"shape\":[3]},\"Year\":[2008,2013,2014]},\"selected\":{\"id\":\"2382\"},\"selection_policy\":{\"id\":\"2381\"}},\"id\":\"2368\",\"type\":\"ColumnDataSource\"},{\"attributes\":{\"label\":{\"value\":\"Other\"},\"renderers\":[{\"id\":\"2101\"}]},\"id\":\"2123\",\"type\":\"LegendItem\"},{\"attributes\":{\"line_color\":\"#8c564b\",\"line_width\":2,\"x\":{\"field\":\"Year\"},\"y\":{\"field\":\"Data\"}},\"id\":\"1893\",\"type\":\"Line\"},{\"attributes\":{\"label\":{\"value\":\"AI[C/R]NIS\"},\"renderers\":[{\"id\":\"2069\"}]},\"id\":\"2089\",\"type\":\"LegendItem\"},{\"attributes\":{\"fill_alpha\":{\"value\":0.1},\"fill_color\":{\"value\":\"#9467bd\"},\"line_alpha\":{\"value\":0.1},\"line_color\":{\"value\":\"#9467bd\"},\"size\":{\"value\":10},\"x\":{\"field\":\"Year\"},\"y\":{\"field\":\"Data\"}},\"id\":\"1886\",\"type\":\"Circle\"},{\"attributes\":{\"data\":{\"Data\":{\"__ndarray__\":\"OQUvp+DllD8AAAAAAAAAAAwGg8FgMIg/oHJ2C78akz8RERERERGhPw==\",\"dtype\":\"float64\",\"order\":\"little\",\"shape\":[5]},\"Year\":[2007,2010,2011,2013,2014]},\"selected\":{\"id\":\"2055\"},\"selection_policy\":{\"id\":\"2054\"}},\"id\":\"2035\",\"type\":\"ColumnDataSource\"},{\"attributes\":{\"source\":{\"id\":\"1859\"}},\"id\":\"1888\",\"type\":\"CDSView\"},{\"attributes\":{\"data_source\":{\"id\":\"1859\"},\"glyph\":{\"id\":\"1885\"},\"hover_glyph\":null,\"muted_glyph\":null,\"nonselection_glyph\":{\"id\":\"1886\"},\"view\":{\"id\":\"1888\"}},\"id\":\"1887\",\"type\":\"GlyphRenderer\"},{\"attributes\":{},\"id\":\"2086\",\"type\":\"UnionRenderers\"},{\"attributes\":{\"callback\":null,\"renderers\":[{\"id\":\"1887\"}],\"tooltips\":[[\"(x,y)\",\"(@Year,@Data)\"]]},\"id\":\"1889\",\"type\":\"HoverTool\"},{\"attributes\":{\"source\":{\"id\":\"1891\"}},\"id\":\"1896\",\"type\":\"CDSView\"},{\"attributes\":{},\"id\":\"2087\",\"type\":\"Selection\"},{\"attributes\":{\"below\":[{\"id\":\"1730\"}],\"center\":[{\"id\":\"1733\"},{\"id\":\"1737\"},{\"id\":\"1766\"}],\"height\":400,\"left\":[{\"id\":\"1734\"}],\"renderers\":[{\"id\":\"1754\"},{\"id\":\"1771\"},{\"id\":\"1779\"},{\"id\":\"1797\"},{\"id\":\"1805\"},{\"id\":\"1825\"},{\"id\":\"1833\"},{\"id\":\"1855\"},{\"id\":\"1863\"},{\"id\":\"1887\"},{\"id\":\"1895\"},{\"id\":\"1921\"}],\"title\":{\"id\":\"1720\"},\"toolbar\":{\"id\":\"1744\"},\"toolbar_location\":null,\"width\":400,\"x_range\":{\"id\":\"1722\"},\"x_scale\":{\"id\":\"1726\"},\"y_range\":{\"id\":\"1724\"},\"y_scale\":{\"id\":\"1728\"}},\"id\":\"1719\",\"subtype\":\"Figure\",\"type\":\"Plot\"},{\"attributes\":{\"fill_alpha\":{\"value\":0.1},\"fill_color\":{\"value\":\"#e377c2\"},\"line_alpha\":{\"value\":0.1},\"line_color\":{\"value\":\"#e377c2\"},\"size\":{\"value\":10},\"x\":{\"field\":\"Year\"},\"y\":{\"field\":\"Data\"}},\"id\":\"2884\",\"type\":\"Circle\"},{\"attributes\":{\"source\":{\"id\":\"2859\"}},\"id\":\"2886\",\"type\":\"CDSView\"},{\"attributes\":{\"data_source\":{\"id\":\"2859\"},\"glyph\":{\"id\":\"2883\"},\"hover_glyph\":null,\"muted_glyph\":null,\"nonselection_glyph\":{\"id\":\"2884\"},\"view\":{\"id\":\"2886\"}},\"id\":\"2885\",\"type\":\"GlyphRenderer\"},{\"attributes\":{\"fill_alpha\":{\"value\":0.5},\"fill_color\":{\"value\":\"#8c564b\"},\"line_alpha\":{\"value\":0.5},\"line_color\":{\"value\":\"#8c564b\"},\"size\":{\"value\":10},\"x\":{\"field\":\"Year\"},\"y\":{\"field\":\"Data\"}},\"id\":\"1919\",\"type\":\"Circle\"},{\"attributes\":{\"callback\":null,\"renderers\":[{\"id\":\"2885\"}],\"tooltips\":[[\"(x,y)\",\"(@Year,@Data)\"]]},\"id\":\"2887\",\"type\":\"HoverTool\"},{\"attributes\":{\"data\":{\"Data\":{\"__ndarray__\":\"5hS8nIKX4z9dQUyuICbnP6fT6XQ6ne4/VM5u4Vdj6j9VVVVVVVXtPw==\",\"dtype\":\"float64\",\"order\":\"little\",\"shape\":[5]},\"Year\":[2007,2010,2011,2013,2014]},\"selected\":{\"id\":\"1970\"},\"selection_policy\":{\"id\":\"1969\"}},\"id\":\"1956\",\"type\":\"ColumnDataSource\"},{\"attributes\":{\"data_source\":{\"id\":\"2889\"},\"glyph\":{\"id\":\"2891\"},\"hover_glyph\":null,\"muted_glyph\":null,\"nonselection_glyph\":{\"id\":\"2892\"},\"view\":{\"id\":\"2894\"}},\"id\":\"2893\",\"type\":\"GlyphRenderer\"},{\"attributes\":{},\"id\":\"2176\",\"type\":\"Selection\"},{\"attributes\":{\"data\":{\"Data\":{\"__ndarray__\":\"iMb60Fgfuj9XEJMriMmlPwgEAoFAIIA/Kme38KsxoT8AAAAAAAAAAA==\",\"dtype\":\"float64\",\"order\":\"little\",\"shape\":[5]},\"Year\":[2007,2010,2011,2013,2014]},\"selected\":{\"id\":\"2025\"},\"selection_policy\":{\"id\":\"2024\"}},\"id\":\"2007\",\"type\":\"ColumnDataSource\"},{\"attributes\":{\"label\":{\"value\":\"Other\"},\"renderers\":[{\"id\":\"1895\"}]},\"id\":\"1917\",\"type\":\"LegendItem\"},{\"attributes\":{\"source\":{\"id\":\"2889\"}},\"id\":\"2894\",\"type\":\"CDSView\"},{\"attributes\":{\"data\":{\"Data\":{\"__ndarray__\":\"IHqnAu55rj8wmpXtQ97AP3bbheY6jdA/oC+EnPf/zz9Yb9QK0/e+P7iPozmy8sM/+Il1qnzPtD/IrnsrEhOwP2DgufdwydA/\",\"dtype\":\"float64\",\"order\":\"little\",\"shape\":[9]},\"Year\":[2007,2008,2009,2010,2011,2012,2013,2014,2015]},\"selected\":{\"id\":\"2945\"},\"selection_policy\":{\"id\":\"2944\"}},\"id\":\"2921\",\"type\":\"ColumnDataSource\"},{\"attributes\":{},\"id\":\"2175\",\"type\":\"UnionRenderers\"},{\"attributes\":{\"line_color\":\"#ff7f0e\",\"line_width\":2,\"x\":{\"field\":\"Year\"},\"y\":{\"field\":\"Data\"}},\"id\":\"1983\",\"type\":\"Line\"},{\"attributes\":{\"label\":{\"value\":\"A[N/I][C/R][S/N]IS\"},\"renderers\":[{\"id\":\"2893\"}]},\"id\":\"2913\",\"type\":\"LegendItem\"},{\"attributes\":{\"data_source\":{\"id\":\"1891\"},\"glyph\":{\"id\":\"1893\"},\"hover_glyph\":null,\"muted_glyph\":null,\"nonselection_glyph\":{\"id\":\"1894\"},\"view\":{\"id\":\"1896\"}},\"id\":\"1895\",\"type\":\"GlyphRenderer\"},{\"attributes\":{\"fill_alpha\":{\"value\":0.5},\"fill_color\":{\"value\":\"#1b9e77\"},\"line_alpha\":{\"value\":0.5},\"line_color\":{\"value\":\"#1b9e77\"},\"size\":{\"value\":10},\"x\":{\"field\":\"Year\"},\"y\":{\"field\":\"Data\"}},\"id\":\"2915\",\"type\":\"Circle\"},{\"attributes\":{\"line_alpha\":0.1,\"line_color\":\"#8c564b\",\"line_width\":2,\"x\":{\"field\":\"Year\"},\"y\":{\"field\":\"Data\"}},\"id\":\"1894\",\"type\":\"Line\"},{\"attributes\":{\"line_alpha\":0.1,\"line_color\":\"#1b9e77\",\"line_width\":2,\"x\":{\"field\":\"Year\"},\"y\":{\"field\":\"Data\"}},\"id\":\"2892\",\"type\":\"Line\"},{\"attributes\":{\"fill_alpha\":{\"value\":0.5},\"fill_color\":{\"value\":\"#2ca02c\"},\"line_alpha\":{\"value\":0.5},\"line_color\":{\"value\":\"#2ca02c\"},\"size\":{\"value\":10},\"x\":{\"field\":\"Year\"},\"y\":{\"field\":\"Data\"}},\"id\":\"2091\",\"type\":\"Circle\"},{\"attributes\":{\"data_source\":{\"id\":\"2097\"},\"glyph\":{\"id\":\"2099\"},\"hover_glyph\":null,\"muted_glyph\":null,\"nonselection_glyph\":{\"id\":\"2100\"},\"view\":{\"id\":\"2102\"}},\"id\":\"2101\",\"type\":\"GlyphRenderer\"},{\"attributes\":{\"data_source\":{\"id\":\"2921\"},\"glyph\":{\"id\":\"2923\"},\"hover_glyph\":null,\"muted_glyph\":null,\"nonselection_glyph\":{\"id\":\"2924\"},\"view\":{\"id\":\"2926\"}},\"id\":\"2925\",\"type\":\"GlyphRenderer\"},{\"attributes\":{},\"id\":\"1914\",\"type\":\"UnionRenderers\"},{\"attributes\":{\"fill_alpha\":{\"value\":0.1},\"fill_color\":{\"value\":\"#2ca02c\"},\"line_alpha\":{\"value\":0.1},\"line_color\":{\"value\":\"#2ca02c\"},\"size\":{\"value\":10},\"x\":{\"field\":\"Year\"},\"y\":{\"field\":\"Data\"}},\"id\":\"2092\",\"type\":\"Circle\"},{\"attributes\":{\"source\":{\"id\":\"2065\"}},\"id\":\"2094\",\"type\":\"CDSView\"},{\"attributes\":{\"data_source\":{\"id\":\"2065\"},\"glyph\":{\"id\":\"2091\"},\"hover_glyph\":null,\"muted_glyph\":null,\"nonselection_glyph\":{\"id\":\"2092\"},\"view\":{\"id\":\"2094\"}},\"id\":\"2093\",\"type\":\"GlyphRenderer\"},{\"attributes\":{\"callback\":null,\"renderers\":[{\"id\":\"2093\"}],\"tooltips\":[[\"(x,y)\",\"(@Year,@Data)\"]]},\"id\":\"2095\",\"type\":\"HoverTool\"},{\"attributes\":{\"line_color\":\"#8c564b\",\"line_width\":2,\"x\":{\"field\":\"Year\"},\"y\":{\"field\":\"Data\"}},\"id\":\"2923\",\"type\":\"Line\"},{\"attributes\":{},\"id\":\"1915\",\"type\":\"Selection\"},{\"attributes\":{\"text\":\"PfDHFR Predominant Variants in OCE\"},\"id\":\"2338\",\"type\":\"Title\"},{\"attributes\":{\"line_alpha\":0.1,\"line_color\":\"#8c564b\",\"line_width\":2,\"x\":{\"field\":\"Year\"},\"y\":{\"field\":\"Data\"}},\"id\":\"2924\",\"type\":\"Line\"},{\"attributes\":{\"line_alpha\":0.1,\"line_color\":\"#ff7f0e\",\"line_width\":2,\"x\":{\"field\":\"Year\"},\"y\":{\"field\":\"Data\"}},\"id\":\"1778\",\"type\":\"Line\"},{\"attributes\":{},\"id\":\"2555\",\"type\":\"BasicTicker\"},{\"attributes\":{\"data_source\":{\"id\":\"1775\"},\"glyph\":{\"id\":\"1777\"},\"hover_glyph\":null,\"muted_glyph\":null,\"nonselection_glyph\":{\"id\":\"1778\"},\"view\":{\"id\":\"1780\"}},\"id\":\"1779\",\"type\":\"GlyphRenderer\"},{\"attributes\":{\"data\":{\"Data\":{\"__ndarray__\":\"kiRJkiRJ0j8XfjUm0gPFP9C6wRT5rMs/\",\"dtype\":\"float64\",\"order\":\"little\",\"shape\":[3]},\"Year\":[2008,2013,2014]},\"selected\":{\"id\":\"2409\"},\"selection_policy\":{\"id\":\"2408\"}},\"id\":\"2393\",\"type\":\"ColumnDataSource\"},{\"attributes\":{\"callback\":null,\"renderers\":[{\"id\":\"1797\"}],\"tooltips\":[[\"(x,y)\",\"(@Year,@Data)\"]]},\"id\":\"1799\",\"type\":\"HoverTool\"},{\"attributes\":{},\"id\":\"2376\",\"type\":\"AllLabels\"},{\"attributes\":{\"bottom_units\":\"screen\",\"fill_alpha\":0.5,\"fill_color\":\"lightgrey\",\"left_units\":\"screen\",\"level\":\"overlay\",\"line_alpha\":1.0,\"line_color\":\"black\",\"line_dash\":[4,4],\"line_width\":2,\"right_units\":\"screen\",\"syncable\":false,\"top_units\":\"screen\"},\"id\":\"1743\",\"type\":\"BoxAnnotation\"},{\"attributes\":{\"fill_alpha\":{\"value\":0.1},\"fill_color\":{\"value\":\"#8c564b\"},\"line_alpha\":{\"value\":0.1},\"line_color\":{\"value\":\"#8c564b\"},\"size\":{\"value\":10},\"x\":{\"field\":\"Year\"},\"y\":{\"field\":\"Data\"}},\"id\":\"2950\",\"type\":\"Circle\"},{\"attributes\":{\"data_source\":{\"id\":\"1775\"},\"glyph\":{\"id\":\"1795\"},\"hover_glyph\":null,\"muted_glyph\":null,\"nonselection_glyph\":{\"id\":\"1796\"},\"view\":{\"id\":\"1798\"}},\"id\":\"1797\",\"type\":\"GlyphRenderer\"},{\"attributes\":{\"source\":{\"id\":\"1775\"}},\"id\":\"1798\",\"type\":\"CDSView\"},{\"attributes\":{\"source\":{\"id\":\"2447\"}},\"id\":\"2452\",\"type\":\"CDSView\"},{\"attributes\":{\"fill_alpha\":{\"value\":0.1},\"fill_color\":{\"value\":\"#ff7f0e\"},\"line_alpha\":{\"value\":0.1},\"line_color\":{\"value\":\"#ff7f0e\"},\"size\":{\"value\":10},\"x\":{\"field\":\"Year\"},\"y\":{\"field\":\"Data\"}},\"id\":\"1796\",\"type\":\"Circle\"},{\"attributes\":{\"source\":{\"id\":\"2921\"}},\"id\":\"2952\",\"type\":\"CDSView\"},{\"attributes\":{\"data_source\":{\"id\":\"2921\"},\"glyph\":{\"id\":\"2949\"},\"hover_glyph\":null,\"muted_glyph\":null,\"nonselection_glyph\":{\"id\":\"2950\"},\"view\":{\"id\":\"2952\"}},\"id\":\"2951\",\"type\":\"GlyphRenderer\"},{\"attributes\":{\"label\":{\"value\":\"ANRNI[F/S]\"},\"renderers\":[{\"id\":\"2451\"}]},\"id\":\"2469\",\"type\":\"LegendItem\"},{\"attributes\":{},\"id\":\"2408\",\"type\":\"UnionRenderers\"},{\"attributes\":{\"callback\":null,\"renderers\":[{\"id\":\"2443\"}],\"tooltips\":[[\"(x,y)\",\"(@Year,@Data)\"]]},\"id\":\"2445\",\"type\":\"HoverTool\"},{\"attributes\":{\"callback\":null,\"renderers\":[{\"id\":\"2951\"}],\"tooltips\":[[\"(x,y)\",\"(@Year,@Data)\"]]},\"id\":\"2953\",\"type\":\"HoverTool\"},{\"attributes\":{},\"id\":\"1758\",\"type\":\"AllLabels\"},{\"attributes\":{\"axis_label\":\"Prevalence\",\"formatter\":{\"id\":\"2586\"},\"major_label_policy\":{\"id\":\"2585\"},\"ticker\":{\"id\":\"2559\"}},\"id\":\"2558\",\"type\":\"LinearAxis\"},{\"attributes\":{},\"id\":\"1930\",\"type\":\"Range1d\"},{\"attributes\":{},\"id\":\"2559\",\"type\":\"BasicTicker\"},{\"attributes\":{\"fill_alpha\":{\"value\":0.1},\"fill_color\":{\"value\":\"#beaed4\"},\"line_alpha\":{\"value\":0.1},\"line_color\":{\"value\":\"#beaed4\"},\"size\":{\"value\":10},\"x\":{\"field\":\"Year\"},\"y\":{\"field\":\"Data\"}},\"id\":\"2442\",\"type\":\"Circle\"},{\"attributes\":{},\"id\":\"2409\",\"type\":\"Selection\"},{\"attributes\":{\"label\":{\"value\":\"AIRNIS\"},\"renderers\":[{\"id\":\"1754\"}]},\"id\":\"1767\",\"type\":\"LegendItem\"},{\"attributes\":{\"source\":{\"id\":\"2419\"}},\"id\":\"2444\",\"type\":\"CDSView\"},{\"attributes\":{\"data_source\":{\"id\":\"2419\"},\"glyph\":{\"id\":\"2441\"},\"hover_glyph\":null,\"muted_glyph\":null,\"nonselection_glyph\":{\"id\":\"2442\"},\"view\":{\"id\":\"2444\"}},\"id\":\"2443\",\"type\":\"GlyphRenderer\"},{\"attributes\":{},\"id\":\"2999\",\"type\":\"UnionRenderers\"},{\"attributes\":{\"bottom_units\":\"screen\",\"fill_alpha\":0.5,\"fill_color\":\"lightgrey\",\"left_units\":\"screen\",\"level\":\"overlay\",\"line_alpha\":1.0,\"line_color\":\"black\",\"line_dash\":[4,4],\"line_width\":2,\"right_units\":\"screen\",\"syncable\":false,\"top_units\":\"screen\"},\"id\":\"2979\",\"type\":\"BoxAnnotation\"},{\"attributes\":{\"line_color\":\"#1f77b4\",\"line_width\":2,\"x\":{\"field\":\"Year\"},\"y\":{\"field\":\"Data\"}},\"id\":\"1752\",\"type\":\"Line\"},{\"attributes\":{\"axis_label\":\"Year\",\"formatter\":{\"id\":\"2583\"},\"major_label_policy\":{\"id\":\"2582\"},\"ticker\":{\"id\":\"2555\"}},\"id\":\"2554\",\"type\":\"LinearAxis\"},{\"attributes\":{},\"id\":\"1759\",\"type\":\"BasicTickFormatter\"},{\"attributes\":{\"source\":{\"id\":\"2477\"}},\"id\":\"2482\",\"type\":\"CDSView\"},{\"attributes\":{\"axis\":{\"id\":\"2558\"},\"dimension\":1,\"ticker\":null},\"id\":\"2561\",\"type\":\"Grid\"},{\"attributes\":{\"data\":{\"Data\":{\"__ndarray__\":\"AAAAAAAAAAAAAAAAAAAAAAAAAAAAAAAAAAAAAAAAAAAAAAAAAAAAAAAAAAAAAAAAAAAAAAAAAAAAAAAAAAAAAAAAAAAAAAAAAAAAAAAAAAAAAAAAAAAAAJZ7GmG5p9E/FjqDFTqD5T/Ygi3Ygi3YPw==\",\"dtype\":\"float64\",\"order\":\"little\",\"shape\":[14]},\"Year\":[2001,2002,2003,2004,2005,2007,2008,2011,2012,2013,2014,2015,2016,2017]},\"selected\":{\"id\":\"3027\"},\"selection_policy\":{\"id\":\"3026\"}},\"id\":\"3011\",\"type\":\"ColumnDataSource\"},{\"attributes\":{},\"id\":\"3000\",\"type\":\"Selection\"},{\"attributes\":{\"data_source\":{\"id\":\"2986\"},\"glyph\":{\"id\":\"2988\"},\"hover_glyph\":null,\"muted_glyph\":null,\"nonselection_glyph\":{\"id\":\"2989\"},\"view\":{\"id\":\"2991\"}},\"id\":\"2990\",\"type\":\"GlyphRenderer\"},{\"attributes\":{},\"id\":\"1763\",\"type\":\"UnionRenderers\"},{\"attributes\":{\"source\":{\"id\":\"2368\"}},\"id\":\"2373\",\"type\":\"CDSView\"},{\"attributes\":{},\"id\":\"1764\",\"type\":\"Selection\"},{\"attributes\":{\"bottom_units\":\"screen\",\"fill_alpha\":0.5,\"fill_color\":\"lightgrey\",\"left_units\":\"screen\",\"level\":\"overlay\",\"line_alpha\":1.0,\"line_color\":\"black\",\"line_dash\":[4,4],\"line_width\":2,\"right_units\":\"screen\",\"syncable\":false,\"top_units\":\"screen\"},\"id\":\"2361\",\"type\":\"BoxAnnotation\"},{\"attributes\":{\"source\":{\"id\":\"1750\"}},\"id\":\"1755\",\"type\":\"CDSView\"},{\"attributes\":{\"line_color\":\"#ffff99\",\"line_width\":2,\"x\":{\"field\":\"Year\"},\"y\":{\"field\":\"Data\"}},\"id\":\"2479\",\"type\":\"Line\"},{\"attributes\":{\"line_alpha\":0.1,\"line_color\":\"#1f77b4\",\"line_width\":2,\"x\":{\"field\":\"Year\"},\"y\":{\"field\":\"Data\"}},\"id\":\"1753\",\"type\":\"Line\"},{\"attributes\":{\"fill_alpha\":{\"value\":0.5},\"fill_color\":{\"value\":\"#ffff99\"},\"line_alpha\":{\"value\":0.5},\"line_color\":{\"value\":\"#ffff99\"},\"size\":{\"value\":10},\"x\":{\"field\":\"Year\"},\"y\":{\"field\":\"Data\"}},\"id\":\"2503\",\"type\":\"Circle\"},{\"attributes\":{\"line_color\":\"#17becf\",\"line_width\":2,\"x\":{\"field\":\"Year\"},\"y\":{\"field\":\"Data\"}},\"id\":\"2988\",\"type\":\"Line\"},{\"attributes\":{\"line_color\":\"#ff7f0e\",\"line_width\":2,\"x\":{\"field\":\"Year\"},\"y\":{\"field\":\"Data\"}},\"id\":\"1777\",\"type\":\"Line\"},{\"attributes\":{\"line_alpha\":0.1,\"line_color\":\"#7fc97f\",\"line_width\":2,\"x\":{\"field\":\"Year\"},\"y\":{\"field\":\"Data\"}},\"id\":\"2371\",\"type\":\"Line\"},{\"attributes\":{\"line_alpha\":0.1,\"line_color\":\"#ffff99\",\"line_width\":2,\"x\":{\"field\":\"Year\"},\"y\":{\"field\":\"Data\"}},\"id\":\"2480\",\"type\":\"Line\"},{\"attributes\":{\"background_fill_alpha\":0.7,\"items\":[{\"id\":\"1767\"},{\"id\":\"1793\"},{\"id\":\"1821\"},{\"id\":\"1851\"},{\"id\":\"1883\"},{\"id\":\"1917\"}]},\"id\":\"1766\",\"type\":\"Legend\"},{\"attributes\":{\"data\":{\"Data\":{\"__ndarray__\":\"TGcxncV0tj9VVVVVVVW1P4QQQgghhJA/AAAAAAAAAAA=\",\"dtype\":\"float64\",\"order\":\"little\",\"shape\":[4]},\"Year\":[2012,2013,2014,2016]},\"selected\":{\"id\":\"1819\"},\"selection_policy\":{\"id\":\"1818\"}},\"id\":\"1801\",\"type\":\"ColumnDataSource\"},{\"attributes\":{},\"id\":\"2380\",\"type\":\"BasicTickFormatter\"},{\"attributes\":{\"label\":{\"value\":\"AN[R/C]NI[F/S]\"},\"renderers\":[{\"id\":\"2481\"}]},\"id\":\"2501\",\"type\":\"LegendItem\"},{\"attributes\":{\"source\":{\"id\":\"2986\"}},\"id\":\"2991\",\"type\":\"CDSView\"},{\"attributes\":{},\"id\":\"2379\",\"type\":\"AllLabels\"},{\"attributes\":{\"fill_alpha\":{\"value\":0.1},\"fill_color\":{\"value\":\"#e377c2\"},\"line_alpha\":{\"value\":0.1},\"line_color\":{\"value\":\"#e377c2\"},\"size\":{\"value\":10},\"x\":{\"field\":\"Year\"},\"y\":{\"field\":\"Data\"}},\"id\":\"2414\",\"type\":\"Circle\"},{\"attributes\":{\"overlay\":{\"id\":\"1743\"}},\"id\":\"1740\",\"type\":\"BoxZoomTool\"},{\"attributes\":{\"source\":{\"id\":\"2393\"}},\"id\":\"2416\",\"type\":\"CDSView\"},{\"attributes\":{\"line_alpha\":0.1,\"line_color\":\"#17becf\",\"line_width\":2,\"x\":{\"field\":\"Year\"},\"y\":{\"field\":\"Data\"}},\"id\":\"2989\",\"type\":\"Line\"},{\"attributes\":{},\"id\":\"1741\",\"type\":\"ResetTool\"},{\"attributes\":{\"data_source\":{\"id\":\"2393\"},\"glyph\":{\"id\":\"2413\"},\"hover_glyph\":null,\"muted_glyph\":null,\"nonselection_glyph\":{\"id\":\"2414\"},\"view\":{\"id\":\"2416\"}},\"id\":\"2415\",\"type\":\"GlyphRenderer\"},{\"attributes\":{\"callback\":null,\"renderers\":[{\"id\":\"2415\"}],\"tooltips\":[[\"(x,y)\",\"(@Year,@Data)\"]]},\"id\":\"2417\",\"type\":\"HoverTool\"},{\"attributes\":{\"data\":{\"Data\":{\"__ndarray__\":\"Fl/xFV/xtT+amZmZmZm5P5AGaZAGabA/qSfjt0s9uT8AAAAAAAAAAGgvob2E9rI/lnsaYbmnsT/QcFL35bG1P/6S5S9Z/sI/cB/BfQT3wT8AAAAAAADMPwAAAAAAAAAAAAAAAAAAAAAAAAAAAAAAAA==\",\"dtype\":\"float64\",\"order\":\"little\",\"shape\":[14]},\"Year\":[2001,2002,2003,2004,2005,2007,2008,2011,2012,2013,2014,2015,2016,2017]},\"selected\":{\"id\":\"3055\"},\"selection_policy\":{\"id\":\"3054\"}},\"id\":\"3037\",\"type\":\"ColumnDataSource\"},{\"attributes\":{\"active_drag\":{\"id\":\"1738\"},\"active_multi\":null,\"active_scroll\":{\"id\":\"1739\"},\"tools\":[{\"id\":\"1738\"},{\"id\":\"1739\"},{\"id\":\"1740\"},{\"id\":\"1741\"},{\"id\":\"1742\"},{\"id\":\"1773\"},{\"id\":\"1799\"},{\"id\":\"1827\"},{\"id\":\"1857\"},{\"id\":\"1889\"},{\"id\":\"1923\"}]},\"id\":\"1744\",\"type\":\"Toolbar\"},{\"attributes\":{},\"id\":\"2466\",\"type\":\"UnionRenderers\"},{\"attributes\":{},\"id\":\"1739\",\"type\":\"WheelZoomTool\"},{\"attributes\":{\"data_source\":{\"id\":\"2447\"},\"glyph\":{\"id\":\"2449\"},\"hover_glyph\":null,\"muted_glyph\":null,\"nonselection_glyph\":{\"id\":\"2450\"},\"view\":{\"id\":\"2452\"}},\"id\":\"2451\",\"type\":\"GlyphRenderer\"},{\"attributes\":{\"callback\":null},\"id\":\"1742\",\"type\":\"TapTool\"},{\"attributes\":{\"background_fill_alpha\":0.7,\"items\":[{\"id\":\"2385\"},{\"id\":\"2411\"},{\"id\":\"2439\"},{\"id\":\"2469\"},{\"id\":\"2501\"},{\"id\":\"2535\"}]},\"id\":\"2384\",\"type\":\"Legend\"},{\"attributes\":{},\"id\":\"2467\",\"type\":\"Selection\"},{\"attributes\":{\"fill_alpha\":{\"value\":0.5},\"fill_color\":{\"value\":\"#1f77b4\"},\"line_alpha\":{\"value\":0.5},\"line_color\":{\"value\":\"#1f77b4\"},\"size\":{\"value\":10},\"x\":{\"field\":\"Year\"},\"y\":{\"field\":\"Data\"}},\"id\":\"1769\",\"type\":\"Circle\"},{\"attributes\":{\"data\":{\"Data\":{\"__ndarray__\":\"AAAAAAAAAABnt/CrMZGuP9C6wRT5rKs/\",\"dtype\":\"float64\",\"order\":\"little\",\"shape\":[3]},\"Year\":[2008,2013,2014]},\"selected\":{\"id\":\"2437\"},\"selection_policy\":{\"id\":\"2436\"}},\"id\":\"2419\",\"type\":\"ColumnDataSource\"},{\"attributes\":{\"data_source\":{\"id\":\"2368\"},\"glyph\":{\"id\":\"2370\"},\"hover_glyph\":null,\"muted_glyph\":null,\"nonselection_glyph\":{\"id\":\"2371\"},\"view\":{\"id\":\"2373\"}},\"id\":\"2372\",\"type\":\"GlyphRenderer\"},{\"attributes\":{\"data_source\":{\"id\":\"1750\"},\"glyph\":{\"id\":\"1752\"},\"hover_glyph\":null,\"muted_glyph\":null,\"nonselection_glyph\":{\"id\":\"1753\"},\"view\":{\"id\":\"1755\"}},\"id\":\"1754\",\"type\":\"GlyphRenderer\"},{\"attributes\":{\"data_source\":{\"id\":\"2393\"},\"glyph\":{\"id\":\"2395\"},\"hover_glyph\":null,\"muted_glyph\":null,\"nonselection_glyph\":{\"id\":\"2396\"},\"view\":{\"id\":\"2398\"}},\"id\":\"2397\",\"type\":\"GlyphRenderer\"},{\"attributes\":{},\"id\":\"1762\",\"type\":\"BasicTickFormatter\"},{\"attributes\":{\"fill_alpha\":{\"value\":0.5},\"fill_color\":{\"value\":\"#ff7f0e\"},\"line_alpha\":{\"value\":0.5},\"line_color\":{\"value\":\"#ff7f0e\"},\"size\":{\"value\":10},\"x\":{\"field\":\"Year\"},\"y\":{\"field\":\"Data\"}},\"id\":\"1795\",\"type\":\"Circle\"},{\"attributes\":{\"line_color\":\"#fdc086\",\"line_width\":2,\"x\":{\"field\":\"Year\"},\"y\":{\"field\":\"Data\"}},\"id\":\"2449\",\"type\":\"Line\"},{\"attributes\":{\"fill_alpha\":{\"value\":0.1},\"fill_color\":{\"value\":\"#1f77b4\"},\"line_alpha\":{\"value\":0.1},\"line_color\":{\"value\":\"#1f77b4\"},\"size\":{\"value\":10},\"x\":{\"field\":\"Year\"},\"y\":{\"field\":\"Data\"}},\"id\":\"1770\",\"type\":\"Circle\"},{\"attributes\":{\"label\":{\"value\":\"ANRNI[S/F]\"},\"renderers\":[{\"id\":\"2423\"}]},\"id\":\"2439\",\"type\":\"LegendItem\"},{\"attributes\":{},\"id\":\"1761\",\"type\":\"AllLabels\"},{\"attributes\":{\"source\":{\"id\":\"1750\"}},\"id\":\"1772\",\"type\":\"CDSView\"},{\"attributes\":{\"data\":{\"Data\":{\"__ndarray__\":\"kiRJkiRJoj8AAAAAAAAAAAAAAAAAAAAA\",\"dtype\":\"float64\",\"order\":\"little\",\"shape\":[3]},\"Year\":[2008,2013,2014]},\"selected\":{\"id\":\"2499\"},\"selection_policy\":{\"id\":\"2498\"}},\"id\":\"2477\",\"type\":\"ColumnDataSource\"},{\"attributes\":{\"callback\":null},\"id\":\"2978\",\"type\":\"TapTool\"},{\"attributes\":{\"data_source\":{\"id\":\"1750\"},\"glyph\":{\"id\":\"1769\"},\"hover_glyph\":null,\"muted_glyph\":null,\"nonselection_glyph\":{\"id\":\"1770\"},\"view\":{\"id\":\"1772\"}},\"id\":\"1771\",\"type\":\"GlyphRenderer\"},{\"attributes\":{\"line_color\":\"#e377c2\",\"line_width\":2,\"x\":{\"field\":\"Year\"},\"y\":{\"field\":\"Data\"}},\"id\":\"2395\",\"type\":\"Line\"},{\"attributes\":{\"active_drag\":{\"id\":\"2356\"},\"active_multi\":null,\"active_scroll\":{\"id\":\"2357\"},\"tools\":[{\"id\":\"2356\"},{\"id\":\"2357\"},{\"id\":\"2358\"},{\"id\":\"2359\"},{\"id\":\"2360\"},{\"id\":\"2391\"},{\"id\":\"2417\"},{\"id\":\"2445\"},{\"id\":\"2475\"},{\"id\":\"2507\"},{\"id\":\"2541\"}]},\"id\":\"2362\",\"type\":\"Toolbar\"},{\"attributes\":{\"callback\":null,\"renderers\":[{\"id\":\"1771\"}],\"tooltips\":[[\"(x,y)\",\"(@Year,@Data)\"]]},\"id\":\"1773\",\"type\":\"HoverTool\"},{\"attributes\":{},\"id\":\"2974\",\"type\":\"PanTool\"},{\"attributes\":{\"source\":{\"id\":\"1801\"}},\"id\":\"1806\",\"type\":\"CDSView\"},{\"attributes\":{\"line_alpha\":0.1,\"line_color\":\"#fdc086\",\"line_width\":2,\"x\":{\"field\":\"Year\"},\"y\":{\"field\":\"Data\"}},\"id\":\"2450\",\"type\":\"Line\"},{\"attributes\":{\"overlay\":{\"id\":\"2979\"}},\"id\":\"2976\",\"type\":\"BoxZoomTool\"},{\"attributes\":{\"label\":{\"value\":\"ANRNIF\"},\"renderers\":[{\"id\":\"2372\"}]},\"id\":\"2385\",\"type\":\"LegendItem\"},{\"attributes\":{},\"id\":\"2977\",\"type\":\"ResetTool\"},{\"attributes\":{\"source\":{\"id\":\"1775\"}},\"id\":\"1780\",\"type\":\"CDSView\"},{\"attributes\":{\"line_alpha\":0.1,\"line_color\":\"#e377c2\",\"line_width\":2,\"x\":{\"field\":\"Year\"},\"y\":{\"field\":\"Data\"}},\"id\":\"2396\",\"type\":\"Line\"},{\"attributes\":{\"line_color\":\"#7fc97f\",\"line_width\":2,\"x\":{\"field\":\"Year\"},\"y\":{\"field\":\"Data\"}},\"id\":\"2370\",\"type\":\"Line\"},{\"attributes\":{},\"id\":\"2436\",\"type\":\"UnionRenderers\"},{\"attributes\":{},\"id\":\"2437\",\"type\":\"Selection\"},{\"attributes\":{\"label\":{\"value\":\"AICNIS\"},\"renderers\":[{\"id\":\"1779\"}]},\"id\":\"1793\",\"type\":\"LegendItem\"},{\"attributes\":{\"active_drag\":{\"id\":\"2974\"},\"active_multi\":null,\"active_scroll\":{\"id\":\"2975\"},\"tools\":[{\"id\":\"2974\"},{\"id\":\"2975\"},{\"id\":\"2976\"},{\"id\":\"2977\"},{\"id\":\"2978\"},{\"id\":\"3009\"},{\"id\":\"3035\"},{\"id\":\"3063\"},{\"id\":\"3093\"},{\"id\":\"3125\"},{\"id\":\"3159\"}]},\"id\":\"2980\",\"type\":\"Toolbar\"},{\"attributes\":{\"fill_alpha\":{\"value\":0.5},\"fill_color\":{\"value\":\"#fdc086\"},\"line_alpha\":{\"value\":0.5},\"line_color\":{\"value\":\"#fdc086\"},\"size\":{\"value\":10},\"x\":{\"field\":\"Year\"},\"y\":{\"field\":\"Data\"}},\"id\":\"2471\",\"type\":\"Circle\"},{\"attributes\":{\"data_source\":{\"id\":\"2477\"},\"glyph\":{\"id\":\"2479\"},\"hover_glyph\":null,\"muted_glyph\":null,\"nonselection_glyph\":{\"id\":\"2480\"},\"view\":{\"id\":\"2482\"}},\"id\":\"2481\",\"type\":\"GlyphRenderer\"},{\"attributes\":{},\"id\":\"2377\",\"type\":\"BasicTickFormatter\"},{\"attributes\":{\"line_color\":\"#2ca02c\",\"line_width\":2,\"x\":{\"field\":\"Year\"},\"y\":{\"field\":\"Data\"}},\"id\":\"1803\",\"type\":\"Line\"},{\"attributes\":{\"axis\":{\"id\":\"2970\"},\"dimension\":1,\"ticker\":null},\"id\":\"2973\",\"type\":\"Grid\"},{\"attributes\":{\"line_alpha\":0.1,\"line_color\":\"#2ca02c\",\"line_width\":2,\"x\":{\"field\":\"Year\"},\"y\":{\"field\":\"Data\"}},\"id\":\"1804\",\"type\":\"Line\"},{\"attributes\":{},\"id\":\"2975\",\"type\":\"WheelZoomTool\"},{\"attributes\":{\"fill_alpha\":{\"value\":0.1},\"fill_color\":{\"value\":\"#fdc086\"},\"line_alpha\":{\"value\":0.1},\"line_color\":{\"value\":\"#fdc086\"},\"size\":{\"value\":10},\"x\":{\"field\":\"Year\"},\"y\":{\"field\":\"Data\"}},\"id\":\"2472\",\"type\":\"Circle\"},{\"attributes\":{\"axis\":{\"id\":\"2554\"},\"ticker\":null},\"id\":\"2557\",\"type\":\"Grid\"},{\"attributes\":{\"source\":{\"id\":\"2447\"}},\"id\":\"2474\",\"type\":\"CDSView\"},{\"attributes\":{\"data_source\":{\"id\":\"2447\"},\"glyph\":{\"id\":\"2471\"},\"hover_glyph\":null,\"muted_glyph\":null,\"nonselection_glyph\":{\"id\":\"2472\"},\"view\":{\"id\":\"2474\"}},\"id\":\"2473\",\"type\":\"GlyphRenderer\"},{\"attributes\":{\"callback\":null,\"renderers\":[{\"id\":\"2473\"}],\"tooltips\":[[\"(x,y)\",\"(@Year,@Data)\"]]},\"id\":\"2475\",\"type\":\"HoverTool\"},{\"attributes\":{\"data\":{\"Data\":{\"__ndarray__\":\"KK+hvIbyqj8cx3Ecx3G8P4QQQgghhLA/AAAAAAAAAAA=\",\"dtype\":\"float64\",\"order\":\"little\",\"shape\":[4]},\"Year\":[2012,2013,2014,2016]},\"selected\":{\"id\":\"1849\"},\"selection_policy\":{\"id\":\"1848\"}},\"id\":\"1829\",\"type\":\"ColumnDataSource\"},{\"attributes\":{\"data_source\":{\"id\":\"1801\"},\"glyph\":{\"id\":\"1803\"},\"hover_glyph\":null,\"muted_glyph\":null,\"nonselection_glyph\":{\"id\":\"1804\"},\"view\":{\"id\":\"1806\"}},\"id\":\"1805\",\"type\":\"GlyphRenderer\"},{\"attributes\":{\"data\":{\"Data\":{\"__ndarray__\":\"AAAAAAAAAABnt/CrMZGePxxMkc+6wbQ/\",\"dtype\":\"float64\",\"order\":\"little\",\"shape\":[3]},\"Year\":[2008,2013,2014]},\"selected\":{\"id\":\"2467\"},\"selection_policy\":{\"id\":\"2466\"}},\"id\":\"2447\",\"type\":\"ColumnDataSource\"},{\"attributes\":{\"data\":{\"Data\":{\"__ndarray__\":\"AACwoPfGsD4AAAAAAACgPAAAAAAAAAAA\",\"dtype\":\"float64\",\"order\":\"little\",\"shape\":[3]},\"Year\":[2008,2013,2014]},\"selected\":{\"id\":\"2533\"},\"selection_policy\":{\"id\":\"2532\"}},\"id\":\"2509\",\"type\":\"ColumnDataSource\"},{\"attributes\":{},\"id\":\"2910\",\"type\":\"UnionRenderers\"},{\"attributes\":{},\"id\":\"2911\",\"type\":\"Selection\"},{\"attributes\":{\"fill_alpha\":{\"value\":0.5},\"fill_color\":{\"value\":\"#bcbd22\"},\"line_alpha\":{\"value\":0.5},\"line_color\":{\"value\":\"#bcbd22\"},\"size\":{\"value\":10},\"x\":{\"field\":\"Year\"},\"y\":{\"field\":\"Data\"}},\"id\":\"2593\",\"type\":\"Circle\"},{\"attributes\":{},\"id\":\"2024\",\"type\":\"UnionRenderers\"},{\"attributes\":{\"source\":{\"id\":\"2653\"}},\"id\":\"2680\",\"type\":\"CDSView\"},{\"attributes\":{},\"id\":\"2025\",\"type\":\"Selection\"},{\"attributes\":{\"fill_alpha\":{\"value\":0.1},\"fill_color\":{\"value\":\"#bcbd22\"},\"line_alpha\":{\"value\":0.1},\"line_color\":{\"value\":\"#bcbd22\"},\"size\":{\"value\":10},\"x\":{\"field\":\"Year\"},\"y\":{\"field\":\"Data\"}},\"id\":\"2594\",\"type\":\"Circle\"},{\"attributes\":{\"source\":{\"id\":\"2574\"}},\"id\":\"2596\",\"type\":\"CDSView\"},{\"attributes\":{\"data_source\":{\"id\":\"2574\"},\"glyph\":{\"id\":\"2593\"},\"hover_glyph\":null,\"muted_glyph\":null,\"nonselection_glyph\":{\"id\":\"2594\"},\"view\":{\"id\":\"2596\"}},\"id\":\"2595\",\"type\":\"GlyphRenderer\"},{\"attributes\":{\"callback\":null,\"renderers\":[{\"id\":\"2595\"}],\"tooltips\":[[\"(x,y)\",\"(@Year,@Data)\"]]},\"id\":\"2597\",\"type\":\"HoverTool\"},{\"attributes\":{\"source\":{\"id\":\"2625\"}},\"id\":\"2630\",\"type\":\"CDSView\"},{\"attributes\":{},\"id\":\"2381\",\"type\":\"UnionRenderers\"},{\"attributes\":{\"source\":{\"id\":\"2599\"}},\"id\":\"2604\",\"type\":\"CDSView\"},{\"attributes\":{},\"id\":\"2382\",\"type\":\"Selection\"},{\"attributes\":{\"source\":{\"id\":\"2921\"}},\"id\":\"2926\",\"type\":\"CDSView\"},{\"attributes\":{\"fill_alpha\":{\"value\":0.5},\"fill_color\":{\"value\":\"#8c564b\"},\"line_alpha\":{\"value\":0.5},\"line_color\":{\"value\":\"#8c564b\"},\"size\":{\"value\":10},\"x\":{\"field\":\"Year\"},\"y\":{\"field\":\"Data\"}},\"id\":\"2949\",\"type\":\"Circle\"},{\"attributes\":{\"line_color\":\"#7f7f7f\",\"line_width\":2,\"x\":{\"field\":\"Year\"},\"y\":{\"field\":\"Data\"}},\"id\":\"2627\",\"type\":\"Line\"},{\"attributes\":{\"fill_alpha\":{\"value\":0.1},\"fill_color\":{\"value\":\"#1b9e77\"},\"line_alpha\":{\"value\":0.1},\"line_color\":{\"value\":\"#1b9e77\"},\"size\":{\"value\":10},\"x\":{\"field\":\"Year\"},\"y\":{\"field\":\"Data\"}},\"id\":\"2916\",\"type\":\"Circle\"},{\"attributes\":{\"line_alpha\":0.1,\"line_color\":\"#7f7f7f\",\"line_width\":2,\"x\":{\"field\":\"Year\"},\"y\":{\"field\":\"Data\"}},\"id\":\"2628\",\"type\":\"Line\"},{\"attributes\":{\"source\":{\"id\":\"2889\"}},\"id\":\"2918\",\"type\":\"CDSView\"},{\"attributes\":{\"callback\":null,\"renderers\":[{\"id\":\"2679\"}],\"tooltips\":[[\"(x,y)\",\"(@Year,@Data)\"]]},\"id\":\"2681\",\"type\":\"HoverTool\"},{\"attributes\":{\"data_source\":{\"id\":\"2889\"},\"glyph\":{\"id\":\"2915\"},\"hover_glyph\":null,\"muted_glyph\":null,\"nonselection_glyph\":{\"id\":\"2916\"},\"view\":{\"id\":\"2918\"}},\"id\":\"2917\",\"type\":\"GlyphRenderer\"},{\"attributes\":{\"callback\":null,\"renderers\":[{\"id\":\"2917\"}],\"tooltips\":[[\"(x,y)\",\"(@Year,@Data)\"]]},\"id\":\"2919\",\"type\":\"HoverTool\"},{\"attributes\":{\"line_color\":\"#f0027f\",\"line_width\":2,\"x\":{\"field\":\"Year\"},\"y\":{\"field\":\"Data\"}},\"id\":\"2685\",\"type\":\"Line\"},{\"attributes\":{\"callback\":null,\"renderers\":[{\"id\":\"2031\"}],\"tooltips\":[[\"(x,y)\",\"(@Year,@Data)\"]]},\"id\":\"2033\",\"type\":\"HoverTool\"},{\"attributes\":{\"data\":{\"Data\":{\"__ndarray__\":\"AAAAAAAAAADPhSC2yDCxPxEREREREbE/OmtQPO1xlT8=\",\"dtype\":\"float64\",\"order\":\"little\",\"shape\":[4]},\"Year\":[2012,2015,2016,2017]},\"selected\":{\"id\":\"2673\"},\"selection_policy\":{\"id\":\"2672\"}},\"id\":\"2653\",\"type\":\"ColumnDataSource\"},{\"attributes\":{\"data_source\":{\"id\":\"2625\"},\"glyph\":{\"id\":\"2627\"},\"hover_glyph\":null,\"muted_glyph\":null,\"nonselection_glyph\":{\"id\":\"2628\"},\"view\":{\"id\":\"2630\"}},\"id\":\"2629\",\"type\":\"GlyphRenderer\"},{\"attributes\":{\"data_source\":{\"id\":\"2599\"},\"glyph\":{\"id\":\"2619\"},\"hover_glyph\":null,\"muted_glyph\":null,\"nonselection_glyph\":{\"id\":\"2620\"},\"view\":{\"id\":\"2622\"}},\"id\":\"2621\",\"type\":\"GlyphRenderer\"},{\"attributes\":{\"data\":{\"Data\":{\"__ndarray__\":\"UAd1UAd14D8fhetRuB7lP3ZiJ3ZiJ+Y/PRm/XerJ6D+rqqqqqqruPya0l9BeQus/8M88WlQi6T8wj60IGk7qP5F4FYlXkeg/TGcxncV05j8AAAAAAADaPwAAAAAAAAAAAAAAAAAAAAAAAAAAAAAAAA==\",\"dtype\":\"float64\",\"order\":\"little\",\"shape\":[14]},\"Year\":[2001,2002,2003,2004,2005,2007,2008,2011,2012,2013,2014,2015,2016,2017]},\"selected\":{\"id\":\"3000\"},\"selection_policy\":{\"id\":\"2999\"}},\"id\":\"2986\",\"type\":\"ColumnDataSource\"},{\"attributes\":{\"fill_alpha\":{\"value\":0.1},\"fill_color\":{\"value\":\"#e377c2\"},\"line_alpha\":{\"value\":0.1},\"line_color\":{\"value\":\"#e377c2\"},\"size\":{\"value\":10},\"x\":{\"field\":\"Year\"},\"y\":{\"field\":\"Data\"}},\"id\":\"2030\",\"type\":\"Circle\"},{\"attributes\":{\"source\":{\"id\":\"2007\"}},\"id\":\"2032\",\"type\":\"CDSView\"},{\"attributes\":{\"data_source\":{\"id\":\"2007\"},\"glyph\":{\"id\":\"2029\"},\"hover_glyph\":null,\"muted_glyph\":null,\"nonselection_glyph\":{\"id\":\"2030\"},\"view\":{\"id\":\"2032\"}},\"id\":\"2031\",\"type\":\"GlyphRenderer\"},{\"attributes\":{\"label\":{\"value\":\"IRNI\"},\"renderers\":[{\"id\":\"2603\"}]},\"id\":\"2617\",\"type\":\"LegendItem\"},{\"attributes\":{},\"id\":\"2055\",\"type\":\"Selection\"},{\"attributes\":{},\"id\":\"2054\",\"type\":\"UnionRenderers\"},{\"attributes\":{\"fill_alpha\":{\"value\":0.5},\"fill_color\":{\"value\":\"#7fc97f\"},\"line_alpha\":{\"value\":0.5},\"line_color\":{\"value\":\"#7fc97f\"},\"size\":{\"value\":10},\"x\":{\"field\":\"Year\"},\"y\":{\"field\":\"Data\"}},\"id\":\"2387\",\"type\":\"Circle\"},{\"attributes\":{\"fill_alpha\":{\"value\":0.5},\"fill_color\":{\"value\":\"#e377c2\"},\"line_alpha\":{\"value\":0.5},\"line_color\":{\"value\":\"#e377c2\"},\"size\":{\"value\":10},\"x\":{\"field\":\"Year\"},\"y\":{\"field\":\"Data\"}},\"id\":\"2413\",\"type\":\"Circle\"},{\"attributes\":{},\"id\":\"2615\",\"type\":\"Selection\"},{\"attributes\":{},\"id\":\"2614\",\"type\":\"UnionRenderers\"},{\"attributes\":{\"text\":\"PfDHFR Predominant Variants in WSEA\"},\"id\":\"2956\",\"type\":\"Title\"},{\"attributes\":{\"data_source\":{\"id\":\"2419\"},\"glyph\":{\"id\":\"2421\"},\"hover_glyph\":null,\"muted_glyph\":null,\"nonselection_glyph\":{\"id\":\"2422\"},\"view\":{\"id\":\"2424\"}},\"id\":\"2423\",\"type\":\"GlyphRenderer\"},{\"attributes\":{\"fill_alpha\":{\"value\":0.1},\"fill_color\":{\"value\":\"#7fc97f\"},\"line_alpha\":{\"value\":0.1},\"line_color\":{\"value\":\"#7fc97f\"},\"size\":{\"value\":10},\"x\":{\"field\":\"Year\"},\"y\":{\"field\":\"Data\"}},\"id\":\"2388\",\"type\":\"Circle\"},{\"attributes\":{\"source\":{\"id\":\"2368\"}},\"id\":\"2390\",\"type\":\"CDSView\"},{\"attributes\":{\"data_source\":{\"id\":\"2368\"},\"glyph\":{\"id\":\"2387\"},\"hover_glyph\":null,\"muted_glyph\":null,\"nonselection_glyph\":{\"id\":\"2388\"},\"view\":{\"id\":\"2390\"}},\"id\":\"2389\",\"type\":\"GlyphRenderer\"},{\"attributes\":{\"callback\":null,\"renderers\":[{\"id\":\"2389\"}],\"tooltips\":[[\"(x,y)\",\"(@Year,@Data)\"]]},\"id\":\"2391\",\"type\":\"HoverTool\"},{\"attributes\":{\"line_color\":\"#2ca02c\",\"line_width\":2,\"x\":{\"field\":\"Year\"},\"y\":{\"field\":\"Data\"}},\"id\":\"2067\",\"type\":\"Line\"},{\"attributes\":{\"data_source\":{\"id\":\"2065\"},\"glyph\":{\"id\":\"2067\"},\"hover_glyph\":null,\"muted_glyph\":null,\"nonselection_glyph\":{\"id\":\"2068\"},\"view\":{\"id\":\"2070\"}},\"id\":\"2069\",\"type\":\"GlyphRenderer\"},{\"attributes\":{\"source\":{\"id\":\"2419\"}},\"id\":\"2424\",\"type\":\"CDSView\"},{\"attributes\":{\"line_alpha\":0.1,\"line_color\":\"#2ca02c\",\"line_width\":2,\"x\":{\"field\":\"Year\"},\"y\":{\"field\":\"Data\"}},\"id\":\"2068\",\"type\":\"Line\"},{\"attributes\":{\"label\":{\"value\":\"Other\"},\"renderers\":[{\"id\":\"2925\"}]},\"id\":\"2947\",\"type\":\"LegendItem\"},{\"attributes\":{\"source\":{\"id\":\"2393\"}},\"id\":\"2398\",\"type\":\"CDSView\"},{\"attributes\":{\"data\":{\"Data\":{\"__ndarray__\":\"YOp1i8BYrz9omUUotoLIP6Dd6GM+IJA/wCFUqdkDpT9AD9JT5BCRPw==\",\"dtype\":\"float64\",\"order\":\"little\",\"shape\":[5]},\"Year\":[2007,2010,2011,2013,2014]},\"selected\":{\"id\":\"2121\"},\"selection_policy\":{\"id\":\"2120\"}},\"id\":\"2097\",\"type\":\"ColumnDataSource\"},{\"attributes\":{},\"id\":\"2121\",\"type\":\"Selection\"},{\"attributes\":{},\"id\":\"2944\",\"type\":\"UnionRenderers\"},{\"attributes\":{\"label\":{\"value\":\"ANRNIS\"},\"renderers\":[{\"id\":\"2397\"}]},\"id\":\"2411\",\"type\":\"LegendItem\"},{\"attributes\":{\"fill_alpha\":{\"value\":0.5},\"fill_color\":{\"value\":\"#9467bd\"},\"line_alpha\":{\"value\":0.5},\"line_color\":{\"value\":\"#9467bd\"},\"size\":{\"value\":10},\"x\":{\"field\":\"Year\"},\"y\":{\"field\":\"Data\"}},\"id\":\"2619\",\"type\":\"Circle\"},{\"attributes\":{\"line_alpha\":0.1,\"line_color\":\"#beaed4\",\"line_width\":2,\"x\":{\"field\":\"Year\"},\"y\":{\"field\":\"Data\"}},\"id\":\"2422\",\"type\":\"Line\"},{\"attributes\":{\"source\":{\"id\":\"2599\"}},\"id\":\"2622\",\"type\":\"CDSView\"},{\"attributes\":{\"line_color\":\"#beaed4\",\"line_width\":2,\"x\":{\"field\":\"Year\"},\"y\":{\"field\":\"Data\"}},\"id\":\"2421\",\"type\":\"Line\"},{\"attributes\":{\"fill_alpha\":{\"value\":0.1},\"fill_color\":{\"value\":\"#9467bd\"},\"line_alpha\":{\"value\":0.1},\"line_color\":{\"value\":\"#9467bd\"},\"size\":{\"value\":10},\"x\":{\"field\":\"Year\"},\"y\":{\"field\":\"Data\"}},\"id\":\"2620\",\"type\":\"Circle\"},{\"attributes\":{\"callback\":null,\"renderers\":[{\"id\":\"2621\"}],\"tooltips\":[[\"(x,y)\",\"(@Year,@Data)\"]]},\"id\":\"2623\",\"type\":\"HoverTool\"},{\"attributes\":{\"fill_alpha\":{\"value\":0.5},\"fill_color\":{\"value\":\"#beaed4\"},\"line_alpha\":{\"value\":0.5},\"line_color\":{\"value\":\"#beaed4\"},\"size\":{\"value\":10},\"x\":{\"field\":\"Year\"},\"y\":{\"field\":\"Data\"}},\"id\":\"2441\",\"type\":\"Circle\"},{\"attributes\":{},\"id\":\"2532\",\"type\":\"UnionRenderers\"},{\"attributes\":{},\"id\":\"2533\",\"type\":\"Selection\"},{\"attributes\":{\"bottom_units\":\"screen\",\"fill_alpha\":0.5,\"fill_color\":\"lightgrey\",\"left_units\":\"screen\",\"level\":\"overlay\",\"line_alpha\":1.0,\"line_color\":\"black\",\"line_dash\":[4,4],\"line_width\":2,\"right_units\":\"screen\",\"syncable\":false,\"top_units\":\"screen\"},\"id\":\"2155\",\"type\":\"BoxAnnotation\"},{\"attributes\":{},\"id\":\"2994\",\"type\":\"AllLabels\"},{\"attributes\":{},\"id\":\"2995\",\"type\":\"BasicTickFormatter\"},{\"attributes\":{},\"id\":\"2997\",\"type\":\"AllLabels\"},{\"attributes\":{\"below\":[{\"id\":\"2348\"}],\"center\":[{\"id\":\"2351\"},{\"id\":\"2355\"},{\"id\":\"2384\"}],\"height\":400,\"left\":[{\"id\":\"2352\"}],\"renderers\":[{\"id\":\"2372\"},{\"id\":\"2389\"},{\"id\":\"2397\"},{\"id\":\"2415\"},{\"id\":\"2423\"},{\"id\":\"2443\"},{\"id\":\"2451\"},{\"id\":\"2473\"},{\"id\":\"2481\"},{\"id\":\"2505\"},{\"id\":\"2513\"},{\"id\":\"2539\"}],\"title\":{\"id\":\"2338\"},\"toolbar\":{\"id\":\"2362\"},\"toolbar_location\":null,\"width\":400,\"x_range\":{\"id\":\"2340\"},\"x_scale\":{\"id\":\"2344\"},\"y_range\":{\"id\":\"2342\"},\"y_scale\":{\"id\":\"2346\"}},\"id\":\"2337\",\"subtype\":\"Figure\",\"type\":\"Plot\"},{\"attributes\":{},\"id\":\"2998\",\"type\":\"BasicTickFormatter\"},{\"attributes\":{},\"id\":\"2260\",\"type\":\"UnionRenderers\"},{\"attributes\":{\"data\":{\"Data\":{\"__ndarray__\":\"W0ltJbWV5D+O4ziO4zjmP7733nvvvec/AAAAAAAAAAA=\",\"dtype\":\"float64\",\"order\":\"little\",\"shape\":[4]},\"Year\":[2012,2013,2014,2016]},\"selected\":{\"id\":\"1764\"},\"selection_policy\":{\"id\":\"1763\"}},\"id\":\"1750\",\"type\":\"ColumnDataSource\"},{\"attributes\":{\"fill_alpha\":{\"value\":0.1},\"fill_color\":{\"value\":\"#8c564b\"},\"line_alpha\":{\"value\":0.1},\"line_color\":{\"value\":\"#8c564b\"},\"size\":{\"value\":10},\"x\":{\"field\":\"Year\"},\"y\":{\"field\":\"Data\"}},\"id\":\"1920\",\"type\":\"Circle\"},{\"attributes\":{\"end\":2019,\"start\":2001},\"id\":\"2340\",\"type\":\"Range1d\"},{\"attributes\":{},\"id\":\"2261\",\"type\":\"Selection\"},{\"attributes\":{\"active_drag\":{\"id\":\"2562\"},\"active_multi\":null,\"active_scroll\":{\"id\":\"2563\"},\"tools\":[{\"id\":\"2562\"},{\"id\":\"2563\"},{\"id\":\"2564\"},{\"id\":\"2565\"},{\"id\":\"2566\"},{\"id\":\"2597\"},{\"id\":\"2623\"},{\"id\":\"2651\"},{\"id\":\"2681\"},{\"id\":\"2713\"},{\"id\":\"2747\"}]},\"id\":\"2568\",\"type\":\"Toolbar\"},{\"attributes\":{\"source\":{\"id\":\"1891\"}},\"id\":\"1922\",\"type\":\"CDSView\"},{\"attributes\":{\"fill_alpha\":{\"value\":0.1},\"fill_color\":{\"value\":\"#8c564b\"},\"line_alpha\":{\"value\":0.1},\"line_color\":{\"value\":\"#8c564b\"},\"size\":{\"value\":10},\"x\":{\"field\":\"Year\"},\"y\":{\"field\":\"Data\"}},\"id\":\"2538\",\"type\":\"Circle\"},{\"attributes\":{\"data_source\":{\"id\":\"1891\"},\"glyph\":{\"id\":\"1919\"},\"hover_glyph\":null,\"muted_glyph\":null,\"nonselection_glyph\":{\"id\":\"1920\"},\"view\":{\"id\":\"1922\"}},\"id\":\"1921\",\"type\":\"GlyphRenderer\"},{\"attributes\":{\"line_color\":\"#7f7f7f\",\"line_width\":2,\"x\":{\"field\":\"Year\"},\"y\":{\"field\":\"Data\"}},\"id\":\"3013\",\"type\":\"Line\"},{\"attributes\":{\"callback\":null,\"renderers\":[{\"id\":\"1921\"}],\"tooltips\":[[\"(x,y)\",\"(@Year,@Data)\"]]},\"id\":\"1923\",\"type\":\"HoverTool\"},{\"attributes\":{\"source\":{\"id\":\"2509\"}},\"id\":\"2540\",\"type\":\"CDSView\"},{\"attributes\":{\"data_source\":{\"id\":\"2509\"},\"glyph\":{\"id\":\"2537\"},\"hover_glyph\":null,\"muted_glyph\":null,\"nonselection_glyph\":{\"id\":\"2538\"},\"view\":{\"id\":\"2540\"}},\"id\":\"2539\",\"type\":\"GlyphRenderer\"},{\"attributes\":{\"callback\":null,\"renderers\":[{\"id\":\"2539\"}],\"tooltips\":[[\"(x,y)\",\"(@Year,@Data)\"]]},\"id\":\"2541\",\"type\":\"HoverTool\"},{\"attributes\":{\"line_color\":\"#bcbd22\",\"line_width\":2,\"x\":{\"field\":\"Year\"},\"y\":{\"field\":\"Data\"}},\"id\":\"2576\",\"type\":\"Line\"},{\"attributes\":{},\"id\":\"2138\",\"type\":\"LinearScale\"},{\"attributes\":{\"line_alpha\":0.1,\"line_color\":\"#9467bd\",\"line_width\":2,\"x\":{\"field\":\"Year\"},\"y\":{\"field\":\"Data\"}},\"id\":\"2602\",\"type\":\"Line\"},{\"attributes\":{},\"id\":\"2140\",\"type\":\"LinearScale\"},{\"attributes\":{\"fill_alpha\":{\"value\":0.5},\"fill_color\":{\"value\":\"#17becf\"},\"line_alpha\":{\"value\":0.5},\"line_color\":{\"value\":\"#17becf\"},\"size\":{\"value\":10},\"x\":{\"field\":\"Year\"},\"y\":{\"field\":\"Data\"}},\"id\":\"3005\",\"type\":\"Circle\"},{\"attributes\":{\"data_source\":{\"id\":\"1956\"},\"glyph\":{\"id\":\"1958\"},\"hover_glyph\":null,\"muted_glyph\":null,\"nonselection_glyph\":{\"id\":\"1959\"},\"view\":{\"id\":\"1961\"}},\"id\":\"1960\",\"type\":\"GlyphRenderer\"},{\"attributes\":{\"data\":{\"Data\":{\"__ndarray__\":\"AAAAAAAAAABCPvZiXXHEPxZf8RVf8cU/AAAAAAAAAAA=\",\"dtype\":\"float64\",\"order\":\"little\",\"shape\":[4]},\"Year\":[2012,2015,2016,2017]},\"selected\":{\"id\":\"2643\"},\"selection_policy\":{\"id\":\"2642\"}},\"id\":\"2625\",\"type\":\"ColumnDataSource\"},{\"attributes\":{\"label\":{\"value\":\"AIRNLS\"},\"renderers\":[{\"id\":\"2990\"}]},\"id\":\"3003\",\"type\":\"LegendItem\"},{\"attributes\":{\"callback\":null,\"renderers\":[{\"id\":\"1977\"}],\"tooltips\":[[\"(x,y)\",\"(@Year,@Data)\"]]},\"id\":\"1979\",\"type\":\"HoverTool\"},{\"attributes\":{\"axis_label\":\"Year\",\"formatter\":{\"id\":\"2171\"},\"major_label_policy\":{\"id\":\"2170\"},\"ticker\":{\"id\":\"2143\"}},\"id\":\"2142\",\"type\":\"LinearAxis\"},{\"attributes\":{\"axis\":{\"id\":\"2142\"},\"ticker\":null},\"id\":\"2145\",\"type\":\"Grid\"},{\"attributes\":{\"axis_label\":\"Prevalence\",\"formatter\":{\"id\":\"2792\"},\"major_label_policy\":{\"id\":\"2791\"},\"ticker\":{\"id\":\"2765\"}},\"id\":\"2764\",\"type\":\"LinearAxis\"},{\"attributes\":{\"end\":2019,\"start\":2001},\"id\":\"2546\",\"type\":\"Range1d\"},{\"attributes\":{\"line_alpha\":0.1,\"line_color\":\"#1f77b4\",\"line_width\":2,\"x\":{\"field\":\"Year\"},\"y\":{\"field\":\"Data\"}},\"id\":\"1959\",\"type\":\"Line\"},{\"attributes\":{\"background_fill_alpha\":0.7,\"items\":[{\"id\":\"3003\"},{\"id\":\"3029\"},{\"id\":\"3057\"},{\"id\":\"3087\"},{\"id\":\"3119\"},{\"id\":\"3153\"}]},\"id\":\"3002\",\"type\":\"Legend\"},{\"attributes\":{\"fill_alpha\":{\"value\":0.5},\"fill_color\":{\"value\":\"#ff7f0e\"},\"line_alpha\":{\"value\":0.5},\"line_color\":{\"value\":\"#ff7f0e\"},\"size\":{\"value\":10},\"x\":{\"field\":\"Year\"},\"y\":{\"field\":\"Data\"}},\"id\":\"2001\",\"type\":\"Circle\"},{\"attributes\":{\"source\":{\"id\":\"2303\"}},\"id\":\"2308\",\"type\":\"CDSView\"},{\"attributes\":{},\"id\":\"2143\",\"type\":\"BasicTicker\"},{\"attributes\":{\"fill_alpha\":{\"value\":0.1},\"fill_color\":{\"value\":\"#bcbd22\"},\"line_alpha\":{\"value\":0.1},\"line_color\":{\"value\":\"#bcbd22\"},\"size\":{\"value\":10},\"x\":{\"field\":\"Year\"},\"y\":{\"field\":\"Data\"}},\"id\":\"2266\",\"type\":\"Circle\"},{\"attributes\":{\"source\":{\"id\":\"2241\"}},\"id\":\"2268\",\"type\":\"CDSView\"},{\"attributes\":{},\"id\":\"2761\",\"type\":\"BasicTicker\"},{\"attributes\":{\"data_source\":{\"id\":\"2241\"},\"glyph\":{\"id\":\"2265\"},\"hover_glyph\":null,\"muted_glyph\":null,\"nonselection_glyph\":{\"id\":\"2266\"},\"view\":{\"id\":\"2268\"}},\"id\":\"2267\",\"type\":\"GlyphRenderer\"},{\"attributes\":{},\"id\":\"2136\",\"type\":\"Range1d\"},{\"attributes\":{\"callback\":null,\"renderers\":[{\"id\":\"2267\"}],\"tooltips\":[[\"(x,y)\",\"(@Year,@Data)\"]]},\"id\":\"2269\",\"type\":\"HoverTool\"},{\"attributes\":{\"label\":{\"value\":\"AIRNLS\"},\"renderers\":[{\"id\":\"2275\"}]},\"id\":\"2295\",\"type\":\"LegendItem\"},{\"attributes\":{\"data_source\":{\"id\":\"1981\"},\"glyph\":{\"id\":\"1983\"},\"hover_glyph\":null,\"muted_glyph\":null,\"nonselection_glyph\":{\"id\":\"1984\"},\"view\":{\"id\":\"1986\"}},\"id\":\"1985\",\"type\":\"GlyphRenderer\"},{\"attributes\":{\"text\":\"PfDHFR Predominant Variants in WAF\"},\"id\":\"2750\",\"type\":\"Title\"},{\"attributes\":{\"axis_label\":\"Year\",\"formatter\":{\"id\":\"2789\"},\"major_label_policy\":{\"id\":\"2788\"},\"ticker\":{\"id\":\"2761\"}},\"id\":\"2760\",\"type\":\"LinearAxis\"},{\"attributes\":{\"data\":{\"Data\":{\"__ndarray__\":\"IAr0iTxJoj/Q4zCYv0K2P/hOzHoxlLc//If029eByT9YRE30+SjDP+Bq1hnfF78/0IDs9e6Prz/gJaq3BrayPyCRfZBlwZQ/IOF7f4P2oj+g15/E506wP8A7wJMWLqs/AACwoPfGsL4=\",\"dtype\":\"float64\",\"order\":\"little\",\"shape\":[13]},\"Year\":[2007,2008,2009,2010,2011,2012,2013,2014,2015,2016,2017,2018,2019]},\"selected\":{\"id\":\"2327\"},\"selection_policy\":{\"id\":\"2326\"}},\"id\":\"2303\",\"type\":\"ColumnDataSource\"},{\"attributes\":{\"source\":{\"id\":\"1981\"}},\"id\":\"1986\",\"type\":\"CDSView\"},{\"attributes\":{\"label\":{\"value\":\"AICNIS\"},\"renderers\":[{\"id\":\"1985\"}]},\"id\":\"1999\",\"type\":\"LegendItem\"},{\"attributes\":{\"line_color\":\"#1f77b4\",\"line_width\":2,\"x\":{\"field\":\"Year\"},\"y\":{\"field\":\"Data\"}},\"id\":\"1958\",\"type\":\"Line\"},{\"attributes\":{\"source\":{\"id\":\"1956\"}},\"id\":\"1978\",\"type\":\"CDSView\"},{\"attributes\":{\"callback\":null,\"renderers\":[{\"id\":\"3007\"}],\"tooltips\":[[\"(x,y)\",\"(@Year,@Data)\"]]},\"id\":\"3009\",\"type\":\"HoverTool\"},{\"attributes\":{\"fill_alpha\":{\"value\":0.5},\"fill_color\":{\"value\":\"#d62728\"},\"line_alpha\":{\"value\":0.5},\"line_color\":{\"value\":\"#d62728\"},\"size\":{\"value\":10},\"x\":{\"field\":\"Year\"},\"y\":{\"field\":\"Data\"}},\"id\":\"2059\",\"type\":\"Circle\"},{\"attributes\":{\"data_source\":{\"id\":\"2303\"},\"glyph\":{\"id\":\"2305\"},\"hover_glyph\":null,\"muted_glyph\":null,\"nonselection_glyph\":{\"id\":\"2306\"},\"view\":{\"id\":\"2308\"}},\"id\":\"2307\",\"type\":\"GlyphRenderer\"},{\"attributes\":{\"line_alpha\":0.1,\"line_color\":\"#ff7f0e\",\"line_width\":2,\"x\":{\"field\":\"Year\"},\"y\":{\"field\":\"Data\"}},\"id\":\"1984\",\"type\":\"Line\"},{\"attributes\":{},\"id\":\"2765\",\"type\":\"BasicTicker\"},{\"attributes\":{\"active_drag\":{\"id\":\"1944\"},\"active_multi\":null,\"active_scroll\":{\"id\":\"1945\"},\"tools\":[{\"id\":\"1944\"},{\"id\":\"1945\"},{\"id\":\"1946\"},{\"id\":\"1947\"},{\"id\":\"1948\"},{\"id\":\"1979\"},{\"id\":\"2005\"},{\"id\":\"2033\"},{\"id\":\"2063\"},{\"id\":\"2095\"},{\"id\":\"2129\"}]},\"id\":\"1950\",\"type\":\"Toolbar\"},{\"attributes\":{},\"id\":\"2565\",\"type\":\"ResetTool\"},{\"attributes\":{\"data_source\":{\"id\":\"3011\"},\"glyph\":{\"id\":\"3013\"},\"hover_glyph\":null,\"muted_glyph\":null,\"nonselection_glyph\":{\"id\":\"3014\"},\"view\":{\"id\":\"3016\"}},\"id\":\"3015\",\"type\":\"GlyphRenderer\"},{\"attributes\":{\"callback\":null},\"id\":\"2566\",\"type\":\"TapTool\"},{\"attributes\":{\"data_source\":{\"id\":\"1956\"},\"glyph\":{\"id\":\"1975\"},\"hover_glyph\":null,\"muted_glyph\":null,\"nonselection_glyph\":{\"id\":\"1976\"},\"view\":{\"id\":\"1978\"}},\"id\":\"1977\",\"type\":\"GlyphRenderer\"},{\"attributes\":{},\"id\":\"2563\",\"type\":\"WheelZoomTool\"},{\"attributes\":{\"line_alpha\":0.1,\"line_color\":\"#7f7f7f\",\"line_width\":2,\"x\":{\"field\":\"Year\"},\"y\":{\"field\":\"Data\"}},\"id\":\"3014\",\"type\":\"Line\"},{\"attributes\":{\"fill_alpha\":{\"value\":0.5},\"fill_color\":{\"value\":\"#8c564b\"},\"line_alpha\":{\"value\":0.5},\"line_color\":{\"value\":\"#8c564b\"},\"size\":{\"value\":10},\"x\":{\"field\":\"Year\"},\"y\":{\"field\":\"Data\"}},\"id\":\"2331\",\"type\":\"Circle\"},{\"attributes\":{},\"id\":\"2562\",\"type\":\"PanTool\"},{\"attributes\":{\"label\":{\"value\":\"Other\"},\"renderers\":[{\"id\":\"2307\"}]},\"id\":\"2329\",\"type\":\"LegendItem\"},{\"attributes\":{\"overlay\":{\"id\":\"2567\"}},\"id\":\"2564\",\"type\":\"BoxZoomTool\"},{\"attributes\":{\"data_source\":{\"id\":\"2271\"},\"glyph\":{\"id\":\"2273\"},\"hover_glyph\":null,\"muted_glyph\":null,\"nonselection_glyph\":{\"id\":\"2274\"},\"view\":{\"id\":\"2276\"}},\"id\":\"2275\",\"type\":\"GlyphRenderer\"},{\"attributes\":{},\"id\":\"1947\",\"type\":\"ResetTool\"},{\"attributes\":{\"source\":{\"id\":\"2271\"}},\"id\":\"2276\",\"type\":\"CDSView\"},{\"attributes\":{\"label\":{\"value\":\"IRNL\"},\"renderers\":[{\"id\":\"3015\"}]},\"id\":\"3029\",\"type\":\"LegendItem\"},{\"attributes\":{\"callback\":null},\"id\":\"1948\",\"type\":\"TapTool\"},{\"attributes\":{\"fill_alpha\":{\"value\":0.5},\"fill_color\":{\"value\":\"#17becf\"},\"line_alpha\":{\"value\":0.5},\"line_color\":{\"value\":\"#17becf\"},\"size\":{\"value\":10},\"x\":{\"field\":\"Year\"},\"y\":{\"field\":\"Data\"}},\"id\":\"2297\",\"type\":\"Circle\"},{\"attributes\":{\"source\":{\"id\":\"3011\"}},\"id\":\"3016\",\"type\":\"CDSView\"},{\"attributes\":{\"below\":[{\"id\":\"1936\"}],\"center\":[{\"id\":\"1939\"},{\"id\":\"1943\"},{\"id\":\"1972\"}],\"height\":400,\"left\":[{\"id\":\"1940\"}],\"renderers\":[{\"id\":\"1960\"},{\"id\":\"1977\"},{\"id\":\"1985\"},{\"id\":\"2003\"},{\"id\":\"2011\"},{\"id\":\"2031\"},{\"id\":\"2039\"},{\"id\":\"2061\"},{\"id\":\"2069\"},{\"id\":\"2093\"},{\"id\":\"2101\"},{\"id\":\"2127\"}],\"title\":{\"id\":\"1926\"},\"toolbar\":{\"id\":\"1950\"},\"toolbar_location\":null,\"width\":400,\"x_range\":{\"id\":\"1928\"},\"x_scale\":{\"id\":\"1932\"},\"y_range\":{\"id\":\"1930\"},\"y_scale\":{\"id\":\"1934\"}},\"id\":\"1925\",\"subtype\":\"Figure\",\"type\":\"Plot\"},{\"attributes\":{\"fill_alpha\":{\"value\":0.5},\"fill_color\":{\"value\":\"#7f7f7f\"},\"line_alpha\":{\"value\":0.5},\"line_color\":{\"value\":\"#7f7f7f\"},\"size\":{\"value\":10},\"x\":{\"field\":\"Year\"},\"y\":{\"field\":\"Data\"}},\"id\":\"3031\",\"type\":\"Circle\"},{\"attributes\":{\"line_alpha\":0.1,\"line_color\":\"#1f77b4\",\"line_width\":2,\"x\":{\"field\":\"Year\"},\"y\":{\"field\":\"Data\"}},\"id\":\"3040\",\"type\":\"Line\"},{\"attributes\":{\"bottom_units\":\"screen\",\"fill_alpha\":0.5,\"fill_color\":\"lightgrey\",\"left_units\":\"screen\",\"level\":\"overlay\",\"line_alpha\":1.0,\"line_color\":\"black\",\"line_dash\":[4,4],\"line_width\":2,\"right_units\":\"screen\",\"syncable\":false,\"top_units\":\"screen\"},\"id\":\"1949\",\"type\":\"BoxAnnotation\"},{\"attributes\":{\"data_source\":{\"id\":\"2599\"},\"glyph\":{\"id\":\"2601\"},\"hover_glyph\":null,\"muted_glyph\":null,\"nonselection_glyph\":{\"id\":\"2602\"},\"view\":{\"id\":\"2604\"}},\"id\":\"2603\",\"type\":\"GlyphRenderer\"},{\"attributes\":{\"overlay\":{\"id\":\"1949\"}},\"id\":\"1946\",\"type\":\"BoxZoomTool\"},{\"attributes\":{\"bottom_units\":\"screen\",\"fill_alpha\":0.5,\"fill_color\":\"lightgrey\",\"left_units\":\"screen\",\"level\":\"overlay\",\"line_alpha\":1.0,\"line_color\":\"black\",\"line_dash\":[4,4],\"line_width\":2,\"right_units\":\"screen\",\"syncable\":false,\"top_units\":\"screen\"},\"id\":\"2567\",\"type\":\"BoxAnnotation\"},{\"attributes\":{\"data\":{\"Data\":{\"__ndarray__\":\"Fl/xFV/xtT+4HoXrUbi+PxQ7sRM7saM/C5sDiVbYjD9VVVVVVVWVPwAAAAAAAAAAtdugrBBjrz8NJ3VfHluRP20a0KYBbZo/NJfRXEZzuT8AAAAAAADSPwAAAAAAAAAAAAAAAAAAAAAAAAAAAAAAAA==\",\"dtype\":\"float64\",\"order\":\"little\",\"shape\":[14]},\"Year\":[2001,2002,2003,2004,2005,2007,2008,2011,2012,2013,2014,2015,2016,2017]},\"selected\":{\"id\":\"3085\"},\"selection_policy\":{\"id\":\"3084\"}},\"id\":\"3065\",\"type\":\"ColumnDataSource\"},{\"attributes\":{\"data_source\":{\"id\":\"3037\"},\"glyph\":{\"id\":\"3039\"},\"hover_glyph\":null,\"muted_glyph\":null,\"nonselection_glyph\":{\"id\":\"3040\"},\"view\":{\"id\":\"3042\"}},\"id\":\"3041\",\"type\":\"GlyphRenderer\"},{\"attributes\":{\"line_color\":\"#1f77b4\",\"line_width\":2,\"x\":{\"field\":\"Year\"},\"y\":{\"field\":\"Data\"}},\"id\":\"3039\",\"type\":\"Line\"},{\"attributes\":{},\"id\":\"2582\",\"type\":\"AllLabels\"},{\"attributes\":{\"data_source\":{\"id\":\"2653\"},\"glyph\":{\"id\":\"2677\"},\"hover_glyph\":null,\"muted_glyph\":null,\"nonselection_glyph\":{\"id\":\"2678\"},\"view\":{\"id\":\"2680\"}},\"id\":\"2679\",\"type\":\"GlyphRenderer\"},{\"attributes\":{\"line_alpha\":0.1,\"line_color\":\"#7f7f7f\",\"line_width\":2,\"x\":{\"field\":\"Year\"},\"y\":{\"field\":\"Data\"}},\"id\":\"2165\",\"type\":\"Line\"},{\"attributes\":{\"text\":\"PfDHFR Predominant Variants in EAF\"},\"id\":\"1926\",\"type\":\"Title\"},{\"attributes\":{\"label\":{\"value\":\"IRNL\"},\"renderers\":[{\"id\":\"2629\"}]},\"id\":\"2645\",\"type\":\"LegendItem\"},{\"attributes\":{\"data\":{\"Data\":{\"__ndarray__\":\"AAAAAAAAAAC4bPoTo/fNP/otBIxSTc4/vIwpX4clvD8=\",\"dtype\":\"float64\",\"order\":\"little\",\"shape\":[4]},\"Year\":[2012,2015,2016,2017]},\"selected\":{\"id\":\"2615\"},\"selection_policy\":{\"id\":\"2614\"}},\"id\":\"2599\",\"type\":\"ColumnDataSource\"},{\"attributes\":{\"fill_alpha\":{\"value\":0.1},\"fill_color\":{\"value\":\"#17becf\"},\"line_alpha\":{\"value\":0.1},\"line_color\":{\"value\":\"#17becf\"},\"size\":{\"value\":10},\"x\":{\"field\":\"Year\"},\"y\":{\"field\":\"Data\"}},\"id\":\"3006\",\"type\":\"Circle\"},{\"attributes\":{\"source\":{\"id\":\"2162\"}},\"id\":\"2167\",\"type\":\"CDSView\"},{\"attributes\":{},\"id\":\"2353\",\"type\":\"BasicTicker\"},{\"attributes\":{},\"id\":\"1728\",\"type\":\"LinearScale\"},{\"attributes\":{\"line_color\":\"#7f7f7f\",\"line_width\":2,\"x\":{\"field\":\"Year\"},\"y\":{\"field\":\"Data\"}},\"id\":\"2164\",\"type\":\"Line\"},{\"attributes\":{\"end\":2019,\"start\":2001},\"id\":\"1928\",\"type\":\"Range1d\"},{\"attributes\":{\"source\":{\"id\":\"2574\"}},\"id\":\"2579\",\"type\":\"CDSView\"},{\"attributes\":{},\"id\":\"2170\",\"type\":\"AllLabels\"},{\"attributes\":{},\"id\":\"2550\",\"type\":\"LinearScale\"},{\"attributes\":{},\"id\":\"2962\",\"type\":\"LinearScale\"},{\"attributes\":{\"data\":{\"Data\":{\"__ndarray__\":\"AAAAAAAAAAAAAAAAAAAAAAAAAAAAAAAAAAAAAAAAAAAAAAAAAAAAAAkBOT+VEMA/iREjRowY0T8zVDGeHszQPwAAAAAAANA/AAAAAAAA2D8qRg1/m2LUP8CQ7zGtttM/y8HNfiFWxD8=\",\"dtype\":\"float64\",\"order\":\"little\",\"shape\":[13]},\"Year\":[2007,2008,2009,2010,2011,2012,2013,2014,2015,2016,2017,2018,2019]},\"selected\":{\"id\":\"2203\"},\"selection_policy\":{\"id\":\"2202\"}},\"id\":\"2187\",\"type\":\"ColumnDataSource\"},{\"attributes\":{\"label\":{\"value\":\"NRNI\"},\"renderers\":[{\"id\":\"2578\"}]},\"id\":\"2591\",\"type\":\"LegendItem\"},{\"attributes\":{\"line_color\":\"#9467bd\",\"line_width\":2,\"x\":{\"field\":\"Year\"},\"y\":{\"field\":\"Data\"}},\"id\":\"2601\",\"type\":\"Line\"},{\"attributes\":{\"data_source\":{\"id\":\"2574\"},\"glyph\":{\"id\":\"2576\"},\"hover_glyph\":null,\"muted_glyph\":null,\"nonselection_glyph\":{\"id\":\"2577\"},\"view\":{\"id\":\"2579\"}},\"id\":\"2578\",\"type\":\"GlyphRenderer\"},{\"attributes\":{\"fill_alpha\":{\"value\":0.1},\"fill_color\":{\"value\":\"#9467bd\"},\"line_alpha\":{\"value\":0.1},\"line_color\":{\"value\":\"#9467bd\"},\"size\":{\"value\":10},\"x\":{\"field\":\"Year\"},\"y\":{\"field\":\"Data\"}},\"id\":\"2208\",\"type\":\"Circle\"},{\"attributes\":{\"line_color\":\"#386cb0\",\"line_width\":2,\"x\":{\"field\":\"Year\"},\"y\":{\"field\":\"Data\"}},\"id\":\"2655\",\"type\":\"Line\"},{\"attributes\":{\"source\":{\"id\":\"2187\"}},\"id\":\"2210\",\"type\":\"CDSView\"},{\"attributes\":{},\"id\":\"2356\",\"type\":\"PanTool\"},{\"attributes\":{\"data_source\":{\"id\":\"2187\"},\"glyph\":{\"id\":\"2207\"},\"hover_glyph\":null,\"muted_glyph\":null,\"nonselection_glyph\":{\"id\":\"2208\"},\"view\":{\"id\":\"2210\"}},\"id\":\"2209\",\"type\":\"GlyphRenderer\"},{\"attributes\":{\"callback\":null,\"renderers\":[{\"id\":\"2209\"}],\"tooltips\":[[\"(x,y)\",\"(@Year,@Data)\"]]},\"id\":\"2211\",\"type\":\"HoverTool\"},{\"attributes\":{\"line_alpha\":0.1,\"line_color\":\"#bcbd22\",\"line_width\":2,\"x\":{\"field\":\"Year\"},\"y\":{\"field\":\"Data\"}},\"id\":\"2577\",\"type\":\"Line\"},{\"attributes\":{\"source\":{\"id\":\"2241\"}},\"id\":\"2246\",\"type\":\"CDSView\"},{\"attributes\":{},\"id\":\"2583\",\"type\":\"BasicTickFormatter\"},{\"attributes\":{\"line_alpha\":0.1,\"line_color\":\"#f0027f\",\"line_width\":2,\"x\":{\"field\":\"Year\"},\"y\":{\"field\":\"Data\"}},\"id\":\"2686\",\"type\":\"Line\"},{\"attributes\":{\"active_drag\":{\"id\":\"2150\"},\"active_multi\":null,\"active_scroll\":{\"id\":\"2151\"},\"tools\":[{\"id\":\"2150\"},{\"id\":\"2151\"},{\"id\":\"2152\"},{\"id\":\"2153\"},{\"id\":\"2154\"},{\"id\":\"2185\"},{\"id\":\"2211\"},{\"id\":\"2239\"},{\"id\":\"2269\"},{\"id\":\"2301\"},{\"id\":\"2335\"}]},\"id\":\"2156\",\"type\":\"Toolbar\"},{\"attributes\":{\"background_fill_alpha\":0.7,\"items\":[{\"id\":\"2591\"},{\"id\":\"2617\"},{\"id\":\"2645\"},{\"id\":\"2675\"},{\"id\":\"2707\"},{\"id\":\"2741\"}]},\"id\":\"2590\",\"type\":\"Legend\"},{\"attributes\":{\"source\":{\"id\":\"2213\"}},\"id\":\"2218\",\"type\":\"CDSView\"},{\"attributes\":{},\"id\":\"2771\",\"type\":\"ResetTool\"},{\"attributes\":{\"axis_label\":\"Prevalence\",\"formatter\":{\"id\":\"2380\"},\"major_label_policy\":{\"id\":\"2379\"},\"ticker\":{\"id\":\"2353\"}},\"id\":\"2352\",\"type\":\"LinearAxis\"},{\"attributes\":{\"fill_alpha\":{\"value\":0.5},\"fill_color\":{\"value\":\"#7f7f7f\"},\"line_alpha\":{\"value\":0.5},\"line_color\":{\"value\":\"#7f7f7f\"},\"size\":{\"value\":10},\"x\":{\"field\":\"Year\"},\"y\":{\"field\":\"Data\"}},\"id\":\"2181\",\"type\":\"Circle\"},{\"attributes\":{\"below\":[{\"id\":\"2760\"}],\"center\":[{\"id\":\"2763\"},{\"id\":\"2767\"},{\"id\":\"2796\"}],\"height\":400,\"left\":[{\"id\":\"2764\"}],\"renderers\":[{\"id\":\"2784\"},{\"id\":\"2801\"},{\"id\":\"2809\"},{\"id\":\"2827\"},{\"id\":\"2835\"},{\"id\":\"2855\"},{\"id\":\"2863\"},{\"id\":\"2885\"},{\"id\":\"2893\"},{\"id\":\"2917\"},{\"id\":\"2925\"},{\"id\":\"2951\"}],\"title\":{\"id\":\"2750\"},\"toolbar\":{\"id\":\"2774\"},\"toolbar_location\":null,\"width\":400,\"x_range\":{\"id\":\"2752\"},\"x_scale\":{\"id\":\"2756\"},\"y_range\":{\"id\":\"2754\"},\"y_scale\":{\"id\":\"2758\"}},\"id\":\"2749\",\"subtype\":\"Figure\",\"type\":\"Plot\"},{\"attributes\":{\"data_source\":{\"id\":\"2986\"},\"glyph\":{\"id\":\"3005\"},\"hover_glyph\":null,\"muted_glyph\":null,\"nonselection_glyph\":{\"id\":\"3006\"},\"view\":{\"id\":\"3008\"}},\"id\":\"3007\",\"type\":\"GlyphRenderer\"},{\"attributes\":{},\"id\":\"2585\",\"type\":\"AllLabels\"},{\"attributes\":{},\"id\":\"2586\",\"type\":\"BasicTickFormatter\"},{\"attributes\":{\"overlay\":{\"id\":\"2361\"}},\"id\":\"2358\",\"type\":\"BoxZoomTool\"},{\"attributes\":{\"fill_alpha\":{\"value\":0.5},\"fill_color\":{\"value\":\"#9467bd\"},\"line_alpha\":{\"value\":0.5},\"line_color\":{\"value\":\"#9467bd\"},\"size\":{\"value\":10},\"x\":{\"field\":\"Year\"},\"y\":{\"field\":\"Data\"}},\"id\":\"2207\",\"type\":\"Circle\"},{\"attributes\":{},\"id\":\"2642\",\"type\":\"UnionRenderers\"},{\"attributes\":{\"line_color\":\"#bcbd22\",\"line_width\":2,\"x\":{\"field\":\"Year\"},\"y\":{\"field\":\"Data\"}},\"id\":\"2243\",\"type\":\"Line\"},{\"attributes\":{\"fill_alpha\":{\"value\":0.1},\"fill_color\":{\"value\":\"#7f7f7f\"},\"line_alpha\":{\"value\":0.1},\"line_color\":{\"value\":\"#7f7f7f\"},\"size\":{\"value\":10},\"x\":{\"field\":\"Year\"},\"y\":{\"field\":\"Data\"}},\"id\":\"2182\",\"type\":\"Circle\"},{\"attributes\":{\"background_fill_alpha\":0.7,\"items\":[{\"id\":\"2179\"},{\"id\":\"2205\"},{\"id\":\"2233\"},{\"id\":\"2263\"},{\"id\":\"2295\"},{\"id\":\"2329\"}]},\"id\":\"2178\",\"type\":\"Legend\"},{\"attributes\":{\"source\":{\"id\":\"2162\"}},\"id\":\"2184\",\"type\":\"CDSView\"},{\"attributes\":{},\"id\":\"2643\",\"type\":\"Selection\"},{\"attributes\":{\"data_source\":{\"id\":\"2162\"},\"glyph\":{\"id\":\"2181\"},\"hover_glyph\":null,\"muted_glyph\":null,\"nonselection_glyph\":{\"id\":\"2182\"},\"view\":{\"id\":\"2184\"}},\"id\":\"2183\",\"type\":\"GlyphRenderer\"},{\"attributes\":{\"callback\":null,\"renderers\":[{\"id\":\"2183\"}],\"tooltips\":[[\"(x,y)\",\"(@Year,@Data)\"]]},\"id\":\"2185\",\"type\":\"HoverTool\"},{\"attributes\":{\"data_source\":{\"id\":\"2187\"},\"glyph\":{\"id\":\"2189\"},\"hover_glyph\":null,\"muted_glyph\":null,\"nonselection_glyph\":{\"id\":\"2190\"},\"view\":{\"id\":\"2192\"}},\"id\":\"2191\",\"type\":\"GlyphRenderer\"},{\"attributes\":{\"data\":{\"Data\":{\"__ndarray__\":\"SZIkSZIk6T84velNb3rTP4fyGsprKN8/+RklfkaJ3z9WHqeGY+XhPyOSZdIzItk/hQoVKlSo0D8aBSI4dmm0PxxMkc+6waQ/AAAAAAAAAAAAAAAAAAAAAAAAAAAAAAAAAAAAAAAAAAA=\",\"dtype\":\"float64\",\"order\":\"little\",\"shape\":[13]},\"Year\":[2007,2008,2009,2010,2011,2012,2013,2014,2015,2016,2017,2018,2019]},\"selected\":{\"id\":\"2231\"},\"selection_policy\":{\"id\":\"2230\"}},\"id\":\"2213\",\"type\":\"ColumnDataSource\"},{\"attributes\":{\"line_alpha\":0.1,\"line_color\":\"#17becf\",\"line_width\":2,\"x\":{\"field\":\"Year\"},\"y\":{\"field\":\"Data\"}},\"id\":\"2274\",\"type\":\"Line\"},{\"attributes\":{\"data_source\":{\"id\":\"2162\"},\"glyph\":{\"id\":\"2164\"},\"hover_glyph\":null,\"muted_glyph\":null,\"nonselection_glyph\":{\"id\":\"2165\"},\"view\":{\"id\":\"2167\"}},\"id\":\"2166\",\"type\":\"GlyphRenderer\"},{\"attributes\":{\"label\":{\"value\":\"NRNI\"},\"renderers\":[{\"id\":\"2245\"}]},\"id\":\"2263\",\"type\":\"LegendItem\"},{\"attributes\":{\"source\":{\"id\":\"2187\"}},\"id\":\"2192\",\"type\":\"CDSView\"},{\"attributes\":{\"line_color\":\"#9467bd\",\"line_width\":2,\"x\":{\"field\":\"Year\"},\"y\":{\"field\":\"Data\"}},\"id\":\"2189\",\"type\":\"Line\"},{\"attributes\":{\"line_alpha\":0.1,\"line_color\":\"#9467bd\",\"line_width\":2,\"x\":{\"field\":\"Year\"},\"y\":{\"field\":\"Data\"}},\"id\":\"2190\",\"type\":\"Line\"},{\"attributes\":{\"label\":{\"value\":\"AIRNIS\"},\"renderers\":[{\"id\":\"2217\"}]},\"id\":\"2233\",\"type\":\"LegendItem\"},{\"attributes\":{\"label\":{\"value\":\"IRNL\"},\"renderers\":[{\"id\":\"2166\"}]},\"id\":\"2179\",\"type\":\"LegendItem\"},{\"attributes\":{\"axis\":{\"id\":\"2352\"},\"dimension\":1,\"ticker\":null},\"id\":\"2355\",\"type\":\"Grid\"},{\"attributes\":{},\"id\":\"2230\",\"type\":\"UnionRenderers\"},{\"attributes\":{},\"id\":\"2171\",\"type\":\"BasicTickFormatter\"},{\"attributes\":{\"line_color\":\"#1f77b4\",\"line_width\":2,\"x\":{\"field\":\"Year\"},\"y\":{\"field\":\"Data\"}},\"id\":\"2215\",\"type\":\"Line\"},{\"attributes\":{\"data_source\":{\"id\":\"2213\"},\"glyph\":{\"id\":\"2215\"},\"hover_glyph\":null,\"muted_glyph\":null,\"nonselection_glyph\":{\"id\":\"2216\"},\"view\":{\"id\":\"2218\"}},\"id\":\"2217\",\"type\":\"GlyphRenderer\"},{\"attributes\":{},\"id\":\"2231\",\"type\":\"Selection\"},{\"attributes\":{\"line_alpha\":0.1,\"line_color\":\"#1f77b4\",\"line_width\":2,\"x\":{\"field\":\"Year\"},\"y\":{\"field\":\"Data\"}},\"id\":\"2216\",\"type\":\"Line\"},{\"attributes\":{\"source\":{\"id\":\"2986\"}},\"id\":\"3008\",\"type\":\"CDSView\"},{\"attributes\":{},\"id\":\"2359\",\"type\":\"ResetTool\"},{\"attributes\":{\"data\":{\"Data\":{\"__ndarray__\":\"AAAAAAAAAAAAAAAAAAAAAAAAAAAAAAAAAAAAAAAAAAAAAAAAAAAAAFPQwaMuBZ0/4MCBAwcOnD8aBSI4dmmkP9C6wRT5rHs/aC+hvYT2cj/kLc3BC6vPPyLfY1ptR8M/vxArSuMjgz8=\",\"dtype\":\"float64\",\"order\":\"little\",\"shape\":[13]},\"Year\":[2007,2008,2009,2010,2011,2012,2013,2014,2015,2016,2017,2018,2019]},\"selected\":{\"id\":\"2261\"},\"selection_policy\":{\"id\":\"2260\"}},\"id\":\"2241\",\"type\":\"ColumnDataSource\"},{\"attributes\":{},\"id\":\"1726\",\"type\":\"LinearScale\"},{\"attributes\":{},\"id\":\"2173\",\"type\":\"AllLabels\"},{\"attributes\":{\"fill_alpha\":{\"value\":0.5},\"fill_color\":{\"value\":\"#7f7f7f\"},\"line_alpha\":{\"value\":0.5},\"line_color\":{\"value\":\"#7f7f7f\"},\"size\":{\"value\":10},\"x\":{\"field\":\"Year\"},\"y\":{\"field\":\"Data\"}},\"id\":\"2647\",\"type\":\"Circle\"},{\"attributes\":{\"callback\":null,\"renderers\":[{\"id\":\"2649\"}],\"tooltips\":[[\"(x,y)\",\"(@Year,@Data)\"]]},\"id\":\"2651\",\"type\":\"HoverTool\"},{\"attributes\":{},\"id\":\"2174\",\"type\":\"BasicTickFormatter\"},{\"attributes\":{\"label\":{\"value\":\"IRNI\"},\"renderers\":[{\"id\":\"2191\"}]},\"id\":\"2205\",\"type\":\"LegendItem\"},{\"attributes\":{\"fill_alpha\":{\"value\":0.1},\"fill_color\":{\"value\":\"#386cb0\"},\"line_alpha\":{\"value\":0.1},\"line_color\":{\"value\":\"#386cb0\"},\"size\":{\"value\":10},\"x\":{\"field\":\"Year\"},\"y\":{\"field\":\"Data\"}},\"id\":\"2678\",\"type\":\"Circle\"},{\"attributes\":{\"fill_alpha\":{\"value\":0.1},\"fill_color\":{\"value\":\"#7f7f7f\"},\"line_alpha\":{\"value\":0.1},\"line_color\":{\"value\":\"#7f7f7f\"},\"size\":{\"value\":10},\"x\":{\"field\":\"Year\"},\"y\":{\"field\":\"Data\"}},\"id\":\"2648\",\"type\":\"Circle\"},{\"attributes\":{\"source\":{\"id\":\"2625\"}},\"id\":\"2650\",\"type\":\"CDSView\"},{\"attributes\":{},\"id\":\"2960\",\"type\":\"Range1d\"},{\"attributes\":{\"data_source\":{\"id\":\"2625\"},\"glyph\":{\"id\":\"2647\"},\"hover_glyph\":null,\"muted_glyph\":null,\"nonselection_glyph\":{\"id\":\"2648\"},\"view\":{\"id\":\"2650\"}},\"id\":\"2649\",\"type\":\"GlyphRenderer\"},{\"attributes\":{},\"id\":\"2357\",\"type\":\"WheelZoomTool\"},{\"attributes\":{\"fill_alpha\":{\"value\":0.5},\"fill_color\":{\"value\":\"#386cb0\"},\"line_alpha\":{\"value\":0.5},\"line_color\":{\"value\":\"#386cb0\"},\"size\":{\"value\":10},\"x\":{\"field\":\"Year\"},\"y\":{\"field\":\"Data\"}},\"id\":\"2677\",\"type\":\"Circle\"},{\"attributes\":{\"callback\":null},\"id\":\"2772\",\"type\":\"TapTool\"},{\"attributes\":{\"data_source\":{\"id\":\"2653\"},\"glyph\":{\"id\":\"2655\"},\"hover_glyph\":null,\"muted_glyph\":null,\"nonselection_glyph\":{\"id\":\"2656\"},\"view\":{\"id\":\"2658\"}},\"id\":\"2657\",\"type\":\"GlyphRenderer\"},{\"attributes\":{\"fill_alpha\":{\"value\":0.5},\"fill_color\":{\"value\":\"#1f77b4\"},\"line_alpha\":{\"value\":0.5},\"line_color\":{\"value\":\"#1f77b4\"},\"size\":{\"value\":10},\"x\":{\"field\":\"Year\"},\"y\":{\"field\":\"Data\"}},\"id\":\"2235\",\"type\":\"Circle\"},{\"attributes\":{\"callback\":null,\"renderers\":[{\"id\":\"2237\"}],\"tooltips\":[[\"(x,y)\",\"(@Year,@Data)\"]]},\"id\":\"2239\",\"type\":\"HoverTool\"},{\"attributes\":{\"source\":{\"id\":\"2653\"}},\"id\":\"2658\",\"type\":\"CDSView\"},{\"attributes\":{\"data\":{\"Data\":{\"__ndarray__\":\"AAAAAAAAAAAAAAAAAAAAAFuE/DU7aqE/rgKCIdkiyj8=\",\"dtype\":\"float64\",\"order\":\"little\",\"shape\":[4]},\"Year\":[2012,2015,2016,2017]},\"selected\":{\"id\":\"2705\"},\"selection_policy\":{\"id\":\"2704\"}},\"id\":\"2683\",\"type\":\"ColumnDataSource\"},{\"attributes\":{},\"id\":\"2202\",\"type\":\"UnionRenderers\"},{\"attributes\":{\"line_alpha\":0.1,\"line_color\":\"#8c564b\",\"line_width\":2,\"x\":{\"field\":\"Year\"},\"y\":{\"field\":\"Data\"}},\"id\":\"2306\",\"type\":\"Line\"},{\"attributes\":{\"fill_alpha\":{\"value\":0.1},\"fill_color\":{\"value\":\"#1f77b4\"},\"line_alpha\":{\"value\":0.1},\"line_color\":{\"value\":\"#1f77b4\"},\"size\":{\"value\":10},\"x\":{\"field\":\"Year\"},\"y\":{\"field\":\"Data\"}},\"id\":\"2236\",\"type\":\"Circle\"},{\"attributes\":{\"children\":[[{\"id\":\"1719\"},0,0],[{\"id\":\"1925\"},0,1],[{\"id\":\"2131\"},1,0],[{\"id\":\"2337\"},1,1],[{\"id\":\"2543\"},2,0],[{\"id\":\"2749\"},2,1],[{\"id\":\"2955\"},3,0]]},\"id\":\"3308\",\"type\":\"GridBox\"},{\"attributes\":{\"source\":{\"id\":\"2213\"}},\"id\":\"2238\",\"type\":\"CDSView\"},{\"attributes\":{\"data_source\":{\"id\":\"2213\"},\"glyph\":{\"id\":\"2235\"},\"hover_glyph\":null,\"muted_glyph\":null,\"nonselection_glyph\":{\"id\":\"2236\"},\"view\":{\"id\":\"2238\"}},\"id\":\"2237\",\"type\":\"GlyphRenderer\"},{\"attributes\":{\"data\":{\"Data\":{\"__ndarray__\":\"9DzP8zzP0z9X1BV1RV3hP/c0wnJPI9w/O7ETO7ET2z8hhBBCCCHkPz8hzspPiOM/eqoVWuIz5T8L4XWrEF7nP4pLhmAdbd4/\",\"dtype\":\"float64\",\"order\":\"little\",\"shape\":[9]},\"Year\":[2007,2008,2009,2010,2011,2012,2013,2014,2015]},\"selected\":{\"id\":\"2794\"},\"selection_policy\":{\"id\":\"2793\"}},\"id\":\"2780\",\"type\":\"ColumnDataSource\"},{\"attributes\":{},\"id\":\"2203\",\"type\":\"Selection\"},{\"attributes\":{\"data_source\":{\"id\":\"2241\"},\"glyph\":{\"id\":\"2243\"},\"hover_glyph\":null,\"muted_glyph\":null,\"nonselection_glyph\":{\"id\":\"2244\"},\"view\":{\"id\":\"2246\"}},\"id\":\"2245\",\"type\":\"GlyphRenderer\"},{\"attributes\":{},\"id\":\"2587\",\"type\":\"UnionRenderers\"},{\"attributes\":{},\"id\":\"2552\",\"type\":\"LinearScale\"},{\"attributes\":{\"text\":\"PfDHFR Predominant Variants in SAS\"},\"id\":\"2544\",\"type\":\"Title\"},{\"attributes\":{\"line_alpha\":0.1,\"line_color\":\"#386cb0\",\"line_width\":2,\"x\":{\"field\":\"Year\"},\"y\":{\"field\":\"Data\"}},\"id\":\"2656\",\"type\":\"Line\"},{\"attributes\":{\"callback\":null},\"id\":\"2360\",\"type\":\"TapTool\"},{\"attributes\":{\"data\":{\"Data\":{\"__ndarray__\":\"t23btm3bxj84velNb3rjPyivobyG8to/OzDXDsy10z8MKtFXu6DSP58RyTLpGdE//Pjx48ePzz9hhirG04O5P3aDKfJZN7g/AAAAAAAAAAAAAAAAAAAAAAAAAAAAAAAAAAAAAAAAAAA=\",\"dtype\":\"float64\",\"order\":\"little\",\"shape\":[13]},\"Year\":[2007,2008,2009,2010,2011,2012,2013,2014,2015,2016,2017,2018,2019]},\"selected\":{\"id\":\"2293\"},\"selection_policy\":{\"id\":\"2292\"}},\"id\":\"2271\",\"type\":\"ColumnDataSource\"},{\"attributes\":{\"label\":{\"value\":\"NRNL\"},\"renderers\":[{\"id\":\"2657\"}]},\"id\":\"2675\",\"type\":\"LegendItem\"},{\"attributes\":{},\"id\":\"2588\",\"type\":\"Selection\"},{\"attributes\":{\"fill_alpha\":{\"value\":0.5},\"fill_color\":{\"value\":\"#bcbd22\"},\"line_alpha\":{\"value\":0.5},\"line_color\":{\"value\":\"#bcbd22\"},\"size\":{\"value\":10},\"x\":{\"field\":\"Year\"},\"y\":{\"field\":\"Data\"}},\"id\":\"2265\",\"type\":\"Circle\"},{\"attributes\":{\"source\":{\"id\":\"2683\"}},\"id\":\"2688\",\"type\":\"CDSView\"},{\"attributes\":{\"data\":{\"Data\":{\"__ndarray__\":\"AAAAAAAA8D98NNWT+UfDP1DudygK9L0/OJ0rSgnBwD8=\",\"dtype\":\"float64\",\"order\":\"little\",\"shape\":[4]},\"Year\":[2012,2015,2016,2017]},\"selected\":{\"id\":\"2739\"},\"selection_policy\":{\"id\":\"2738\"}},\"id\":\"2715\",\"type\":\"ColumnDataSource\"},{\"attributes\":{\"line_color\":\"#17becf\",\"line_width\":2,\"x\":{\"field\":\"Year\"},\"y\":{\"field\":\"Data\"}},\"id\":\"2273\",\"type\":\"Line\"},{\"attributes\":{\"line_color\":\"#8c564b\",\"line_width\":2,\"x\":{\"field\":\"Year\"},\"y\":{\"field\":\"Data\"}},\"id\":\"2305\",\"type\":\"Line\"},{\"attributes\":{\"data_source\":{\"id\":\"2683\"},\"glyph\":{\"id\":\"2685\"},\"hover_glyph\":null,\"muted_glyph\":null,\"nonselection_glyph\":{\"id\":\"2686\"},\"view\":{\"id\":\"2688\"}},\"id\":\"2687\",\"type\":\"GlyphRenderer\"}],\"root_ids\":[\"3311\"]},\"title\":\"Bokeh Application\",\"version\":\"2.3.3\"}};\n",
       "  var render_items = [{\"docid\":\"a87eb79e-8d35-425c-92c4-d2f577a9034c\",\"root_ids\":[\"3311\"],\"roots\":{\"3311\":\"e7eb98cd-c728-4989-8c2a-ca2a633a3218\"}}];\n",
       "  root.Bokeh.embed.embed_items_notebook(docs_json, render_items);\n",
       "\n",
       "  }\n",
       "  if (root.Bokeh !== undefined) {\n",
       "    embed_document(root);\n",
       "  } else {\n",
       "    var attempts = 0;\n",
       "    var timer = setInterval(function(root) {\n",
       "      if (root.Bokeh !== undefined) {\n",
       "        clearInterval(timer);\n",
       "        embed_document(root);\n",
       "      } else {\n",
       "        attempts++;\n",
       "        if (attempts > 100) {\n",
       "          clearInterval(timer);\n",
       "          console.log(\"Bokeh: ERROR: Unable to run BokehJS code because BokehJS library is missing\");\n",
       "        }\n",
       "      }\n",
       "    }, 10, root)\n",
       "  }\n",
       "})(window);"
      ],
      "application/vnd.bokehjs_exec.v0+json": ""
     },
     "metadata": {
      "application/vnd.bokehjs_exec.v0+json": {
       "id": "3311"
      }
     },
     "output_type": "display_data"
    },
    {
     "data": {
      "text/plain": [
       "<data_analysis.plotting.Subplots at 0x114ec05b0>"
      ]
     },
     "execution_count": 34,
     "metadata": {},
     "output_type": "execute_result"
    }
   ],
   "source": [
    "plot_haplotype_frequency(pf6plus, 'PfDHFR', num_top_haplotypes=5, populations = ['CAF', 'EAF', 'ESEA', 'OCE', 'SAS', 'WAF', 'WSEA'], years = None, bin=False)"
   ]
  },
  {
   "cell_type": "code",
   "execution_count": 35,
   "metadata": {
    "colab": {
     "base_uri": "https://localhost:8080/",
     "height": 464
    },
    "id": "cc6tb0gwbRKZ",
    "outputId": "93f6c982-1815-4439-f8e7-cd2673d5f7db"
   },
   "outputs": [
    {
     "data": {
      "text/html": [
       "\n",
       "\n",
       "\n",
       "\n",
       "\n",
       "\n",
       "  <div class=\"bk-root\" id=\"079be05d-cf94-4990-83c1-9f0f9aaac945\" data-root-id=\"4430\"></div>\n"
      ]
     },
     "metadata": {},
     "output_type": "display_data"
    },
    {
     "data": {
      "application/javascript": [
       "(function(root) {\n",
       "  function embed_document(root) {\n",
       "    \n",
       "  var docs_json = {\"d65f06d3-9fb2-4986-b0a9-96a7fbae4aed\":{\"defs\":[],\"roots\":{\"references\":[{\"attributes\":{\"children\":[{\"id\":\"4429\"},{\"id\":\"4427\"}]},\"id\":\"4430\",\"type\":\"Column\"},{\"attributes\":{\"callback\":null},\"id\":\"4223\",\"type\":\"TapTool\"},{\"attributes\":{\"label\":{\"value\":\"AI[C/R]NIS\"},\"renderers\":[{\"id\":\"4286\"}]},\"id\":\"4302\",\"type\":\"LegendItem\"},{\"attributes\":{\"source\":{\"id\":\"4231\"}},\"id\":\"4236\",\"type\":\"CDSView\"},{\"attributes\":{\"background_fill_alpha\":0.7,\"items\":[{\"id\":\"4248\"},{\"id\":\"4274\"},{\"id\":\"4302\"},{\"id\":\"4332\"},{\"id\":\"4364\"},{\"id\":\"4398\"}]},\"id\":\"4247\",\"type\":\"Legend\"},{\"attributes\":{\"source\":{\"id\":\"4282\"}},\"id\":\"4287\",\"type\":\"CDSView\"},{\"attributes\":{\"line_color\":\"#1f77b4\",\"line_width\":2,\"x\":{\"field\":\"Year\"},\"y\":{\"field\":\"Data\"}},\"id\":\"4233\",\"type\":\"Line\"},{\"attributes\":{\"fill_alpha\":{\"value\":0.5},\"fill_color\":{\"value\":\"#2ca02c\"},\"line_alpha\":{\"value\":0.5},\"line_color\":{\"value\":\"#2ca02c\"},\"size\":{\"value\":10},\"x\":{\"field\":\"Year\"},\"y\":{\"field\":\"Data\"}},\"id\":\"4304\",\"type\":\"Circle\"},{\"attributes\":{\"line_alpha\":0.1,\"line_color\":\"#d62728\",\"line_width\":2,\"x\":{\"field\":\"Year\"},\"y\":{\"field\":\"Data\"}},\"id\":\"4313\",\"type\":\"Line\"},{\"attributes\":{\"source\":{\"id\":\"4256\"}},\"id\":\"4279\",\"type\":\"CDSView\"},{\"attributes\":{\"line_alpha\":0.1,\"line_color\":\"#1f77b4\",\"line_width\":2,\"x\":{\"field\":\"Year\"},\"y\":{\"field\":\"Data\"}},\"id\":\"4234\",\"type\":\"Line\"},{\"attributes\":{\"label\":{\"value\":\"AIRNIS\"},\"renderers\":[{\"id\":\"4235\"}]},\"id\":\"4248\",\"type\":\"LegendItem\"},{\"attributes\":{\"data\":{\"Data\":{\"__ndarray__\":\"W0ltJbWV5D+O4ziO4zjmP7733nvvvec/AAAAAAAAAAA=\",\"dtype\":\"float64\",\"order\":\"little\",\"shape\":[4]},\"Year\":[2012,2013,2014,2016]},\"selected\":{\"id\":\"4245\"},\"selection_policy\":{\"id\":\"4244\"}},\"id\":\"4231\",\"type\":\"ColumnDataSource\"},{\"attributes\":{\"data_source\":{\"id\":\"4231\"},\"glyph\":{\"id\":\"4233\"},\"hover_glyph\":null,\"muted_glyph\":null,\"nonselection_glyph\":{\"id\":\"4234\"},\"view\":{\"id\":\"4236\"}},\"id\":\"4235\",\"type\":\"GlyphRenderer\"},{\"attributes\":{},\"id\":\"4219\",\"type\":\"PanTool\"},{\"attributes\":{\"overlay\":{\"id\":\"4224\"}},\"id\":\"4221\",\"type\":\"BoxZoomTool\"},{\"attributes\":{\"toolbars\":[{\"id\":\"4225\"}],\"tools\":[{\"id\":\"4219\"},{\"id\":\"4220\"},{\"id\":\"4221\"},{\"id\":\"4222\"},{\"id\":\"4223\"},{\"id\":\"4254\"},{\"id\":\"4280\"},{\"id\":\"4308\"},{\"id\":\"4338\"},{\"id\":\"4370\"},{\"id\":\"4404\"}]},\"id\":\"4428\",\"type\":\"ProxyToolbar\"},{\"attributes\":{\"data_source\":{\"id\":\"4310\"},\"glyph\":{\"id\":\"4312\"},\"hover_glyph\":null,\"muted_glyph\":null,\"nonselection_glyph\":{\"id\":\"4313\"},\"view\":{\"id\":\"4315\"}},\"id\":\"4314\",\"type\":\"GlyphRenderer\"},{\"attributes\":{\"fill_alpha\":{\"value\":0.1},\"fill_color\":{\"value\":\"#ff7f0e\"},\"line_alpha\":{\"value\":0.1},\"line_color\":{\"value\":\"#ff7f0e\"},\"size\":{\"value\":10},\"x\":{\"field\":\"Year\"},\"y\":{\"field\":\"Data\"}},\"id\":\"4277\",\"type\":\"Circle\"},{\"attributes\":{},\"id\":\"4220\",\"type\":\"WheelZoomTool\"},{\"attributes\":{},\"id\":\"4222\",\"type\":\"ResetTool\"},{\"attributes\":{\"callback\":null,\"renderers\":[{\"id\":\"4278\"}],\"tooltips\":[[\"(x,y)\",\"(@Year,@Data)\"]]},\"id\":\"4280\",\"type\":\"HoverTool\"},{\"attributes\":{\"bottom_units\":\"screen\",\"fill_alpha\":0.5,\"fill_color\":\"lightgrey\",\"left_units\":\"screen\",\"level\":\"overlay\",\"line_alpha\":1.0,\"line_color\":\"black\",\"line_dash\":[4,4],\"line_width\":2,\"right_units\":\"screen\",\"syncable\":false,\"top_units\":\"screen\"},\"id\":\"4224\",\"type\":\"BoxAnnotation\"},{\"attributes\":{\"axis\":{\"id\":\"4215\"},\"dimension\":1,\"ticker\":null},\"id\":\"4218\",\"type\":\"Grid\"},{\"attributes\":{\"axis_label\":\"Year\",\"formatter\":{\"id\":\"4240\"},\"major_label_policy\":{\"id\":\"4239\"},\"ticker\":{\"id\":\"4212\"}},\"id\":\"4211\",\"type\":\"LinearAxis\"},{\"attributes\":{},\"id\":\"4216\",\"type\":\"BasicTicker\"},{\"attributes\":{\"line_color\":\"#d62728\",\"line_width\":2,\"x\":{\"field\":\"Year\"},\"y\":{\"field\":\"Data\"}},\"id\":\"4312\",\"type\":\"Line\"},{\"attributes\":{\"axis_label\":\"Prevalence\",\"formatter\":{\"id\":\"4243\"},\"major_label_policy\":{\"id\":\"4242\"},\"ticker\":{\"id\":\"4216\"}},\"id\":\"4215\",\"type\":\"LinearAxis\"},{\"attributes\":{},\"id\":\"4207\",\"type\":\"LinearScale\"},{\"attributes\":{},\"id\":\"4212\",\"type\":\"BasicTicker\"},{\"attributes\":{},\"id\":\"4209\",\"type\":\"LinearScale\"},{\"attributes\":{\"active_drag\":{\"id\":\"4219\"},\"active_multi\":null,\"active_scroll\":{\"id\":\"4220\"},\"tools\":[{\"id\":\"4219\"},{\"id\":\"4220\"},{\"id\":\"4221\"},{\"id\":\"4222\"},{\"id\":\"4223\"},{\"id\":\"4254\"},{\"id\":\"4280\"},{\"id\":\"4308\"},{\"id\":\"4338\"},{\"id\":\"4370\"},{\"id\":\"4404\"}]},\"id\":\"4225\",\"type\":\"Toolbar\"},{\"attributes\":{\"axis\":{\"id\":\"4211\"},\"ticker\":null},\"id\":\"4214\",\"type\":\"Grid\"},{\"attributes\":{\"data_source\":{\"id\":\"4372\"},\"glyph\":{\"id\":\"4400\"},\"hover_glyph\":null,\"muted_glyph\":null,\"nonselection_glyph\":{\"id\":\"4401\"},\"view\":{\"id\":\"4403\"}},\"id\":\"4402\",\"type\":\"GlyphRenderer\"},{\"attributes\":{\"source\":{\"id\":\"4340\"}},\"id\":\"4345\",\"type\":\"CDSView\"},{\"attributes\":{\"fill_alpha\":{\"value\":0.1},\"fill_color\":{\"value\":\"#d62728\"},\"line_alpha\":{\"value\":0.1},\"line_color\":{\"value\":\"#d62728\"},\"size\":{\"value\":10},\"x\":{\"field\":\"Year\"},\"y\":{\"field\":\"Data\"}},\"id\":\"4335\",\"type\":\"Circle\"},{\"attributes\":{\"source\":{\"id\":\"4310\"}},\"id\":\"4337\",\"type\":\"CDSView\"},{\"attributes\":{},\"id\":\"4299\",\"type\":\"UnionRenderers\"},{\"attributes\":{\"data_source\":{\"id\":\"4310\"},\"glyph\":{\"id\":\"4334\"},\"hover_glyph\":null,\"muted_glyph\":null,\"nonselection_glyph\":{\"id\":\"4335\"},\"view\":{\"id\":\"4337\"}},\"id\":\"4336\",\"type\":\"GlyphRenderer\"},{\"attributes\":{},\"id\":\"4240\",\"type\":\"BasicTickFormatter\"},{\"attributes\":{\"callback\":null,\"renderers\":[{\"id\":\"4336\"}],\"tooltips\":[[\"(x,y)\",\"(@Year,@Data)\"]]},\"id\":\"4338\",\"type\":\"HoverTool\"},{\"attributes\":{\"label\":{\"value\":\"AI[R/C]NIS\"},\"renderers\":[{\"id\":\"4314\"}]},\"id\":\"4332\",\"type\":\"LegendItem\"},{\"attributes\":{},\"id\":\"4300\",\"type\":\"Selection\"},{\"attributes\":{},\"id\":\"4239\",\"type\":\"AllLabels\"},{\"attributes\":{},\"id\":\"4242\",\"type\":\"AllLabels\"},{\"attributes\":{\"source\":{\"id\":\"4372\"}},\"id\":\"4377\",\"type\":\"CDSView\"},{\"attributes\":{},\"id\":\"4395\",\"type\":\"UnionRenderers\"},{\"attributes\":{\"data_source\":{\"id\":\"4256\"},\"glyph\":{\"id\":\"4258\"},\"hover_glyph\":null,\"muted_glyph\":null,\"nonselection_glyph\":{\"id\":\"4259\"},\"view\":{\"id\":\"4261\"}},\"id\":\"4260\",\"type\":\"GlyphRenderer\"},{\"attributes\":{\"fill_alpha\":{\"value\":0.5},\"fill_color\":{\"value\":\"#1f77b4\"},\"line_alpha\":{\"value\":0.5},\"line_color\":{\"value\":\"#1f77b4\"},\"size\":{\"value\":10},\"x\":{\"field\":\"Year\"},\"y\":{\"field\":\"Data\"}},\"id\":\"4250\",\"type\":\"Circle\"},{\"attributes\":{\"source\":{\"id\":\"4231\"}},\"id\":\"4253\",\"type\":\"CDSView\"},{\"attributes\":{\"fill_alpha\":{\"value\":0.5},\"fill_color\":{\"value\":\"#d62728\"},\"line_alpha\":{\"value\":0.5},\"line_color\":{\"value\":\"#d62728\"},\"size\":{\"value\":10},\"x\":{\"field\":\"Year\"},\"y\":{\"field\":\"Data\"}},\"id\":\"4334\",\"type\":\"Circle\"},{\"attributes\":{},\"id\":\"4396\",\"type\":\"Selection\"},{\"attributes\":{\"data_source\":{\"id\":\"4231\"},\"glyph\":{\"id\":\"4250\"},\"hover_glyph\":null,\"muted_glyph\":null,\"nonselection_glyph\":{\"id\":\"4251\"},\"view\":{\"id\":\"4253\"}},\"id\":\"4252\",\"type\":\"GlyphRenderer\"},{\"attributes\":{\"data\":{\"Data\":{\"__ndarray__\":\"AAAAAAAAAAAAAAAAAAAAAAAAAAAAAAAAPDw8PDw87D8=\",\"dtype\":\"float64\",\"order\":\"little\",\"shape\":[4]},\"Year\":[2012,2013,2014,2016]},\"selected\":{\"id\":\"4362\"},\"selection_policy\":{\"id\":\"4361\"}},\"id\":\"4340\",\"type\":\"ColumnDataSource\"},{\"attributes\":{\"line_color\":\"#8c564b\",\"line_width\":2,\"x\":{\"field\":\"Year\"},\"y\":{\"field\":\"Data\"}},\"id\":\"4374\",\"type\":\"Line\"},{\"attributes\":{\"fill_alpha\":{\"value\":0.1},\"fill_color\":{\"value\":\"#1f77b4\"},\"line_alpha\":{\"value\":0.1},\"line_color\":{\"value\":\"#1f77b4\"},\"size\":{\"value\":10},\"x\":{\"field\":\"Year\"},\"y\":{\"field\":\"Data\"}},\"id\":\"4251\",\"type\":\"Circle\"},{\"attributes\":{\"callback\":null,\"renderers\":[{\"id\":\"4252\"}],\"tooltips\":[[\"(x,y)\",\"(@Year,@Data)\"]]},\"id\":\"4254\",\"type\":\"HoverTool\"},{\"attributes\":{\"line_color\":\"#ff7f0e\",\"line_width\":2,\"x\":{\"field\":\"Year\"},\"y\":{\"field\":\"Data\"}},\"id\":\"4258\",\"type\":\"Line\"},{\"attributes\":{\"label\":{\"value\":\"Other\"},\"renderers\":[{\"id\":\"4376\"}]},\"id\":\"4398\",\"type\":\"LegendItem\"},{\"attributes\":{\"fill_alpha\":{\"value\":0.5},\"fill_color\":{\"value\":\"#ff7f0e\"},\"line_alpha\":{\"value\":0.5},\"line_color\":{\"value\":\"#ff7f0e\"},\"size\":{\"value\":10},\"x\":{\"field\":\"Year\"},\"y\":{\"field\":\"Data\"}},\"id\":\"4276\",\"type\":\"Circle\"},{\"attributes\":{},\"id\":\"4243\",\"type\":\"BasicTickFormatter\"},{\"attributes\":{\"data\":{\"Data\":{\"__ndarray__\":\"TGcxncV0tj9VVVVVVVW1P4QQQgghhJA/AAAAAAAAAAA=\",\"dtype\":\"float64\",\"order\":\"little\",\"shape\":[4]},\"Year\":[2012,2013,2014,2016]},\"selected\":{\"id\":\"4300\"},\"selection_policy\":{\"id\":\"4299\"}},\"id\":\"4282\",\"type\":\"ColumnDataSource\"},{\"attributes\":{\"line_alpha\":0.1,\"line_color\":\"#ff7f0e\",\"line_width\":2,\"x\":{\"field\":\"Year\"},\"y\":{\"field\":\"Data\"}},\"id\":\"4259\",\"type\":\"Line\"},{\"attributes\":{\"callback\":null,\"renderers\":[{\"id\":\"4306\"}],\"tooltips\":[[\"(x,y)\",\"(@Year,@Data)\"]]},\"id\":\"4308\",\"type\":\"HoverTool\"},{\"attributes\":{\"label\":{\"value\":\"IRNI\"},\"renderers\":[{\"id\":\"4344\"}]},\"id\":\"4364\",\"type\":\"LegendItem\"},{\"attributes\":{\"source\":{\"id\":\"4256\"}},\"id\":\"4261\",\"type\":\"CDSView\"},{\"attributes\":{\"data\":{\"Data\":{\"__ndarray__\":\"UltJbSW1xT9VVVVVVVW1P4QQQgghhMA/AAAAAAAAAAA=\",\"dtype\":\"float64\",\"order\":\"little\",\"shape\":[4]},\"Year\":[2012,2013,2014,2016]},\"selected\":{\"id\":\"4272\"},\"selection_policy\":{\"id\":\"4271\"}},\"id\":\"4256\",\"type\":\"ColumnDataSource\"},{\"attributes\":{\"below\":[{\"id\":\"4211\"}],\"center\":[{\"id\":\"4214\"},{\"id\":\"4218\"},{\"id\":\"4247\"}],\"height\":400,\"left\":[{\"id\":\"4215\"}],\"renderers\":[{\"id\":\"4235\"},{\"id\":\"4252\"},{\"id\":\"4260\"},{\"id\":\"4278\"},{\"id\":\"4286\"},{\"id\":\"4306\"},{\"id\":\"4314\"},{\"id\":\"4336\"},{\"id\":\"4344\"},{\"id\":\"4368\"},{\"id\":\"4376\"},{\"id\":\"4402\"}],\"title\":{\"id\":\"4201\"},\"toolbar\":{\"id\":\"4225\"},\"toolbar_location\":null,\"width\":400,\"x_range\":{\"id\":\"4203\"},\"x_scale\":{\"id\":\"4207\"},\"y_range\":{\"id\":\"4205\"},\"y_scale\":{\"id\":\"4209\"}},\"id\":\"4200\",\"subtype\":\"Figure\",\"type\":\"Plot\"},{\"attributes\":{\"fill_alpha\":{\"value\":0.1},\"fill_color\":{\"value\":\"#2ca02c\"},\"line_alpha\":{\"value\":0.1},\"line_color\":{\"value\":\"#2ca02c\"},\"size\":{\"value\":10},\"x\":{\"field\":\"Year\"},\"y\":{\"field\":\"Data\"}},\"id\":\"4305\",\"type\":\"Circle\"},{\"attributes\":{\"source\":{\"id\":\"4282\"}},\"id\":\"4307\",\"type\":\"CDSView\"},{\"attributes\":{\"data_source\":{\"id\":\"4282\"},\"glyph\":{\"id\":\"4304\"},\"hover_glyph\":null,\"muted_glyph\":null,\"nonselection_glyph\":{\"id\":\"4305\"},\"view\":{\"id\":\"4307\"}},\"id\":\"4306\",\"type\":\"GlyphRenderer\"},{\"attributes\":{},\"id\":\"4205\",\"type\":\"Range1d\"},{\"attributes\":{\"source\":{\"id\":\"4310\"}},\"id\":\"4315\",\"type\":\"CDSView\"},{\"attributes\":{},\"id\":\"4361\",\"type\":\"UnionRenderers\"},{\"attributes\":{\"line_color\":\"#2ca02c\",\"line_width\":2,\"x\":{\"field\":\"Year\"},\"y\":{\"field\":\"Data\"}},\"id\":\"4284\",\"type\":\"Line\"},{\"attributes\":{\"data\":{\"Data\":{\"__ndarray__\":\"KK+hvIbyqj8cx3Ecx3G8P4QQQgghhLA/AAAAAAAAAAA=\",\"dtype\":\"float64\",\"order\":\"little\",\"shape\":[4]},\"Year\":[2012,2013,2014,2016]},\"selected\":{\"id\":\"4330\"},\"selection_policy\":{\"id\":\"4329\"}},\"id\":\"4310\",\"type\":\"ColumnDataSource\"},{\"attributes\":{},\"id\":\"4362\",\"type\":\"Selection\"},{\"attributes\":{\"fill_alpha\":{\"value\":0.1},\"fill_color\":{\"value\":\"#8c564b\"},\"line_alpha\":{\"value\":0.1},\"line_color\":{\"value\":\"#8c564b\"},\"size\":{\"value\":10},\"x\":{\"field\":\"Year\"},\"y\":{\"field\":\"Data\"}},\"id\":\"4401\",\"type\":\"Circle\"},{\"attributes\":{\"line_color\":\"#9467bd\",\"line_width\":2,\"x\":{\"field\":\"Year\"},\"y\":{\"field\":\"Data\"}},\"id\":\"4342\",\"type\":\"Line\"},{\"attributes\":{\"data_source\":{\"id\":\"4340\"},\"glyph\":{\"id\":\"4342\"},\"hover_glyph\":null,\"muted_glyph\":null,\"nonselection_glyph\":{\"id\":\"4343\"},\"view\":{\"id\":\"4345\"}},\"id\":\"4344\",\"type\":\"GlyphRenderer\"},{\"attributes\":{\"line_alpha\":0.1,\"line_color\":\"#9467bd\",\"line_width\":2,\"x\":{\"field\":\"Year\"},\"y\":{\"field\":\"Data\"}},\"id\":\"4343\",\"type\":\"Line\"},{\"attributes\":{\"label\":{\"value\":\"AICNIS\"},\"renderers\":[{\"id\":\"4260\"}]},\"id\":\"4274\",\"type\":\"LegendItem\"},{\"attributes\":{\"text\":\"PfDHFR Predominant Variants in CAF\"},\"id\":\"4201\",\"type\":\"Title\"},{\"attributes\":{\"data\":{\"Data\":{\"__ndarray__\":\"MH0E/vDzpz9g9Q8iGXKcP3CmCdtPxqg/iPZ4IR0evj8=\",\"dtype\":\"float64\",\"order\":\"little\",\"shape\":[4]},\"Year\":[2012,2013,2014,2016]},\"selected\":{\"id\":\"4396\"},\"selection_policy\":{\"id\":\"4395\"}},\"id\":\"4372\",\"type\":\"ColumnDataSource\"},{\"attributes\":{\"end\":2019,\"start\":2001},\"id\":\"4203\",\"type\":\"Range1d\"},{\"attributes\":{\"line_alpha\":0.1,\"line_color\":\"#2ca02c\",\"line_width\":2,\"x\":{\"field\":\"Year\"},\"y\":{\"field\":\"Data\"}},\"id\":\"4285\",\"type\":\"Line\"},{\"attributes\":{},\"id\":\"4271\",\"type\":\"UnionRenderers\"},{\"attributes\":{\"children\":[[{\"id\":\"4200\"},0,0]]},\"id\":\"4427\",\"type\":\"GridBox\"},{\"attributes\":{\"data_source\":{\"id\":\"4282\"},\"glyph\":{\"id\":\"4284\"},\"hover_glyph\":null,\"muted_glyph\":null,\"nonselection_glyph\":{\"id\":\"4285\"},\"view\":{\"id\":\"4287\"}},\"id\":\"4286\",\"type\":\"GlyphRenderer\"},{\"attributes\":{\"fill_alpha\":{\"value\":0.5},\"fill_color\":{\"value\":\"#9467bd\"},\"line_alpha\":{\"value\":0.5},\"line_color\":{\"value\":\"#9467bd\"},\"size\":{\"value\":10},\"x\":{\"field\":\"Year\"},\"y\":{\"field\":\"Data\"}},\"id\":\"4366\",\"type\":\"Circle\"},{\"attributes\":{},\"id\":\"4272\",\"type\":\"Selection\"},{\"attributes\":{},\"id\":\"4329\",\"type\":\"UnionRenderers\"},{\"attributes\":{\"source\":{\"id\":\"4372\"}},\"id\":\"4403\",\"type\":\"CDSView\"},{\"attributes\":{\"fill_alpha\":{\"value\":0.1},\"fill_color\":{\"value\":\"#9467bd\"},\"line_alpha\":{\"value\":0.1},\"line_color\":{\"value\":\"#9467bd\"},\"size\":{\"value\":10},\"x\":{\"field\":\"Year\"},\"y\":{\"field\":\"Data\"}},\"id\":\"4367\",\"type\":\"Circle\"},{\"attributes\":{},\"id\":\"4330\",\"type\":\"Selection\"},{\"attributes\":{\"source\":{\"id\":\"4340\"}},\"id\":\"4369\",\"type\":\"CDSView\"},{\"attributes\":{\"data_source\":{\"id\":\"4340\"},\"glyph\":{\"id\":\"4366\"},\"hover_glyph\":null,\"muted_glyph\":null,\"nonselection_glyph\":{\"id\":\"4367\"},\"view\":{\"id\":\"4369\"}},\"id\":\"4368\",\"type\":\"GlyphRenderer\"},{\"attributes\":{\"callback\":null,\"renderers\":[{\"id\":\"4368\"}],\"tooltips\":[[\"(x,y)\",\"(@Year,@Data)\"]]},\"id\":\"4370\",\"type\":\"HoverTool\"},{\"attributes\":{\"data_source\":{\"id\":\"4256\"},\"glyph\":{\"id\":\"4276\"},\"hover_glyph\":null,\"muted_glyph\":null,\"nonselection_glyph\":{\"id\":\"4277\"},\"view\":{\"id\":\"4279\"}},\"id\":\"4278\",\"type\":\"GlyphRenderer\"},{\"attributes\":{\"data_source\":{\"id\":\"4372\"},\"glyph\":{\"id\":\"4374\"},\"hover_glyph\":null,\"muted_glyph\":null,\"nonselection_glyph\":{\"id\":\"4375\"},\"view\":{\"id\":\"4377\"}},\"id\":\"4376\",\"type\":\"GlyphRenderer\"},{\"attributes\":{},\"id\":\"4244\",\"type\":\"UnionRenderers\"},{\"attributes\":{\"line_alpha\":0.1,\"line_color\":\"#8c564b\",\"line_width\":2,\"x\":{\"field\":\"Year\"},\"y\":{\"field\":\"Data\"}},\"id\":\"4375\",\"type\":\"Line\"},{\"attributes\":{},\"id\":\"4245\",\"type\":\"Selection\"},{\"attributes\":{\"callback\":null,\"renderers\":[{\"id\":\"4402\"}],\"tooltips\":[[\"(x,y)\",\"(@Year,@Data)\"]]},\"id\":\"4404\",\"type\":\"HoverTool\"},{\"attributes\":{\"fill_alpha\":{\"value\":0.5},\"fill_color\":{\"value\":\"#8c564b\"},\"line_alpha\":{\"value\":0.5},\"line_color\":{\"value\":\"#8c564b\"},\"size\":{\"value\":10},\"x\":{\"field\":\"Year\"},\"y\":{\"field\":\"Data\"}},\"id\":\"4400\",\"type\":\"Circle\"},{\"attributes\":{\"toolbar\":{\"id\":\"4428\"},\"toolbar_location\":\"above\"},\"id\":\"4429\",\"type\":\"ToolbarBox\"}],\"root_ids\":[\"4430\"]},\"title\":\"Bokeh Application\",\"version\":\"2.3.3\"}};\n",
       "  var render_items = [{\"docid\":\"d65f06d3-9fb2-4986-b0a9-96a7fbae4aed\",\"root_ids\":[\"4430\"],\"roots\":{\"4430\":\"079be05d-cf94-4990-83c1-9f0f9aaac945\"}}];\n",
       "  root.Bokeh.embed.embed_items_notebook(docs_json, render_items);\n",
       "\n",
       "  }\n",
       "  if (root.Bokeh !== undefined) {\n",
       "    embed_document(root);\n",
       "  } else {\n",
       "    var attempts = 0;\n",
       "    var timer = setInterval(function(root) {\n",
       "      if (root.Bokeh !== undefined) {\n",
       "        clearInterval(timer);\n",
       "        embed_document(root);\n",
       "      } else {\n",
       "        attempts++;\n",
       "        if (attempts > 100) {\n",
       "          clearInterval(timer);\n",
       "          console.log(\"Bokeh: ERROR: Unable to run BokehJS code because BokehJS library is missing\");\n",
       "        }\n",
       "      }\n",
       "    }, 10, root)\n",
       "  }\n",
       "})(window);"
      ],
      "application/vnd.bokehjs_exec.v0+json": ""
     },
     "metadata": {
      "application/vnd.bokehjs_exec.v0+json": {
       "id": "4430"
      }
     },
     "output_type": "display_data"
    },
    {
     "data": {
      "text/plain": [
       "<data_analysis.plotting.Subplots at 0x113d00280>"
      ]
     },
     "execution_count": 35,
     "metadata": {},
     "output_type": "execute_result"
    }
   ],
   "source": [
    "plot_haplotype_frequency(pf6plus, 'PfDHFR', num_top_haplotypes=5, populations = ['CAF'], years = None, bin=False)"
   ]
  },
  {
   "cell_type": "code",
   "execution_count": 36,
   "metadata": {
    "colab": {
     "base_uri": "https://localhost:8080/",
     "height": 464
    },
    "id": "AZEtSUqxTjAX",
    "outputId": "7b71dbcf-28ed-4f89-f8e6-10bd18bff477"
   },
   "outputs": [
    {
     "data": {
      "text/html": [
       "\n",
       "\n",
       "\n",
       "\n",
       "\n",
       "\n",
       "  <div class=\"bk-root\" id=\"3a93ad1c-f1d0-4f57-92d0-440c583ce328\" data-root-id=\"4969\"></div>\n"
      ]
     },
     "metadata": {},
     "output_type": "display_data"
    },
    {
     "data": {
      "application/javascript": [
       "(function(root) {\n",
       "  function embed_document(root) {\n",
       "    \n",
       "  var docs_json = {\"56af34ef-94e2-4b7f-862b-207e1e28ec5d\":{\"defs\":[],\"roots\":{\"references\":[{\"attributes\":{\"children\":[{\"id\":\"4968\"},{\"id\":\"4966\"}]},\"id\":\"4969\",\"type\":\"Column\"},{\"attributes\":{\"source\":{\"id\":\"4849\"}},\"id\":\"4854\",\"type\":\"CDSView\"},{\"attributes\":{\"label\":{\"value\":\"A[N/I][C/R][S/N]IS\"},\"renderers\":[{\"id\":\"4853\"}]},\"id\":\"4871\",\"type\":\"LegendItem\"},{\"attributes\":{\"callback\":null,\"renderers\":[{\"id\":\"4845\"}],\"tooltips\":[[\"(x,y)\",\"(@Year,@Data)\"]]},\"id\":\"4847\",\"type\":\"HoverTool\"},{\"attributes\":{\"fill_alpha\":{\"value\":0.1},\"fill_color\":{\"value\":\"#2ca02c\"},\"line_alpha\":{\"value\":0.1},\"line_color\":{\"value\":\"#2ca02c\"},\"size\":{\"value\":10},\"x\":{\"field\":\"Year\"},\"y\":{\"field\":\"Data\"}},\"id\":\"4844\",\"type\":\"Circle\"},{\"attributes\":{\"data_source\":{\"id\":\"4879\"},\"glyph\":{\"id\":\"4905\"},\"hover_glyph\":null,\"muted_glyph\":null,\"nonselection_glyph\":{\"id\":\"4906\"},\"view\":{\"id\":\"4908\"}},\"id\":\"4907\",\"type\":\"GlyphRenderer\"},{\"attributes\":{\"source\":{\"id\":\"4821\"}},\"id\":\"4846\",\"type\":\"CDSView\"},{\"attributes\":{\"data_source\":{\"id\":\"4821\"},\"glyph\":{\"id\":\"4843\"},\"hover_glyph\":null,\"muted_glyph\":null,\"nonselection_glyph\":{\"id\":\"4844\"},\"view\":{\"id\":\"4846\"}},\"id\":\"4845\",\"type\":\"GlyphRenderer\"},{\"attributes\":{},\"id\":\"4751\",\"type\":\"BasicTicker\"},{\"attributes\":{\"below\":[{\"id\":\"4750\"}],\"center\":[{\"id\":\"4753\"},{\"id\":\"4757\"},{\"id\":\"4786\"}],\"height\":400,\"left\":[{\"id\":\"4754\"}],\"renderers\":[{\"id\":\"4774\"},{\"id\":\"4791\"},{\"id\":\"4799\"},{\"id\":\"4817\"},{\"id\":\"4825\"},{\"id\":\"4845\"},{\"id\":\"4853\"},{\"id\":\"4875\"},{\"id\":\"4883\"},{\"id\":\"4907\"},{\"id\":\"4915\"},{\"id\":\"4941\"}],\"title\":{\"id\":\"4740\"},\"toolbar\":{\"id\":\"4764\"},\"toolbar_location\":null,\"width\":400,\"x_range\":{\"id\":\"4742\"},\"x_scale\":{\"id\":\"4746\"},\"y_range\":{\"id\":\"4744\"},\"y_scale\":{\"id\":\"4748\"}},\"id\":\"4739\",\"subtype\":\"Figure\",\"type\":\"Plot\"},{\"attributes\":{},\"id\":\"4755\",\"type\":\"BasicTicker\"},{\"attributes\":{\"source\":{\"id\":\"4879\"}},\"id\":\"4884\",\"type\":\"CDSView\"},{\"attributes\":{\"axis_label\":\"Year\",\"formatter\":{\"id\":\"4779\"},\"major_label_policy\":{\"id\":\"4778\"},\"ticker\":{\"id\":\"4751\"}},\"id\":\"4750\",\"type\":\"LinearAxis\"},{\"attributes\":{\"fill_alpha\":{\"value\":0.1},\"fill_color\":{\"value\":\"#9467bd\"},\"line_alpha\":{\"value\":0.1},\"line_color\":{\"value\":\"#9467bd\"},\"size\":{\"value\":10},\"x\":{\"field\":\"Year\"},\"y\":{\"field\":\"Data\"}},\"id\":\"4906\",\"type\":\"Circle\"},{\"attributes\":{\"children\":[[{\"id\":\"4739\"},0,0]]},\"id\":\"4966\",\"type\":\"GridBox\"},{\"attributes\":{},\"id\":\"4783\",\"type\":\"UnionRenderers\"},{\"attributes\":{\"axis\":{\"id\":\"4754\"},\"dimension\":1,\"ticker\":null},\"id\":\"4757\",\"type\":\"Grid\"},{\"attributes\":{\"line_color\":\"#9467bd\",\"line_width\":2,\"x\":{\"field\":\"Year\"},\"y\":{\"field\":\"Data\"}},\"id\":\"4881\",\"type\":\"Line\"},{\"attributes\":{},\"id\":\"4784\",\"type\":\"Selection\"},{\"attributes\":{\"line_color\":\"#8c564b\",\"line_width\":2,\"x\":{\"field\":\"Year\"},\"y\":{\"field\":\"Data\"}},\"id\":\"4913\",\"type\":\"Line\"},{\"attributes\":{},\"id\":\"4868\",\"type\":\"UnionRenderers\"},{\"attributes\":{},\"id\":\"4869\",\"type\":\"Selection\"},{\"attributes\":{\"fill_alpha\":{\"value\":0.5},\"fill_color\":{\"value\":\"#1f77b4\"},\"line_alpha\":{\"value\":0.5},\"line_color\":{\"value\":\"#1f77b4\"},\"size\":{\"value\":10},\"x\":{\"field\":\"Year\"},\"y\":{\"field\":\"Data\"}},\"id\":\"4789\",\"type\":\"Circle\"},{\"attributes\":{\"axis_label\":\"Prevalence\",\"formatter\":{\"id\":\"4782\"},\"major_label_policy\":{\"id\":\"4781\"},\"ticker\":{\"id\":\"4755\"}},\"id\":\"4754\",\"type\":\"LinearAxis\"},{\"attributes\":{\"fill_alpha\":{\"value\":0.1},\"fill_color\":{\"value\":\"#1f77b4\"},\"line_alpha\":{\"value\":0.1},\"line_color\":{\"value\":\"#1f77b4\"},\"size\":{\"value\":10},\"x\":{\"field\":\"Year\"},\"y\":{\"field\":\"Data\"}},\"id\":\"4790\",\"type\":\"Circle\"},{\"attributes\":{\"source\":{\"id\":\"4770\"}},\"id\":\"4792\",\"type\":\"CDSView\"},{\"attributes\":{\"data_source\":{\"id\":\"4770\"},\"glyph\":{\"id\":\"4789\"},\"hover_glyph\":null,\"muted_glyph\":null,\"nonselection_glyph\":{\"id\":\"4790\"},\"view\":{\"id\":\"4792\"}},\"id\":\"4791\",\"type\":\"GlyphRenderer\"},{\"attributes\":{\"callback\":null,\"renderers\":[{\"id\":\"4791\"}],\"tooltips\":[[\"(x,y)\",\"(@Year,@Data)\"]]},\"id\":\"4793\",\"type\":\"HoverTool\"},{\"attributes\":{\"axis\":{\"id\":\"4750\"},\"ticker\":null},\"id\":\"4753\",\"type\":\"Grid\"},{\"attributes\":{\"source\":{\"id\":\"4795\"}},\"id\":\"4800\",\"type\":\"CDSView\"},{\"attributes\":{\"fill_alpha\":{\"value\":0.1},\"fill_color\":{\"value\":\"#ff7f0e\"},\"line_alpha\":{\"value\":0.1},\"line_color\":{\"value\":\"#ff7f0e\"},\"size\":{\"value\":10},\"x\":{\"field\":\"Year\"},\"y\":{\"field\":\"Data\"}},\"id\":\"4816\",\"type\":\"Circle\"},{\"attributes\":{\"fill_alpha\":{\"value\":0.5},\"fill_color\":{\"value\":\"#ff7f0e\"},\"line_alpha\":{\"value\":0.5},\"line_color\":{\"value\":\"#ff7f0e\"},\"size\":{\"value\":10},\"x\":{\"field\":\"Year\"},\"y\":{\"field\":\"Data\"}},\"id\":\"4815\",\"type\":\"Circle\"},{\"attributes\":{\"fill_alpha\":{\"value\":0.5},\"fill_color\":{\"value\":\"#d62728\"},\"line_alpha\":{\"value\":0.5},\"line_color\":{\"value\":\"#d62728\"},\"size\":{\"value\":10},\"x\":{\"field\":\"Year\"},\"y\":{\"field\":\"Data\"}},\"id\":\"4873\",\"type\":\"Circle\"},{\"attributes\":{},\"id\":\"4744\",\"type\":\"Range1d\"},{\"attributes\":{\"fill_alpha\":{\"value\":0.5},\"fill_color\":{\"value\":\"#9467bd\"},\"line_alpha\":{\"value\":0.5},\"line_color\":{\"value\":\"#9467bd\"},\"size\":{\"value\":10},\"x\":{\"field\":\"Year\"},\"y\":{\"field\":\"Data\"}},\"id\":\"4905\",\"type\":\"Circle\"},{\"attributes\":{\"line_color\":\"#2ca02c\",\"line_width\":2,\"x\":{\"field\":\"Year\"},\"y\":{\"field\":\"Data\"}},\"id\":\"4823\",\"type\":\"Line\"},{\"attributes\":{\"fill_alpha\":{\"value\":0.1},\"fill_color\":{\"value\":\"#d62728\"},\"line_alpha\":{\"value\":0.1},\"line_color\":{\"value\":\"#d62728\"},\"size\":{\"value\":10},\"x\":{\"field\":\"Year\"},\"y\":{\"field\":\"Data\"}},\"id\":\"4874\",\"type\":\"Circle\"},{\"attributes\":{\"data_source\":{\"id\":\"4821\"},\"glyph\":{\"id\":\"4823\"},\"hover_glyph\":null,\"muted_glyph\":null,\"nonselection_glyph\":{\"id\":\"4824\"},\"view\":{\"id\":\"4826\"}},\"id\":\"4825\",\"type\":\"GlyphRenderer\"},{\"attributes\":{\"source\":{\"id\":\"4849\"}},\"id\":\"4876\",\"type\":\"CDSView\"},{\"attributes\":{\"data_source\":{\"id\":\"4849\"},\"glyph\":{\"id\":\"4873\"},\"hover_glyph\":null,\"muted_glyph\":null,\"nonselection_glyph\":{\"id\":\"4874\"},\"view\":{\"id\":\"4876\"}},\"id\":\"4875\",\"type\":\"GlyphRenderer\"},{\"attributes\":{\"line_alpha\":0.1,\"line_color\":\"#2ca02c\",\"line_width\":2,\"x\":{\"field\":\"Year\"},\"y\":{\"field\":\"Data\"}},\"id\":\"4824\",\"type\":\"Line\"},{\"attributes\":{\"callback\":null,\"renderers\":[{\"id\":\"4875\"}],\"tooltips\":[[\"(x,y)\",\"(@Year,@Data)\"]]},\"id\":\"4877\",\"type\":\"HoverTool\"},{\"attributes\":{\"data_source\":{\"id\":\"4879\"},\"glyph\":{\"id\":\"4881\"},\"hover_glyph\":null,\"muted_glyph\":null,\"nonselection_glyph\":{\"id\":\"4882\"},\"view\":{\"id\":\"4884\"}},\"id\":\"4883\",\"type\":\"GlyphRenderer\"},{\"attributes\":{\"text\":\"PfDHFR Predominant Variants in Mali\"},\"id\":\"4740\",\"type\":\"Title\"},{\"attributes\":{\"data\":{\"Data\":{\"__ndarray__\":\"9DzP8zzPwz9fBbOkHBCpPxQ7sRM7sZM/\",\"dtype\":\"float64\",\"order\":\"little\",\"shape\":[3]},\"Year\":[2007,2013,2014]},\"selected\":{\"id\":\"4869\"},\"selection_policy\":{\"id\":\"4868\"}},\"id\":\"4849\",\"type\":\"ColumnDataSource\"},{\"attributes\":{\"data\":{\"Data\":{\"__ndarray__\":\"IHqnAu55rj+IVrWkoxywP8hpT8k5sbM/\",\"dtype\":\"float64\",\"order\":\"little\",\"shape\":[3]},\"Year\":[2007,2013,2014]},\"selected\":{\"id\":\"4935\"},\"selection_policy\":{\"id\":\"4934\"}},\"id\":\"4911\",\"type\":\"ColumnDataSource\"},{\"attributes\":{\"label\":{\"value\":\"ANRNIS\"},\"renderers\":[{\"id\":\"4883\"}]},\"id\":\"4903\",\"type\":\"LegendItem\"},{\"attributes\":{\"label\":{\"value\":\"ANCSIS\"},\"renderers\":[{\"id\":\"4799\"}]},\"id\":\"4813\",\"type\":\"LegendItem\"},{\"attributes\":{\"line_alpha\":0.1,\"line_color\":\"#9467bd\",\"line_width\":2,\"x\":{\"field\":\"Year\"},\"y\":{\"field\":\"Data\"}},\"id\":\"4882\",\"type\":\"Line\"},{\"attributes\":{\"end\":2019,\"start\":2001},\"id\":\"4742\",\"type\":\"Range1d\"},{\"attributes\":{\"data\":{\"Data\":{\"__ndarray__\":\"GIZhGIZh2D8rmCXlgMjQP8VO7MRO7NQ/\",\"dtype\":\"float64\",\"order\":\"little\",\"shape\":[3]},\"Year\":[2007,2013,2014]},\"selected\":{\"id\":\"4811\"},\"selection_policy\":{\"id\":\"4810\"}},\"id\":\"4795\",\"type\":\"ColumnDataSource\"},{\"attributes\":{},\"id\":\"4778\",\"type\":\"AllLabels\"},{\"attributes\":{\"active_drag\":{\"id\":\"4758\"},\"active_multi\":null,\"active_scroll\":{\"id\":\"4759\"},\"tools\":[{\"id\":\"4758\"},{\"id\":\"4759\"},{\"id\":\"4760\"},{\"id\":\"4761\"},{\"id\":\"4762\"},{\"id\":\"4793\"},{\"id\":\"4819\"},{\"id\":\"4847\"},{\"id\":\"4877\"},{\"id\":\"4909\"},{\"id\":\"4943\"}]},\"id\":\"4764\",\"type\":\"Toolbar\"},{\"attributes\":{},\"id\":\"4810\",\"type\":\"UnionRenderers\"},{\"attributes\":{\"bottom_units\":\"screen\",\"fill_alpha\":0.5,\"fill_color\":\"lightgrey\",\"left_units\":\"screen\",\"level\":\"overlay\",\"line_alpha\":1.0,\"line_color\":\"black\",\"line_dash\":[4,4],\"line_width\":2,\"right_units\":\"screen\",\"syncable\":false,\"top_units\":\"screen\"},\"id\":\"4763\",\"type\":\"BoxAnnotation\"},{\"attributes\":{\"label\":{\"value\":\"Other\"},\"renderers\":[{\"id\":\"4915\"}]},\"id\":\"4937\",\"type\":\"LegendItem\"},{\"attributes\":{},\"id\":\"4811\",\"type\":\"Selection\"},{\"attributes\":{\"line_color\":\"#1f77b4\",\"line_width\":2,\"x\":{\"field\":\"Year\"},\"y\":{\"field\":\"Data\"}},\"id\":\"4772\",\"type\":\"Line\"},{\"attributes\":{\"fill_alpha\":{\"value\":0.1},\"fill_color\":{\"value\":\"#8c564b\"},\"line_alpha\":{\"value\":0.1},\"line_color\":{\"value\":\"#8c564b\"},\"size\":{\"value\":10},\"x\":{\"field\":\"Year\"},\"y\":{\"field\":\"Data\"}},\"id\":\"4940\",\"type\":\"Circle\"},{\"attributes\":{},\"id\":\"4900\",\"type\":\"UnionRenderers\"},{\"attributes\":{},\"id\":\"4746\",\"type\":\"LinearScale\"},{\"attributes\":{\"overlay\":{\"id\":\"4763\"}},\"id\":\"4760\",\"type\":\"BoxZoomTool\"},{\"attributes\":{\"line_alpha\":0.1,\"line_color\":\"#1f77b4\",\"line_width\":2,\"x\":{\"field\":\"Year\"},\"y\":{\"field\":\"Data\"}},\"id\":\"4773\",\"type\":\"Line\"},{\"attributes\":{\"source\":{\"id\":\"4911\"}},\"id\":\"4942\",\"type\":\"CDSView\"},{\"attributes\":{},\"id\":\"4901\",\"type\":\"Selection\"},{\"attributes\":{\"data_source\":{\"id\":\"4911\"},\"glyph\":{\"id\":\"4939\"},\"hover_glyph\":null,\"muted_glyph\":null,\"nonselection_glyph\":{\"id\":\"4940\"},\"view\":{\"id\":\"4942\"}},\"id\":\"4941\",\"type\":\"GlyphRenderer\"},{\"attributes\":{\"source\":{\"id\":\"4770\"}},\"id\":\"4775\",\"type\":\"CDSView\"},{\"attributes\":{\"callback\":null,\"renderers\":[{\"id\":\"4941\"}],\"tooltips\":[[\"(x,y)\",\"(@Year,@Data)\"]]},\"id\":\"4943\",\"type\":\"HoverTool\"},{\"attributes\":{\"source\":{\"id\":\"4795\"}},\"id\":\"4818\",\"type\":\"CDSView\"},{\"attributes\":{\"callback\":null,\"renderers\":[{\"id\":\"4817\"}],\"tooltips\":[[\"(x,y)\",\"(@Year,@Data)\"]]},\"id\":\"4819\",\"type\":\"HoverTool\"},{\"attributes\":{\"data_source\":{\"id\":\"4795\"},\"glyph\":{\"id\":\"4815\"},\"hover_glyph\":null,\"muted_glyph\":null,\"nonselection_glyph\":{\"id\":\"4816\"},\"view\":{\"id\":\"4818\"}},\"id\":\"4817\",\"type\":\"GlyphRenderer\"},{\"attributes\":{\"toolbar\":{\"id\":\"4967\"},\"toolbar_location\":\"above\"},\"id\":\"4968\",\"type\":\"ToolbarBox\"},{\"attributes\":{\"background_fill_alpha\":0.7,\"items\":[{\"id\":\"4787\"},{\"id\":\"4813\"},{\"id\":\"4841\"},{\"id\":\"4871\"},{\"id\":\"4903\"},{\"id\":\"4937\"}]},\"id\":\"4786\",\"type\":\"Legend\"},{\"attributes\":{\"callback\":null,\"renderers\":[{\"id\":\"4907\"}],\"tooltips\":[[\"(x,y)\",\"(@Year,@Data)\"]]},\"id\":\"4909\",\"type\":\"HoverTool\"},{\"attributes\":{\"source\":{\"id\":\"4821\"}},\"id\":\"4826\",\"type\":\"CDSView\"},{\"attributes\":{\"source\":{\"id\":\"4879\"}},\"id\":\"4908\",\"type\":\"CDSView\"},{\"attributes\":{\"fill_alpha\":{\"value\":0.5},\"fill_color\":{\"value\":\"#8c564b\"},\"line_alpha\":{\"value\":0.5},\"line_color\":{\"value\":\"#8c564b\"},\"size\":{\"value\":10},\"x\":{\"field\":\"Year\"},\"y\":{\"field\":\"Data\"}},\"id\":\"4939\",\"type\":\"Circle\"},{\"attributes\":{\"data\":{\"Data\":{\"__ndarray__\":\"VVVVVVVVtT+E6jNtjb+7PxQ7sRM7sZM/\",\"dtype\":\"float64\",\"order\":\"little\",\"shape\":[3]},\"Year\":[2007,2013,2014]},\"selected\":{\"id\":\"4839\"},\"selection_policy\":{\"id\":\"4838\"}},\"id\":\"4821\",\"type\":\"ColumnDataSource\"},{\"attributes\":{\"data_source\":{\"id\":\"4770\"},\"glyph\":{\"id\":\"4772\"},\"hover_glyph\":null,\"muted_glyph\":null,\"nonselection_glyph\":{\"id\":\"4773\"},\"view\":{\"id\":\"4775\"}},\"id\":\"4774\",\"type\":\"GlyphRenderer\"},{\"attributes\":{\"toolbars\":[{\"id\":\"4764\"}],\"tools\":[{\"id\":\"4758\"},{\"id\":\"4759\"},{\"id\":\"4760\"},{\"id\":\"4761\"},{\"id\":\"4762\"},{\"id\":\"4793\"},{\"id\":\"4819\"},{\"id\":\"4847\"},{\"id\":\"4877\"},{\"id\":\"4909\"},{\"id\":\"4943\"}]},\"id\":\"4967\",\"type\":\"ProxyToolbar\"},{\"attributes\":{\"data_source\":{\"id\":\"4795\"},\"glyph\":{\"id\":\"4797\"},\"hover_glyph\":null,\"muted_glyph\":null,\"nonselection_glyph\":{\"id\":\"4798\"},\"view\":{\"id\":\"4800\"}},\"id\":\"4799\",\"type\":\"GlyphRenderer\"},{\"attributes\":{},\"id\":\"4759\",\"type\":\"WheelZoomTool\"},{\"attributes\":{},\"id\":\"4838\",\"type\":\"UnionRenderers\"},{\"attributes\":{\"line_color\":\"#d62728\",\"line_width\":2,\"x\":{\"field\":\"Year\"},\"y\":{\"field\":\"Data\"}},\"id\":\"4851\",\"type\":\"Line\"},{\"attributes\":{\"data_source\":{\"id\":\"4849\"},\"glyph\":{\"id\":\"4851\"},\"hover_glyph\":null,\"muted_glyph\":null,\"nonselection_glyph\":{\"id\":\"4852\"},\"view\":{\"id\":\"4854\"}},\"id\":\"4853\",\"type\":\"GlyphRenderer\"},{\"attributes\":{\"data_source\":{\"id\":\"4911\"},\"glyph\":{\"id\":\"4913\"},\"hover_glyph\":null,\"muted_glyph\":null,\"nonselection_glyph\":{\"id\":\"4914\"},\"view\":{\"id\":\"4916\"}},\"id\":\"4915\",\"type\":\"GlyphRenderer\"},{\"attributes\":{},\"id\":\"4779\",\"type\":\"BasicTickFormatter\"},{\"attributes\":{\"line_color\":\"#ff7f0e\",\"line_width\":2,\"x\":{\"field\":\"Year\"},\"y\":{\"field\":\"Data\"}},\"id\":\"4797\",\"type\":\"Line\"},{\"attributes\":{\"line_alpha\":0.1,\"line_color\":\"#d62728\",\"line_width\":2,\"x\":{\"field\":\"Year\"},\"y\":{\"field\":\"Data\"}},\"id\":\"4852\",\"type\":\"Line\"},{\"attributes\":{\"label\":{\"value\":\"AIRNIS\"},\"renderers\":[{\"id\":\"4774\"}]},\"id\":\"4787\",\"type\":\"LegendItem\"},{\"attributes\":{\"line_alpha\":0.1,\"line_color\":\"#ff7f0e\",\"line_width\":2,\"x\":{\"field\":\"Year\"},\"y\":{\"field\":\"Data\"}},\"id\":\"4798\",\"type\":\"Line\"},{\"attributes\":{\"data\":{\"Data\":{\"__ndarray__\":\"GIZhGIZhiD+R4V4Fs6ScPxQ7sRM7sbM/\",\"dtype\":\"float64\",\"order\":\"little\",\"shape\":[3]},\"Year\":[2007,2013,2014]},\"selected\":{\"id\":\"4901\"},\"selection_policy\":{\"id\":\"4900\"}},\"id\":\"4879\",\"type\":\"ColumnDataSource\"},{\"attributes\":{\"fill_alpha\":{\"value\":0.5},\"fill_color\":{\"value\":\"#2ca02c\"},\"line_alpha\":{\"value\":0.5},\"line_color\":{\"value\":\"#2ca02c\"},\"size\":{\"value\":10},\"x\":{\"field\":\"Year\"},\"y\":{\"field\":\"Data\"}},\"id\":\"4843\",\"type\":\"Circle\"},{\"attributes\":{},\"id\":\"4748\",\"type\":\"LinearScale\"},{\"attributes\":{\"callback\":null},\"id\":\"4762\",\"type\":\"TapTool\"},{\"attributes\":{\"label\":{\"value\":\"A[I/N][R/C][N/S]IS\"},\"renderers\":[{\"id\":\"4825\"}]},\"id\":\"4841\",\"type\":\"LegendItem\"},{\"attributes\":{\"line_alpha\":0.1,\"line_color\":\"#8c564b\",\"line_width\":2,\"x\":{\"field\":\"Year\"},\"y\":{\"field\":\"Data\"}},\"id\":\"4914\",\"type\":\"Line\"},{\"attributes\":{},\"id\":\"4839\",\"type\":\"Selection\"},{\"attributes\":{\"data\":{\"Data\":{\"__ndarray__\":\"9DzP8zzP0z+3xt/NI1TfP0/sxE7sxN4/\",\"dtype\":\"float64\",\"order\":\"little\",\"shape\":[3]},\"Year\":[2007,2013,2014]},\"selected\":{\"id\":\"4784\"},\"selection_policy\":{\"id\":\"4783\"}},\"id\":\"4770\",\"type\":\"ColumnDataSource\"},{\"attributes\":{\"source\":{\"id\":\"4911\"}},\"id\":\"4916\",\"type\":\"CDSView\"},{\"attributes\":{},\"id\":\"4761\",\"type\":\"ResetTool\"},{\"attributes\":{},\"id\":\"4934\",\"type\":\"UnionRenderers\"},{\"attributes\":{},\"id\":\"4781\",\"type\":\"AllLabels\"},{\"attributes\":{},\"id\":\"4782\",\"type\":\"BasicTickFormatter\"},{\"attributes\":{},\"id\":\"4935\",\"type\":\"Selection\"},{\"attributes\":{},\"id\":\"4758\",\"type\":\"PanTool\"}],\"root_ids\":[\"4969\"]},\"title\":\"Bokeh Application\",\"version\":\"2.3.3\"}};\n",
       "  var render_items = [{\"docid\":\"56af34ef-94e2-4b7f-862b-207e1e28ec5d\",\"root_ids\":[\"4969\"],\"roots\":{\"4969\":\"3a93ad1c-f1d0-4f57-92d0-440c583ce328\"}}];\n",
       "  root.Bokeh.embed.embed_items_notebook(docs_json, render_items);\n",
       "\n",
       "  }\n",
       "  if (root.Bokeh !== undefined) {\n",
       "    embed_document(root);\n",
       "  } else {\n",
       "    var attempts = 0;\n",
       "    var timer = setInterval(function(root) {\n",
       "      if (root.Bokeh !== undefined) {\n",
       "        clearInterval(timer);\n",
       "        embed_document(root);\n",
       "      } else {\n",
       "        attempts++;\n",
       "        if (attempts > 100) {\n",
       "          clearInterval(timer);\n",
       "          console.log(\"Bokeh: ERROR: Unable to run BokehJS code because BokehJS library is missing\");\n",
       "        }\n",
       "      }\n",
       "    }, 10, root)\n",
       "  }\n",
       "})(window);"
      ],
      "application/vnd.bokehjs_exec.v0+json": ""
     },
     "metadata": {
      "application/vnd.bokehjs_exec.v0+json": {
       "id": "4969"
      }
     },
     "output_type": "display_data"
    },
    {
     "data": {
      "text/plain": [
       "<data_analysis.plotting.Subplots at 0x113d54760>"
      ]
     },
     "execution_count": 36,
     "metadata": {},
     "output_type": "execute_result"
    }
   ],
   "source": [
    "plot_haplotype_frequency(pf6plus, 'PfDHFR', num_top_haplotypes=5, countries = ['Mali'], bin=False)"
   ]
  },
  {
   "cell_type": "markdown",
   "metadata": {
    "id": "0ZATSoVPl_Ek"
   },
   "source": [
    "## What else can I do? \n",
    "\n",
    "Imagine we are interested on the evolution of *Kelch13* haplotypes in ESEA, a quick way to visualise the context, would be to compare different countries within this population and see if it is possible to detect any country-specific mutations. \n"
   ]
  },
  {
   "cell_type": "code",
   "execution_count": 37,
   "metadata": {
    "colab": {
     "base_uri": "https://localhost:8080/",
     "height": 464
    },
    "id": "4IJIY3ZGUOqk",
    "outputId": "b6b6b934-7053-446c-950c-0d6e4a222c96"
   },
   "outputs": [
    {
     "data": {
      "text/html": [
       "\n",
       "\n",
       "\n",
       "\n",
       "\n",
       "\n",
       "  <div class=\"bk-root\" id=\"654d6624-9d15-4ef0-90e3-7ffe94186390\" data-root-id=\"5528\"></div>\n"
      ]
     },
     "metadata": {},
     "output_type": "display_data"
    },
    {
     "data": {
      "application/javascript": [
       "(function(root) {\n",
       "  function embed_document(root) {\n",
       "    \n",
       "  var docs_json = {\"f1982c52-b933-4854-aed9-f2a38e98fbbe\":{\"defs\":[],\"roots\":{\"references\":[{\"attributes\":{\"children\":[{\"id\":\"5527\"},{\"id\":\"5525\"}]},\"id\":\"5528\",\"type\":\"Column\"},{\"attributes\":{\"data\":{\"Data\":{\"__ndarray__\":\"chzHcRzH4T9VVVVVVVXFP5IkSZIkSdI/J+XTSfl04j9JutadDyzjP4Mt2IIt2OI/ntiJndiJ3T9T1pQ1ZU3ZP47jOI7jOL4/I2Xg6db8wD9iXyYec1rZP8w9JHl9p9g/R1juaYTlvj8=\",\"dtype\":\"float64\",\"order\":\"little\",\"shape\":[13]},\"Year\":[2007,2008,2009,2010,2011,2012,2013,2014,2015,2016,2017,2018,2019]},\"selected\":{\"id\":\"5370\"},\"selection_policy\":{\"id\":\"5369\"}},\"id\":\"5354\",\"type\":\"ColumnDataSource\"},{\"attributes\":{},\"id\":\"5337\",\"type\":\"AllLabels\"},{\"attributes\":{\"source\":{\"id\":\"5408\"}},\"id\":\"5413\",\"type\":\"CDSView\"},{\"attributes\":{\"label\":{\"value\":\"R539T\"},\"renderers\":[{\"id\":\"5412\"}]},\"id\":\"5430\",\"type\":\"LegendItem\"},{\"attributes\":{\"callback\":null,\"renderers\":[{\"id\":\"5404\"}],\"tooltips\":[[\"(x,y)\",\"(@Year,@Data)\"]]},\"id\":\"5406\",\"type\":\"HoverTool\"},{\"attributes\":{},\"id\":\"5369\",\"type\":\"UnionRenderers\"},{\"attributes\":{\"source\":{\"id\":\"5438\"}},\"id\":\"5467\",\"type\":\"CDSView\"},{\"attributes\":{\"fill_alpha\":{\"value\":0.1},\"fill_color\":{\"value\":\"#2ca02c\"},\"line_alpha\":{\"value\":0.1},\"line_color\":{\"value\":\"#2ca02c\"},\"size\":{\"value\":10},\"x\":{\"field\":\"Year\"},\"y\":{\"field\":\"Data\"}},\"id\":\"5403\",\"type\":\"Circle\"},{\"attributes\":{\"source\":{\"id\":\"5329\"}},\"id\":\"5334\",\"type\":\"CDSView\"},{\"attributes\":{\"source\":{\"id\":\"5380\"}},\"id\":\"5405\",\"type\":\"CDSView\"},{\"attributes\":{},\"id\":\"5370\",\"type\":\"Selection\"},{\"attributes\":{\"data_source\":{\"id\":\"5380\"},\"glyph\":{\"id\":\"5402\"},\"hover_glyph\":null,\"muted_glyph\":null,\"nonselection_glyph\":{\"id\":\"5403\"},\"view\":{\"id\":\"5405\"}},\"id\":\"5404\",\"type\":\"GlyphRenderer\"},{\"attributes\":{\"bottom_units\":\"screen\",\"fill_alpha\":0.5,\"fill_color\":\"lightgrey\",\"left_units\":\"screen\",\"level\":\"overlay\",\"line_alpha\":1.0,\"line_color\":\"black\",\"line_dash\":[4,4],\"line_width\":2,\"right_units\":\"screen\",\"syncable\":false,\"top_units\":\"screen\"},\"id\":\"5322\",\"type\":\"BoxAnnotation\"},{\"attributes\":{\"source\":{\"id\":\"5438\"}},\"id\":\"5443\",\"type\":\"CDSView\"},{\"attributes\":{\"fill_alpha\":{\"value\":0.1},\"fill_color\":{\"value\":\"#9467bd\"},\"line_alpha\":{\"value\":0.1},\"line_color\":{\"value\":\"#9467bd\"},\"size\":{\"value\":10},\"x\":{\"field\":\"Year\"},\"y\":{\"field\":\"Data\"}},\"id\":\"5465\",\"type\":\"Circle\"},{\"attributes\":{\"line_alpha\":0.1,\"line_color\":\"#1f77b4\",\"line_width\":2,\"x\":{\"field\":\"Year\"},\"y\":{\"field\":\"Data\"}},\"id\":\"5332\",\"type\":\"Line\"},{\"attributes\":{\"fill_alpha\":{\"value\":0.1},\"fill_color\":{\"value\":\"#8c564b\"},\"line_alpha\":{\"value\":0.1},\"line_color\":{\"value\":\"#8c564b\"},\"size\":{\"value\":10},\"x\":{\"field\":\"Year\"},\"y\":{\"field\":\"Data\"}},\"id\":\"5499\",\"type\":\"Circle\"},{\"attributes\":{},\"id\":\"5342\",\"type\":\"UnionRenderers\"},{\"attributes\":{\"source\":{\"id\":\"5470\"}},\"id\":\"5501\",\"type\":\"CDSView\"},{\"attributes\":{\"data_source\":{\"id\":\"5470\"},\"glyph\":{\"id\":\"5498\"},\"hover_glyph\":null,\"muted_glyph\":null,\"nonselection_glyph\":{\"id\":\"5499\"},\"view\":{\"id\":\"5501\"}},\"id\":\"5500\",\"type\":\"GlyphRenderer\"},{\"attributes\":{\"callback\":null,\"renderers\":[{\"id\":\"5500\"}],\"tooltips\":[[\"(x,y)\",\"(@Year,@Data)\"]]},\"id\":\"5502\",\"type\":\"HoverTool\"},{\"attributes\":{\"line_color\":\"#9467bd\",\"line_width\":2,\"x\":{\"field\":\"Year\"},\"y\":{\"field\":\"Data\"}},\"id\":\"5440\",\"type\":\"Line\"},{\"attributes\":{},\"id\":\"5343\",\"type\":\"Selection\"},{\"attributes\":{\"callback\":null,\"renderers\":[{\"id\":\"5466\"}],\"tooltips\":[[\"(x,y)\",\"(@Year,@Data)\"]]},\"id\":\"5468\",\"type\":\"HoverTool\"},{\"attributes\":{\"overlay\":{\"id\":\"5322\"}},\"id\":\"5319\",\"type\":\"BoxZoomTool\"},{\"attributes\":{\"data_source\":{\"id\":\"5470\"},\"glyph\":{\"id\":\"5472\"},\"hover_glyph\":null,\"muted_glyph\":null,\"nonselection_glyph\":{\"id\":\"5473\"},\"view\":{\"id\":\"5475\"}},\"id\":\"5474\",\"type\":\"GlyphRenderer\"},{\"attributes\":{\"fill_alpha\":{\"value\":0.1},\"fill_color\":{\"value\":\"#ff7f0e\"},\"line_alpha\":{\"value\":0.1},\"line_color\":{\"value\":\"#ff7f0e\"},\"size\":{\"value\":10},\"x\":{\"field\":\"Year\"},\"y\":{\"field\":\"Data\"}},\"id\":\"5375\",\"type\":\"Circle\"},{\"attributes\":{\"source\":{\"id\":\"5354\"}},\"id\":\"5377\",\"type\":\"CDSView\"},{\"attributes\":{\"data_source\":{\"id\":\"5354\"},\"glyph\":{\"id\":\"5374\"},\"hover_glyph\":null,\"muted_glyph\":null,\"nonselection_glyph\":{\"id\":\"5375\"},\"view\":{\"id\":\"5377\"}},\"id\":\"5376\",\"type\":\"GlyphRenderer\"},{\"attributes\":{\"callback\":null,\"renderers\":[{\"id\":\"5376\"}],\"tooltips\":[[\"(x,y)\",\"(@Year,@Data)\"]]},\"id\":\"5378\",\"type\":\"HoverTool\"},{\"attributes\":{},\"id\":\"5427\",\"type\":\"UnionRenderers\"},{\"attributes\":{\"label\":{\"value\":\"Y493H\"},\"renderers\":[{\"id\":\"5384\"}]},\"id\":\"5400\",\"type\":\"LegendItem\"},{\"attributes\":{\"background_fill_alpha\":0.7,\"items\":[{\"id\":\"5346\"},{\"id\":\"5372\"},{\"id\":\"5400\"},{\"id\":\"5430\"},{\"id\":\"5462\"},{\"id\":\"5496\"}]},\"id\":\"5345\",\"type\":\"Legend\"},{\"attributes\":{\"active_drag\":{\"id\":\"5317\"},\"active_multi\":null,\"active_scroll\":{\"id\":\"5318\"},\"tools\":[{\"id\":\"5317\"},{\"id\":\"5318\"},{\"id\":\"5319\"},{\"id\":\"5320\"},{\"id\":\"5321\"},{\"id\":\"5352\"},{\"id\":\"5378\"},{\"id\":\"5406\"},{\"id\":\"5436\"},{\"id\":\"5468\"},{\"id\":\"5502\"}]},\"id\":\"5323\",\"type\":\"Toolbar\"},{\"attributes\":{},\"id\":\"5428\",\"type\":\"Selection\"},{\"attributes\":{\"fill_alpha\":{\"value\":0.5},\"fill_color\":{\"value\":\"#1f77b4\"},\"line_alpha\":{\"value\":0.5},\"line_color\":{\"value\":\"#1f77b4\"},\"size\":{\"value\":10},\"x\":{\"field\":\"Year\"},\"y\":{\"field\":\"Data\"}},\"id\":\"5348\",\"type\":\"Circle\"},{\"attributes\":{\"data\":{\"Data\":{\"__ndarray__\":\"ewntJbSX0D+SJEmSJEmyP5IkSZIkScI/UeFfVPgXtT9yOavHjgCdPxdswRZswaY/EQ7hEA7hsD8aBSI4dmmEPxzHcRzHcYw/AAAAAAAAAACCL9zj6QCDP7gNBbFOe1I/AAAAAAAAAAA=\",\"dtype\":\"float64\",\"order\":\"little\",\"shape\":[13]},\"Year\":[2007,2008,2009,2010,2011,2012,2013,2014,2015,2016,2017,2018,2019]},\"selected\":{\"id\":\"5398\"},\"selection_policy\":{\"id\":\"5397\"}},\"id\":\"5380\",\"type\":\"ColumnDataSource\"},{\"attributes\":{\"data_source\":{\"id\":\"5329\"},\"glyph\":{\"id\":\"5331\"},\"hover_glyph\":null,\"muted_glyph\":null,\"nonselection_glyph\":{\"id\":\"5332\"},\"view\":{\"id\":\"5334\"}},\"id\":\"5333\",\"type\":\"GlyphRenderer\"},{\"attributes\":{},\"id\":\"5398\",\"type\":\"Selection\"},{\"attributes\":{\"data_source\":{\"id\":\"5354\"},\"glyph\":{\"id\":\"5356\"},\"hover_glyph\":null,\"muted_glyph\":null,\"nonselection_glyph\":{\"id\":\"5357\"},\"view\":{\"id\":\"5359\"}},\"id\":\"5358\",\"type\":\"GlyphRenderer\"},{\"attributes\":{\"fill_alpha\":{\"value\":0.5},\"fill_color\":{\"value\":\"#ff7f0e\"},\"line_alpha\":{\"value\":0.5},\"line_color\":{\"value\":\"#ff7f0e\"},\"size\":{\"value\":10},\"x\":{\"field\":\"Year\"},\"y\":{\"field\":\"Data\"}},\"id\":\"5374\",\"type\":\"Circle\"},{\"attributes\":{\"line_color\":\"#d62728\",\"line_width\":2,\"x\":{\"field\":\"Year\"},\"y\":{\"field\":\"Data\"}},\"id\":\"5410\",\"type\":\"Line\"},{\"attributes\":{\"data_source\":{\"id\":\"5408\"},\"glyph\":{\"id\":\"5410\"},\"hover_glyph\":null,\"muted_glyph\":null,\"nonselection_glyph\":{\"id\":\"5411\"},\"view\":{\"id\":\"5413\"}},\"id\":\"5412\",\"type\":\"GlyphRenderer\"},{\"attributes\":{\"fill_alpha\":{\"value\":0.1},\"fill_color\":{\"value\":\"#1f77b4\"},\"line_alpha\":{\"value\":0.1},\"line_color\":{\"value\":\"#1f77b4\"},\"size\":{\"value\":10},\"x\":{\"field\":\"Year\"},\"y\":{\"field\":\"Data\"}},\"id\":\"5349\",\"type\":\"Circle\"},{\"attributes\":{},\"id\":\"5338\",\"type\":\"BasicTickFormatter\"},{\"attributes\":{\"source\":{\"id\":\"5329\"}},\"id\":\"5351\",\"type\":\"CDSView\"},{\"attributes\":{\"line_alpha\":0.1,\"line_color\":\"#d62728\",\"line_width\":2,\"x\":{\"field\":\"Year\"},\"y\":{\"field\":\"Data\"}},\"id\":\"5411\",\"type\":\"Line\"},{\"attributes\":{\"data_source\":{\"id\":\"5329\"},\"glyph\":{\"id\":\"5348\"},\"hover_glyph\":null,\"muted_glyph\":null,\"nonselection_glyph\":{\"id\":\"5349\"},\"view\":{\"id\":\"5351\"}},\"id\":\"5350\",\"type\":\"GlyphRenderer\"},{\"attributes\":{\"line_color\":\"#ff7f0e\",\"line_width\":2,\"x\":{\"field\":\"Year\"},\"y\":{\"field\":\"Data\"}},\"id\":\"5356\",\"type\":\"Line\"},{\"attributes\":{\"callback\":null,\"renderers\":[{\"id\":\"5350\"}],\"tooltips\":[[\"(x,y)\",\"(@Year,@Data)\"]]},\"id\":\"5352\",\"type\":\"HoverTool\"},{\"attributes\":{\"label\":{\"value\":\"C580Y\"},\"renderers\":[{\"id\":\"5333\"}]},\"id\":\"5346\",\"type\":\"LegendItem\"},{\"attributes\":{\"label\":{\"value\":\"I543T\"},\"renderers\":[{\"id\":\"5442\"}]},\"id\":\"5462\",\"type\":\"LegendItem\"},{\"attributes\":{\"data\":{\"Data\":{\"__ndarray__\":\"AAAAAAAAAAAAAAAAAAAAAAAAAAAAAAAAFKEIRShCoT/KApF0rTufPxdswRZswZY/AAAAAAAAAAAAAAAAAAAAAAAAAAAAAAAAAAAAAAAAAAAAAAAAAAAAAAAAAAAAAAAAAAAAAAAAAAA=\",\"dtype\":\"float64\",\"order\":\"little\",\"shape\":[13]},\"Year\":[2007,2008,2009,2010,2011,2012,2013,2014,2015,2016,2017,2018,2019]},\"selected\":{\"id\":\"5460\"},\"selection_policy\":{\"id\":\"5459\"}},\"id\":\"5438\",\"type\":\"ColumnDataSource\"},{\"attributes\":{\"line_alpha\":0.1,\"line_color\":\"#ff7f0e\",\"line_width\":2,\"x\":{\"field\":\"Year\"},\"y\":{\"field\":\"Data\"}},\"id\":\"5357\",\"type\":\"Line\"},{\"attributes\":{\"fill_alpha\":{\"value\":0.5},\"fill_color\":{\"value\":\"#9467bd\"},\"line_alpha\":{\"value\":0.5},\"line_color\":{\"value\":\"#9467bd\"},\"size\":{\"value\":10},\"x\":{\"field\":\"Year\"},\"y\":{\"field\":\"Data\"}},\"id\":\"5464\",\"type\":\"Circle\"},{\"attributes\":{\"data_source\":{\"id\":\"5380\"},\"glyph\":{\"id\":\"5382\"},\"hover_glyph\":null,\"muted_glyph\":null,\"nonselection_glyph\":{\"id\":\"5383\"},\"view\":{\"id\":\"5385\"}},\"id\":\"5384\",\"type\":\"GlyphRenderer\"},{\"attributes\":{\"source\":{\"id\":\"5354\"}},\"id\":\"5359\",\"type\":\"CDSView\"},{\"attributes\":{\"source\":{\"id\":\"5380\"}},\"id\":\"5385\",\"type\":\"CDSView\"},{\"attributes\":{\"fill_alpha\":{\"value\":0.5},\"fill_color\":{\"value\":\"#2ca02c\"},\"line_alpha\":{\"value\":0.5},\"line_color\":{\"value\":\"#2ca02c\"},\"size\":{\"value\":10},\"x\":{\"field\":\"Year\"},\"y\":{\"field\":\"Data\"}},\"id\":\"5402\",\"type\":\"Circle\"},{\"attributes\":{\"line_color\":\"#1f77b4\",\"line_width\":2,\"x\":{\"field\":\"Year\"},\"y\":{\"field\":\"Data\"}},\"id\":\"5331\",\"type\":\"Line\"},{\"attributes\":{\"children\":[[{\"id\":\"5298\"},0,0]]},\"id\":\"5525\",\"type\":\"GridBox\"},{\"attributes\":{\"fill_alpha\":{\"value\":0.5},\"fill_color\":{\"value\":\"#d62728\"},\"line_alpha\":{\"value\":0.5},\"line_color\":{\"value\":\"#d62728\"},\"size\":{\"value\":10},\"x\":{\"field\":\"Year\"},\"y\":{\"field\":\"Data\"}},\"id\":\"5432\",\"type\":\"Circle\"},{\"attributes\":{\"line_color\":\"#8c564b\",\"line_width\":2,\"x\":{\"field\":\"Year\"},\"y\":{\"field\":\"Data\"}},\"id\":\"5472\",\"type\":\"Line\"},{\"attributes\":{\"line_alpha\":0.1,\"line_color\":\"#8c564b\",\"line_width\":2,\"x\":{\"field\":\"Year\"},\"y\":{\"field\":\"Data\"}},\"id\":\"5473\",\"type\":\"Line\"},{\"attributes\":{\"data\":{\"Data\":{\"__ndarray__\":\"HMdxHMdxvD8AAAAAAADgP3zFV3zFV9w/3DHkdgy5zT/8NMOm323RPzMzMzMzM9M/fLzHe7zH2z+0XL/7ONHiP3Icx3Ecx+s/5DiO4ziO6z/p7brJMF3iP+PMqQhUYuM/9zTCck8j7D8=\",\"dtype\":\"float64\",\"order\":\"little\",\"shape\":[13]},\"Year\":[2007,2008,2009,2010,2011,2012,2013,2014,2015,2016,2017,2018,2019]},\"selected\":{\"id\":\"5343\"},\"selection_policy\":{\"id\":\"5342\"}},\"id\":\"5329\",\"type\":\"ColumnDataSource\"},{\"attributes\":{\"line_color\":\"#2ca02c\",\"line_width\":2,\"x\":{\"field\":\"Year\"},\"y\":{\"field\":\"Data\"}},\"id\":\"5382\",\"type\":\"Line\"},{\"attributes\":{\"fill_alpha\":{\"value\":0.1},\"fill_color\":{\"value\":\"#d62728\"},\"line_alpha\":{\"value\":0.1},\"line_color\":{\"value\":\"#d62728\"},\"size\":{\"value\":10},\"x\":{\"field\":\"Year\"},\"y\":{\"field\":\"Data\"}},\"id\":\"5433\",\"type\":\"Circle\"},{\"attributes\":{\"source\":{\"id\":\"5408\"}},\"id\":\"5435\",\"type\":\"CDSView\"},{\"attributes\":{},\"id\":\"5397\",\"type\":\"UnionRenderers\"},{\"attributes\":{\"data_source\":{\"id\":\"5408\"},\"glyph\":{\"id\":\"5432\"},\"hover_glyph\":null,\"muted_glyph\":null,\"nonselection_glyph\":{\"id\":\"5433\"},\"view\":{\"id\":\"5435\"}},\"id\":\"5434\",\"type\":\"GlyphRenderer\"},{\"attributes\":{\"line_alpha\":0.1,\"line_color\":\"#2ca02c\",\"line_width\":2,\"x\":{\"field\":\"Year\"},\"y\":{\"field\":\"Data\"}},\"id\":\"5383\",\"type\":\"Line\"},{\"attributes\":{\"callback\":null,\"renderers\":[{\"id\":\"5434\"}],\"tooltips\":[[\"(x,y)\",\"(@Year,@Data)\"]]},\"id\":\"5436\",\"type\":\"HoverTool\"},{\"attributes\":{\"data_source\":{\"id\":\"5438\"},\"glyph\":{\"id\":\"5440\"},\"hover_glyph\":null,\"muted_glyph\":null,\"nonselection_glyph\":{\"id\":\"5441\"},\"view\":{\"id\":\"5443\"}},\"id\":\"5442\",\"type\":\"GlyphRenderer\"},{\"attributes\":{},\"id\":\"5340\",\"type\":\"AllLabels\"},{\"attributes\":{\"data\":{\"Data\":{\"__ndarray__\":\"aC+hvYT2sj8YhmEYhmHIPxZf8RVf8aU/cIELXOAClz9vi1LE4KepP2gvob2E9qI/HMIhHMIhnD8AAAAAAAAAAAAAAAAAAAAA4OnW/LBIaT8qMyhEI3d0P26vJYe4ynQ/AAAAAAAAAAA=\",\"dtype\":\"float64\",\"order\":\"little\",\"shape\":[13]},\"Year\":[2007,2008,2009,2010,2011,2012,2013,2014,2015,2016,2017,2018,2019]},\"selected\":{\"id\":\"5428\"},\"selection_policy\":{\"id\":\"5427\"}},\"id\":\"5408\",\"type\":\"ColumnDataSource\"},{\"attributes\":{},\"id\":\"5341\",\"type\":\"BasicTickFormatter\"},{\"attributes\":{\"data\":{\"Data\":{\"__ndarray__\":\"AAAAAAAAAADAyAT8GkmyP9jRxhFr8bU/EJ1lFqHYqj9AuvWaHhSUP4AIqdvZV34/AAvtnGaBhj+AGW8rvTZ7PwAAwKD3xrC+ADlegehJaT+g3ct9chSQPwCCyvj3GWc/AAAAAAAAAAA=\",\"dtype\":\"float64\",\"order\":\"little\",\"shape\":[13]},\"Year\":[2007,2008,2009,2010,2011,2012,2013,2014,2015,2016,2017,2018,2019]},\"selected\":{\"id\":\"5494\"},\"selection_policy\":{\"id\":\"5493\"}},\"id\":\"5470\",\"type\":\"ColumnDataSource\"},{\"attributes\":{\"data_source\":{\"id\":\"5438\"},\"glyph\":{\"id\":\"5464\"},\"hover_glyph\":null,\"muted_glyph\":null,\"nonselection_glyph\":{\"id\":\"5465\"},\"view\":{\"id\":\"5467\"}},\"id\":\"5466\",\"type\":\"GlyphRenderer\"},{\"attributes\":{\"toolbars\":[{\"id\":\"5323\"}],\"tools\":[{\"id\":\"5317\"},{\"id\":\"5318\"},{\"id\":\"5319\"},{\"id\":\"5320\"},{\"id\":\"5321\"},{\"id\":\"5352\"},{\"id\":\"5378\"},{\"id\":\"5406\"},{\"id\":\"5436\"},{\"id\":\"5468\"},{\"id\":\"5502\"}]},\"id\":\"5526\",\"type\":\"ProxyToolbar\"},{\"attributes\":{\"label\":{\"value\":\"WT\"},\"renderers\":[{\"id\":\"5358\"}]},\"id\":\"5372\",\"type\":\"LegendItem\"},{\"attributes\":{\"source\":{\"id\":\"5470\"}},\"id\":\"5475\",\"type\":\"CDSView\"},{\"attributes\":{\"line_alpha\":0.1,\"line_color\":\"#9467bd\",\"line_width\":2,\"x\":{\"field\":\"Year\"},\"y\":{\"field\":\"Data\"}},\"id\":\"5441\",\"type\":\"Line\"},{\"attributes\":{\"label\":{\"value\":\"Other\"},\"renderers\":[{\"id\":\"5474\"}]},\"id\":\"5496\",\"type\":\"LegendItem\"},{\"attributes\":{},\"id\":\"5459\",\"type\":\"UnionRenderers\"},{\"attributes\":{},\"id\":\"5320\",\"type\":\"ResetTool\"},{\"attributes\":{},\"id\":\"5460\",\"type\":\"Selection\"},{\"attributes\":{\"fill_alpha\":{\"value\":0.5},\"fill_color\":{\"value\":\"#8c564b\"},\"line_alpha\":{\"value\":0.5},\"line_color\":{\"value\":\"#8c564b\"},\"size\":{\"value\":10},\"x\":{\"field\":\"Year\"},\"y\":{\"field\":\"Data\"}},\"id\":\"5498\",\"type\":\"Circle\"},{\"attributes\":{\"below\":[{\"id\":\"5309\"}],\"center\":[{\"id\":\"5312\"},{\"id\":\"5316\"},{\"id\":\"5345\"}],\"height\":400,\"left\":[{\"id\":\"5313\"}],\"renderers\":[{\"id\":\"5333\"},{\"id\":\"5350\"},{\"id\":\"5358\"},{\"id\":\"5376\"},{\"id\":\"5384\"},{\"id\":\"5404\"},{\"id\":\"5412\"},{\"id\":\"5434\"},{\"id\":\"5442\"},{\"id\":\"5466\"},{\"id\":\"5474\"},{\"id\":\"5500\"}],\"title\":{\"id\":\"5299\"},\"toolbar\":{\"id\":\"5323\"},\"toolbar_location\":null,\"width\":400,\"x_range\":{\"id\":\"5301\"},\"x_scale\":{\"id\":\"5305\"},\"y_range\":{\"id\":\"5303\"},\"y_scale\":{\"id\":\"5307\"}},\"id\":\"5298\",\"subtype\":\"Figure\",\"type\":\"Plot\"},{\"attributes\":{},\"id\":\"5310\",\"type\":\"BasicTicker\"},{\"attributes\":{\"toolbar\":{\"id\":\"5526\"},\"toolbar_location\":\"above\"},\"id\":\"5527\",\"type\":\"ToolbarBox\"},{\"attributes\":{},\"id\":\"5318\",\"type\":\"WheelZoomTool\"},{\"attributes\":{\"text\":\"Kelch Predominant Variants in ESEA\"},\"id\":\"5299\",\"type\":\"Title\"},{\"attributes\":{},\"id\":\"5303\",\"type\":\"Range1d\"},{\"attributes\":{\"axis\":{\"id\":\"5313\"},\"dimension\":1,\"ticker\":null},\"id\":\"5316\",\"type\":\"Grid\"},{\"attributes\":{\"axis_label\":\"Year\",\"formatter\":{\"id\":\"5338\"},\"major_label_policy\":{\"id\":\"5337\"},\"ticker\":{\"id\":\"5310\"}},\"id\":\"5309\",\"type\":\"LinearAxis\"},{\"attributes\":{},\"id\":\"5305\",\"type\":\"LinearScale\"},{\"attributes\":{\"axis_label\":\"Prevalence\",\"formatter\":{\"id\":\"5341\"},\"major_label_policy\":{\"id\":\"5340\"},\"ticker\":{\"id\":\"5314\"}},\"id\":\"5313\",\"type\":\"LinearAxis\"},{\"attributes\":{\"axis\":{\"id\":\"5309\"},\"ticker\":null},\"id\":\"5312\",\"type\":\"Grid\"},{\"attributes\":{},\"id\":\"5493\",\"type\":\"UnionRenderers\"},{\"attributes\":{},\"id\":\"5307\",\"type\":\"LinearScale\"},{\"attributes\":{},\"id\":\"5314\",\"type\":\"BasicTicker\"},{\"attributes\":{},\"id\":\"5494\",\"type\":\"Selection\"},{\"attributes\":{\"callback\":null},\"id\":\"5321\",\"type\":\"TapTool\"},{\"attributes\":{\"end\":2019,\"start\":2001},\"id\":\"5301\",\"type\":\"Range1d\"},{\"attributes\":{},\"id\":\"5317\",\"type\":\"PanTool\"}],\"root_ids\":[\"5528\"]},\"title\":\"Bokeh Application\",\"version\":\"2.3.3\"}};\n",
       "  var render_items = [{\"docid\":\"f1982c52-b933-4854-aed9-f2a38e98fbbe\",\"root_ids\":[\"5528\"],\"roots\":{\"5528\":\"654d6624-9d15-4ef0-90e3-7ffe94186390\"}}];\n",
       "  root.Bokeh.embed.embed_items_notebook(docs_json, render_items);\n",
       "\n",
       "  }\n",
       "  if (root.Bokeh !== undefined) {\n",
       "    embed_document(root);\n",
       "  } else {\n",
       "    var attempts = 0;\n",
       "    var timer = setInterval(function(root) {\n",
       "      if (root.Bokeh !== undefined) {\n",
       "        clearInterval(timer);\n",
       "        embed_document(root);\n",
       "      } else {\n",
       "        attempts++;\n",
       "        if (attempts > 100) {\n",
       "          clearInterval(timer);\n",
       "          console.log(\"Bokeh: ERROR: Unable to run BokehJS code because BokehJS library is missing\");\n",
       "        }\n",
       "      }\n",
       "    }, 10, root)\n",
       "  }\n",
       "})(window);"
      ],
      "application/vnd.bokehjs_exec.v0+json": ""
     },
     "metadata": {
      "application/vnd.bokehjs_exec.v0+json": {
       "id": "5528"
      }
     },
     "output_type": "display_data"
    },
    {
     "data": {
      "text/plain": [
       "<data_analysis.plotting.Subplots at 0x114ec08b0>"
      ]
     },
     "execution_count": 37,
     "metadata": {},
     "output_type": "execute_result"
    }
   ],
   "source": [
    "plot_haplotype_frequency(pf6plus, 'Kelch', populations =  ['ESEA'])"
   ]
  },
  {
   "cell_type": "markdown",
   "metadata": {
    "id": "iUNwrMu_ogYw"
   },
   "source": [
    "### An extra use case.. \n",
    "Imagine we want to explore how different are *dhfr* haplotypes between ESEA and WSEA. By plotting the top 1 haplotype in each region and increasing this threshold, we can easily see dynamics.\n"
   ]
  },
  {
   "cell_type": "code",
   "execution_count": 39,
   "metadata": {},
   "outputs": [
    {
     "data": {
      "text/html": [
       "\n",
       "\n",
       "\n",
       "\n",
       "\n",
       "\n",
       "  <div class=\"bk-root\" id=\"9777977f-d163-43c7-973e-1eb4c9f6e86c\" data-root-id=\"7206\"></div>\n"
      ]
     },
     "metadata": {},
     "output_type": "display_data"
    },
    {
     "data": {
      "application/javascript": [
       "(function(root) {\n",
       "  function embed_document(root) {\n",
       "    \n",
       "  var docs_json = {\"abb73828-73df-4348-9217-24074a34265e\":{\"defs\":[],\"roots\":{\"references\":[{\"attributes\":{\"children\":[{\"id\":\"7205\"},{\"id\":\"7203\"}]},\"id\":\"7206\",\"type\":\"Column\"},{\"attributes\":{\"fill_alpha\":{\"value\":0.1},\"fill_color\":{\"value\":\"#ff7f0e\"},\"line_alpha\":{\"value\":0.1},\"line_color\":{\"value\":\"#ff7f0e\"},\"size\":{\"value\":10},\"x\":{\"field\":\"Year\"},\"y\":{\"field\":\"Data\"}},\"id\":\"7064\",\"type\":\"Circle\"},{\"attributes\":{},\"id\":\"7003\",\"type\":\"BasicTicker\"},{\"attributes\":{\"source\":{\"id\":\"7043\"}},\"id\":\"7066\",\"type\":\"CDSView\"},{\"attributes\":{\"active_drag\":{\"id\":\"6842\"},\"active_multi\":null,\"active_scroll\":{\"id\":\"6843\"},\"tools\":[{\"id\":\"6842\"},{\"id\":\"6843\"},{\"id\":\"6844\"},{\"id\":\"6845\"},{\"id\":\"6846\"},{\"id\":\"6877\"},{\"id\":\"6903\"}]},\"id\":\"6848\",\"type\":\"Toolbar\"},{\"attributes\":{\"callback\":null,\"renderers\":[{\"id\":\"7065\"}],\"tooltips\":[[\"(x,y)\",\"(@Year,@Data)\"]]},\"id\":\"7067\",\"type\":\"HoverTool\"},{\"attributes\":{\"fill_alpha\":{\"value\":0.1},\"fill_color\":{\"value\":\"#ff7f0e\"},\"line_alpha\":{\"value\":0.1},\"line_color\":{\"value\":\"#ff7f0e\"},\"size\":{\"value\":10},\"x\":{\"field\":\"Year\"},\"y\":{\"field\":\"Data\"}},\"id\":\"6900\",\"type\":\"Circle\"},{\"attributes\":{\"below\":[{\"id\":\"6916\"}],\"center\":[{\"id\":\"6919\"},{\"id\":\"6923\"},{\"id\":\"6952\"}],\"height\":400,\"left\":[{\"id\":\"6920\"}],\"renderers\":[{\"id\":\"6940\"},{\"id\":\"6957\"},{\"id\":\"6965\"},{\"id\":\"6983\"}],\"title\":{\"id\":\"6906\"},\"toolbar\":{\"id\":\"6930\"},\"toolbar_location\":null,\"width\":400,\"x_range\":{\"id\":\"6908\"},\"x_scale\":{\"id\":\"6912\"},\"y_range\":{\"id\":\"6910\"},\"y_scale\":{\"id\":\"6914\"}},\"id\":\"6905\",\"subtype\":\"Figure\",\"type\":\"Plot\"},{\"attributes\":{\"data_source\":{\"id\":\"7043\"},\"glyph\":{\"id\":\"7063\"},\"hover_glyph\":null,\"muted_glyph\":null,\"nonselection_glyph\":{\"id\":\"7064\"},\"view\":{\"id\":\"7066\"}},\"id\":\"7065\",\"type\":\"GlyphRenderer\"},{\"attributes\":{},\"id\":\"7111\",\"type\":\"AllLabels\"},{\"attributes\":{\"source\":{\"id\":\"6879\"}},\"id\":\"6902\",\"type\":\"CDSView\"},{\"attributes\":{},\"id\":\"7112\",\"type\":\"BasicTickFormatter\"},{\"attributes\":{\"data_source\":{\"id\":\"6879\"},\"glyph\":{\"id\":\"6899\"},\"hover_glyph\":null,\"muted_glyph\":null,\"nonselection_glyph\":{\"id\":\"6900\"},\"view\":{\"id\":\"6902\"}},\"id\":\"6901\",\"type\":\"GlyphRenderer\"},{\"attributes\":{\"callback\":null,\"renderers\":[{\"id\":\"6901\"}],\"tooltips\":[[\"(x,y)\",\"(@Year,@Data)\"]]},\"id\":\"6903\",\"type\":\"HoverTool\"},{\"attributes\":{},\"id\":\"6944\",\"type\":\"AllLabels\"},{\"attributes\":{\"data\":{\"Data\":{\"__ndarray__\":\"5GVNLPAV3z/C9Shcj8LVP8ppT8k5sdM/4EkLl1XYzD/QFaWEYFWlPyDhe3+D9sI/1P4HWKt2yz9MZOYCl8fGP8T/HVGhus0/lGsKZHYW0z8AAAAAAADjPwAAAAAAAPA/AAAAAAAA8D8AAAAAAADwPw==\",\"dtype\":\"float64\",\"order\":\"little\",\"shape\":[14]},\"Year\":[2001,2002,2003,2004,2005,2007,2008,2011,2012,2013,2014,2015,2016,2017]},\"selected\":{\"id\":\"6895\"},\"selection_policy\":{\"id\":\"6894\"}},\"id\":\"6879\",\"type\":\"ColumnDataSource\"},{\"attributes\":{},\"id\":\"6862\",\"type\":\"AllLabels\"},{\"attributes\":{\"active_drag\":{\"id\":\"7006\"},\"active_multi\":null,\"active_scroll\":{\"id\":\"7007\"},\"tools\":[{\"id\":\"7006\"},{\"id\":\"7007\"},{\"id\":\"7008\"},{\"id\":\"7009\"},{\"id\":\"7010\"},{\"id\":\"7041\"},{\"id\":\"7067\"}]},\"id\":\"7012\",\"type\":\"Toolbar\"},{\"attributes\":{\"axis_label\":\"Prevalence\",\"formatter\":{\"id\":\"7030\"},\"major_label_policy\":{\"id\":\"7029\"},\"ticker\":{\"id\":\"7003\"}},\"id\":\"7002\",\"type\":\"LinearAxis\"},{\"attributes\":{\"line_color\":\"#1f77b4\",\"line_width\":2,\"x\":{\"field\":\"Year\"},\"y\":{\"field\":\"Data\"}},\"id\":\"6856\",\"type\":\"Line\"},{\"attributes\":{},\"id\":\"6996\",\"type\":\"LinearScale\"},{\"attributes\":{\"fill_alpha\":{\"value\":0.5},\"fill_color\":{\"value\":\"#d62728\"},\"line_alpha\":{\"value\":0.5},\"line_color\":{\"value\":\"#d62728\"},\"size\":{\"value\":10},\"x\":{\"field\":\"Year\"},\"y\":{\"field\":\"Data\"}},\"id\":\"7037\",\"type\":\"Circle\"},{\"attributes\":{\"end\":2019,\"start\":2001},\"id\":\"6826\",\"type\":\"Range1d\"},{\"attributes\":{},\"id\":\"6994\",\"type\":\"LinearScale\"},{\"attributes\":{\"source\":{\"id\":\"6854\"}},\"id\":\"6859\",\"type\":\"CDSView\"},{\"attributes\":{\"overlay\":{\"id\":\"7093\"}},\"id\":\"7090\",\"type\":\"BoxZoomTool\"},{\"attributes\":{},\"id\":\"6830\",\"type\":\"LinearScale\"},{\"attributes\":{\"fill_alpha\":{\"value\":0.5},\"fill_color\":{\"value\":\"#1f77b4\"},\"line_alpha\":{\"value\":0.5},\"line_color\":{\"value\":\"#1f77b4\"},\"size\":{\"value\":10},\"x\":{\"field\":\"Year\"},\"y\":{\"field\":\"Data\"}},\"id\":\"6873\",\"type\":\"Circle\"},{\"attributes\":{\"line_alpha\":0.1,\"line_color\":\"#1f77b4\",\"line_width\":2,\"x\":{\"field\":\"Year\"},\"y\":{\"field\":\"Data\"}},\"id\":\"6857\",\"type\":\"Line\"},{\"attributes\":{},\"id\":\"6921\",\"type\":\"BasicTicker\"},{\"attributes\":{\"data\":{\"Data\":{\"__ndarray__\":\"XYjVH2EY5j8eiZenc0XdP5FEL6NY7uE/Ou0pOSd24j+oM/eQ8L3XP6xzDMhe79g/rmpJRzmY1T/ij6LO3EPRP2HgufdwyeA/\",\"dtype\":\"float64\",\"order\":\"little\",\"shape\":[9]},\"Year\":[2007,2008,2009,2010,2011,2012,2013,2014,2015]},\"selected\":{\"id\":\"7059\"},\"selection_policy\":{\"id\":\"7058\"}},\"id\":\"7043\",\"type\":\"ColumnDataSource\"},{\"attributes\":{},\"id\":\"6910\",\"type\":\"Range1d\"},{\"attributes\":{},\"id\":\"7026\",\"type\":\"AllLabels\"},{\"attributes\":{},\"id\":\"6924\",\"type\":\"PanTool\"},{\"attributes\":{\"axis_label\":\"Prevalence\",\"formatter\":{\"id\":\"6948\"},\"major_label_policy\":{\"id\":\"6947\"},\"ticker\":{\"id\":\"6921\"}},\"id\":\"6920\",\"type\":\"LinearAxis\"},{\"attributes\":{},\"id\":\"6999\",\"type\":\"BasicTicker\"},{\"attributes\":{},\"id\":\"7088\",\"type\":\"PanTool\"},{\"attributes\":{\"bottom_units\":\"screen\",\"fill_alpha\":0.5,\"fill_color\":\"lightgrey\",\"left_units\":\"screen\",\"level\":\"overlay\",\"line_alpha\":1.0,\"line_color\":\"black\",\"line_dash\":[4,4],\"line_width\":2,\"right_units\":\"screen\",\"syncable\":false,\"top_units\":\"screen\"},\"id\":\"6929\",\"type\":\"BoxAnnotation\"},{\"attributes\":{\"line_alpha\":0.1,\"line_color\":\"#d62728\",\"line_width\":2,\"x\":{\"field\":\"Year\"},\"y\":{\"field\":\"Data\"}},\"id\":\"7103\",\"type\":\"Line\"},{\"attributes\":{\"background_fill_alpha\":0.7,\"items\":[{\"id\":\"6871\"},{\"id\":\"6897\"}]},\"id\":\"6870\",\"type\":\"Legend\"},{\"attributes\":{\"axis\":{\"id\":\"6920\"},\"dimension\":1,\"ticker\":null},\"id\":\"6923\",\"type\":\"Grid\"},{\"attributes\":{\"text\":\"PfDHFR Predominant Variants in ESEA\"},\"id\":\"6906\",\"type\":\"Title\"},{\"attributes\":{\"axis\":{\"id\":\"6916\"},\"ticker\":null},\"id\":\"6919\",\"type\":\"Grid\"},{\"attributes\":{\"axis_label\":\"Year\",\"formatter\":{\"id\":\"7027\"},\"major_label_policy\":{\"id\":\"7026\"},\"ticker\":{\"id\":\"6999\"}},\"id\":\"6998\",\"type\":\"LinearAxis\"},{\"attributes\":{\"axis\":{\"id\":\"7002\"},\"dimension\":1,\"ticker\":null},\"id\":\"7005\",\"type\":\"Grid\"},{\"attributes\":{\"data_source\":{\"id\":\"7018\"},\"glyph\":{\"id\":\"7037\"},\"hover_glyph\":null,\"muted_glyph\":null,\"nonselection_glyph\":{\"id\":\"7038\"},\"view\":{\"id\":\"7040\"}},\"id\":\"7039\",\"type\":\"GlyphRenderer\"},{\"attributes\":{\"data_source\":{\"id\":\"6879\"},\"glyph\":{\"id\":\"6881\"},\"hover_glyph\":null,\"muted_glyph\":null,\"nonselection_glyph\":{\"id\":\"6882\"},\"view\":{\"id\":\"6884\"}},\"id\":\"6883\",\"type\":\"GlyphRenderer\"},{\"attributes\":{\"axis_label\":\"Year\",\"formatter\":{\"id\":\"6945\"},\"major_label_policy\":{\"id\":\"6944\"},\"ticker\":{\"id\":\"6917\"}},\"id\":\"6916\",\"type\":\"LinearAxis\"},{\"attributes\":{\"callback\":null,\"renderers\":[{\"id\":\"7039\"}],\"tooltips\":[[\"(x,y)\",\"(@Year,@Data)\"]]},\"id\":\"7041\",\"type\":\"HoverTool\"},{\"attributes\":{\"data_source\":{\"id\":\"6854\"},\"glyph\":{\"id\":\"6873\"},\"hover_glyph\":null,\"muted_glyph\":null,\"nonselection_glyph\":{\"id\":\"6874\"},\"view\":{\"id\":\"6876\"}},\"id\":\"6875\",\"type\":\"GlyphRenderer\"},{\"attributes\":{\"text\":\"PfDHFR Predominant Variants in WAF\"},\"id\":\"6988\",\"type\":\"Title\"},{\"attributes\":{\"callback\":null,\"renderers\":[{\"id\":\"6875\"}],\"tooltips\":[[\"(x,y)\",\"(@Year,@Data)\"]]},\"id\":\"6877\",\"type\":\"HoverTool\"},{\"attributes\":{\"callback\":null},\"id\":\"7092\",\"type\":\"TapTool\"},{\"attributes\":{\"data_source\":{\"id\":\"6854\"},\"glyph\":{\"id\":\"6856\"},\"hover_glyph\":null,\"muted_glyph\":null,\"nonselection_glyph\":{\"id\":\"6857\"},\"view\":{\"id\":\"6859\"}},\"id\":\"6858\",\"type\":\"GlyphRenderer\"},{\"attributes\":{\"toolbar\":{\"id\":\"7204\"},\"toolbar_location\":\"above\"},\"id\":\"7205\",\"type\":\"ToolbarBox\"},{\"attributes\":{\"axis\":{\"id\":\"6998\"},\"ticker\":null},\"id\":\"7001\",\"type\":\"Grid\"},{\"attributes\":{\"text\":\"PfDHFR Predominant Variants in EAF\"},\"id\":\"7070\",\"type\":\"Title\"},{\"attributes\":{},\"id\":\"6842\",\"type\":\"PanTool\"},{\"attributes\":{\"line_color\":\"#ff7f0e\",\"line_width\":2,\"x\":{\"field\":\"Year\"},\"y\":{\"field\":\"Data\"}},\"id\":\"6881\",\"type\":\"Line\"},{\"attributes\":{\"line_alpha\":0.1,\"line_color\":\"#d62728\",\"line_width\":2,\"x\":{\"field\":\"Year\"},\"y\":{\"field\":\"Data\"}},\"id\":\"7021\",\"type\":\"Line\"},{\"attributes\":{\"below\":[{\"id\":\"7080\"}],\"center\":[{\"id\":\"7083\"},{\"id\":\"7087\"},{\"id\":\"7116\"}],\"height\":400,\"left\":[{\"id\":\"7084\"}],\"renderers\":[{\"id\":\"7104\"},{\"id\":\"7121\"},{\"id\":\"7129\"},{\"id\":\"7147\"}],\"title\":{\"id\":\"7070\"},\"toolbar\":{\"id\":\"7094\"},\"toolbar_location\":null,\"width\":400,\"x_range\":{\"id\":\"7072\"},\"x_scale\":{\"id\":\"7076\"},\"y_range\":{\"id\":\"7074\"},\"y_scale\":{\"id\":\"7078\"}},\"id\":\"7069\",\"subtype\":\"Figure\",\"type\":\"Plot\"},{\"attributes\":{\"line_alpha\":0.1,\"line_color\":\"#ff7f0e\",\"line_width\":2,\"x\":{\"field\":\"Year\"},\"y\":{\"field\":\"Data\"}},\"id\":\"6882\",\"type\":\"Line\"},{\"attributes\":{\"source\":{\"id\":\"7043\"}},\"id\":\"7048\",\"type\":\"CDSView\"},{\"attributes\":{\"background_fill_alpha\":0.7,\"items\":[{\"id\":\"7035\"},{\"id\":\"7061\"}]},\"id\":\"7034\",\"type\":\"Legend\"},{\"attributes\":{\"axis_label\":\"Prevalence\",\"formatter\":{\"id\":\"7112\"},\"major_label_policy\":{\"id\":\"7111\"},\"ticker\":{\"id\":\"7085\"}},\"id\":\"7084\",\"type\":\"LinearAxis\"},{\"attributes\":{\"end\":2019,\"start\":2001},\"id\":\"7072\",\"type\":\"Range1d\"},{\"attributes\":{},\"id\":\"6992\",\"type\":\"Range1d\"},{\"attributes\":{\"label\":{\"value\":\"AIRNLS\"},\"renderers\":[{\"id\":\"6858\"}]},\"id\":\"6871\",\"type\":\"LegendItem\"},{\"attributes\":{\"source\":{\"id\":\"6879\"}},\"id\":\"6884\",\"type\":\"CDSView\"},{\"attributes\":{\"data_source\":{\"id\":\"7043\"},\"glyph\":{\"id\":\"7045\"},\"hover_glyph\":null,\"muted_glyph\":null,\"nonselection_glyph\":{\"id\":\"7046\"},\"view\":{\"id\":\"7048\"}},\"id\":\"7047\",\"type\":\"GlyphRenderer\"},{\"attributes\":{\"bottom_units\":\"screen\",\"fill_alpha\":0.5,\"fill_color\":\"lightgrey\",\"left_units\":\"screen\",\"level\":\"overlay\",\"line_alpha\":1.0,\"line_color\":\"black\",\"line_dash\":[4,4],\"line_width\":2,\"right_units\":\"screen\",\"syncable\":false,\"top_units\":\"screen\"},\"id\":\"7093\",\"type\":\"BoxAnnotation\"},{\"attributes\":{\"data\":{\"Data\":{\"__ndarray__\":\"AAAAAAAA8D8AAAAAAADwPwAAAAAAAPA/AAAAAAAA8D8AAAAAAADwP7vx7shY7e0/Qq8/ic+d6z+BeciUD8HhP1raqbncYNo/uqKUEKyq2j9Lk1LQ7SXkP9JRDmYTYOA/tH4zMV2IxT8=\",\"dtype\":\"float64\",\"order\":\"little\",\"shape\":[13]},\"Year\":[2007,2008,2009,2010,2011,2012,2013,2014,2015,2016,2017,2018,2019]},\"selected\":{\"id\":\"6977\"},\"selection_policy\":{\"id\":\"6976\"}},\"id\":\"6961\",\"type\":\"ColumnDataSource\"},{\"attributes\":{\"line_color\":\"#d62728\",\"line_width\":2,\"x\":{\"field\":\"Year\"},\"y\":{\"field\":\"Data\"}},\"id\":\"7102\",\"type\":\"Line\"},{\"attributes\":{},\"id\":\"6925\",\"type\":\"WheelZoomTool\"},{\"attributes\":{\"data_source\":{\"id\":\"7018\"},\"glyph\":{\"id\":\"7020\"},\"hover_glyph\":null,\"muted_glyph\":null,\"nonselection_glyph\":{\"id\":\"7021\"},\"view\":{\"id\":\"7023\"}},\"id\":\"7022\",\"type\":\"GlyphRenderer\"},{\"attributes\":{\"line_alpha\":0.1,\"line_color\":\"#2ca02c\",\"line_width\":2,\"x\":{\"field\":\"Year\"},\"y\":{\"field\":\"Data\"}},\"id\":\"6939\",\"type\":\"Line\"},{\"attributes\":{\"label\":{\"value\":\"Other\"},\"renderers\":[{\"id\":\"7129\"}]},\"id\":\"7143\",\"type\":\"LegendItem\"},{\"attributes\":{},\"id\":\"6863\",\"type\":\"BasicTickFormatter\"},{\"attributes\":{\"line_color\":\"#ff7f0e\",\"line_width\":2,\"x\":{\"field\":\"Year\"},\"y\":{\"field\":\"Data\"}},\"id\":\"7045\",\"type\":\"Line\"},{\"attributes\":{\"line_alpha\":0.1,\"line_color\":\"#ff7f0e\",\"line_width\":2,\"x\":{\"field\":\"Year\"},\"y\":{\"field\":\"Data\"}},\"id\":\"7046\",\"type\":\"Line\"},{\"attributes\":{},\"id\":\"7108\",\"type\":\"AllLabels\"},{\"attributes\":{},\"id\":\"6839\",\"type\":\"BasicTicker\"},{\"attributes\":{\"source\":{\"id\":\"7100\"}},\"id\":\"7105\",\"type\":\"CDSView\"},{\"attributes\":{},\"id\":\"6912\",\"type\":\"LinearScale\"},{\"attributes\":{\"label\":{\"value\":\"AIRNIS\"},\"renderers\":[{\"id\":\"7022\"}]},\"id\":\"7035\",\"type\":\"LegendItem\"},{\"attributes\":{\"axis_label\":\"Prevalence\",\"formatter\":{\"id\":\"6866\"},\"major_label_policy\":{\"id\":\"6865\"},\"ticker\":{\"id\":\"6839\"}},\"id\":\"6838\",\"type\":\"LinearAxis\"},{\"attributes\":{\"data\":{\"Data\":{\"__ndarray__\":\"GhL3WPrQ2D8mFY21v7PRP8AwYMlVLKY/8PrMWZ9yxj8Yda29T1W1Pw==\",\"dtype\":\"float64\",\"order\":\"little\",\"shape\":[5]},\"Year\":[2007,2010,2011,2013,2014]},\"selected\":{\"id\":\"7141\"},\"selection_policy\":{\"id\":\"7140\"}},\"id\":\"7125\",\"type\":\"ColumnDataSource\"},{\"attributes\":{},\"id\":\"7006\",\"type\":\"PanTool\"},{\"attributes\":{\"callback\":null},\"id\":\"6846\",\"type\":\"TapTool\"},{\"attributes\":{\"axis\":{\"id\":\"7084\"},\"dimension\":1,\"ticker\":null},\"id\":\"7087\",\"type\":\"Grid\"},{\"attributes\":{},\"id\":\"6832\",\"type\":\"LinearScale\"},{\"attributes\":{\"axis_label\":\"Year\",\"formatter\":{\"id\":\"6863\"},\"major_label_policy\":{\"id\":\"6862\"},\"ticker\":{\"id\":\"6835\"}},\"id\":\"6834\",\"type\":\"LinearAxis\"},{\"attributes\":{\"end\":2019,\"start\":2001},\"id\":\"6990\",\"type\":\"Range1d\"},{\"attributes\":{\"source\":{\"id\":\"6936\"}},\"id\":\"6941\",\"type\":\"CDSView\"},{\"attributes\":{},\"id\":\"7027\",\"type\":\"BasicTickFormatter\"},{\"attributes\":{},\"id\":\"7007\",\"type\":\"WheelZoomTool\"},{\"attributes\":{},\"id\":\"6865\",\"type\":\"AllLabels\"},{\"attributes\":{\"line_color\":\"#2ca02c\",\"line_width\":2,\"x\":{\"field\":\"Year\"},\"y\":{\"field\":\"Data\"}},\"id\":\"6938\",\"type\":\"Line\"},{\"attributes\":{},\"id\":\"7091\",\"type\":\"ResetTool\"},{\"attributes\":{\"text\":\"PfDHFR Predominant Variants in WSEA\"},\"id\":\"6824\",\"type\":\"Title\"},{\"attributes\":{},\"id\":\"6866\",\"type\":\"BasicTickFormatter\"},{\"attributes\":{\"data\":{\"Data\":{\"__ndarray__\":\"UAd1UAd14D8fhetRuB7lP3ZiJ3ZiJ+Y/PRm/XerJ6D+rqqqqqqruPya0l9BeQus/8M88WlQi6T8wj60IGk7qP5F4FYlXkeg/TGcxncV05j8AAAAAAADaPwAAAAAAAAAAAAAAAAAAAAAAAAAAAAAAAA==\",\"dtype\":\"float64\",\"order\":\"little\",\"shape\":[14]},\"Year\":[2001,2002,2003,2004,2005,2007,2008,2011,2012,2013,2014,2015,2016,2017]},\"selected\":{\"id\":\"6868\"},\"selection_policy\":{\"id\":\"6867\"}},\"id\":\"6854\",\"type\":\"ColumnDataSource\"},{\"attributes\":{\"fill_alpha\":{\"value\":0.5},\"fill_color\":{\"value\":\"#ff7f0e\"},\"line_alpha\":{\"value\":0.5},\"line_color\":{\"value\":\"#ff7f0e\"},\"size\":{\"value\":10},\"x\":{\"field\":\"Year\"},\"y\":{\"field\":\"Data\"}},\"id\":\"6899\",\"type\":\"Circle\"},{\"attributes\":{\"active_drag\":{\"id\":\"7088\"},\"active_multi\":null,\"active_scroll\":{\"id\":\"7089\"},\"tools\":[{\"id\":\"7088\"},{\"id\":\"7089\"},{\"id\":\"7090\"},{\"id\":\"7091\"},{\"id\":\"7092\"},{\"id\":\"7123\"},{\"id\":\"7149\"}]},\"id\":\"7094\",\"type\":\"Toolbar\"},{\"attributes\":{\"active_drag\":{\"id\":\"6924\"},\"active_multi\":null,\"active_scroll\":{\"id\":\"6925\"},\"tools\":[{\"id\":\"6924\"},{\"id\":\"6925\"},{\"id\":\"6926\"},{\"id\":\"6927\"},{\"id\":\"6928\"},{\"id\":\"6959\"},{\"id\":\"6985\"}]},\"id\":\"6930\",\"type\":\"Toolbar\"},{\"attributes\":{\"label\":{\"value\":\"Other\"},\"renderers\":[{\"id\":\"7047\"}]},\"id\":\"7061\",\"type\":\"LegendItem\"},{\"attributes\":{},\"id\":\"7113\",\"type\":\"UnionRenderers\"},{\"attributes\":{\"axis\":{\"id\":\"6838\"},\"dimension\":1,\"ticker\":null},\"id\":\"6841\",\"type\":\"Grid\"},{\"attributes\":{\"label\":{\"value\":\"Other\"},\"renderers\":[{\"id\":\"6883\"}]},\"id\":\"6897\",\"type\":\"LegendItem\"},{\"attributes\":{},\"id\":\"6917\",\"type\":\"BasicTicker\"},{\"attributes\":{},\"id\":\"7029\",\"type\":\"AllLabels\"},{\"attributes\":{},\"id\":\"7114\",\"type\":\"Selection\"},{\"attributes\":{},\"id\":\"6835\",\"type\":\"BasicTicker\"},{\"attributes\":{\"axis\":{\"id\":\"6834\"},\"ticker\":null},\"id\":\"6837\",\"type\":\"Grid\"},{\"attributes\":{\"end\":2019,\"start\":2001},\"id\":\"6908\",\"type\":\"Range1d\"},{\"attributes\":{\"below\":[{\"id\":\"6834\"}],\"center\":[{\"id\":\"6837\"},{\"id\":\"6841\"},{\"id\":\"6870\"}],\"height\":400,\"left\":[{\"id\":\"6838\"}],\"renderers\":[{\"id\":\"6858\"},{\"id\":\"6875\"},{\"id\":\"6883\"},{\"id\":\"6901\"}],\"title\":{\"id\":\"6824\"},\"toolbar\":{\"id\":\"6848\"},\"toolbar_location\":null,\"width\":400,\"x_range\":{\"id\":\"6826\"},\"x_scale\":{\"id\":\"6830\"},\"y_range\":{\"id\":\"6828\"},\"y_scale\":{\"id\":\"6832\"}},\"id\":\"6823\",\"subtype\":\"Figure\",\"type\":\"Plot\"},{\"attributes\":{},\"id\":\"6845\",\"type\":\"ResetTool\"},{\"attributes\":{},\"id\":\"7074\",\"type\":\"Range1d\"},{\"attributes\":{},\"id\":\"7058\",\"type\":\"UnionRenderers\"},{\"attributes\":{},\"id\":\"6828\",\"type\":\"Range1d\"},{\"attributes\":{},\"id\":\"6894\",\"type\":\"UnionRenderers\"},{\"attributes\":{},\"id\":\"6914\",\"type\":\"LinearScale\"},{\"attributes\":{\"fill_alpha\":{\"value\":0.5},\"fill_color\":{\"value\":\"#ff7f0e\"},\"line_alpha\":{\"value\":0.5},\"line_color\":{\"value\":\"#ff7f0e\"},\"size\":{\"value\":10},\"x\":{\"field\":\"Year\"},\"y\":{\"field\":\"Data\"}},\"id\":\"7145\",\"type\":\"Circle\"},{\"attributes\":{},\"id\":\"7076\",\"type\":\"LinearScale\"},{\"attributes\":{},\"id\":\"7059\",\"type\":\"Selection\"},{\"attributes\":{},\"id\":\"6895\",\"type\":\"Selection\"},{\"attributes\":{},\"id\":\"6843\",\"type\":\"WheelZoomTool\"},{\"attributes\":{\"background_fill_alpha\":0.7,\"items\":[{\"id\":\"7117\"},{\"id\":\"7143\"}]},\"id\":\"7116\",\"type\":\"Legend\"},{\"attributes\":{\"background_fill_alpha\":0.7,\"items\":[{\"id\":\"6953\"},{\"id\":\"6979\"}]},\"id\":\"6952\",\"type\":\"Legend\"},{\"attributes\":{\"fill_alpha\":{\"value\":0.5},\"fill_color\":{\"value\":\"#ff7f0e\"},\"line_alpha\":{\"value\":0.5},\"line_color\":{\"value\":\"#ff7f0e\"},\"size\":{\"value\":10},\"x\":{\"field\":\"Year\"},\"y\":{\"field\":\"Data\"}},\"id\":\"6981\",\"type\":\"Circle\"},{\"attributes\":{\"line_color\":\"#ff7f0e\",\"line_width\":2,\"x\":{\"field\":\"Year\"},\"y\":{\"field\":\"Data\"}},\"id\":\"7127\",\"type\":\"Line\"},{\"attributes\":{\"data_source\":{\"id\":\"7100\"},\"glyph\":{\"id\":\"7102\"},\"hover_glyph\":null,\"muted_glyph\":null,\"nonselection_glyph\":{\"id\":\"7103\"},\"view\":{\"id\":\"7105\"}},\"id\":\"7104\",\"type\":\"GlyphRenderer\"},{\"attributes\":{\"data_source\":{\"id\":\"6936\"},\"glyph\":{\"id\":\"6938\"},\"hover_glyph\":null,\"muted_glyph\":null,\"nonselection_glyph\":{\"id\":\"6939\"},\"view\":{\"id\":\"6941\"}},\"id\":\"6940\",\"type\":\"GlyphRenderer\"},{\"attributes\":{\"line_alpha\":0.1,\"line_color\":\"#ff7f0e\",\"line_width\":2,\"x\":{\"field\":\"Year\"},\"y\":{\"field\":\"Data\"}},\"id\":\"7128\",\"type\":\"Line\"},{\"attributes\":{\"overlay\":{\"id\":\"6847\"}},\"id\":\"6844\",\"type\":\"BoxZoomTool\"},{\"attributes\":{\"source\":{\"id\":\"7125\"}},\"id\":\"7130\",\"type\":\"CDSView\"},{\"attributes\":{\"data_source\":{\"id\":\"7125\"},\"glyph\":{\"id\":\"7127\"},\"hover_glyph\":null,\"muted_glyph\":null,\"nonselection_glyph\":{\"id\":\"7128\"},\"view\":{\"id\":\"7130\"}},\"id\":\"7129\",\"type\":\"GlyphRenderer\"},{\"attributes\":{},\"id\":\"7031\",\"type\":\"UnionRenderers\"},{\"attributes\":{\"label\":{\"value\":\"Other\"},\"renderers\":[{\"id\":\"6965\"}]},\"id\":\"6979\",\"type\":\"LegendItem\"},{\"attributes\":{\"label\":{\"value\":\"AIRNIS\"},\"renderers\":[{\"id\":\"7104\"}]},\"id\":\"7117\",\"type\":\"LegendItem\"},{\"attributes\":{},\"id\":\"6867\",\"type\":\"UnionRenderers\"},{\"attributes\":{\"label\":{\"value\":\"IRNL\"},\"renderers\":[{\"id\":\"6940\"}]},\"id\":\"6953\",\"type\":\"LegendItem\"},{\"attributes\":{\"fill_alpha\":{\"value\":0.5},\"fill_color\":{\"value\":\"#d62728\"},\"line_alpha\":{\"value\":0.5},\"line_color\":{\"value\":\"#d62728\"},\"size\":{\"value\":10},\"x\":{\"field\":\"Year\"},\"y\":{\"field\":\"Data\"}},\"id\":\"7119\",\"type\":\"Circle\"},{\"attributes\":{\"toolbars\":[{\"id\":\"6848\"},{\"id\":\"6930\"},{\"id\":\"7012\"},{\"id\":\"7094\"}],\"tools\":[{\"id\":\"6842\"},{\"id\":\"6843\"},{\"id\":\"6844\"},{\"id\":\"6845\"},{\"id\":\"6846\"},{\"id\":\"6877\"},{\"id\":\"6903\"},{\"id\":\"6924\"},{\"id\":\"6925\"},{\"id\":\"6926\"},{\"id\":\"6927\"},{\"id\":\"6928\"},{\"id\":\"6959\"},{\"id\":\"6985\"},{\"id\":\"7006\"},{\"id\":\"7007\"},{\"id\":\"7008\"},{\"id\":\"7009\"},{\"id\":\"7010\"},{\"id\":\"7041\"},{\"id\":\"7067\"},{\"id\":\"7088\"},{\"id\":\"7089\"},{\"id\":\"7090\"},{\"id\":\"7091\"},{\"id\":\"7092\"},{\"id\":\"7123\"},{\"id\":\"7149\"}]},\"id\":\"7204\",\"type\":\"ProxyToolbar\"},{\"attributes\":{\"bottom_units\":\"screen\",\"fill_alpha\":0.5,\"fill_color\":\"lightgrey\",\"left_units\":\"screen\",\"level\":\"overlay\",\"line_alpha\":1.0,\"line_color\":\"black\",\"line_dash\":[4,4],\"line_width\":2,\"right_units\":\"screen\",\"syncable\":false,\"top_units\":\"screen\"},\"id\":\"6847\",\"type\":\"BoxAnnotation\"},{\"attributes\":{},\"id\":\"7032\",\"type\":\"Selection\"},{\"attributes\":{},\"id\":\"6868\",\"type\":\"Selection\"},{\"attributes\":{},\"id\":\"7109\",\"type\":\"BasicTickFormatter\"},{\"attributes\":{\"data_source\":{\"id\":\"7100\"},\"glyph\":{\"id\":\"7119\"},\"hover_glyph\":null,\"muted_glyph\":null,\"nonselection_glyph\":{\"id\":\"7120\"},\"view\":{\"id\":\"7122\"}},\"id\":\"7121\",\"type\":\"GlyphRenderer\"},{\"attributes\":{},\"id\":\"6945\",\"type\":\"BasicTickFormatter\"},{\"attributes\":{\"fill_alpha\":{\"value\":0.1},\"fill_color\":{\"value\":\"#d62728\"},\"line_alpha\":{\"value\":0.1},\"line_color\":{\"value\":\"#d62728\"},\"size\":{\"value\":10},\"x\":{\"field\":\"Year\"},\"y\":{\"field\":\"Data\"}},\"id\":\"7120\",\"type\":\"Circle\"},{\"attributes\":{\"source\":{\"id\":\"7100\"}},\"id\":\"7122\",\"type\":\"CDSView\"},{\"attributes\":{\"callback\":null,\"renderers\":[{\"id\":\"7121\"}],\"tooltips\":[[\"(x,y)\",\"(@Year,@Data)\"]]},\"id\":\"7123\",\"type\":\"HoverTool\"},{\"attributes\":{\"fill_alpha\":{\"value\":0.5},\"fill_color\":{\"value\":\"#ff7f0e\"},\"line_alpha\":{\"value\":0.5},\"line_color\":{\"value\":\"#ff7f0e\"},\"size\":{\"value\":10},\"x\":{\"field\":\"Year\"},\"y\":{\"field\":\"Data\"}},\"id\":\"7063\",\"type\":\"Circle\"},{\"attributes\":{\"line_color\":\"#d62728\",\"line_width\":2,\"x\":{\"field\":\"Year\"},\"y\":{\"field\":\"Data\"}},\"id\":\"7020\",\"type\":\"Line\"},{\"attributes\":{},\"id\":\"6947\",\"type\":\"AllLabels\"},{\"attributes\":{\"line_alpha\":0.1,\"line_color\":\"#ff7f0e\",\"line_width\":2,\"x\":{\"field\":\"Year\"},\"y\":{\"field\":\"Data\"}},\"id\":\"6964\",\"type\":\"Line\"},{\"attributes\":{},\"id\":\"6948\",\"type\":\"BasicTickFormatter\"},{\"attributes\":{},\"id\":\"6976\",\"type\":\"UnionRenderers\"},{\"attributes\":{\"source\":{\"id\":\"7018\"}},\"id\":\"7023\",\"type\":\"CDSView\"},{\"attributes\":{},\"id\":\"6977\",\"type\":\"Selection\"},{\"attributes\":{},\"id\":\"7140\",\"type\":\"UnionRenderers\"},{\"attributes\":{},\"id\":\"7141\",\"type\":\"Selection\"},{\"attributes\":{\"fill_alpha\":{\"value\":0.1},\"fill_color\":{\"value\":\"#1f77b4\"},\"line_alpha\":{\"value\":0.1},\"line_color\":{\"value\":\"#1f77b4\"},\"size\":{\"value\":10},\"x\":{\"field\":\"Year\"},\"y\":{\"field\":\"Data\"}},\"id\":\"6874\",\"type\":\"Circle\"},{\"attributes\":{\"overlay\":{\"id\":\"6929\"}},\"id\":\"6926\",\"type\":\"BoxZoomTool\"},{\"attributes\":{\"source\":{\"id\":\"6854\"}},\"id\":\"6876\",\"type\":\"CDSView\"},{\"attributes\":{\"fill_alpha\":{\"value\":0.1},\"fill_color\":{\"value\":\"#d62728\"},\"line_alpha\":{\"value\":0.1},\"line_color\":{\"value\":\"#d62728\"},\"size\":{\"value\":10},\"x\":{\"field\":\"Year\"},\"y\":{\"field\":\"Data\"}},\"id\":\"7038\",\"type\":\"Circle\"},{\"attributes\":{\"source\":{\"id\":\"7018\"}},\"id\":\"7040\",\"type\":\"CDSView\"},{\"attributes\":{\"callback\":null},\"id\":\"7010\",\"type\":\"TapTool\"},{\"attributes\":{\"fill_alpha\":{\"value\":0.1},\"fill_color\":{\"value\":\"#ff7f0e\"},\"line_alpha\":{\"value\":0.1},\"line_color\":{\"value\":\"#ff7f0e\"},\"size\":{\"value\":10},\"x\":{\"field\":\"Year\"},\"y\":{\"field\":\"Data\"}},\"id\":\"7146\",\"type\":\"Circle\"},{\"attributes\":{\"data\":{\"Data\":{\"__ndarray__\":\"5hS8nIKX4z9dQUyuICbnP6fT6XQ6ne4/VM5u4Vdj6j9VVVVVVVXtPw==\",\"dtype\":\"float64\",\"order\":\"little\",\"shape\":[5]},\"Year\":[2007,2010,2011,2013,2014]},\"selected\":{\"id\":\"7114\"},\"selection_policy\":{\"id\":\"7113\"}},\"id\":\"7100\",\"type\":\"ColumnDataSource\"},{\"attributes\":{\"fill_alpha\":{\"value\":0.1},\"fill_color\":{\"value\":\"#ff7f0e\"},\"line_alpha\":{\"value\":0.1},\"line_color\":{\"value\":\"#ff7f0e\"},\"size\":{\"value\":10},\"x\":{\"field\":\"Year\"},\"y\":{\"field\":\"Data\"}},\"id\":\"6982\",\"type\":\"Circle\"},{\"attributes\":{\"source\":{\"id\":\"7125\"}},\"id\":\"7148\",\"type\":\"CDSView\"},{\"attributes\":{\"data_source\":{\"id\":\"7125\"},\"glyph\":{\"id\":\"7145\"},\"hover_glyph\":null,\"muted_glyph\":null,\"nonselection_glyph\":{\"id\":\"7146\"},\"view\":{\"id\":\"7148\"}},\"id\":\"7147\",\"type\":\"GlyphRenderer\"},{\"attributes\":{\"line_color\":\"#ff7f0e\",\"line_width\":2,\"x\":{\"field\":\"Year\"},\"y\":{\"field\":\"Data\"}},\"id\":\"6963\",\"type\":\"Line\"},{\"attributes\":{\"source\":{\"id\":\"6961\"}},\"id\":\"6984\",\"type\":\"CDSView\"},{\"attributes\":{\"callback\":null,\"renderers\":[{\"id\":\"7147\"}],\"tooltips\":[[\"(x,y)\",\"(@Year,@Data)\"]]},\"id\":\"7149\",\"type\":\"HoverTool\"},{\"attributes\":{\"data_source\":{\"id\":\"6961\"},\"glyph\":{\"id\":\"6981\"},\"hover_glyph\":null,\"muted_glyph\":null,\"nonselection_glyph\":{\"id\":\"6982\"},\"view\":{\"id\":\"6984\"}},\"id\":\"6983\",\"type\":\"GlyphRenderer\"},{\"attributes\":{\"callback\":null,\"renderers\":[{\"id\":\"6983\"}],\"tooltips\":[[\"(x,y)\",\"(@Year,@Data)\"]]},\"id\":\"6985\",\"type\":\"HoverTool\"},{\"attributes\":{},\"id\":\"6949\",\"type\":\"UnionRenderers\"},{\"attributes\":{\"callback\":null},\"id\":\"6928\",\"type\":\"TapTool\"},{\"attributes\":{\"children\":[[{\"id\":\"6823\"},0,0],[{\"id\":\"6905\"},0,1],[{\"id\":\"6987\"},1,0],[{\"id\":\"7069\"},1,1]]},\"id\":\"7203\",\"type\":\"GridBox\"},{\"attributes\":{\"overlay\":{\"id\":\"7011\"}},\"id\":\"7008\",\"type\":\"BoxZoomTool\"},{\"attributes\":{},\"id\":\"6950\",\"type\":\"Selection\"},{\"attributes\":{\"axis_label\":\"Year\",\"formatter\":{\"id\":\"7109\"},\"major_label_policy\":{\"id\":\"7108\"},\"ticker\":{\"id\":\"7081\"}},\"id\":\"7080\",\"type\":\"LinearAxis\"},{\"attributes\":{},\"id\":\"6927\",\"type\":\"ResetTool\"},{\"attributes\":{\"data\":{\"Data\":{\"__ndarray__\":\"9DzP8zzP0z9X1BV1RV3hP/c0wnJPI9w/O7ETO7ET2z8hhBBCCCHkPz8hzspPiOM/eqoVWuIz5T8L4XWrEF7nP4pLhmAdbd4/\",\"dtype\":\"float64\",\"order\":\"little\",\"shape\":[9]},\"Year\":[2007,2008,2009,2010,2011,2012,2013,2014,2015]},\"selected\":{\"id\":\"7032\"},\"selection_policy\":{\"id\":\"7031\"}},\"id\":\"7018\",\"type\":\"ColumnDataSource\"},{\"attributes\":{},\"id\":\"7081\",\"type\":\"BasicTicker\"},{\"attributes\":{\"data\":{\"Data\":{\"__ndarray__\":\"AAAAAAAAAAAAAAAAAAAAAAAAAAAAAAAAAAAAAAAAAAAAAAAAAAAAAFQJATk/lbA/jBgxYsSIwT8fJ1qu333cP/msG0yRz+I/q6qqqqqq4j9CewntJbTXP6iesYvXP98/SuMjE+id6j8=\",\"dtype\":\"float64\",\"order\":\"little\",\"shape\":[13]},\"Year\":[2007,2008,2009,2010,2011,2012,2013,2014,2015,2016,2017,2018,2019]},\"selected\":{\"id\":\"6950\"},\"selection_policy\":{\"id\":\"6949\"}},\"id\":\"6936\",\"type\":\"ColumnDataSource\"},{\"attributes\":{},\"id\":\"7009\",\"type\":\"ResetTool\"},{\"attributes\":{},\"id\":\"7089\",\"type\":\"WheelZoomTool\"},{\"attributes\":{\"below\":[{\"id\":\"6998\"}],\"center\":[{\"id\":\"7001\"},{\"id\":\"7005\"},{\"id\":\"7034\"}],\"height\":400,\"left\":[{\"id\":\"7002\"}],\"renderers\":[{\"id\":\"7022\"},{\"id\":\"7039\"},{\"id\":\"7047\"},{\"id\":\"7065\"}],\"title\":{\"id\":\"6988\"},\"toolbar\":{\"id\":\"7012\"},\"toolbar_location\":null,\"width\":400,\"x_range\":{\"id\":\"6990\"},\"x_scale\":{\"id\":\"6994\"},\"y_range\":{\"id\":\"6992\"},\"y_scale\":{\"id\":\"6996\"}},\"id\":\"6987\",\"subtype\":\"Figure\",\"type\":\"Plot\"},{\"attributes\":{},\"id\":\"7078\",\"type\":\"LinearScale\"},{\"attributes\":{\"bottom_units\":\"screen\",\"fill_alpha\":0.5,\"fill_color\":\"lightgrey\",\"left_units\":\"screen\",\"level\":\"overlay\",\"line_alpha\":1.0,\"line_color\":\"black\",\"line_dash\":[4,4],\"line_width\":2,\"right_units\":\"screen\",\"syncable\":false,\"top_units\":\"screen\"},\"id\":\"7011\",\"type\":\"BoxAnnotation\"},{\"attributes\":{},\"id\":\"7030\",\"type\":\"BasicTickFormatter\"},{\"attributes\":{},\"id\":\"7085\",\"type\":\"BasicTicker\"},{\"attributes\":{\"fill_alpha\":{\"value\":0.5},\"fill_color\":{\"value\":\"#2ca02c\"},\"line_alpha\":{\"value\":0.5},\"line_color\":{\"value\":\"#2ca02c\"},\"size\":{\"value\":10},\"x\":{\"field\":\"Year\"},\"y\":{\"field\":\"Data\"}},\"id\":\"6955\",\"type\":\"Circle\"},{\"attributes\":{\"data_source\":{\"id\":\"6936\"},\"glyph\":{\"id\":\"6955\"},\"hover_glyph\":null,\"muted_glyph\":null,\"nonselection_glyph\":{\"id\":\"6956\"},\"view\":{\"id\":\"6958\"}},\"id\":\"6957\",\"type\":\"GlyphRenderer\"},{\"attributes\":{\"axis\":{\"id\":\"7080\"},\"ticker\":null},\"id\":\"7083\",\"type\":\"Grid\"},{\"attributes\":{\"source\":{\"id\":\"6961\"}},\"id\":\"6966\",\"type\":\"CDSView\"},{\"attributes\":{\"source\":{\"id\":\"6936\"}},\"id\":\"6958\",\"type\":\"CDSView\"},{\"attributes\":{\"data_source\":{\"id\":\"6961\"},\"glyph\":{\"id\":\"6963\"},\"hover_glyph\":null,\"muted_glyph\":null,\"nonselection_glyph\":{\"id\":\"6964\"},\"view\":{\"id\":\"6966\"}},\"id\":\"6965\",\"type\":\"GlyphRenderer\"},{\"attributes\":{\"fill_alpha\":{\"value\":0.1},\"fill_color\":{\"value\":\"#2ca02c\"},\"line_alpha\":{\"value\":0.1},\"line_color\":{\"value\":\"#2ca02c\"},\"size\":{\"value\":10},\"x\":{\"field\":\"Year\"},\"y\":{\"field\":\"Data\"}},\"id\":\"6956\",\"type\":\"Circle\"},{\"attributes\":{\"callback\":null,\"renderers\":[{\"id\":\"6957\"}],\"tooltips\":[[\"(x,y)\",\"(@Year,@Data)\"]]},\"id\":\"6959\",\"type\":\"HoverTool\"}],\"root_ids\":[\"7206\"]},\"title\":\"Bokeh Application\",\"version\":\"2.3.3\"}};\n",
       "  var render_items = [{\"docid\":\"abb73828-73df-4348-9217-24074a34265e\",\"root_ids\":[\"7206\"],\"roots\":{\"7206\":\"9777977f-d163-43c7-973e-1eb4c9f6e86c\"}}];\n",
       "  root.Bokeh.embed.embed_items_notebook(docs_json, render_items);\n",
       "\n",
       "  }\n",
       "  if (root.Bokeh !== undefined) {\n",
       "    embed_document(root);\n",
       "  } else {\n",
       "    var attempts = 0;\n",
       "    var timer = setInterval(function(root) {\n",
       "      if (root.Bokeh !== undefined) {\n",
       "        clearInterval(timer);\n",
       "        embed_document(root);\n",
       "      } else {\n",
       "        attempts++;\n",
       "        if (attempts > 100) {\n",
       "          clearInterval(timer);\n",
       "          console.log(\"Bokeh: ERROR: Unable to run BokehJS code because BokehJS library is missing\");\n",
       "        }\n",
       "      }\n",
       "    }, 10, root)\n",
       "  }\n",
       "})(window);"
      ],
      "application/vnd.bokehjs_exec.v0+json": ""
     },
     "metadata": {
      "application/vnd.bokehjs_exec.v0+json": {
       "id": "7206"
      }
     },
     "output_type": "display_data"
    },
    {
     "data": {
      "text/plain": [
       "<data_analysis.plotting.Subplots at 0x1152638e0>"
      ]
     },
     "execution_count": 39,
     "metadata": {},
     "output_type": "execute_result"
    }
   ],
   "source": [
    "plot_haplotype_frequency(pf6plus, 'PfDHFR', populations = ['WSEA','ESEA','WAF','EAF'], num_top_haplotypes = 1)"
   ]
  },
  {
   "cell_type": "code",
   "execution_count": 40,
   "metadata": {
    "colab": {
     "base_uri": "https://localhost:8080/",
     "height": 864
    },
    "id": "Jl52GPbZnbcb",
    "outputId": "89ca1375-bdc4-4c6b-e64e-9dcca5e9a39b"
   },
   "outputs": [
    {
     "data": {
      "text/html": [
       "\n",
       "\n",
       "\n",
       "\n",
       "\n",
       "\n",
       "  <div class=\"bk-root\" id=\"a016aeef-20df-442d-a122-2bda0d8031b5\" data-root-id=\"8694\"></div>\n"
      ]
     },
     "metadata": {},
     "output_type": "display_data"
    },
    {
     "data": {
      "application/javascript": [
       "(function(root) {\n",
       "  function embed_document(root) {\n",
       "    \n",
       "  var docs_json = {\"5a484c3d-656f-433f-a117-ffb5120a7fca\":{\"defs\":[],\"roots\":{\"references\":[{\"attributes\":{\"children\":[{\"id\":\"8693\"},{\"id\":\"8691\"}]},\"id\":\"8694\",\"type\":\"Column\"},{\"attributes\":{\"fill_alpha\":{\"value\":0.5},\"fill_color\":{\"value\":\"#8c564b\"},\"line_alpha\":{\"value\":0.5},\"line_color\":{\"value\":\"#8c564b\"},\"size\":{\"value\":10},\"x\":{\"field\":\"Year\"},\"y\":{\"field\":\"Data\"}},\"id\":\"8601\",\"type\":\"Circle\"},{\"attributes\":{\"label\":{\"value\":\"Other\"},\"renderers\":[{\"id\":\"8577\"}]},\"id\":\"8599\",\"type\":\"LegendItem\"},{\"attributes\":{\"source\":{\"id\":\"8511\"}},\"id\":\"8516\",\"type\":\"CDSView\"},{\"attributes\":{\"label\":{\"value\":\"AI[R/C]NIS\"},\"renderers\":[{\"id\":\"8515\"}]},\"id\":\"8533\",\"type\":\"LegendItem\"},{\"attributes\":{\"callback\":null,\"renderers\":[{\"id\":\"8507\"}],\"tooltips\":[[\"(x,y)\",\"(@Year,@Data)\"]]},\"id\":\"8509\",\"type\":\"HoverTool\"},{\"attributes\":{\"data_source\":{\"id\":\"8573\"},\"glyph\":{\"id\":\"8575\"},\"hover_glyph\":null,\"muted_glyph\":null,\"nonselection_glyph\":{\"id\":\"8576\"},\"view\":{\"id\":\"8578\"}},\"id\":\"8577\",\"type\":\"GlyphRenderer\"},{\"attributes\":{\"fill_alpha\":{\"value\":0.1},\"fill_color\":{\"value\":\"#7fc97f\"},\"line_alpha\":{\"value\":0.1},\"line_color\":{\"value\":\"#7fc97f\"},\"size\":{\"value\":10},\"x\":{\"field\":\"Year\"},\"y\":{\"field\":\"Data\"}},\"id\":\"8506\",\"type\":\"Circle\"},{\"attributes\":{\"source\":{\"id\":\"8483\"}},\"id\":\"8508\",\"type\":\"CDSView\"},{\"attributes\":{\"data_source\":{\"id\":\"8483\"},\"glyph\":{\"id\":\"8505\"},\"hover_glyph\":null,\"muted_glyph\":null,\"nonselection_glyph\":{\"id\":\"8506\"},\"view\":{\"id\":\"8508\"}},\"id\":\"8507\",\"type\":\"GlyphRenderer\"},{\"attributes\":{\"source\":{\"id\":\"8573\"}},\"id\":\"8578\",\"type\":\"CDSView\"},{\"attributes\":{\"source\":{\"id\":\"8541\"}},\"id\":\"8546\",\"type\":\"CDSView\"},{\"attributes\":{\"line_alpha\":0.1,\"line_color\":\"#8c564b\",\"line_width\":2,\"x\":{\"field\":\"Year\"},\"y\":{\"field\":\"Data\"}},\"id\":\"8576\",\"type\":\"Line\"},{\"attributes\":{},\"id\":\"8562\",\"type\":\"UnionRenderers\"},{\"attributes\":{},\"id\":\"8563\",\"type\":\"Selection\"},{\"attributes\":{\"line_color\":\"#386cb0\",\"line_width\":2,\"x\":{\"field\":\"Year\"},\"y\":{\"field\":\"Data\"}},\"id\":\"8543\",\"type\":\"Line\"},{\"attributes\":{},\"id\":\"8406\",\"type\":\"Range1d\"},{\"attributes\":{\"label\":{\"value\":\"AI[C/R]NIS\"},\"renderers\":[{\"id\":\"8545\"}]},\"id\":\"8565\",\"type\":\"LegendItem\"},{\"attributes\":{\"line_color\":\"#8c564b\",\"line_width\":2,\"x\":{\"field\":\"Year\"},\"y\":{\"field\":\"Data\"}},\"id\":\"8575\",\"type\":\"Line\"},{\"attributes\":{},\"id\":\"7998\",\"type\":\"LinearScale\"},{\"attributes\":{},\"id\":\"8530\",\"type\":\"UnionRenderers\"},{\"attributes\":{},\"id\":\"8531\",\"type\":\"Selection\"},{\"attributes\":{\"fill_alpha\":{\"value\":0.1},\"fill_color\":{\"value\":\"#386cb0\"},\"line_alpha\":{\"value\":0.1},\"line_color\":{\"value\":\"#386cb0\"},\"size\":{\"value\":10},\"x\":{\"field\":\"Year\"},\"y\":{\"field\":\"Data\"}},\"id\":\"8568\",\"type\":\"Circle\"},{\"attributes\":{\"source\":{\"id\":\"8541\"}},\"id\":\"8570\",\"type\":\"CDSView\"},{\"attributes\":{\"data_source\":{\"id\":\"8541\"},\"glyph\":{\"id\":\"8567\"},\"hover_glyph\":null,\"muted_glyph\":null,\"nonselection_glyph\":{\"id\":\"8568\"},\"view\":{\"id\":\"8570\"}},\"id\":\"8569\",\"type\":\"GlyphRenderer\"},{\"attributes\":{\"callback\":null,\"renderers\":[{\"id\":\"8569\"}],\"tooltips\":[[\"(x,y)\",\"(@Year,@Data)\"]]},\"id\":\"8571\",\"type\":\"HoverTool\"},{\"attributes\":{\"toolbar\":{\"id\":\"8692\"},\"toolbar_location\":\"above\"},\"id\":\"8693\",\"type\":\"ToolbarBox\"},{\"attributes\":{\"fill_alpha\":{\"value\":0.5},\"fill_color\":{\"value\":\"#ffff99\"},\"line_alpha\":{\"value\":0.5},\"line_color\":{\"value\":\"#ffff99\"},\"size\":{\"value\":10},\"x\":{\"field\":\"Year\"},\"y\":{\"field\":\"Data\"}},\"id\":\"8535\",\"type\":\"Circle\"},{\"attributes\":{},\"id\":\"8408\",\"type\":\"LinearScale\"},{\"attributes\":{\"line_alpha\":0.1,\"line_color\":\"#386cb0\",\"line_width\":2,\"x\":{\"field\":\"Year\"},\"y\":{\"field\":\"Data\"}},\"id\":\"8544\",\"type\":\"Line\"},{\"attributes\":{\"fill_alpha\":{\"value\":0.5},\"fill_color\":{\"value\":\"#386cb0\"},\"line_alpha\":{\"value\":0.5},\"line_color\":{\"value\":\"#386cb0\"},\"size\":{\"value\":10},\"x\":{\"field\":\"Year\"},\"y\":{\"field\":\"Data\"}},\"id\":\"8567\",\"type\":\"Circle\"},{\"attributes\":{\"axis_label\":\"Year\",\"formatter\":{\"id\":\"8235\"},\"major_label_policy\":{\"id\":\"8234\"},\"ticker\":{\"id\":\"8207\"}},\"id\":\"8206\",\"type\":\"LinearAxis\"},{\"attributes\":{\"fill_alpha\":{\"value\":0.1},\"fill_color\":{\"value\":\"#ffff99\"},\"line_alpha\":{\"value\":0.1},\"line_color\":{\"value\":\"#ffff99\"},\"size\":{\"value\":10},\"x\":{\"field\":\"Year\"},\"y\":{\"field\":\"Data\"}},\"id\":\"8536\",\"type\":\"Circle\"},{\"attributes\":{\"source\":{\"id\":\"8511\"}},\"id\":\"8538\",\"type\":\"CDSView\"},{\"attributes\":{},\"id\":\"8596\",\"type\":\"UnionRenderers\"},{\"attributes\":{\"data_source\":{\"id\":\"8511\"},\"glyph\":{\"id\":\"8535\"},\"hover_glyph\":null,\"muted_glyph\":null,\"nonselection_glyph\":{\"id\":\"8536\"},\"view\":{\"id\":\"8538\"}},\"id\":\"8537\",\"type\":\"GlyphRenderer\"},{\"attributes\":{\"callback\":null,\"renderers\":[{\"id\":\"8537\"}],\"tooltips\":[[\"(x,y)\",\"(@Year,@Data)\"]]},\"id\":\"8539\",\"type\":\"HoverTool\"},{\"attributes\":{},\"id\":\"8597\",\"type\":\"Selection\"},{\"attributes\":{\"data_source\":{\"id\":\"8541\"},\"glyph\":{\"id\":\"8543\"},\"hover_glyph\":null,\"muted_glyph\":null,\"nonselection_glyph\":{\"id\":\"8544\"},\"view\":{\"id\":\"8546\"}},\"id\":\"8545\",\"type\":\"GlyphRenderer\"},{\"attributes\":{},\"id\":\"7825\",\"type\":\"AllLabels\"},{\"attributes\":{},\"id\":\"7826\",\"type\":\"BasicTickFormatter\"},{\"attributes\":{},\"id\":\"7822\",\"type\":\"AllLabels\"},{\"attributes\":{\"bottom_units\":\"screen\",\"fill_alpha\":0.5,\"fill_color\":\"lightgrey\",\"left_units\":\"screen\",\"level\":\"overlay\",\"line_alpha\":1.0,\"line_color\":\"black\",\"line_dash\":[4,4],\"line_width\":2,\"right_units\":\"screen\",\"syncable\":false,\"top_units\":\"screen\"},\"id\":\"7807\",\"type\":\"BoxAnnotation\"},{\"attributes\":{\"data\":{\"Data\":{\"__ndarray__\":\"AAAAAAAAAAAAAAAAAAAAAAAAAAAAAAAAAAAAAAAAAAAAAAAAAAAAAFQJATk/lbA/jBgxYsSIwT8fJ1qu333cP/msG0yRz+I/q6qqqqqq4j9CewntJbTXP6iesYvXP98/SuMjE+id6j8=\",\"dtype\":\"float64\",\"order\":\"little\",\"shape\":[13]},\"Year\":[2007,2008,2009,2010,2011,2012,2013,2014,2015,2016,2017,2018,2019]},\"selected\":{\"id\":\"8034\"},\"selection_policy\":{\"id\":\"8033\"}},\"id\":\"8020\",\"type\":\"ColumnDataSource\"},{\"attributes\":{},\"id\":\"8472\",\"type\":\"UnionRenderers\"},{\"attributes\":{\"end\":2019,\"start\":2001},\"id\":\"7992\",\"type\":\"Range1d\"},{\"attributes\":{},\"id\":\"8473\",\"type\":\"Selection\"},{\"attributes\":{\"line_alpha\":0.1,\"line_color\":\"#1f77b4\",\"line_width\":2,\"x\":{\"field\":\"Year\"},\"y\":{\"field\":\"Data\"}},\"id\":\"7817\",\"type\":\"Line\"},{\"attributes\":{\"source\":{\"id\":\"7814\"}},\"id\":\"7819\",\"type\":\"CDSView\"},{\"attributes\":{},\"id\":\"7827\",\"type\":\"UnionRenderers\"},{\"attributes\":{},\"id\":\"7828\",\"type\":\"Selection\"},{\"attributes\":{\"callback\":null},\"id\":\"7806\",\"type\":\"TapTool\"},{\"attributes\":{\"fill_alpha\":{\"value\":0.5},\"fill_color\":{\"value\":\"#7fc97f\"},\"line_alpha\":{\"value\":0.5},\"line_color\":{\"value\":\"#7fc97f\"},\"size\":{\"value\":10},\"x\":{\"field\":\"Year\"},\"y\":{\"field\":\"Data\"}},\"id\":\"8505\",\"type\":\"Circle\"},{\"attributes\":{\"fill_alpha\":{\"value\":0.1},\"fill_color\":{\"value\":\"#fdc086\"},\"line_alpha\":{\"value\":0.1},\"line_color\":{\"value\":\"#fdc086\"},\"size\":{\"value\":10},\"x\":{\"field\":\"Year\"},\"y\":{\"field\":\"Data\"}},\"id\":\"8478\",\"type\":\"Circle\"},{\"attributes\":{\"source\":{\"id\":\"8457\"}},\"id\":\"8480\",\"type\":\"CDSView\"},{\"attributes\":{\"data_source\":{\"id\":\"8457\"},\"glyph\":{\"id\":\"8477\"},\"hover_glyph\":null,\"muted_glyph\":null,\"nonselection_glyph\":{\"id\":\"8478\"},\"view\":{\"id\":\"8480\"}},\"id\":\"8479\",\"type\":\"GlyphRenderer\"},{\"attributes\":{\"callback\":null,\"renderers\":[{\"id\":\"8479\"}],\"tooltips\":[[\"(x,y)\",\"(@Year,@Data)\"]]},\"id\":\"8481\",\"type\":\"HoverTool\"},{\"attributes\":{\"overlay\":{\"id\":\"7807\"}},\"id\":\"7804\",\"type\":\"BoxZoomTool\"},{\"attributes\":{\"active_drag\":{\"id\":\"7802\"},\"active_multi\":null,\"active_scroll\":{\"id\":\"7803\"},\"tools\":[{\"id\":\"7802\"},{\"id\":\"7803\"},{\"id\":\"7804\"},{\"id\":\"7805\"},{\"id\":\"7806\"},{\"id\":\"7837\"},{\"id\":\"7863\"},{\"id\":\"7891\"},{\"id\":\"7921\"},{\"id\":\"7953\"},{\"id\":\"7987\"}]},\"id\":\"7808\",\"type\":\"Toolbar\"},{\"attributes\":{\"source\":{\"id\":\"8483\"}},\"id\":\"8488\",\"type\":\"CDSView\"},{\"attributes\":{\"background_fill_alpha\":0.7,\"items\":[{\"id\":\"7831\"},{\"id\":\"7857\"},{\"id\":\"7885\"},{\"id\":\"7915\"},{\"id\":\"7947\"},{\"id\":\"7981\"}]},\"id\":\"7830\",\"type\":\"Legend\"},{\"attributes\":{},\"id\":\"7803\",\"type\":\"WheelZoomTool\"},{\"attributes\":{},\"id\":\"7802\",\"type\":\"PanTool\"},{\"attributes\":{},\"id\":\"7805\",\"type\":\"ResetTool\"},{\"attributes\":{\"fill_alpha\":{\"value\":0.5},\"fill_color\":{\"value\":\"#1f77b4\"},\"line_alpha\":{\"value\":0.5},\"line_color\":{\"value\":\"#1f77b4\"},\"size\":{\"value\":10},\"x\":{\"field\":\"Year\"},\"y\":{\"field\":\"Data\"}},\"id\":\"7833\",\"type\":\"Circle\"},{\"attributes\":{\"data\":{\"Data\":{\"__ndarray__\":\"Fl/xFV/xtT+amZmZmZm5P5AGaZAGabA/qSfjt0s9uT8AAAAAAAAAAGgvob2E9rI/lnsaYbmnsT/QcFL35bG1P/6S5S9Z/sI/cB/BfQT3wT8AAAAAAADMPwAAAAAAAAAAAAAAAAAAAAAAAAAAAAAAAA==\",\"dtype\":\"float64\",\"order\":\"little\",\"shape\":[14]},\"Year\":[2001,2002,2003,2004,2005,2007,2008,2011,2012,2013,2014,2015,2016,2017]},\"selected\":{\"id\":\"7883\"},\"selection_policy\":{\"id\":\"7882\"}},\"id\":\"7865\",\"type\":\"ColumnDataSource\"},{\"attributes\":{\"data_source\":{\"id\":\"7814\"},\"glyph\":{\"id\":\"7816\"},\"hover_glyph\":null,\"muted_glyph\":null,\"nonselection_glyph\":{\"id\":\"7817\"},\"view\":{\"id\":\"7819\"}},\"id\":\"7818\",\"type\":\"GlyphRenderer\"},{\"attributes\":{\"line_color\":\"#ff7f0e\",\"line_width\":2,\"x\":{\"field\":\"Year\"},\"y\":{\"field\":\"Data\"}},\"id\":\"7841\",\"type\":\"Line\"},{\"attributes\":{\"label\":{\"value\":\"IRNL\"},\"renderers\":[{\"id\":\"7843\"}]},\"id\":\"7857\",\"type\":\"LegendItem\"},{\"attributes\":{\"line_alpha\":0.1,\"line_color\":\"#ff7f0e\",\"line_width\":2,\"x\":{\"field\":\"Year\"},\"y\":{\"field\":\"Data\"}},\"id\":\"7842\",\"type\":\"Line\"},{\"attributes\":{\"line_color\":\"#ffff99\",\"line_width\":2,\"x\":{\"field\":\"Year\"},\"y\":{\"field\":\"Data\"}},\"id\":\"8513\",\"type\":\"Line\"},{\"attributes\":{\"data_source\":{\"id\":\"8511\"},\"glyph\":{\"id\":\"8513\"},\"hover_glyph\":null,\"muted_glyph\":null,\"nonselection_glyph\":{\"id\":\"8514\"},\"view\":{\"id\":\"8516\"}},\"id\":\"8515\",\"type\":\"GlyphRenderer\"},{\"attributes\":{\"data\":{\"Data\":{\"__ndarray__\":\"AAAAAAAAAAAAAAAAAAAAAAAAAAAAAAAAAAAAAAAAAAAAAAAAAAAAAAAAAAAAAAAAAAAAAAAAAAAAAAAAAAAAAAAAAAAAAAAAAAAAAAAAAAAAAAAAAAAAAJZ7GmG5p9E/FjqDFTqD5T/Ygi3Ygi3YPw==\",\"dtype\":\"float64\",\"order\":\"little\",\"shape\":[14]},\"Year\":[2001,2002,2003,2004,2005,2007,2008,2011,2012,2013,2014,2015,2016,2017]},\"selected\":{\"id\":\"7855\"},\"selection_policy\":{\"id\":\"7854\"}},\"id\":\"7839\",\"type\":\"ColumnDataSource\"},{\"attributes\":{\"fill_alpha\":{\"value\":0.1},\"fill_color\":{\"value\":\"#1f77b4\"},\"line_alpha\":{\"value\":0.1},\"line_color\":{\"value\":\"#1f77b4\"},\"size\":{\"value\":10},\"x\":{\"field\":\"Year\"},\"y\":{\"field\":\"Data\"}},\"id\":\"7834\",\"type\":\"Circle\"},{\"attributes\":{\"line_alpha\":0.1,\"line_color\":\"#ffff99\",\"line_width\":2,\"x\":{\"field\":\"Year\"},\"y\":{\"field\":\"Data\"}},\"id\":\"8514\",\"type\":\"Line\"},{\"attributes\":{\"source\":{\"id\":\"7814\"}},\"id\":\"7836\",\"type\":\"CDSView\"},{\"attributes\":{},\"id\":\"7823\",\"type\":\"BasicTickFormatter\"},{\"attributes\":{\"toolbars\":[{\"id\":\"7808\"},{\"id\":\"8014\"},{\"id\":\"8220\"},{\"id\":\"8426\"}],\"tools\":[{\"id\":\"7802\"},{\"id\":\"7803\"},{\"id\":\"7804\"},{\"id\":\"7805\"},{\"id\":\"7806\"},{\"id\":\"7837\"},{\"id\":\"7863\"},{\"id\":\"7891\"},{\"id\":\"7921\"},{\"id\":\"7953\"},{\"id\":\"7987\"},{\"id\":\"8008\"},{\"id\":\"8009\"},{\"id\":\"8010\"},{\"id\":\"8011\"},{\"id\":\"8012\"},{\"id\":\"8043\"},{\"id\":\"8069\"},{\"id\":\"8097\"},{\"id\":\"8127\"},{\"id\":\"8159\"},{\"id\":\"8193\"},{\"id\":\"8214\"},{\"id\":\"8215\"},{\"id\":\"8216\"},{\"id\":\"8217\"},{\"id\":\"8218\"},{\"id\":\"8249\"},{\"id\":\"8275\"},{\"id\":\"8303\"},{\"id\":\"8333\"},{\"id\":\"8365\"},{\"id\":\"8399\"},{\"id\":\"8420\"},{\"id\":\"8421\"},{\"id\":\"8422\"},{\"id\":\"8423\"},{\"id\":\"8424\"},{\"id\":\"8455\"},{\"id\":\"8481\"},{\"id\":\"8509\"},{\"id\":\"8539\"},{\"id\":\"8571\"},{\"id\":\"8605\"}]},\"id\":\"8692\",\"type\":\"ProxyToolbar\"},{\"attributes\":{\"data_source\":{\"id\":\"7814\"},\"glyph\":{\"id\":\"7833\"},\"hover_glyph\":null,\"muted_glyph\":null,\"nonselection_glyph\":{\"id\":\"7834\"},\"view\":{\"id\":\"7836\"}},\"id\":\"7835\",\"type\":\"GlyphRenderer\"},{\"attributes\":{\"callback\":null,\"renderers\":[{\"id\":\"7835\"}],\"tooltips\":[[\"(x,y)\",\"(@Year,@Data)\"]]},\"id\":\"7837\",\"type\":\"HoverTool\"},{\"attributes\":{\"label\":{\"value\":\"AIRNLS\"},\"renderers\":[{\"id\":\"7818\"}]},\"id\":\"7831\",\"type\":\"LegendItem\"},{\"attributes\":{\"data\":{\"Data\":{\"__ndarray__\":\"AAAAAAAAAABXEJMriMmVPwgEAoFAIHA/eqBydgu/mj8RERERERGRPw==\",\"dtype\":\"float64\",\"order\":\"little\",\"shape\":[5]},\"Year\":[2007,2010,2011,2013,2014]},\"selected\":{\"id\":\"8563\"},\"selection_policy\":{\"id\":\"8562\"}},\"id\":\"8541\",\"type\":\"ColumnDataSource\"},{\"attributes\":{\"data\":{\"Data\":{\"__ndarray__\":\"YOp1i8BYrz9omUUotoLIP6Dd6GM+IJA/wCFUqdkDpT9AD9JT5BCRPw==\",\"dtype\":\"float64\",\"order\":\"little\",\"shape\":[5]},\"Year\":[2007,2010,2011,2013,2014]},\"selected\":{\"id\":\"8597\"},\"selection_policy\":{\"id\":\"8596\"}},\"id\":\"8573\",\"type\":\"ColumnDataSource\"},{\"attributes\":{\"data_source\":{\"id\":\"7839\"},\"glyph\":{\"id\":\"7841\"},\"hover_glyph\":null,\"muted_glyph\":null,\"nonselection_glyph\":{\"id\":\"7842\"},\"view\":{\"id\":\"7844\"}},\"id\":\"7843\",\"type\":\"GlyphRenderer\"},{\"attributes\":{\"text\":\"PfDHFR Predominant Variants in ESEA\"},\"id\":\"7990\",\"type\":\"Title\"},{\"attributes\":{\"label\":{\"value\":\"ANRNIS\"},\"renderers\":[{\"id\":\"8487\"}]},\"id\":\"8503\",\"type\":\"LegendItem\"},{\"attributes\":{\"source\":{\"id\":\"7839\"}},\"id\":\"7844\",\"type\":\"CDSView\"},{\"attributes\":{\"line_color\":\"#1f77b4\",\"line_width\":2,\"x\":{\"field\":\"Year\"},\"y\":{\"field\":\"Data\"}},\"id\":\"7816\",\"type\":\"Line\"},{\"attributes\":{},\"id\":\"8500\",\"type\":\"UnionRenderers\"},{\"attributes\":{\"line_alpha\":0.1,\"line_color\":\"#2ca02c\",\"line_width\":2,\"x\":{\"field\":\"Year\"},\"y\":{\"field\":\"Data\"}},\"id\":\"7868\",\"type\":\"Line\"},{\"attributes\":{\"fill_alpha\":{\"value\":0.5},\"fill_color\":{\"value\":\"#ff7f0e\"},\"line_alpha\":{\"value\":0.5},\"line_color\":{\"value\":\"#ff7f0e\"},\"size\":{\"value\":10},\"x\":{\"field\":\"Year\"},\"y\":{\"field\":\"Data\"}},\"id\":\"7859\",\"type\":\"Circle\"},{\"attributes\":{\"line_color\":\"#2ca02c\",\"line_width\":2,\"x\":{\"field\":\"Year\"},\"y\":{\"field\":\"Data\"}},\"id\":\"7867\",\"type\":\"Line\"},{\"attributes\":{},\"id\":\"8501\",\"type\":\"Selection\"},{\"attributes\":{\"data_source\":{\"id\":\"7865\"},\"glyph\":{\"id\":\"7867\"},\"hover_glyph\":null,\"muted_glyph\":null,\"nonselection_glyph\":{\"id\":\"7868\"},\"view\":{\"id\":\"7870\"}},\"id\":\"7869\",\"type\":\"GlyphRenderer\"},{\"attributes\":{\"data\":{\"Data\":{\"__ndarray__\":\"Fl/xFV/xtT+4HoXrUbi+PxQ7sRM7saM/C5sDiVbYjD9VVVVVVVWVPwAAAAAAAAAAtdugrBBjrz8NJ3VfHluRP20a0KYBbZo/NJfRXEZzuT8AAAAAAADSPwAAAAAAAAAAAAAAAAAAAAAAAAAAAAAAAA==\",\"dtype\":\"float64\",\"order\":\"little\",\"shape\":[14]},\"Year\":[2001,2002,2003,2004,2005,2007,2008,2011,2012,2013,2014,2015,2016,2017]},\"selected\":{\"id\":\"7913\"},\"selection_policy\":{\"id\":\"7912\"}},\"id\":\"7893\",\"type\":\"ColumnDataSource\"},{\"attributes\":{},\"id\":\"8118\",\"type\":\"UnionRenderers\"},{\"attributes\":{},\"id\":\"8119\",\"type\":\"Selection\"},{\"attributes\":{\"fill_alpha\":{\"value\":0.5},\"fill_color\":{\"value\":\"#8c564b\"},\"line_alpha\":{\"value\":0.5},\"line_color\":{\"value\":\"#8c564b\"},\"size\":{\"value\":10},\"x\":{\"field\":\"Year\"},\"y\":{\"field\":\"Data\"}},\"id\":\"8189\",\"type\":\"Circle\"},{\"attributes\":{\"data_source\":{\"id\":\"8251\"},\"glyph\":{\"id\":\"8253\"},\"hover_glyph\":null,\"muted_glyph\":null,\"nonselection_glyph\":{\"id\":\"8254\"},\"view\":{\"id\":\"8256\"}},\"id\":\"8255\",\"type\":\"GlyphRenderer\"},{\"attributes\":{\"below\":[{\"id\":\"8000\"}],\"center\":[{\"id\":\"8003\"},{\"id\":\"8007\"},{\"id\":\"8036\"}],\"height\":400,\"left\":[{\"id\":\"8004\"}],\"renderers\":[{\"id\":\"8024\"},{\"id\":\"8041\"},{\"id\":\"8049\"},{\"id\":\"8067\"},{\"id\":\"8075\"},{\"id\":\"8095\"},{\"id\":\"8103\"},{\"id\":\"8125\"},{\"id\":\"8133\"},{\"id\":\"8157\"},{\"id\":\"8165\"},{\"id\":\"8191\"}],\"title\":{\"id\":\"7990\"},\"toolbar\":{\"id\":\"8014\"},\"toolbar_location\":null,\"width\":400,\"x_range\":{\"id\":\"7992\"},\"x_scale\":{\"id\":\"7996\"},\"y_range\":{\"id\":\"7994\"},\"y_scale\":{\"id\":\"7998\"}},\"id\":\"7989\",\"subtype\":\"Figure\",\"type\":\"Plot\"},{\"attributes\":{\"axis_label\":\"Year\",\"formatter\":{\"id\":\"8441\"},\"major_label_policy\":{\"id\":\"8440\"},\"ticker\":{\"id\":\"8413\"}},\"id\":\"8412\",\"type\":\"LinearAxis\"},{\"attributes\":{\"fill_alpha\":{\"value\":0.1},\"fill_color\":{\"value\":\"#8c564b\"},\"line_alpha\":{\"value\":0.1},\"line_color\":{\"value\":\"#8c564b\"},\"size\":{\"value\":10},\"x\":{\"field\":\"Year\"},\"y\":{\"field\":\"Data\"}},\"id\":\"8602\",\"type\":\"Circle\"},{\"attributes\":{},\"id\":\"8151\",\"type\":\"Selection\"},{\"attributes\":{\"source\":{\"id\":\"8573\"}},\"id\":\"8604\",\"type\":\"CDSView\"},{\"attributes\":{\"data_source\":{\"id\":\"8573\"},\"glyph\":{\"id\":\"8601\"},\"hover_glyph\":null,\"muted_glyph\":null,\"nonselection_glyph\":{\"id\":\"8602\"},\"view\":{\"id\":\"8604\"}},\"id\":\"8603\",\"type\":\"GlyphRenderer\"},{\"attributes\":{\"callback\":null,\"renderers\":[{\"id\":\"8603\"}],\"tooltips\":[[\"(x,y)\",\"(@Year,@Data)\"]]},\"id\":\"8605\",\"type\":\"HoverTool\"},{\"attributes\":{\"fill_alpha\":{\"value\":0.1},\"fill_color\":{\"value\":\"#7f7f7f\"},\"line_alpha\":{\"value\":0.1},\"line_color\":{\"value\":\"#7f7f7f\"},\"size\":{\"value\":10},\"x\":{\"field\":\"Year\"},\"y\":{\"field\":\"Data\"}},\"id\":\"8124\",\"type\":\"Circle\"},{\"attributes\":{\"source\":{\"id\":\"8099\"}},\"id\":\"8126\",\"type\":\"CDSView\"},{\"attributes\":{},\"id\":\"8184\",\"type\":\"UnionRenderers\"},{\"attributes\":{\"data_source\":{\"id\":\"8099\"},\"glyph\":{\"id\":\"8123\"},\"hover_glyph\":null,\"muted_glyph\":null,\"nonselection_glyph\":{\"id\":\"8124\"},\"view\":{\"id\":\"8126\"}},\"id\":\"8125\",\"type\":\"GlyphRenderer\"},{\"attributes\":{\"callback\":null,\"renderers\":[{\"id\":\"8125\"}],\"tooltips\":[[\"(x,y)\",\"(@Year,@Data)\"]]},\"id\":\"8127\",\"type\":\"HoverTool\"},{\"attributes\":{\"text\":\"PfDHFR Predominant Variants in EAF\"},\"id\":\"8402\",\"type\":\"Title\"},{\"attributes\":{},\"id\":\"8185\",\"type\":\"Selection\"},{\"attributes\":{},\"id\":\"8150\",\"type\":\"UnionRenderers\"},{\"attributes\":{\"overlay\":{\"id\":\"8219\"}},\"id\":\"8216\",\"type\":\"BoxZoomTool\"},{\"attributes\":{},\"id\":\"7994\",\"type\":\"Range1d\"},{\"attributes\":{\"children\":[[{\"id\":\"7783\"},0,0],[{\"id\":\"7989\"},0,1],[{\"id\":\"8195\"},1,0],[{\"id\":\"8401\"},1,1]]},\"id\":\"8691\",\"type\":\"GridBox\"},{\"attributes\":{\"line_color\":\"#8c564b\",\"line_width\":2,\"x\":{\"field\":\"Year\"},\"y\":{\"field\":\"Data\"}},\"id\":\"8163\",\"type\":\"Line\"},{\"attributes\":{\"source\":{\"id\":\"8161\"}},\"id\":\"8166\",\"type\":\"CDSView\"},{\"attributes\":{\"callback\":null},\"id\":\"8218\",\"type\":\"TapTool\"},{\"attributes\":{\"label\":{\"value\":\"Other\"},\"renderers\":[{\"id\":\"8165\"}]},\"id\":\"8187\",\"type\":\"LegendItem\"},{\"attributes\":{\"end\":2019,\"start\":2001},\"id\":\"8404\",\"type\":\"Range1d\"},{\"attributes\":{\"line_alpha\":0.1,\"line_color\":\"#8c564b\",\"line_width\":2,\"x\":{\"field\":\"Year\"},\"y\":{\"field\":\"Data\"}},\"id\":\"8164\",\"type\":\"Line\"},{\"attributes\":{\"fill_alpha\":{\"value\":0.1},\"fill_color\":{\"value\":\"#8c564b\"},\"line_alpha\":{\"value\":0.1},\"line_color\":{\"value\":\"#8c564b\"},\"size\":{\"value\":10},\"x\":{\"field\":\"Year\"},\"y\":{\"field\":\"Data\"}},\"id\":\"8190\",\"type\":\"Circle\"},{\"attributes\":{},\"id\":\"8413\",\"type\":\"BasicTicker\"},{\"attributes\":{\"data\":{\"Data\":{\"__ndarray__\":\"GIZhGIZhiD/0BX1BX9CXP+5phOWeRrg/l2/5lm/5tj+MMcYYY4yxP87KT4iz8rM/VuqlHcwaoT/C61YhvG6lP1hHm/cpLqk/\",\"dtype\":\"float64\",\"order\":\"little\",\"shape\":[9]},\"Year\":[2007,2008,2009,2010,2011,2012,2013,2014,2015]},\"selected\":{\"id\":\"8325\"},\"selection_policy\":{\"id\":\"8324\"}},\"id\":\"8305\",\"type\":\"ColumnDataSource\"},{\"attributes\":{\"source\":{\"id\":\"8161\"}},\"id\":\"8192\",\"type\":\"CDSView\"},{\"attributes\":{\"data_source\":{\"id\":\"8161\"},\"glyph\":{\"id\":\"8189\"},\"hover_glyph\":null,\"muted_glyph\":null,\"nonselection_glyph\":{\"id\":\"8190\"},\"view\":{\"id\":\"8192\"}},\"id\":\"8191\",\"type\":\"GlyphRenderer\"},{\"attributes\":{\"callback\":null,\"renderers\":[{\"id\":\"8191\"}],\"tooltips\":[[\"(x,y)\",\"(@Year,@Data)\"]]},\"id\":\"8193\",\"type\":\"HoverTool\"},{\"attributes\":{},\"id\":\"8410\",\"type\":\"LinearScale\"},{\"attributes\":{\"data_source\":{\"id\":\"8277\"},\"glyph\":{\"id\":\"8279\"},\"hover_glyph\":null,\"muted_glyph\":null,\"nonselection_glyph\":{\"id\":\"8280\"},\"view\":{\"id\":\"8282\"}},\"id\":\"8281\",\"type\":\"GlyphRenderer\"},{\"attributes\":{\"bottom_units\":\"screen\",\"fill_alpha\":0.5,\"fill_color\":\"lightgrey\",\"left_units\":\"screen\",\"level\":\"overlay\",\"line_alpha\":1.0,\"line_color\":\"black\",\"line_dash\":[4,4],\"line_width\":2,\"right_units\":\"screen\",\"syncable\":false,\"top_units\":\"screen\"},\"id\":\"8219\",\"type\":\"BoxAnnotation\"},{\"attributes\":{\"source\":{\"id\":\"8251\"}},\"id\":\"8256\",\"type\":\"CDSView\"},{\"attributes\":{\"axis\":{\"id\":\"8412\"},\"ticker\":null},\"id\":\"8415\",\"type\":\"Grid\"},{\"attributes\":{\"data_source\":{\"id\":\"8129\"},\"glyph\":{\"id\":\"8155\"},\"hover_glyph\":null,\"muted_glyph\":null,\"nonselection_glyph\":{\"id\":\"8156\"},\"view\":{\"id\":\"8158\"}},\"id\":\"8157\",\"type\":\"GlyphRenderer\"},{\"attributes\":{\"line_alpha\":0.1,\"line_color\":\"#bcbd22\",\"line_width\":2,\"x\":{\"field\":\"Year\"},\"y\":{\"field\":\"Data\"}},\"id\":\"8254\",\"type\":\"Line\"},{\"attributes\":{\"callback\":null,\"renderers\":[{\"id\":\"8157\"}],\"tooltips\":[[\"(x,y)\",\"(@Year,@Data)\"]]},\"id\":\"8159\",\"type\":\"HoverTool\"},{\"attributes\":{\"data_source\":{\"id\":\"8161\"},\"glyph\":{\"id\":\"8163\"},\"hover_glyph\":null,\"muted_glyph\":null,\"nonselection_glyph\":{\"id\":\"8164\"},\"view\":{\"id\":\"8166\"}},\"id\":\"8165\",\"type\":\"GlyphRenderer\"},{\"attributes\":{\"line_alpha\":0.1,\"line_color\":\"#17becf\",\"line_width\":2,\"x\":{\"field\":\"Year\"},\"y\":{\"field\":\"Data\"}},\"id\":\"8280\",\"type\":\"Line\"},{\"attributes\":{\"data\":{\"Data\":{\"__ndarray__\":\"9DzP8zzP0z9X1BV1RV3hP/c0wnJPI9w/O7ETO7ET2z8hhBBCCCHkPz8hzspPiOM/eqoVWuIz5T8L4XWrEF7nP4pLhmAdbd4/\",\"dtype\":\"float64\",\"order\":\"little\",\"shape\":[9]},\"Year\":[2007,2008,2009,2010,2011,2012,2013,2014,2015]},\"selected\":{\"id\":\"8240\"},\"selection_policy\":{\"id\":\"8239\"}},\"id\":\"8226\",\"type\":\"ColumnDataSource\"},{\"attributes\":{},\"id\":\"8217\",\"type\":\"ResetTool\"},{\"attributes\":{\"fill_alpha\":{\"value\":0.1},\"fill_color\":{\"value\":\"#1f77b4\"},\"line_alpha\":{\"value\":0.1},\"line_color\":{\"value\":\"#1f77b4\"},\"size\":{\"value\":10},\"x\":{\"field\":\"Year\"},\"y\":{\"field\":\"Data\"}},\"id\":\"8156\",\"type\":\"Circle\"},{\"attributes\":{\"source\":{\"id\":\"8129\"}},\"id\":\"8158\",\"type\":\"CDSView\"},{\"attributes\":{\"source\":{\"id\":\"8226\"}},\"id\":\"8248\",\"type\":\"CDSView\"},{\"attributes\":{\"line_alpha\":0.1,\"line_color\":\"#2ca02c\",\"line_width\":2,\"x\":{\"field\":\"Year\"},\"y\":{\"field\":\"Data\"}},\"id\":\"8229\",\"type\":\"Line\"},{\"attributes\":{\"source\":{\"id\":\"8226\"}},\"id\":\"8231\",\"type\":\"CDSView\"},{\"attributes\":{\"line_color\":\"#2ca02c\",\"line_width\":2,\"x\":{\"field\":\"Year\"},\"y\":{\"field\":\"Data\"}},\"id\":\"8228\",\"type\":\"Line\"},{\"attributes\":{\"callback\":null,\"renderers\":[{\"id\":\"8247\"}],\"tooltips\":[[\"(x,y)\",\"(@Year,@Data)\"]]},\"id\":\"8249\",\"type\":\"HoverTool\"},{\"attributes\":{},\"id\":\"8234\",\"type\":\"AllLabels\"},{\"attributes\":{\"fill_alpha\":{\"value\":0.1},\"fill_color\":{\"value\":\"#bcbd22\"},\"line_alpha\":{\"value\":0.1},\"line_color\":{\"value\":\"#bcbd22\"},\"size\":{\"value\":10},\"x\":{\"field\":\"Year\"},\"y\":{\"field\":\"Data\"}},\"id\":\"8272\",\"type\":\"Circle\"},{\"attributes\":{},\"id\":\"7854\",\"type\":\"UnionRenderers\"},{\"attributes\":{\"source\":{\"id\":\"8251\"}},\"id\":\"8274\",\"type\":\"CDSView\"},{\"attributes\":{\"data_source\":{\"id\":\"8251\"},\"glyph\":{\"id\":\"8271\"},\"hover_glyph\":null,\"muted_glyph\":null,\"nonselection_glyph\":{\"id\":\"8272\"},\"view\":{\"id\":\"8274\"}},\"id\":\"8273\",\"type\":\"GlyphRenderer\"},{\"attributes\":{\"data\":{\"Data\":{\"__ndarray__\":\"GIZhGIZh2D9zxpwxZ8zJP+5phOWeRrg/8y3f8i3fwj++99577723P75jamDvmJo/kgC/8VhkwD+KVO+hSPW+PzvavE9xybA/\",\"dtype\":\"float64\",\"order\":\"little\",\"shape\":[9]},\"Year\":[2007,2008,2009,2010,2011,2012,2013,2014,2015]},\"selected\":{\"id\":\"8267\"},\"selection_policy\":{\"id\":\"8266\"}},\"id\":\"8251\",\"type\":\"ColumnDataSource\"},{\"attributes\":{\"callback\":null,\"renderers\":[{\"id\":\"8273\"}],\"tooltips\":[[\"(x,y)\",\"(@Year,@Data)\"]]},\"id\":\"8275\",\"type\":\"HoverTool\"},{\"attributes\":{\"source\":{\"id\":\"8305\"}},\"id\":\"8310\",\"type\":\"CDSView\"},{\"attributes\":{},\"id\":\"7855\",\"type\":\"Selection\"},{\"attributes\":{\"source\":{\"id\":\"8277\"}},\"id\":\"8282\",\"type\":\"CDSView\"},{\"attributes\":{\"active_drag\":{\"id\":\"8214\"},\"active_multi\":null,\"active_scroll\":{\"id\":\"8215\"},\"tools\":[{\"id\":\"8214\"},{\"id\":\"8215\"},{\"id\":\"8216\"},{\"id\":\"8217\"},{\"id\":\"8218\"},{\"id\":\"8249\"},{\"id\":\"8275\"},{\"id\":\"8303\"},{\"id\":\"8333\"},{\"id\":\"8365\"},{\"id\":\"8399\"}]},\"id\":\"8220\",\"type\":\"Toolbar\"},{\"attributes\":{\"line_color\":\"#7fc97f\",\"line_width\":2,\"x\":{\"field\":\"Year\"},\"y\":{\"field\":\"Data\"}},\"id\":\"8307\",\"type\":\"Line\"},{\"attributes\":{\"label\":{\"value\":\"ANRNIS\"},\"renderers\":[{\"id\":\"8309\"}]},\"id\":\"8327\",\"type\":\"LegendItem\"},{\"attributes\":{\"background_fill_alpha\":0.7,\"items\":[{\"id\":\"8243\"},{\"id\":\"8269\"},{\"id\":\"8297\"},{\"id\":\"8327\"},{\"id\":\"8359\"},{\"id\":\"8393\"}]},\"id\":\"8242\",\"type\":\"Legend\"},{\"attributes\":{\"fill_alpha\":{\"value\":0.5},\"fill_color\":{\"value\":\"#7fc97f\"},\"line_alpha\":{\"value\":0.5},\"line_color\":{\"value\":\"#7fc97f\"},\"size\":{\"value\":10},\"x\":{\"field\":\"Year\"},\"y\":{\"field\":\"Data\"}},\"id\":\"8329\",\"type\":\"Circle\"},{\"attributes\":{\"line_color\":\"#17becf\",\"line_width\":2,\"x\":{\"field\":\"Year\"},\"y\":{\"field\":\"Data\"}},\"id\":\"8279\",\"type\":\"Line\"},{\"attributes\":{\"data_source\":{\"id\":\"8226\"},\"glyph\":{\"id\":\"8228\"},\"hover_glyph\":null,\"muted_glyph\":null,\"nonselection_glyph\":{\"id\":\"8229\"},\"view\":{\"id\":\"8231\"}},\"id\":\"8230\",\"type\":\"GlyphRenderer\"},{\"attributes\":{\"line_color\":\"#beaed4\",\"line_width\":2,\"x\":{\"field\":\"Year\"},\"y\":{\"field\":\"Data\"}},\"id\":\"8337\",\"type\":\"Line\"},{\"attributes\":{\"label\":{\"value\":\"ANCSIS\"},\"renderers\":[{\"id\":\"8255\"}]},\"id\":\"8269\",\"type\":\"LegendItem\"},{\"attributes\":{\"label\":{\"value\":\"A[I/N][R/C][N/S]IS\"},\"renderers\":[{\"id\":\"8281\"}]},\"id\":\"8297\",\"type\":\"LegendItem\"},{\"attributes\":{\"fill_alpha\":{\"value\":0.5},\"fill_color\":{\"value\":\"#bcbd22\"},\"line_alpha\":{\"value\":0.5},\"line_color\":{\"value\":\"#bcbd22\"},\"size\":{\"value\":10},\"x\":{\"field\":\"Year\"},\"y\":{\"field\":\"Data\"}},\"id\":\"8271\",\"type\":\"Circle\"},{\"attributes\":{\"fill_alpha\":{\"value\":0.5},\"fill_color\":{\"value\":\"#2ca02c\"},\"line_alpha\":{\"value\":0.5},\"line_color\":{\"value\":\"#2ca02c\"},\"size\":{\"value\":10},\"x\":{\"field\":\"Year\"},\"y\":{\"field\":\"Data\"}},\"id\":\"7887\",\"type\":\"Circle\"},{\"attributes\":{\"label\":{\"value\":\"AIRNIS\"},\"renderers\":[{\"id\":\"8230\"}]},\"id\":\"8243\",\"type\":\"LegendItem\"},{\"attributes\":{\"fill_alpha\":{\"value\":0.1},\"fill_color\":{\"value\":\"#ff7f0e\"},\"line_alpha\":{\"value\":0.1},\"line_color\":{\"value\":\"#ff7f0e\"},\"size\":{\"value\":10},\"x\":{\"field\":\"Year\"},\"y\":{\"field\":\"Data\"}},\"id\":\"7860\",\"type\":\"Circle\"},{\"attributes\":{\"source\":{\"id\":\"7839\"}},\"id\":\"7862\",\"type\":\"CDSView\"},{\"attributes\":{},\"id\":\"8294\",\"type\":\"UnionRenderers\"},{\"attributes\":{},\"id\":\"8235\",\"type\":\"BasicTickFormatter\"},{\"attributes\":{\"data_source\":{\"id\":\"7839\"},\"glyph\":{\"id\":\"7859\"},\"hover_glyph\":null,\"muted_glyph\":null,\"nonselection_glyph\":{\"id\":\"7860\"},\"view\":{\"id\":\"7862\"}},\"id\":\"7861\",\"type\":\"GlyphRenderer\"},{\"attributes\":{\"callback\":null,\"renderers\":[{\"id\":\"7861\"}],\"tooltips\":[[\"(x,y)\",\"(@Year,@Data)\"]]},\"id\":\"7863\",\"type\":\"HoverTool\"},{\"attributes\":{},\"id\":\"8295\",\"type\":\"Selection\"},{\"attributes\":{\"source\":{\"id\":\"7865\"}},\"id\":\"7870\",\"type\":\"CDSView\"},{\"attributes\":{},\"id\":\"8237\",\"type\":\"AllLabels\"},{\"attributes\":{},\"id\":\"8238\",\"type\":\"BasicTickFormatter\"},{\"attributes\":{},\"id\":\"7882\",\"type\":\"UnionRenderers\"},{\"attributes\":{\"line_color\":\"#d62728\",\"line_width\":2,\"x\":{\"field\":\"Year\"},\"y\":{\"field\":\"Data\"}},\"id\":\"7895\",\"type\":\"Line\"},{\"attributes\":{\"data_source\":{\"id\":\"7893\"},\"glyph\":{\"id\":\"7895\"},\"hover_glyph\":null,\"muted_glyph\":null,\"nonselection_glyph\":{\"id\":\"7896\"},\"view\":{\"id\":\"7898\"}},\"id\":\"7897\",\"type\":\"GlyphRenderer\"},{\"attributes\":{\"line_alpha\":0.1,\"line_color\":\"#d62728\",\"line_width\":2,\"x\":{\"field\":\"Year\"},\"y\":{\"field\":\"Data\"}},\"id\":\"7896\",\"type\":\"Line\"},{\"attributes\":{\"data\":{\"Data\":{\"__ndarray__\":\"AAAAAAAAAAAAAAAAAAAAAAAAAAAAAAAAAAAAAAAAAAAAAAAAAAAAAAAAAAAAAAAAAAAAAAAAAAAAAAAAAAAAAAAAAAAAAAAAAAAAAAAAAAAAAAAAAAAAAEdY7mmE5d4/lN1vlN1vxD8cx3Ecx3HMPw==\",\"dtype\":\"float64\",\"order\":\"little\",\"shape\":[14]},\"Year\":[2001,2002,2003,2004,2005,2007,2008,2011,2012,2013,2014,2015,2016,2017]},\"selected\":{\"id\":\"7945\"},\"selection_policy\":{\"id\":\"7944\"}},\"id\":\"7923\",\"type\":\"ColumnDataSource\"},{\"attributes\":{\"label\":{\"value\":\"AIRNIS\"},\"renderers\":[{\"id\":\"7869\"}]},\"id\":\"7885\",\"type\":\"LegendItem\"},{\"attributes\":{\"fill_alpha\":{\"value\":0.5},\"fill_color\":{\"value\":\"#17becf\"},\"line_alpha\":{\"value\":0.5},\"line_color\":{\"value\":\"#17becf\"},\"size\":{\"value\":10},\"x\":{\"field\":\"Year\"},\"y\":{\"field\":\"Data\"}},\"id\":\"8299\",\"type\":\"Circle\"},{\"attributes\":{\"callback\":null,\"renderers\":[{\"id\":\"8301\"}],\"tooltips\":[[\"(x,y)\",\"(@Year,@Data)\"]]},\"id\":\"8303\",\"type\":\"HoverTool\"},{\"attributes\":{},\"id\":\"7883\",\"type\":\"Selection\"},{\"attributes\":{\"line_alpha\":0.1,\"line_color\":\"#7fc97f\",\"line_width\":2,\"x\":{\"field\":\"Year\"},\"y\":{\"field\":\"Data\"}},\"id\":\"8308\",\"type\":\"Line\"},{\"attributes\":{\"fill_alpha\":{\"value\":0.1},\"fill_color\":{\"value\":\"#17becf\"},\"line_alpha\":{\"value\":0.1},\"line_color\":{\"value\":\"#17becf\"},\"size\":{\"value\":10},\"x\":{\"field\":\"Year\"},\"y\":{\"field\":\"Data\"}},\"id\":\"8300\",\"type\":\"Circle\"},{\"attributes\":{\"source\":{\"id\":\"8277\"}},\"id\":\"8302\",\"type\":\"CDSView\"},{\"attributes\":{\"data_source\":{\"id\":\"8277\"},\"glyph\":{\"id\":\"8299\"},\"hover_glyph\":null,\"muted_glyph\":null,\"nonselection_glyph\":{\"id\":\"8300\"},\"view\":{\"id\":\"8302\"}},\"id\":\"8301\",\"type\":\"GlyphRenderer\"},{\"attributes\":{\"data_source\":{\"id\":\"8305\"},\"glyph\":{\"id\":\"8307\"},\"hover_glyph\":null,\"muted_glyph\":null,\"nonselection_glyph\":{\"id\":\"8308\"},\"view\":{\"id\":\"8310\"}},\"id\":\"8309\",\"type\":\"GlyphRenderer\"},{\"attributes\":{\"data\":{\"Data\":{\"__ndarray__\":\"9DzP8zzPwz/0BX1BX9CXP2G5pxGWe6o/FDuxEzuxoz+VUkoppZSiP75jamDvmKo/W2AXl7c+oj+Q0TABGQ2DPzvavE9xybA/\",\"dtype\":\"float64\",\"order\":\"little\",\"shape\":[9]},\"Year\":[2007,2008,2009,2010,2011,2012,2013,2014,2015]},\"selected\":{\"id\":\"8357\"},\"selection_policy\":{\"id\":\"8356\"}},\"id\":\"8335\",\"type\":\"ColumnDataSource\"},{\"attributes\":{},\"id\":\"8391\",\"type\":\"Selection\"},{\"attributes\":{},\"id\":\"8325\",\"type\":\"Selection\"},{\"attributes\":{\"source\":{\"id\":\"7893\"}},\"id\":\"7898\",\"type\":\"CDSView\"},{\"attributes\":{\"line_color\":\"#bcbd22\",\"line_width\":2,\"x\":{\"field\":\"Year\"},\"y\":{\"field\":\"Data\"}},\"id\":\"8253\",\"type\":\"Line\"},{\"attributes\":{\"label\":{\"value\":\"ANRNLS\"},\"renderers\":[{\"id\":\"7897\"}]},\"id\":\"7915\",\"type\":\"LegendItem\"},{\"attributes\":{\"callback\":null,\"renderers\":[{\"id\":\"7889\"}],\"tooltips\":[[\"(x,y)\",\"(@Year,@Data)\"]]},\"id\":\"7891\",\"type\":\"HoverTool\"},{\"attributes\":{\"data_source\":{\"id\":\"7923\"},\"glyph\":{\"id\":\"7949\"},\"hover_glyph\":null,\"muted_glyph\":null,\"nonselection_glyph\":{\"id\":\"7950\"},\"view\":{\"id\":\"7952\"}},\"id\":\"7951\",\"type\":\"GlyphRenderer\"},{\"attributes\":{},\"id\":\"8001\",\"type\":\"BasicTicker\"},{\"attributes\":{\"data\":{\"Data\":{\"__ndarray__\":\"UAd1UAd14D8fhetRuB7lP3ZiJ3ZiJ+Y/PRm/XerJ6D+rqqqqqqruPya0l9BeQus/8M88WlQi6T8wj60IGk7qP5F4FYlXkeg/TGcxncV05j8AAAAAAADaPwAAAAAAAAAAAAAAAAAAAAAAAAAAAAAAAA==\",\"dtype\":\"float64\",\"order\":\"little\",\"shape\":[14]},\"Year\":[2001,2002,2003,2004,2005,2007,2008,2011,2012,2013,2014,2015,2016,2017]},\"selected\":{\"id\":\"7828\"},\"selection_policy\":{\"id\":\"7827\"}},\"id\":\"7814\",\"type\":\"ColumnDataSource\"},{\"attributes\":{\"fill_alpha\":{\"value\":0.1},\"fill_color\":{\"value\":\"#9467bd\"},\"line_alpha\":{\"value\":0.1},\"line_color\":{\"value\":\"#9467bd\"},\"size\":{\"value\":10},\"x\":{\"field\":\"Year\"},\"y\":{\"field\":\"Data\"}},\"id\":\"7950\",\"type\":\"Circle\"},{\"attributes\":{\"fill_alpha\":{\"value\":0.1},\"fill_color\":{\"value\":\"#2ca02c\"},\"line_alpha\":{\"value\":0.1},\"line_color\":{\"value\":\"#2ca02c\"},\"size\":{\"value\":10},\"x\":{\"field\":\"Year\"},\"y\":{\"field\":\"Data\"}},\"id\":\"7888\",\"type\":\"Circle\"},{\"attributes\":{\"source\":{\"id\":\"7865\"}},\"id\":\"7890\",\"type\":\"CDSView\"},{\"attributes\":{\"below\":[{\"id\":\"7794\"}],\"center\":[{\"id\":\"7797\"},{\"id\":\"7801\"},{\"id\":\"7830\"}],\"height\":400,\"left\":[{\"id\":\"7798\"}],\"renderers\":[{\"id\":\"7818\"},{\"id\":\"7835\"},{\"id\":\"7843\"},{\"id\":\"7861\"},{\"id\":\"7869\"},{\"id\":\"7889\"},{\"id\":\"7897\"},{\"id\":\"7919\"},{\"id\":\"7927\"},{\"id\":\"7951\"},{\"id\":\"7959\"},{\"id\":\"7985\"}],\"title\":{\"id\":\"7784\"},\"toolbar\":{\"id\":\"7808\"},\"toolbar_location\":null,\"width\":400,\"x_range\":{\"id\":\"7786\"},\"x_scale\":{\"id\":\"7790\"},\"y_range\":{\"id\":\"7788\"},\"y_scale\":{\"id\":\"7792\"}},\"id\":\"7783\",\"subtype\":\"Figure\",\"type\":\"Plot\"},{\"attributes\":{\"data_source\":{\"id\":\"7865\"},\"glyph\":{\"id\":\"7887\"},\"hover_glyph\":null,\"muted_glyph\":null,\"nonselection_glyph\":{\"id\":\"7888\"},\"view\":{\"id\":\"7890\"}},\"id\":\"7889\",\"type\":\"GlyphRenderer\"},{\"attributes\":{\"source\":{\"id\":\"8367\"}},\"id\":\"8372\",\"type\":\"CDSView\"},{\"attributes\":{},\"id\":\"8324\",\"type\":\"UnionRenderers\"},{\"attributes\":{\"data\":{\"Data\":{\"__ndarray__\":\"VVVVVVVVtT/2hD1hT9izP0dY7mmE5a4/GqRBGqRBqj/XWmuttdaqP87KT4iz8rM/l7c+EuA3rj93xB1xR9yhP8kQrKPN+7Q/\",\"dtype\":\"float64\",\"order\":\"little\",\"shape\":[9]},\"Year\":[2007,2008,2009,2010,2011,2012,2013,2014,2015]},\"selected\":{\"id\":\"8295\"},\"selection_policy\":{\"id\":\"8294\"}},\"id\":\"8277\",\"type\":\"ColumnDataSource\"},{\"attributes\":{\"fill_alpha\":{\"value\":0.5},\"fill_color\":{\"value\":\"#8c564b\"},\"line_alpha\":{\"value\":0.5},\"line_color\":{\"value\":\"#8c564b\"},\"size\":{\"value\":10},\"x\":{\"field\":\"Year\"},\"y\":{\"field\":\"Data\"}},\"id\":\"8395\",\"type\":\"Circle\"},{\"attributes\":{\"line_alpha\":0.1,\"line_color\":\"#9467bd\",\"line_width\":2,\"x\":{\"field\":\"Year\"},\"y\":{\"field\":\"Data\"}},\"id\":\"7926\",\"type\":\"Line\"},{\"attributes\":{\"axis\":{\"id\":\"8000\"},\"ticker\":null},\"id\":\"8003\",\"type\":\"Grid\"},{\"attributes\":{\"fill_alpha\":{\"value\":0.5},\"fill_color\":{\"value\":\"#9467bd\"},\"line_alpha\":{\"value\":0.5},\"line_color\":{\"value\":\"#9467bd\"},\"size\":{\"value\":10},\"x\":{\"field\":\"Year\"},\"y\":{\"field\":\"Data\"}},\"id\":\"7949\",\"type\":\"Circle\"},{\"attributes\":{\"fill_alpha\":{\"value\":0.1},\"fill_color\":{\"value\":\"#beaed4\"},\"line_alpha\":{\"value\":0.1},\"line_color\":{\"value\":\"#beaed4\"},\"size\":{\"value\":10},\"x\":{\"field\":\"Year\"},\"y\":{\"field\":\"Data\"}},\"id\":\"8362\",\"type\":\"Circle\"},{\"attributes\":{\"source\":{\"id\":\"8335\"}},\"id\":\"8364\",\"type\":\"CDSView\"},{\"attributes\":{\"data_source\":{\"id\":\"8335\"},\"glyph\":{\"id\":\"8361\"},\"hover_glyph\":null,\"muted_glyph\":null,\"nonselection_glyph\":{\"id\":\"8362\"},\"view\":{\"id\":\"8364\"}},\"id\":\"8363\",\"type\":\"GlyphRenderer\"},{\"attributes\":{\"callback\":null,\"renderers\":[{\"id\":\"8363\"}],\"tooltips\":[[\"(x,y)\",\"(@Year,@Data)\"]]},\"id\":\"8365\",\"type\":\"HoverTool\"},{\"attributes\":{\"line_color\":\"#9467bd\",\"line_width\":2,\"x\":{\"field\":\"Year\"},\"y\":{\"field\":\"Data\"}},\"id\":\"7925\",\"type\":\"Line\"},{\"attributes\":{\"label\":{\"value\":\"NRNL\"},\"renderers\":[{\"id\":\"7927\"}]},\"id\":\"7947\",\"type\":\"LegendItem\"},{\"attributes\":{\"data_source\":{\"id\":\"8335\"},\"glyph\":{\"id\":\"8337\"},\"hover_glyph\":null,\"muted_glyph\":null,\"nonselection_glyph\":{\"id\":\"8338\"},\"view\":{\"id\":\"8340\"}},\"id\":\"8339\",\"type\":\"GlyphRenderer\"},{\"attributes\":{\"line_alpha\":0.1,\"line_color\":\"#beaed4\",\"line_width\":2,\"x\":{\"field\":\"Year\"},\"y\":{\"field\":\"Data\"}},\"id\":\"8338\",\"type\":\"Line\"},{\"attributes\":{\"fill_alpha\":{\"value\":0.1},\"fill_color\":{\"value\":\"#7fc97f\"},\"line_alpha\":{\"value\":0.1},\"line_color\":{\"value\":\"#7fc97f\"},\"size\":{\"value\":10},\"x\":{\"field\":\"Year\"},\"y\":{\"field\":\"Data\"}},\"id\":\"8330\",\"type\":\"Circle\"},{\"attributes\":{},\"id\":\"8417\",\"type\":\"BasicTicker\"},{\"attributes\":{\"source\":{\"id\":\"8305\"}},\"id\":\"8332\",\"type\":\"CDSView\"},{\"attributes\":{\"data_source\":{\"id\":\"8305\"},\"glyph\":{\"id\":\"8329\"},\"hover_glyph\":null,\"muted_glyph\":null,\"nonselection_glyph\":{\"id\":\"8330\"},\"view\":{\"id\":\"8332\"}},\"id\":\"8331\",\"type\":\"GlyphRenderer\"},{\"attributes\":{},\"id\":\"7912\",\"type\":\"UnionRenderers\"},{\"attributes\":{\"callback\":null,\"renderers\":[{\"id\":\"8331\"}],\"tooltips\":[[\"(x,y)\",\"(@Year,@Data)\"]]},\"id\":\"8333\",\"type\":\"HoverTool\"},{\"attributes\":{\"label\":{\"value\":\"Other\"},\"renderers\":[{\"id\":\"8371\"}]},\"id\":\"8393\",\"type\":\"LegendItem\"},{\"attributes\":{},\"id\":\"7913\",\"type\":\"Selection\"},{\"attributes\":{\"data\":{\"Data\":{\"__ndarray__\":\"IHqnAu55rj8wmpXtQ97AP3bbheY6jdA/oC+EnPf/zz9Yb9QK0/e+P7iPozmy8sM/+Il1qnzPtD/IrnsrEhOwP2DgufdwydA/\",\"dtype\":\"float64\",\"order\":\"little\",\"shape\":[9]},\"Year\":[2007,2008,2009,2010,2011,2012,2013,2014,2015]},\"selected\":{\"id\":\"8391\"},\"selection_policy\":{\"id\":\"8390\"}},\"id\":\"8367\",\"type\":\"ColumnDataSource\"},{\"attributes\":{\"fill_alpha\":{\"value\":0.5},\"fill_color\":{\"value\":\"#beaed4\"},\"line_alpha\":{\"value\":0.5},\"line_color\":{\"value\":\"#beaed4\"},\"size\":{\"value\":10},\"x\":{\"field\":\"Year\"},\"y\":{\"field\":\"Data\"}},\"id\":\"8361\",\"type\":\"Circle\"},{\"attributes\":{},\"id\":\"8390\",\"type\":\"UnionRenderers\"},{\"attributes\":{\"label\":{\"value\":\"A[N/I][C/R][S/N]IS\"},\"renderers\":[{\"id\":\"8339\"}]},\"id\":\"8359\",\"type\":\"LegendItem\"},{\"attributes\":{\"data_source\":{\"id\":\"8367\"},\"glyph\":{\"id\":\"8369\"},\"hover_glyph\":null,\"muted_glyph\":null,\"nonselection_glyph\":{\"id\":\"8370\"},\"view\":{\"id\":\"8372\"}},\"id\":\"8371\",\"type\":\"GlyphRenderer\"},{\"attributes\":{\"line_color\":\"#8c564b\",\"line_width\":2,\"x\":{\"field\":\"Year\"},\"y\":{\"field\":\"Data\"}},\"id\":\"8369\",\"type\":\"Line\"},{\"attributes\":{\"line_alpha\":0.1,\"line_color\":\"#8c564b\",\"line_width\":2,\"x\":{\"field\":\"Year\"},\"y\":{\"field\":\"Data\"}},\"id\":\"8370\",\"type\":\"Line\"},{\"attributes\":{\"source\":{\"id\":\"8335\"}},\"id\":\"8340\",\"type\":\"CDSView\"},{\"attributes\":{\"fill_alpha\":{\"value\":0.5},\"fill_color\":{\"value\":\"#d62728\"},\"line_alpha\":{\"value\":0.5},\"line_color\":{\"value\":\"#d62728\"},\"size\":{\"value\":10},\"x\":{\"field\":\"Year\"},\"y\":{\"field\":\"Data\"}},\"id\":\"7917\",\"type\":\"Circle\"},{\"attributes\":{\"source\":{\"id\":\"7923\"}},\"id\":\"7928\",\"type\":\"CDSView\"},{\"attributes\":{\"fill_alpha\":{\"value\":0.1},\"fill_color\":{\"value\":\"#8c564b\"},\"line_alpha\":{\"value\":0.1},\"line_color\":{\"value\":\"#8c564b\"},\"size\":{\"value\":10},\"x\":{\"field\":\"Year\"},\"y\":{\"field\":\"Data\"}},\"id\":\"8396\",\"type\":\"Circle\"},{\"attributes\":{\"axis_label\":\"Prevalence\",\"formatter\":{\"id\":\"8444\"},\"major_label_policy\":{\"id\":\"8443\"},\"ticker\":{\"id\":\"8417\"}},\"id\":\"8416\",\"type\":\"LinearAxis\"},{\"attributes\":{},\"id\":\"8356\",\"type\":\"UnionRenderers\"},{\"attributes\":{\"fill_alpha\":{\"value\":0.1},\"fill_color\":{\"value\":\"#d62728\"},\"line_alpha\":{\"value\":0.1},\"line_color\":{\"value\":\"#d62728\"},\"size\":{\"value\":10},\"x\":{\"field\":\"Year\"},\"y\":{\"field\":\"Data\"}},\"id\":\"7918\",\"type\":\"Circle\"},{\"attributes\":{\"source\":{\"id\":\"7893\"}},\"id\":\"7920\",\"type\":\"CDSView\"},{\"attributes\":{\"data_source\":{\"id\":\"7893\"},\"glyph\":{\"id\":\"7917\"},\"hover_glyph\":null,\"muted_glyph\":null,\"nonselection_glyph\":{\"id\":\"7918\"},\"view\":{\"id\":\"7920\"}},\"id\":\"7919\",\"type\":\"GlyphRenderer\"},{\"attributes\":{\"source\":{\"id\":\"8367\"}},\"id\":\"8398\",\"type\":\"CDSView\"},{\"attributes\":{\"callback\":null,\"renderers\":[{\"id\":\"7919\"}],\"tooltips\":[[\"(x,y)\",\"(@Year,@Data)\"]]},\"id\":\"7921\",\"type\":\"HoverTool\"},{\"attributes\":{\"data_source\":{\"id\":\"8367\"},\"glyph\":{\"id\":\"8395\"},\"hover_glyph\":null,\"muted_glyph\":null,\"nonselection_glyph\":{\"id\":\"8396\"},\"view\":{\"id\":\"8398\"}},\"id\":\"8397\",\"type\":\"GlyphRenderer\"},{\"attributes\":{},\"id\":\"8357\",\"type\":\"Selection\"},{\"attributes\":{\"callback\":null,\"renderers\":[{\"id\":\"8397\"}],\"tooltips\":[[\"(x,y)\",\"(@Year,@Data)\"]]},\"id\":\"8399\",\"type\":\"HoverTool\"},{\"attributes\":{\"data\":{\"Data\":{\"__ndarray__\":\"UM3lBkMd1D+4HoXrUbi+P1xnQ/6ZQco/KKkT0ETYvD9AV5QSglWVPyDhe3+D9rI/OD1hiQeUtT9wGqIKf4azP4CgFRiyuq0/UK7wLhfxrT8AAAAAAAC4P7h4eM+B5c4/6LZELjiDxT+amZmZmZnZPw==\",\"dtype\":\"float64\",\"order\":\"little\",\"shape\":[14]},\"Year\":[2001,2002,2003,2004,2005,2007,2008,2011,2012,2013,2014,2015,2016,2017]},\"selected\":{\"id\":\"7979\"},\"selection_policy\":{\"id\":\"7978\"}},\"id\":\"7955\",\"type\":\"ColumnDataSource\"},{\"attributes\":{\"data_source\":{\"id\":\"7923\"},\"glyph\":{\"id\":\"7925\"},\"hover_glyph\":null,\"muted_glyph\":null,\"nonselection_glyph\":{\"id\":\"7926\"},\"view\":{\"id\":\"7928\"}},\"id\":\"7927\",\"type\":\"GlyphRenderer\"},{\"attributes\":{},\"id\":\"8440\",\"type\":\"AllLabels\"},{\"attributes\":{},\"id\":\"7978\",\"type\":\"UnionRenderers\"},{\"attributes\":{},\"id\":\"7979\",\"type\":\"Selection\"},{\"attributes\":{\"data\":{\"Data\":{\"__ndarray__\":\"iMb60Fgfyj9XEJMriMmVPwgEAoFAIHA/8asxkR6orD8RERERERGRPw==\",\"dtype\":\"float64\",\"order\":\"little\",\"shape\":[5]},\"Year\":[2007,2010,2011,2013,2014]},\"selected\":{\"id\":\"8473\"},\"selection_policy\":{\"id\":\"8472\"}},\"id\":\"8457\",\"type\":\"ColumnDataSource\"},{\"attributes\":{\"end\":2019,\"start\":2001},\"id\":\"8198\",\"type\":\"Range1d\"},{\"attributes\":{\"background_fill_alpha\":0.7,\"items\":[{\"id\":\"8037\"},{\"id\":\"8063\"},{\"id\":\"8091\"},{\"id\":\"8121\"},{\"id\":\"8153\"},{\"id\":\"8187\"}]},\"id\":\"8036\",\"type\":\"Legend\"},{\"attributes\":{\"bottom_units\":\"screen\",\"fill_alpha\":0.5,\"fill_color\":\"lightgrey\",\"left_units\":\"screen\",\"level\":\"overlay\",\"line_alpha\":1.0,\"line_color\":\"black\",\"line_dash\":[4,4],\"line_width\":2,\"right_units\":\"screen\",\"syncable\":false,\"top_units\":\"screen\"},\"id\":\"8425\",\"type\":\"BoxAnnotation\"},{\"attributes\":{\"fill_alpha\":{\"value\":0.1},\"fill_color\":{\"value\":\"#8c564b\"},\"line_alpha\":{\"value\":0.1},\"line_color\":{\"value\":\"#8c564b\"},\"size\":{\"value\":10},\"x\":{\"field\":\"Year\"},\"y\":{\"field\":\"Data\"}},\"id\":\"7984\",\"type\":\"Circle\"},{\"attributes\":{},\"id\":\"8420\",\"type\":\"PanTool\"},{\"attributes\":{\"line_color\":\"#2ca02c\",\"line_width\":2,\"x\":{\"field\":\"Year\"},\"y\":{\"field\":\"Data\"}},\"id\":\"8434\",\"type\":\"Line\"},{\"attributes\":{\"source\":{\"id\":\"7955\"}},\"id\":\"7986\",\"type\":\"CDSView\"},{\"attributes\":{},\"id\":\"8445\",\"type\":\"UnionRenderers\"},{\"attributes\":{\"data_source\":{\"id\":\"7955\"},\"glyph\":{\"id\":\"7983\"},\"hover_glyph\":null,\"muted_glyph\":null,\"nonselection_glyph\":{\"id\":\"7984\"},\"view\":{\"id\":\"7986\"}},\"id\":\"7985\",\"type\":\"GlyphRenderer\"},{\"attributes\":{\"active_drag\":{\"id\":\"8420\"},\"active_multi\":null,\"active_scroll\":{\"id\":\"8421\"},\"tools\":[{\"id\":\"8420\"},{\"id\":\"8421\"},{\"id\":\"8422\"},{\"id\":\"8423\"},{\"id\":\"8424\"},{\"id\":\"8455\"},{\"id\":\"8481\"},{\"id\":\"8509\"},{\"id\":\"8539\"},{\"id\":\"8571\"},{\"id\":\"8605\"}]},\"id\":\"8426\",\"type\":\"Toolbar\"},{\"attributes\":{\"callback\":null,\"renderers\":[{\"id\":\"7985\"}],\"tooltips\":[[\"(x,y)\",\"(@Year,@Data)\"]]},\"id\":\"7987\",\"type\":\"HoverTool\"},{\"attributes\":{},\"id\":\"8446\",\"type\":\"Selection\"},{\"attributes\":{},\"id\":\"8423\",\"type\":\"ResetTool\"},{\"attributes\":{\"line_alpha\":0.1,\"line_color\":\"#2ca02c\",\"line_width\":2,\"x\":{\"field\":\"Year\"},\"y\":{\"field\":\"Data\"}},\"id\":\"8435\",\"type\":\"Line\"},{\"attributes\":{},\"id\":\"8202\",\"type\":\"LinearScale\"},{\"attributes\":{\"source\":{\"id\":\"8432\"}},\"id\":\"8437\",\"type\":\"CDSView\"},{\"attributes\":{\"active_drag\":{\"id\":\"8008\"},\"active_multi\":null,\"active_scroll\":{\"id\":\"8009\"},\"tools\":[{\"id\":\"8008\"},{\"id\":\"8009\"},{\"id\":\"8010\"},{\"id\":\"8011\"},{\"id\":\"8012\"},{\"id\":\"8043\"},{\"id\":\"8069\"},{\"id\":\"8097\"},{\"id\":\"8127\"},{\"id\":\"8159\"},{\"id\":\"8193\"}]},\"id\":\"8014\",\"type\":\"Toolbar\"},{\"attributes\":{},\"id\":\"8215\",\"type\":\"WheelZoomTool\"},{\"attributes\":{\"data_source\":{\"id\":\"8226\"},\"glyph\":{\"id\":\"8245\"},\"hover_glyph\":null,\"muted_glyph\":null,\"nonselection_glyph\":{\"id\":\"8246\"},\"view\":{\"id\":\"8248\"}},\"id\":\"8247\",\"type\":\"GlyphRenderer\"},{\"attributes\":{\"overlay\":{\"id\":\"8425\"}},\"id\":\"8422\",\"type\":\"BoxZoomTool\"},{\"attributes\":{},\"id\":\"8421\",\"type\":\"WheelZoomTool\"},{\"attributes\":{\"callback\":null},\"id\":\"8424\",\"type\":\"TapTool\"},{\"attributes\":{\"background_fill_alpha\":0.7,\"items\":[{\"id\":\"8449\"},{\"id\":\"8475\"},{\"id\":\"8503\"},{\"id\":\"8533\"},{\"id\":\"8565\"},{\"id\":\"8599\"}]},\"id\":\"8448\",\"type\":\"Legend\"},{\"attributes\":{\"data\":{\"Data\":{\"__ndarray__\":\"5hS8nIKX4z9dQUyuICbnP6fT6XQ6ne4/VM5u4Vdj6j9VVVVVVVXtPw==\",\"dtype\":\"float64\",\"order\":\"little\",\"shape\":[5]},\"Year\":[2007,2010,2011,2013,2014]},\"selected\":{\"id\":\"8446\"},\"selection_policy\":{\"id\":\"8445\"}},\"id\":\"8432\",\"type\":\"ColumnDataSource\"},{\"attributes\":{\"data\":{\"Data\":{\"__ndarray__\":\"iMb60Fgfuj9XEJMriMmlPwgEAoFAIIA/Kme38KsxoT8AAAAAAAAAAA==\",\"dtype\":\"float64\",\"order\":\"little\",\"shape\":[5]},\"Year\":[2007,2010,2011,2013,2014]},\"selected\":{\"id\":\"8501\"},\"selection_policy\":{\"id\":\"8500\"}},\"id\":\"8483\",\"type\":\"ColumnDataSource\"},{\"attributes\":{\"text\":\"PfDHFR Predominant Variants in WAF\"},\"id\":\"8196\",\"type\":\"Title\"},{\"attributes\":{\"data_source\":{\"id\":\"8432\"},\"glyph\":{\"id\":\"8434\"},\"hover_glyph\":null,\"muted_glyph\":null,\"nonselection_glyph\":{\"id\":\"8435\"},\"view\":{\"id\":\"8437\"}},\"id\":\"8436\",\"type\":\"GlyphRenderer\"},{\"attributes\":{\"axis\":{\"id\":\"8416\"},\"dimension\":1,\"ticker\":null},\"id\":\"8419\",\"type\":\"Grid\"},{\"attributes\":{\"data_source\":{\"id\":\"8457\"},\"glyph\":{\"id\":\"8459\"},\"hover_glyph\":null,\"muted_glyph\":null,\"nonselection_glyph\":{\"id\":\"8460\"},\"view\":{\"id\":\"8462\"}},\"id\":\"8461\",\"type\":\"GlyphRenderer\"},{\"attributes\":{\"overlay\":{\"id\":\"8013\"}},\"id\":\"8010\",\"type\":\"BoxZoomTool\"},{\"attributes\":{},\"id\":\"8214\",\"type\":\"PanTool\"},{\"attributes\":{\"line_color\":\"#fdc086\",\"line_width\":2,\"x\":{\"field\":\"Year\"},\"y\":{\"field\":\"Data\"}},\"id\":\"8459\",\"type\":\"Line\"},{\"attributes\":{\"axis_label\":\"Prevalence\",\"formatter\":{\"id\":\"7826\"},\"major_label_policy\":{\"id\":\"7825\"},\"ticker\":{\"id\":\"7799\"}},\"id\":\"7798\",\"type\":\"LinearAxis\"},{\"attributes\":{},\"id\":\"8011\",\"type\":\"ResetTool\"},{\"attributes\":{\"label\":{\"value\":\"IRNL\"},\"renderers\":[{\"id\":\"8024\"}]},\"id\":\"8037\",\"type\":\"LegendItem\"},{\"attributes\":{\"callback\":null},\"id\":\"8012\",\"type\":\"TapTool\"},{\"attributes\":{},\"id\":\"7788\",\"type\":\"Range1d\"},{\"attributes\":{\"label\":{\"value\":\"AIRNIS\"},\"renderers\":[{\"id\":\"8436\"}]},\"id\":\"8449\",\"type\":\"LegendItem\"},{\"attributes\":{\"below\":[{\"id\":\"8412\"}],\"center\":[{\"id\":\"8415\"},{\"id\":\"8419\"},{\"id\":\"8448\"}],\"height\":400,\"left\":[{\"id\":\"8416\"}],\"renderers\":[{\"id\":\"8436\"},{\"id\":\"8453\"},{\"id\":\"8461\"},{\"id\":\"8479\"},{\"id\":\"8487\"},{\"id\":\"8507\"},{\"id\":\"8515\"},{\"id\":\"8537\"},{\"id\":\"8545\"},{\"id\":\"8569\"},{\"id\":\"8577\"},{\"id\":\"8603\"}],\"title\":{\"id\":\"8402\"},\"toolbar\":{\"id\":\"8426\"},\"toolbar_location\":null,\"width\":400,\"x_range\":{\"id\":\"8404\"},\"x_scale\":{\"id\":\"8408\"},\"y_range\":{\"id\":\"8406\"},\"y_scale\":{\"id\":\"8410\"}},\"id\":\"8401\",\"subtype\":\"Figure\",\"type\":\"Plot\"},{\"attributes\":{\"line_alpha\":0.1,\"line_color\":\"#fdc086\",\"line_width\":2,\"x\":{\"field\":\"Year\"},\"y\":{\"field\":\"Data\"}},\"id\":\"8460\",\"type\":\"Line\"},{\"attributes\":{\"axis\":{\"id\":\"7794\"},\"ticker\":null},\"id\":\"7797\",\"type\":\"Grid\"},{\"attributes\":{},\"id\":\"8200\",\"type\":\"Range1d\"},{\"attributes\":{},\"id\":\"7795\",\"type\":\"BasicTicker\"},{\"attributes\":{},\"id\":\"8009\",\"type\":\"WheelZoomTool\"},{\"attributes\":{},\"id\":\"7792\",\"type\":\"LinearScale\"},{\"attributes\":{\"axis_label\":\"Prevalence\",\"formatter\":{\"id\":\"8032\"},\"major_label_policy\":{\"id\":\"8031\"},\"ticker\":{\"id\":\"8005\"}},\"id\":\"8004\",\"type\":\"LinearAxis\"},{\"attributes\":{\"axis\":{\"id\":\"7798\"},\"dimension\":1,\"ticker\":null},\"id\":\"7801\",\"type\":\"Grid\"},{\"attributes\":{},\"id\":\"8005\",\"type\":\"BasicTicker\"},{\"attributes\":{\"end\":2019,\"start\":2001},\"id\":\"7786\",\"type\":\"Range1d\"},{\"attributes\":{\"data\":{\"Data\":{\"__ndarray__\":\"AAAAAAAAAAAAAAAAAAAAAAAAAAAAAAAAAAAAAAAAAAAAAAAAAAAAAAkBOT+VEMA/iREjRowY0T8zVDGeHszQPwAAAAAAANA/AAAAAAAA2D8qRg1/m2LUP8CQ7zGtttM/y8HNfiFWxD8=\",\"dtype\":\"float64\",\"order\":\"little\",\"shape\":[13]},\"Year\":[2007,2008,2009,2010,2011,2012,2013,2014,2015,2016,2017,2018,2019]},\"selected\":{\"id\":\"8061\"},\"selection_policy\":{\"id\":\"8060\"}},\"id\":\"8045\",\"type\":\"ColumnDataSource\"},{\"attributes\":{},\"id\":\"8008\",\"type\":\"PanTool\"},{\"attributes\":{},\"id\":\"7799\",\"type\":\"BasicTicker\"},{\"attributes\":{\"axis_label\":\"Year\",\"formatter\":{\"id\":\"7823\"},\"major_label_policy\":{\"id\":\"7822\"},\"ticker\":{\"id\":\"7795\"}},\"id\":\"7794\",\"type\":\"LinearAxis\"},{\"attributes\":{\"bottom_units\":\"screen\",\"fill_alpha\":0.5,\"fill_color\":\"lightgrey\",\"left_units\":\"screen\",\"level\":\"overlay\",\"line_alpha\":1.0,\"line_color\":\"black\",\"line_dash\":[4,4],\"line_width\":2,\"right_units\":\"screen\",\"syncable\":false,\"top_units\":\"screen\"},\"id\":\"8013\",\"type\":\"BoxAnnotation\"},{\"attributes\":{},\"id\":\"7790\",\"type\":\"LinearScale\"},{\"attributes\":{\"data_source\":{\"id\":\"8020\"},\"glyph\":{\"id\":\"8022\"},\"hover_glyph\":null,\"muted_glyph\":null,\"nonselection_glyph\":{\"id\":\"8023\"},\"view\":{\"id\":\"8025\"}},\"id\":\"8024\",\"type\":\"GlyphRenderer\"},{\"attributes\":{\"axis\":{\"id\":\"8004\"},\"dimension\":1,\"ticker\":null},\"id\":\"8007\",\"type\":\"Grid\"},{\"attributes\":{\"source\":{\"id\":\"8020\"}},\"id\":\"8025\",\"type\":\"CDSView\"},{\"attributes\":{},\"id\":\"8441\",\"type\":\"BasicTickFormatter\"},{\"attributes\":{},\"id\":\"8029\",\"type\":\"BasicTickFormatter\"},{\"attributes\":{},\"id\":\"7944\",\"type\":\"UnionRenderers\"},{\"attributes\":{},\"id\":\"7945\",\"type\":\"Selection\"},{\"attributes\":{\"below\":[{\"id\":\"8206\"}],\"center\":[{\"id\":\"8209\"},{\"id\":\"8213\"},{\"id\":\"8242\"}],\"height\":400,\"left\":[{\"id\":\"8210\"}],\"renderers\":[{\"id\":\"8230\"},{\"id\":\"8247\"},{\"id\":\"8255\"},{\"id\":\"8273\"},{\"id\":\"8281\"},{\"id\":\"8301\"},{\"id\":\"8309\"},{\"id\":\"8331\"},{\"id\":\"8339\"},{\"id\":\"8363\"},{\"id\":\"8371\"},{\"id\":\"8397\"}],\"title\":{\"id\":\"8196\"},\"toolbar\":{\"id\":\"8220\"},\"toolbar_location\":null,\"width\":400,\"x_range\":{\"id\":\"8198\"},\"x_scale\":{\"id\":\"8202\"},\"y_range\":{\"id\":\"8200\"},\"y_scale\":{\"id\":\"8204\"}},\"id\":\"8195\",\"subtype\":\"Figure\",\"type\":\"Plot\"},{\"attributes\":{\"axis_label\":\"Year\",\"formatter\":{\"id\":\"8029\"},\"major_label_policy\":{\"id\":\"8028\"},\"ticker\":{\"id\":\"8001\"}},\"id\":\"8000\",\"type\":\"LinearAxis\"},{\"attributes\":{\"line_color\":\"#8c564b\",\"line_width\":2,\"x\":{\"field\":\"Year\"},\"y\":{\"field\":\"Data\"}},\"id\":\"7957\",\"type\":\"Line\"},{\"attributes\":{\"callback\":null,\"renderers\":[{\"id\":\"7951\"}],\"tooltips\":[[\"(x,y)\",\"(@Year,@Data)\"]]},\"id\":\"7953\",\"type\":\"HoverTool\"},{\"attributes\":{\"source\":{\"id\":\"7923\"}},\"id\":\"7952\",\"type\":\"CDSView\"},{\"attributes\":{\"source\":{\"id\":\"7955\"}},\"id\":\"7960\",\"type\":\"CDSView\"},{\"attributes\":{\"fill_alpha\":{\"value\":0.5},\"fill_color\":{\"value\":\"#8c564b\"},\"line_alpha\":{\"value\":0.5},\"line_color\":{\"value\":\"#8c564b\"},\"size\":{\"value\":10},\"x\":{\"field\":\"Year\"},\"y\":{\"field\":\"Data\"}},\"id\":\"7983\",\"type\":\"Circle\"},{\"attributes\":{},\"id\":\"8204\",\"type\":\"LinearScale\"},{\"attributes\":{},\"id\":\"8207\",\"type\":\"BasicTicker\"},{\"attributes\":{\"axis\":{\"id\":\"8210\"},\"dimension\":1,\"ticker\":null},\"id\":\"8213\",\"type\":\"Grid\"},{\"attributes\":{\"label\":{\"value\":\"Other\"},\"renderers\":[{\"id\":\"7959\"}]},\"id\":\"7981\",\"type\":\"LegendItem\"},{\"attributes\":{\"axis_label\":\"Prevalence\",\"formatter\":{\"id\":\"8238\"},\"major_label_policy\":{\"id\":\"8237\"},\"ticker\":{\"id\":\"8211\"}},\"id\":\"8210\",\"type\":\"LinearAxis\"},{\"attributes\":{\"axis\":{\"id\":\"8206\"},\"ticker\":null},\"id\":\"8209\",\"type\":\"Grid\"},{\"attributes\":{},\"id\":\"8211\",\"type\":\"BasicTicker\"},{\"attributes\":{\"data_source\":{\"id\":\"7955\"},\"glyph\":{\"id\":\"7957\"},\"hover_glyph\":null,\"muted_glyph\":null,\"nonselection_glyph\":{\"id\":\"7958\"},\"view\":{\"id\":\"7960\"}},\"id\":\"7959\",\"type\":\"GlyphRenderer\"},{\"attributes\":{},\"id\":\"8028\",\"type\":\"AllLabels\"},{\"attributes\":{\"line_alpha\":0.1,\"line_color\":\"#8c564b\",\"line_width\":2,\"x\":{\"field\":\"Year\"},\"y\":{\"field\":\"Data\"}},\"id\":\"7958\",\"type\":\"Line\"},{\"attributes\":{\"data_source\":{\"id\":\"8045\"},\"glyph\":{\"id\":\"8065\"},\"hover_glyph\":null,\"muted_glyph\":null,\"nonselection_glyph\":{\"id\":\"8066\"},\"view\":{\"id\":\"8068\"}},\"id\":\"8067\",\"type\":\"GlyphRenderer\"},{\"attributes\":{},\"id\":\"8443\",\"type\":\"AllLabels\"},{\"attributes\":{\"data_source\":{\"id\":\"8045\"},\"glyph\":{\"id\":\"8047\"},\"hover_glyph\":null,\"muted_glyph\":null,\"nonselection_glyph\":{\"id\":\"8048\"},\"view\":{\"id\":\"8050\"}},\"id\":\"8049\",\"type\":\"GlyphRenderer\"},{\"attributes\":{\"fill_alpha\":{\"value\":0.5},\"fill_color\":{\"value\":\"#ff7f0e\"},\"line_alpha\":{\"value\":0.5},\"line_color\":{\"value\":\"#ff7f0e\"},\"size\":{\"value\":10},\"x\":{\"field\":\"Year\"},\"y\":{\"field\":\"Data\"}},\"id\":\"8039\",\"type\":\"Circle\"},{\"attributes\":{},\"id\":\"8444\",\"type\":\"BasicTickFormatter\"},{\"attributes\":{\"line_color\":\"#ff7f0e\",\"line_width\":2,\"x\":{\"field\":\"Year\"},\"y\":{\"field\":\"Data\"}},\"id\":\"8022\",\"type\":\"Line\"},{\"attributes\":{\"fill_alpha\":{\"value\":0.1},\"fill_color\":{\"value\":\"#ff7f0e\"},\"line_alpha\":{\"value\":0.1},\"line_color\":{\"value\":\"#ff7f0e\"},\"size\":{\"value\":10},\"x\":{\"field\":\"Year\"},\"y\":{\"field\":\"Data\"}},\"id\":\"8040\",\"type\":\"Circle\"},{\"attributes\":{\"source\":{\"id\":\"8020\"}},\"id\":\"8042\",\"type\":\"CDSView\"},{\"attributes\":{\"data_source\":{\"id\":\"8020\"},\"glyph\":{\"id\":\"8039\"},\"hover_glyph\":null,\"muted_glyph\":null,\"nonselection_glyph\":{\"id\":\"8040\"},\"view\":{\"id\":\"8042\"}},\"id\":\"8041\",\"type\":\"GlyphRenderer\"},{\"attributes\":{\"line_alpha\":0.1,\"line_color\":\"#ff7f0e\",\"line_width\":2,\"x\":{\"field\":\"Year\"},\"y\":{\"field\":\"Data\"}},\"id\":\"8023\",\"type\":\"Line\"},{\"attributes\":{\"callback\":null,\"renderers\":[{\"id\":\"8041\"}],\"tooltips\":[[\"(x,y)\",\"(@Year,@Data)\"]]},\"id\":\"8043\",\"type\":\"HoverTool\"},{\"attributes\":{\"source\":{\"id\":\"8071\"}},\"id\":\"8076\",\"type\":\"CDSView\"},{\"attributes\":{\"data\":{\"Data\":{\"__ndarray__\":\"SZIkSZIk6T84velNb3rTP4fyGsprKN8/+RklfkaJ3z9WHqeGY+XhPyOSZdIzItk/hQoVKlSo0D8aBSI4dmm0PxxMkc+6waQ/AAAAAAAAAAAAAAAAAAAAAAAAAAAAAAAAAAAAAAAAAAA=\",\"dtype\":\"float64\",\"order\":\"little\",\"shape\":[13]},\"Year\":[2007,2008,2009,2010,2011,2012,2013,2014,2015,2016,2017,2018,2019]},\"selected\":{\"id\":\"8089\"},\"selection_policy\":{\"id\":\"8088\"}},\"id\":\"8071\",\"type\":\"ColumnDataSource\"},{\"attributes\":{\"line_color\":\"#e377c2\",\"line_width\":2,\"x\":{\"field\":\"Year\"},\"y\":{\"field\":\"Data\"}},\"id\":\"8047\",\"type\":\"Line\"},{\"attributes\":{\"source\":{\"id\":\"8045\"}},\"id\":\"8050\",\"type\":\"CDSView\"},{\"attributes\":{},\"id\":\"8239\",\"type\":\"UnionRenderers\"},{\"attributes\":{\"fill_alpha\":{\"value\":0.1},\"fill_color\":{\"value\":\"#e377c2\"},\"line_alpha\":{\"value\":0.1},\"line_color\":{\"value\":\"#e377c2\"},\"size\":{\"value\":10},\"x\":{\"field\":\"Year\"},\"y\":{\"field\":\"Data\"}},\"id\":\"8066\",\"type\":\"Circle\"},{\"attributes\":{},\"id\":\"8088\",\"type\":\"UnionRenderers\"},{\"attributes\":{\"line_alpha\":0.1,\"line_color\":\"#e377c2\",\"line_width\":2,\"x\":{\"field\":\"Year\"},\"y\":{\"field\":\"Data\"}},\"id\":\"8048\",\"type\":\"Line\"},{\"attributes\":{\"fill_alpha\":{\"value\":0.5},\"fill_color\":{\"value\":\"#e377c2\"},\"line_alpha\":{\"value\":0.5},\"line_color\":{\"value\":\"#e377c2\"},\"size\":{\"value\":10},\"x\":{\"field\":\"Year\"},\"y\":{\"field\":\"Data\"}},\"id\":\"8065\",\"type\":\"Circle\"},{\"attributes\":{},\"id\":\"8240\",\"type\":\"Selection\"},{\"attributes\":{},\"id\":\"8089\",\"type\":\"Selection\"},{\"attributes\":{\"line_color\":\"#2ca02c\",\"line_width\":2,\"x\":{\"field\":\"Year\"},\"y\":{\"field\":\"Data\"}},\"id\":\"8073\",\"type\":\"Line\"},{\"attributes\":{},\"id\":\"8031\",\"type\":\"AllLabels\"},{\"attributes\":{},\"id\":\"8032\",\"type\":\"BasicTickFormatter\"},{\"attributes\":{\"line_alpha\":0.1,\"line_color\":\"#7f7f7f\",\"line_width\":2,\"x\":{\"field\":\"Year\"},\"y\":{\"field\":\"Data\"}},\"id\":\"8102\",\"type\":\"Line\"},{\"attributes\":{\"label\":{\"value\":\"AIRNIS\"},\"renderers\":[{\"id\":\"8075\"}]},\"id\":\"8091\",\"type\":\"LegendItem\"},{\"attributes\":{\"data\":{\"Data\":{\"__ndarray__\":\"AAAAAAAAAAAAAAAAAAAAAAAAAAAAAAAAAAAAAAAAAAAAAAAAAAAAAFPQwaMuBZ0/4MCBAwcOnD8aBSI4dmmkP9C6wRT5rHs/aC+hvYT2cj/kLc3BC6vPPyLfY1ptR8M/vxArSuMjgz8=\",\"dtype\":\"float64\",\"order\":\"little\",\"shape\":[13]},\"Year\":[2007,2008,2009,2010,2011,2012,2013,2014,2015,2016,2017,2018,2019]},\"selected\":{\"id\":\"8119\"},\"selection_policy\":{\"id\":\"8118\"}},\"id\":\"8099\",\"type\":\"ColumnDataSource\"},{\"attributes\":{\"label\":{\"value\":\"IRNI\"},\"renderers\":[{\"id\":\"8049\"}]},\"id\":\"8063\",\"type\":\"LegendItem\"},{\"attributes\":{\"fill_alpha\":{\"value\":0.5},\"fill_color\":{\"value\":\"#2ca02c\"},\"line_alpha\":{\"value\":0.5},\"line_color\":{\"value\":\"#2ca02c\"},\"size\":{\"value\":10},\"x\":{\"field\":\"Year\"},\"y\":{\"field\":\"Data\"}},\"id\":\"8245\",\"type\":\"Circle\"},{\"attributes\":{},\"id\":\"8060\",\"type\":\"UnionRenderers\"},{\"attributes\":{\"callback\":null,\"renderers\":[{\"id\":\"8095\"}],\"tooltips\":[[\"(x,y)\",\"(@Year,@Data)\"]]},\"id\":\"8097\",\"type\":\"HoverTool\"},{\"attributes\":{},\"id\":\"8061\",\"type\":\"Selection\"},{\"attributes\":{\"label\":{\"value\":\"AIRNLS\"},\"renderers\":[{\"id\":\"8133\"}]},\"id\":\"8153\",\"type\":\"LegendItem\"},{\"attributes\":{\"fill_alpha\":{\"value\":0.5},\"fill_color\":{\"value\":\"#1f77b4\"},\"line_alpha\":{\"value\":0.5},\"line_color\":{\"value\":\"#1f77b4\"},\"size\":{\"value\":10},\"x\":{\"field\":\"Year\"},\"y\":{\"field\":\"Data\"}},\"id\":\"8155\",\"type\":\"Circle\"},{\"attributes\":{\"fill_alpha\":{\"value\":0.1},\"fill_color\":{\"value\":\"#2ca02c\"},\"line_alpha\":{\"value\":0.1},\"line_color\":{\"value\":\"#2ca02c\"},\"size\":{\"value\":10},\"x\":{\"field\":\"Year\"},\"y\":{\"field\":\"Data\"}},\"id\":\"8094\",\"type\":\"Circle\"},{\"attributes\":{\"fill_alpha\":{\"value\":0.1},\"fill_color\":{\"value\":\"#2ca02c\"},\"line_alpha\":{\"value\":0.1},\"line_color\":{\"value\":\"#2ca02c\"},\"size\":{\"value\":10},\"x\":{\"field\":\"Year\"},\"y\":{\"field\":\"Data\"}},\"id\":\"8246\",\"type\":\"Circle\"},{\"attributes\":{\"source\":{\"id\":\"8071\"}},\"id\":\"8096\",\"type\":\"CDSView\"},{\"attributes\":{\"data_source\":{\"id\":\"8071\"},\"glyph\":{\"id\":\"8093\"},\"hover_glyph\":null,\"muted_glyph\":null,\"nonselection_glyph\":{\"id\":\"8094\"},\"view\":{\"id\":\"8096\"}},\"id\":\"8095\",\"type\":\"GlyphRenderer\"},{\"attributes\":{\"fill_alpha\":{\"value\":0.5},\"fill_color\":{\"value\":\"#2ca02c\"},\"line_alpha\":{\"value\":0.5},\"line_color\":{\"value\":\"#2ca02c\"},\"size\":{\"value\":10},\"x\":{\"field\":\"Year\"},\"y\":{\"field\":\"Data\"}},\"id\":\"8451\",\"type\":\"Circle\"},{\"attributes\":{\"fill_alpha\":{\"value\":0.5},\"fill_color\":{\"value\":\"#fdc086\"},\"line_alpha\":{\"value\":0.5},\"line_color\":{\"value\":\"#fdc086\"},\"size\":{\"value\":10},\"x\":{\"field\":\"Year\"},\"y\":{\"field\":\"Data\"}},\"id\":\"8477\",\"type\":\"Circle\"},{\"attributes\":{\"fill_alpha\":{\"value\":0.5},\"fill_color\":{\"value\":\"#7f7f7f\"},\"line_alpha\":{\"value\":0.5},\"line_color\":{\"value\":\"#7f7f7f\"},\"size\":{\"value\":10},\"x\":{\"field\":\"Year\"},\"y\":{\"field\":\"Data\"}},\"id\":\"8123\",\"type\":\"Circle\"},{\"attributes\":{},\"id\":\"8033\",\"type\":\"UnionRenderers\"},{\"attributes\":{\"fill_alpha\":{\"value\":0.1},\"fill_color\":{\"value\":\"#2ca02c\"},\"line_alpha\":{\"value\":0.1},\"line_color\":{\"value\":\"#2ca02c\"},\"size\":{\"value\":10},\"x\":{\"field\":\"Year\"},\"y\":{\"field\":\"Data\"}},\"id\":\"8452\",\"type\":\"Circle\"},{\"attributes\":{\"source\":{\"id\":\"8432\"}},\"id\":\"8454\",\"type\":\"CDSView\"},{\"attributes\":{},\"id\":\"8034\",\"type\":\"Selection\"},{\"attributes\":{},\"id\":\"7996\",\"type\":\"LinearScale\"},{\"attributes\":{\"data_source\":{\"id\":\"8432\"},\"glyph\":{\"id\":\"8451\"},\"hover_glyph\":null,\"muted_glyph\":null,\"nonselection_glyph\":{\"id\":\"8452\"},\"view\":{\"id\":\"8454\"}},\"id\":\"8453\",\"type\":\"GlyphRenderer\"},{\"attributes\":{\"callback\":null,\"renderers\":[{\"id\":\"8453\"}],\"tooltips\":[[\"(x,y)\",\"(@Year,@Data)\"]]},\"id\":\"8455\",\"type\":\"HoverTool\"},{\"attributes\":{\"line_color\":\"#1f77b4\",\"line_width\":2,\"x\":{\"field\":\"Year\"},\"y\":{\"field\":\"Data\"}},\"id\":\"8131\",\"type\":\"Line\"},{\"attributes\":{},\"id\":\"8266\",\"type\":\"UnionRenderers\"},{\"attributes\":{\"data_source\":{\"id\":\"8129\"},\"glyph\":{\"id\":\"8131\"},\"hover_glyph\":null,\"muted_glyph\":null,\"nonselection_glyph\":{\"id\":\"8132\"},\"view\":{\"id\":\"8134\"}},\"id\":\"8133\",\"type\":\"GlyphRenderer\"},{\"attributes\":{\"line_alpha\":0.1,\"line_color\":\"#1f77b4\",\"line_width\":2,\"x\":{\"field\":\"Year\"},\"y\":{\"field\":\"Data\"}},\"id\":\"8132\",\"type\":\"Line\"},{\"attributes\":{\"source\":{\"id\":\"8457\"}},\"id\":\"8462\",\"type\":\"CDSView\"},{\"attributes\":{\"callback\":null,\"renderers\":[{\"id\":\"8067\"}],\"tooltips\":[[\"(x,y)\",\"(@Year,@Data)\"]]},\"id\":\"8069\",\"type\":\"HoverTool\"},{\"attributes\":{},\"id\":\"8267\",\"type\":\"Selection\"},{\"attributes\":{\"data\":{\"Data\":{\"__ndarray__\":\"IAr0iTxJoj/Q4zCYv0K2P/hOzHoxlLc//If029eByT9YRE30+SjDP+Bq1hnfF78/0IDs9e6Prz/gJaq3BrayPyCRfZBlwZQ/IOF7f4P2oj+g15/E506wP8A7wJMWLqs/AACwoPfGsL4=\",\"dtype\":\"float64\",\"order\":\"little\",\"shape\":[13]},\"Year\":[2007,2008,2009,2010,2011,2012,2013,2014,2015,2016,2017,2018,2019]},\"selected\":{\"id\":\"8185\"},\"selection_policy\":{\"id\":\"8184\"}},\"id\":\"8161\",\"type\":\"ColumnDataSource\"},{\"attributes\":{\"source\":{\"id\":\"8129\"}},\"id\":\"8134\",\"type\":\"CDSView\"},{\"attributes\":{\"source\":{\"id\":\"8045\"}},\"id\":\"8068\",\"type\":\"CDSView\"},{\"attributes\":{\"data_source\":{\"id\":\"8099\"},\"glyph\":{\"id\":\"8101\"},\"hover_glyph\":null,\"muted_glyph\":null,\"nonselection_glyph\":{\"id\":\"8102\"},\"view\":{\"id\":\"8104\"}},\"id\":\"8103\",\"type\":\"GlyphRenderer\"},{\"attributes\":{\"data_source\":{\"id\":\"8071\"},\"glyph\":{\"id\":\"8073\"},\"hover_glyph\":null,\"muted_glyph\":null,\"nonselection_glyph\":{\"id\":\"8074\"},\"view\":{\"id\":\"8076\"}},\"id\":\"8075\",\"type\":\"GlyphRenderer\"},{\"attributes\":{\"source\":{\"id\":\"8099\"}},\"id\":\"8104\",\"type\":\"CDSView\"},{\"attributes\":{\"label\":{\"value\":\"AICNIS\"},\"renderers\":[{\"id\":\"8461\"}]},\"id\":\"8475\",\"type\":\"LegendItem\"},{\"attributes\":{\"label\":{\"value\":\"NRNI\"},\"renderers\":[{\"id\":\"8103\"}]},\"id\":\"8121\",\"type\":\"LegendItem\"},{\"attributes\":{\"line_alpha\":0.1,\"line_color\":\"#2ca02c\",\"line_width\":2,\"x\":{\"field\":\"Year\"},\"y\":{\"field\":\"Data\"}},\"id\":\"8074\",\"type\":\"Line\"},{\"attributes\":{\"line_color\":\"#7fc97f\",\"line_width\":2,\"x\":{\"field\":\"Year\"},\"y\":{\"field\":\"Data\"}},\"id\":\"8485\",\"type\":\"Line\"},{\"attributes\":{\"data_source\":{\"id\":\"8483\"},\"glyph\":{\"id\":\"8485\"},\"hover_glyph\":null,\"muted_glyph\":null,\"nonselection_glyph\":{\"id\":\"8486\"},\"view\":{\"id\":\"8488\"}},\"id\":\"8487\",\"type\":\"GlyphRenderer\"},{\"attributes\":{\"text\":\"PfDHFR Predominant Variants in WSEA\"},\"id\":\"7784\",\"type\":\"Title\"},{\"attributes\":{\"fill_alpha\":{\"value\":0.5},\"fill_color\":{\"value\":\"#2ca02c\"},\"line_alpha\":{\"value\":0.5},\"line_color\":{\"value\":\"#2ca02c\"},\"size\":{\"value\":10},\"x\":{\"field\":\"Year\"},\"y\":{\"field\":\"Data\"}},\"id\":\"8093\",\"type\":\"Circle\"},{\"attributes\":{\"line_alpha\":0.1,\"line_color\":\"#7fc97f\",\"line_width\":2,\"x\":{\"field\":\"Year\"},\"y\":{\"field\":\"Data\"}},\"id\":\"8486\",\"type\":\"Line\"},{\"attributes\":{\"line_color\":\"#7f7f7f\",\"line_width\":2,\"x\":{\"field\":\"Year\"},\"y\":{\"field\":\"Data\"}},\"id\":\"8101\",\"type\":\"Line\"},{\"attributes\":{\"data\":{\"Data\":{\"__ndarray__\":\"t23btm3bxj84velNb3rjPyivobyG8to/OzDXDsy10z8MKtFXu6DSP58RyTLpGdE//Pjx48ePzz9hhirG04O5P3aDKfJZN7g/AAAAAAAAAAAAAAAAAAAAAAAAAAAAAAAAAAAAAAAAAAA=\",\"dtype\":\"float64\",\"order\":\"little\",\"shape\":[13]},\"Year\":[2007,2008,2009,2010,2011,2012,2013,2014,2015,2016,2017,2018,2019]},\"selected\":{\"id\":\"8151\"},\"selection_policy\":{\"id\":\"8150\"}},\"id\":\"8129\",\"type\":\"ColumnDataSource\"},{\"attributes\":{\"data\":{\"Data\":{\"__ndarray__\":\"OQUvp+DllD8AAAAAAAAAAAwGg8FgMIg/oHJ2C78akz8RERERERGhPw==\",\"dtype\":\"float64\",\"order\":\"little\",\"shape\":[5]},\"Year\":[2007,2010,2011,2013,2014]},\"selected\":{\"id\":\"8531\"},\"selection_policy\":{\"id\":\"8530\"}},\"id\":\"8511\",\"type\":\"ColumnDataSource\"}],\"root_ids\":[\"8694\"]},\"title\":\"Bokeh Application\",\"version\":\"2.3.3\"}};\n",
       "  var render_items = [{\"docid\":\"5a484c3d-656f-433f-a117-ffb5120a7fca\",\"root_ids\":[\"8694\"],\"roots\":{\"8694\":\"a016aeef-20df-442d-a122-2bda0d8031b5\"}}];\n",
       "  root.Bokeh.embed.embed_items_notebook(docs_json, render_items);\n",
       "\n",
       "  }\n",
       "  if (root.Bokeh !== undefined) {\n",
       "    embed_document(root);\n",
       "  } else {\n",
       "    var attempts = 0;\n",
       "    var timer = setInterval(function(root) {\n",
       "      if (root.Bokeh !== undefined) {\n",
       "        clearInterval(timer);\n",
       "        embed_document(root);\n",
       "      } else {\n",
       "        attempts++;\n",
       "        if (attempts > 100) {\n",
       "          clearInterval(timer);\n",
       "          console.log(\"Bokeh: ERROR: Unable to run BokehJS code because BokehJS library is missing\");\n",
       "        }\n",
       "      }\n",
       "    }, 10, root)\n",
       "  }\n",
       "})(window);"
      ],
      "application/vnd.bokehjs_exec.v0+json": ""
     },
     "metadata": {
      "application/vnd.bokehjs_exec.v0+json": {
       "id": "8694"
      }
     },
     "output_type": "display_data"
    },
    {
     "data": {
      "text/plain": [
       "<data_analysis.plotting.Subplots at 0x1154a3400>"
      ]
     },
     "execution_count": 40,
     "metadata": {},
     "output_type": "execute_result"
    }
   ],
   "source": [
    "plot_haplotype_frequency(pf6plus, 'PfDHFR', populations = ['WSEA','ESEA','WAF','EAF'])"
   ]
  },
  {
   "cell_type": "markdown",
   "metadata": {},
   "source": [
    "---"
   ]
  },
  {
   "cell_type": "markdown",
   "metadata": {},
   "source": [
    "As you can see there is a lot of room for further exploration on any of the use-cases above. "
   ]
  },
  {
   "cell_type": "code",
   "execution_count": null,
   "metadata": {},
   "outputs": [],
   "source": []
  }
 ],
 "metadata": {
  "colab": {
   "collapsed_sections": [],
   "name": "2_prevalence_DR_haps_270921.ipynb",
   "provenance": []
  },
  "kernelspec": {
   "display_name": "Python 3 (ipykernel)",
   "language": "python",
   "name": "python3"
  },
  "language_info": {
   "codemirror_mode": {
    "name": "ipython",
    "version": 3
   },
   "file_extension": ".py",
   "mimetype": "text/x-python",
   "name": "python",
   "nbconvert_exporter": "python",
   "pygments_lexer": "ipython3",
   "version": "3.9.6"
  }
 },
 "nbformat": 4,
 "nbformat_minor": 1
}
